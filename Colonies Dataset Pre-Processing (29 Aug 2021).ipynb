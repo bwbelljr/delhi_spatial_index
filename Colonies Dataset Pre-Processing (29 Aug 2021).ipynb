{
 "cells": [
  {
   "cell_type": "markdown",
   "metadata": {
    "tags": []
   },
   "source": [
    "# Pre-processing Colonies Dataset (29 August 2021)\n",
    "\n",
    "* Data Pre-processing **[done]**\n",
    "    * Import colonies\n",
    "    * Import barrier files – reproject all to EPSG 7760\n",
    "    * Check validity of all shapefiles (turn this into a function…) – also check that all points are in Delhi. (might be part of spatial index notebook and UAC deduplication)    \n",
    "* Compute barrier clip for all colonies **[done]**\n",
    "* Run Neighbors Algorithm **[done]**\n",
    "    * bbox Neighbors algorithm\n",
    "    * Should check for barriers\n",
    "    * Should check for NDMC and related areas\n",
    "* Additional preprocessing for colonies (turn into super function) **[done]**\n",
    "    * Create index column **[done]**\n",
    "    * Distance from NDMC **[done]**\n",
    "    * Area of each polygon **[done]**\n",
    "* Export GeoDataFrame as pickle file and ESRI Shapefiles"
   ]
  },
  {
   "cell_type": "markdown",
   "metadata": {},
   "source": [
    "## Import modules and set constants"
   ]
  },
  {
   "cell_type": "code",
   "execution_count": 1,
   "metadata": {},
   "outputs": [],
   "source": [
    "import os\n",
    "import pickle\n",
    "from importlib import reload\n",
    "import pandas as pd\n",
    "import geopandas as gpd\n",
    "from shapely.geometry import Polygon, box\n",
    "import spatial_index_utils"
   ]
  },
  {
   "cell_type": "code",
   "execution_count": 12,
   "metadata": {},
   "outputs": [
    {
     "data": {
      "text/plain": [
       "<module 'spatial_index_utils' from 'C:\\\\Users\\\\bwbel\\\\Google Drive\\\\slum_project\\\\spatial_index_python\\\\spatial_index_utils.py'>"
      ]
     },
     "execution_count": 12,
     "metadata": {},
     "output_type": "execute_result"
    }
   ],
   "source": [
    "reload(spatial_index_utils)"
   ]
  },
  {
   "cell_type": "code",
   "execution_count": 13,
   "metadata": {},
   "outputs": [],
   "source": [
    "# WGS 84 / Delhi\n",
    "epsg_code = 7760"
   ]
  },
  {
   "cell_type": "markdown",
   "metadata": {},
   "source": [
    "## Import shapefiles **[done]**"
   ]
  },
  {
   "cell_type": "code",
   "execution_count": 14,
   "metadata": {},
   "outputs": [],
   "source": [
    "colony_filepath = os.path.join('shapefiles', 'Spatial_Index_GIS', 'Colony_Shapefile', \n",
    "                        'USO23Aug2020.shp')\n",
    "\n",
    "barrier_directory = os.path.join('shapefiles', 'Barrier_Clip')\n",
    "\n",
    "canal_filepath = os.path.join(barrier_directory, 'Canal', 'Canal.shp')\n",
    "drain_filepath = os.path.join(barrier_directory, 'Drain', 'Major_Drain.shp')\n",
    "railway_filepath = os.path.join(barrier_directory, 'Railway', 'Railway_Line.shp')\n",
    "\n",
    "# boundary of Delhi\n",
    "delhi_bounds_filepath = os.path.join('shapefiles', 'delhi_bounds_buffer.shp')\n",
    "\n",
    "# Check that all filepaths exist\n",
    "filepath_list = [colony_filepath, canal_filepath, drain_filepath, railway_filepath, delhi_bounds_filepath]\n",
    "\n",
    "for filepath in filepath_list:\n",
    "    if not os.path.exists(filepath):\n",
    "        print('{} does not exist'.format(filepath))"
   ]
  },
  {
   "cell_type": "code",
   "execution_count": 15,
   "metadata": {},
   "outputs": [],
   "source": [
    "colonies = gpd.read_file(colony_filepath)"
   ]
  },
  {
   "cell_type": "markdown",
   "metadata": {},
   "source": [
    "## Inspect shapefiles for validity (`check_shapefile`) **[done]**"
   ]
  },
  {
   "cell_type": "code",
   "execution_count": 16,
   "metadata": {},
   "outputs": [
    {
     "name": "stdout",
     "output_type": "stream",
     "text": [
      "colonies has duplicate rows: False\n",
      "----------------------------------------------------\n",
      "rows with invalid geometries \n",
      "\n",
      "----------------------------------------------------\n",
      "all geometries in colonies are of type Polygon: True\n",
      "----------------------------------------------------\n",
      "Rows with None value in geometry column are below\n",
      "Empty GeoDataFrame\n",
      "Columns: [AREA, USO_AREA_U, HOUSETAX_C, USO_FINAL, geometry, geom_type]\n",
      "Index: []\n",
      "----------------------------------------------------\n",
      "colonies shapefile is contained within Delhi: True\n",
      "----------------------------------------------------\n",
      "Done with shapefile evaluation\n"
     ]
    }
   ],
   "source": [
    "spatial_index_utils.check_shapefile(gdf=colonies, gdf_name='colonies', \n",
    "                                    geom_type='Polygon', \n",
    "                                    delhi_bounds_filepath=delhi_bounds_filepath)"
   ]
  },
  {
   "cell_type": "code",
   "execution_count": 17,
   "metadata": {},
   "outputs": [],
   "source": [
    "# spatial_index_utils.check_shapefile(gdf=canal, gdf_name='canal', geom_type='Line', \n",
    "#                                     delhi_bounds_filepath=delhi_bounds_filepath)"
   ]
  },
  {
   "cell_type": "code",
   "execution_count": 18,
   "metadata": {},
   "outputs": [],
   "source": [
    "# spatial_index_utils.check_shapefile(gdf=drain, gdf_name='drain', geom_type='Line', \n",
    "#                                     delhi_bounds_filepath=delhi_bounds_filepath)"
   ]
  },
  {
   "cell_type": "code",
   "execution_count": 19,
   "metadata": {},
   "outputs": [],
   "source": [
    "# spatial_index_utils.check_shapefile(gdf=railway, gdf_name='railway', geom_type='Line', \n",
    "#                                     delhi_bounds_filepath=delhi_bounds_filepath)"
   ]
  },
  {
   "cell_type": "markdown",
   "metadata": {},
   "source": [
    "## Remove duplicate geometries **[done]**"
   ]
  },
  {
   "cell_type": "code",
   "execution_count": 20,
   "metadata": {},
   "outputs": [],
   "source": [
    "#canal = spatial_index_utils.remove_duplicate_geom(canal)\n",
    "#drain = spatial_index_utils.remove_duplicate_geom(drain)\n",
    "#railway = spatial_index_utils.remove_duplicate_geom(railway)\n",
    "\n",
    "#with open('canal.data', 'wb') as f:\n",
    "#    pickle.dump(canal, f)\n",
    "\n",
    "#with open('drain.data', 'wb') as f:\n",
    "#    pickle.dump(drain, f)\n",
    "\n",
    "#with open('railway.data', 'wb') as f:\n",
    "#    pickle.dump(railway, f)"
   ]
  },
  {
   "cell_type": "code",
   "execution_count": 21,
   "metadata": {},
   "outputs": [
    {
     "name": "stderr",
     "output_type": "stream",
     "text": [
      "1it [00:00,  5.37it/s]"
     ]
    },
    {
     "name": "stdout",
     "output_type": "stream",
     "text": [
      "0/4357\n"
     ]
    },
    {
     "name": "stderr",
     "output_type": "stream",
     "text": [
      "101it [00:17,  5.44it/s]"
     ]
    },
    {
     "name": "stdout",
     "output_type": "stream",
     "text": [
      "100/4357\n"
     ]
    },
    {
     "name": "stderr",
     "output_type": "stream",
     "text": [
      "201it [00:35,  5.90it/s]"
     ]
    },
    {
     "name": "stdout",
     "output_type": "stream",
     "text": [
      "200/4357\n"
     ]
    },
    {
     "name": "stderr",
     "output_type": "stream",
     "text": [
      "300it [00:56,  3.54it/s]"
     ]
    },
    {
     "name": "stdout",
     "output_type": "stream",
     "text": [
      "300/4357\n"
     ]
    },
    {
     "name": "stderr",
     "output_type": "stream",
     "text": [
      "400it [01:23,  4.05it/s]"
     ]
    },
    {
     "name": "stdout",
     "output_type": "stream",
     "text": [
      "400/4357\n"
     ]
    },
    {
     "name": "stderr",
     "output_type": "stream",
     "text": [
      "500it [01:49,  4.09it/s]"
     ]
    },
    {
     "name": "stdout",
     "output_type": "stream",
     "text": [
      "500/4357\n"
     ]
    },
    {
     "name": "stderr",
     "output_type": "stream",
     "text": [
      "600it [02:15,  4.32it/s]"
     ]
    },
    {
     "name": "stdout",
     "output_type": "stream",
     "text": [
      "600/4357\n"
     ]
    },
    {
     "name": "stderr",
     "output_type": "stream",
     "text": [
      "700it [02:39,  4.07it/s]"
     ]
    },
    {
     "name": "stdout",
     "output_type": "stream",
     "text": [
      "700/4357\n"
     ]
    },
    {
     "name": "stderr",
     "output_type": "stream",
     "text": [
      "800it [03:04,  3.81it/s]"
     ]
    },
    {
     "name": "stdout",
     "output_type": "stream",
     "text": [
      "800/4357\n"
     ]
    },
    {
     "name": "stderr",
     "output_type": "stream",
     "text": [
      "900it [03:28,  4.07it/s]"
     ]
    },
    {
     "name": "stdout",
     "output_type": "stream",
     "text": [
      "900/4357\n"
     ]
    },
    {
     "name": "stderr",
     "output_type": "stream",
     "text": [
      "1000it [03:52,  4.38it/s]"
     ]
    },
    {
     "name": "stdout",
     "output_type": "stream",
     "text": [
      "1000/4357\n"
     ]
    },
    {
     "name": "stderr",
     "output_type": "stream",
     "text": [
      "1100it [04:16,  4.02it/s]"
     ]
    },
    {
     "name": "stdout",
     "output_type": "stream",
     "text": [
      "1100/4357\n"
     ]
    },
    {
     "name": "stderr",
     "output_type": "stream",
     "text": [
      "1200it [04:39,  4.23it/s]"
     ]
    },
    {
     "name": "stdout",
     "output_type": "stream",
     "text": [
      "1200/4357\n"
     ]
    },
    {
     "name": "stderr",
     "output_type": "stream",
     "text": [
      "1300it [05:08,  4.14it/s]"
     ]
    },
    {
     "name": "stdout",
     "output_type": "stream",
     "text": [
      "1300/4357\n"
     ]
    },
    {
     "name": "stderr",
     "output_type": "stream",
     "text": [
      "1400it [05:31,  4.34it/s]"
     ]
    },
    {
     "name": "stdout",
     "output_type": "stream",
     "text": [
      "1400/4357\n"
     ]
    },
    {
     "name": "stderr",
     "output_type": "stream",
     "text": [
      "1500it [05:54,  4.66it/s]"
     ]
    },
    {
     "name": "stdout",
     "output_type": "stream",
     "text": [
      "1500/4357\n"
     ]
    },
    {
     "name": "stderr",
     "output_type": "stream",
     "text": [
      "1601it [06:17,  4.73it/s]"
     ]
    },
    {
     "name": "stdout",
     "output_type": "stream",
     "text": [
      "1600/4357\n"
     ]
    },
    {
     "name": "stderr",
     "output_type": "stream",
     "text": [
      "1701it [06:40,  4.49it/s]"
     ]
    },
    {
     "name": "stdout",
     "output_type": "stream",
     "text": [
      "1700/4357\n"
     ]
    },
    {
     "name": "stderr",
     "output_type": "stream",
     "text": [
      "1800it [07:02,  4.43it/s]"
     ]
    },
    {
     "name": "stdout",
     "output_type": "stream",
     "text": [
      "1800/4357\n"
     ]
    },
    {
     "name": "stderr",
     "output_type": "stream",
     "text": [
      "1901it [07:24,  4.93it/s]"
     ]
    },
    {
     "name": "stdout",
     "output_type": "stream",
     "text": [
      "1900/4357\n"
     ]
    },
    {
     "name": "stderr",
     "output_type": "stream",
     "text": [
      "2001it [07:46,  4.45it/s]"
     ]
    },
    {
     "name": "stdout",
     "output_type": "stream",
     "text": [
      "2000/4357\n"
     ]
    },
    {
     "name": "stderr",
     "output_type": "stream",
     "text": [
      "2100it [08:09,  3.90it/s]"
     ]
    },
    {
     "name": "stdout",
     "output_type": "stream",
     "text": [
      "2100/4357\n"
     ]
    },
    {
     "name": "stderr",
     "output_type": "stream",
     "text": [
      "2200it [08:30,  4.50it/s]"
     ]
    },
    {
     "name": "stdout",
     "output_type": "stream",
     "text": [
      "2200/4357\n"
     ]
    },
    {
     "name": "stderr",
     "output_type": "stream",
     "text": [
      "2301it [08:52,  4.59it/s]"
     ]
    },
    {
     "name": "stdout",
     "output_type": "stream",
     "text": [
      "2300/4357\n"
     ]
    },
    {
     "name": "stderr",
     "output_type": "stream",
     "text": [
      "2400it [09:15,  3.67it/s]"
     ]
    },
    {
     "name": "stdout",
     "output_type": "stream",
     "text": [
      "2400/4357\n"
     ]
    },
    {
     "name": "stderr",
     "output_type": "stream",
     "text": [
      "2500it [09:37,  4.41it/s]"
     ]
    },
    {
     "name": "stdout",
     "output_type": "stream",
     "text": [
      "2500/4357\n"
     ]
    },
    {
     "name": "stderr",
     "output_type": "stream",
     "text": [
      "2601it [09:57,  4.95it/s]"
     ]
    },
    {
     "name": "stdout",
     "output_type": "stream",
     "text": [
      "2600/4357\n"
     ]
    },
    {
     "name": "stderr",
     "output_type": "stream",
     "text": [
      "2701it [10:18,  5.09it/s]"
     ]
    },
    {
     "name": "stdout",
     "output_type": "stream",
     "text": [
      "2700/4357\n"
     ]
    },
    {
     "name": "stderr",
     "output_type": "stream",
     "text": [
      "2800it [10:37,  5.22it/s]"
     ]
    },
    {
     "name": "stdout",
     "output_type": "stream",
     "text": [
      "2800/4357\n"
     ]
    },
    {
     "name": "stderr",
     "output_type": "stream",
     "text": [
      "2900it [10:58,  4.11it/s]"
     ]
    },
    {
     "name": "stdout",
     "output_type": "stream",
     "text": [
      "2900/4357\n"
     ]
    },
    {
     "name": "stderr",
     "output_type": "stream",
     "text": [
      "3000it [11:19,  4.64it/s]"
     ]
    },
    {
     "name": "stdout",
     "output_type": "stream",
     "text": [
      "3000/4357\n"
     ]
    },
    {
     "name": "stderr",
     "output_type": "stream",
     "text": [
      "3100it [11:41,  5.31it/s]"
     ]
    },
    {
     "name": "stdout",
     "output_type": "stream",
     "text": [
      "3100/4357\n"
     ]
    },
    {
     "name": "stderr",
     "output_type": "stream",
     "text": [
      "3201it [12:00,  5.35it/s]"
     ]
    },
    {
     "name": "stdout",
     "output_type": "stream",
     "text": [
      "3200/4357\n"
     ]
    },
    {
     "name": "stderr",
     "output_type": "stream",
     "text": [
      "3300it [12:21,  4.96it/s]"
     ]
    },
    {
     "name": "stdout",
     "output_type": "stream",
     "text": [
      "3300/4357\n"
     ]
    },
    {
     "name": "stderr",
     "output_type": "stream",
     "text": [
      "3400it [12:40,  5.61it/s]"
     ]
    },
    {
     "name": "stdout",
     "output_type": "stream",
     "text": [
      "3400/4357\n"
     ]
    },
    {
     "name": "stderr",
     "output_type": "stream",
     "text": [
      "3501it [12:59,  5.14it/s]"
     ]
    },
    {
     "name": "stdout",
     "output_type": "stream",
     "text": [
      "3500/4357\n"
     ]
    },
    {
     "name": "stderr",
     "output_type": "stream",
     "text": [
      "3601it [13:20,  5.37it/s]"
     ]
    },
    {
     "name": "stdout",
     "output_type": "stream",
     "text": [
      "3600/4357\n"
     ]
    },
    {
     "name": "stderr",
     "output_type": "stream",
     "text": [
      "3700it [13:38,  5.16it/s]"
     ]
    },
    {
     "name": "stdout",
     "output_type": "stream",
     "text": [
      "3700/4357\n"
     ]
    },
    {
     "name": "stderr",
     "output_type": "stream",
     "text": [
      "3800it [13:58,  4.92it/s]"
     ]
    },
    {
     "name": "stdout",
     "output_type": "stream",
     "text": [
      "3800/4357\n"
     ]
    },
    {
     "name": "stderr",
     "output_type": "stream",
     "text": [
      "3901it [14:17,  5.62it/s]"
     ]
    },
    {
     "name": "stdout",
     "output_type": "stream",
     "text": [
      "3900/4357\n"
     ]
    },
    {
     "name": "stderr",
     "output_type": "stream",
     "text": [
      "4001it [14:36,  5.32it/s]"
     ]
    },
    {
     "name": "stdout",
     "output_type": "stream",
     "text": [
      "4000/4357\n"
     ]
    },
    {
     "name": "stderr",
     "output_type": "stream",
     "text": [
      "4101it [14:54,  5.77it/s]"
     ]
    },
    {
     "name": "stdout",
     "output_type": "stream",
     "text": [
      "4100/4357\n"
     ]
    },
    {
     "name": "stderr",
     "output_type": "stream",
     "text": [
      "4201it [15:14,  5.93it/s]"
     ]
    },
    {
     "name": "stdout",
     "output_type": "stream",
     "text": [
      "4200/4357\n"
     ]
    },
    {
     "name": "stderr",
     "output_type": "stream",
     "text": [
      "4301it [15:33,  5.47it/s]"
     ]
    },
    {
     "name": "stdout",
     "output_type": "stream",
     "text": [
      "4300/4357\n"
     ]
    },
    {
     "name": "stderr",
     "output_type": "stream",
     "text": [
      "4357it [15:44,  4.62it/s]"
     ]
    },
    {
     "name": "stdout",
     "output_type": "stream",
     "text": [
      "Original number of rows is 4357:\n",
      "New number of rows after deduplication is: 4357\n"
     ]
    },
    {
     "name": "stderr",
     "output_type": "stream",
     "text": [
      "\n"
     ]
    }
   ],
   "source": [
    "colonies = spatial_index_utils.remove_duplicate_geom(colonies)"
   ]
  },
  {
   "cell_type": "code",
   "execution_count": 22,
   "metadata": {},
   "outputs": [
    {
     "data": {
      "text/plain": [
       "4357"
      ]
     },
     "execution_count": 22,
     "metadata": {},
     "output_type": "execute_result"
    }
   ],
   "source": [
    "len(colonies)"
   ]
  },
  {
   "cell_type": "code",
   "execution_count": 30,
   "metadata": {},
   "outputs": [],
   "source": [
    "colonies.to_csv(\"colonies_no_duplicates_29Aug.csv\")"
   ]
  },
  {
   "cell_type": "markdown",
   "metadata": {},
   "source": [
    "## Import canal, drain, and railway shapefiles"
   ]
  },
  {
   "cell_type": "code",
   "execution_count": 31,
   "metadata": {},
   "outputs": [],
   "source": [
    "with open('canal.data', 'rb') as f:\n",
    "    canal = pickle.load(f)"
   ]
  },
  {
   "cell_type": "code",
   "execution_count": 32,
   "metadata": {},
   "outputs": [],
   "source": [
    "with open('drain.data', 'rb') as f:\n",
    "    drain = pickle.load(f)"
   ]
  },
  {
   "cell_type": "code",
   "execution_count": 33,
   "metadata": {},
   "outputs": [],
   "source": [
    "with open('railway.data', 'rb') as f:\n",
    "    railway = pickle.load(f)"
   ]
  },
  {
   "cell_type": "markdown",
   "metadata": {},
   "source": [
    "## Check CRS, reproject to EPSG:7760."
   ]
  },
  {
   "cell_type": "code",
   "execution_count": 34,
   "metadata": {},
   "outputs": [
    {
     "data": {
      "text/plain": [
       "<Projected CRS: EPSG:7760>\n",
       "Name: WGS 84 / Delhi\n",
       "Axis Info [cartesian]:\n",
       "- X[east]: Easting (metre)\n",
       "- Y[north]: Northing (metre)\n",
       "Area of Use:\n",
       "- name: India - Delhi national capital territory.\n",
       "- bounds: (76.83, 28.4, 77.34, 28.89)\n",
       "Coordinate Operation:\n",
       "- name: Delhi NSF LCC\n",
       "- method: Lambert Conic Conformal (2SP)\n",
       "Datum: World Geodetic System 1984 ensemble\n",
       "- Ellipsoid: WGS 84\n",
       "- Prime Meridian: Greenwich"
      ]
     },
     "execution_count": 34,
     "metadata": {},
     "output_type": "execute_result"
    }
   ],
   "source": [
    "colonies.crs"
   ]
  },
  {
   "cell_type": "code",
   "execution_count": 35,
   "metadata": {},
   "outputs": [
    {
     "name": "stdout",
     "output_type": "stream",
     "text": [
      "GeoDataFrame now has the following CRS:\n",
      "\n",
      "PROJCRS[\"WGS 84 / Delhi\",BASEGEOGCRS[\"WGS 84\",ENSEMBLE[\"World Geodetic System 1984 ensemble\",MEMBER[\"World Geodetic System 1984 (Transit)\"],MEMBER[\"World Geodetic System 1984 (G730)\"],MEMBER[\"World Geodetic System 1984 (G873)\"],MEMBER[\"World Geodetic System 1984 (G1150)\"],MEMBER[\"World Geodetic System 1984 (G1674)\"],MEMBER[\"World Geodetic System 1984 (G1762)\"],ELLIPSOID[\"WGS 84\",6378137,298.257223563,LENGTHUNIT[\"metre\",1]],ENSEMBLEACCURACY[2.0]],PRIMEM[\"Greenwich\",0,ANGLEUNIT[\"degree\",0.0174532925199433]],ID[\"EPSG\",4326]],CONVERSION[\"Delhi NSF LCC\",METHOD[\"Lambert Conic Conformal (2SP)\",ID[\"EPSG\",9802]],PARAMETER[\"Latitude of false origin\",28.62510126,ANGLEUNIT[\"degree\",0.0174532925199433],ID[\"EPSG\",8821]],PARAMETER[\"Longitude of false origin\",77,ANGLEUNIT[\"degree\",0.0174532925199433],ID[\"EPSG\",8822]],PARAMETER[\"Latitude of 1st standard parallel\",28.375,ANGLEUNIT[\"degree\",0.0174532925199433],ID[\"EPSG\",8823]],PARAMETER[\"Latitude of 2nd standard parallel\",28.875,ANGLEUNIT[\"degree\",0.0174532925199433],ID[\"EPSG\",8824]],PARAMETER[\"Easting at false origin\",1000000,LENGTHUNIT[\"metre\",1],ID[\"EPSG\",8826]],PARAMETER[\"Northing at false origin\",1000000,LENGTHUNIT[\"metre\",1],ID[\"EPSG\",8827]]],CS[Cartesian,2],AXIS[\"easting (X)\",east,ORDER[1],LENGTHUNIT[\"metre\",1]],AXIS[\"northing (Y)\",north,ORDER[2],LENGTHUNIT[\"metre\",1]],USAGE[SCOPE[\"NNRMS National Spatial Framework (NSF) state resource database of medium resolution earth observation imagery and mapping.\"],AREA[\"India - Delhi national capital territory.\"],BBOX[28.4,76.83,28.89,77.34]],ID[\"EPSG\",7760]]\n"
     ]
    }
   ],
   "source": [
    "canal = spatial_index_utils.reproject_gdf(canal, epsg_code)"
   ]
  },
  {
   "cell_type": "code",
   "execution_count": 36,
   "metadata": {},
   "outputs": [
    {
     "name": "stdout",
     "output_type": "stream",
     "text": [
      "GeoDataFrame now has the following CRS:\n",
      "\n",
      "PROJCRS[\"WGS 84 / Delhi\",BASEGEOGCRS[\"WGS 84\",ENSEMBLE[\"World Geodetic System 1984 ensemble\",MEMBER[\"World Geodetic System 1984 (Transit)\"],MEMBER[\"World Geodetic System 1984 (G730)\"],MEMBER[\"World Geodetic System 1984 (G873)\"],MEMBER[\"World Geodetic System 1984 (G1150)\"],MEMBER[\"World Geodetic System 1984 (G1674)\"],MEMBER[\"World Geodetic System 1984 (G1762)\"],ELLIPSOID[\"WGS 84\",6378137,298.257223563,LENGTHUNIT[\"metre\",1]],ENSEMBLEACCURACY[2.0]],PRIMEM[\"Greenwich\",0,ANGLEUNIT[\"degree\",0.0174532925199433]],ID[\"EPSG\",4326]],CONVERSION[\"Delhi NSF LCC\",METHOD[\"Lambert Conic Conformal (2SP)\",ID[\"EPSG\",9802]],PARAMETER[\"Latitude of false origin\",28.62510126,ANGLEUNIT[\"degree\",0.0174532925199433],ID[\"EPSG\",8821]],PARAMETER[\"Longitude of false origin\",77,ANGLEUNIT[\"degree\",0.0174532925199433],ID[\"EPSG\",8822]],PARAMETER[\"Latitude of 1st standard parallel\",28.375,ANGLEUNIT[\"degree\",0.0174532925199433],ID[\"EPSG\",8823]],PARAMETER[\"Latitude of 2nd standard parallel\",28.875,ANGLEUNIT[\"degree\",0.0174532925199433],ID[\"EPSG\",8824]],PARAMETER[\"Easting at false origin\",1000000,LENGTHUNIT[\"metre\",1],ID[\"EPSG\",8826]],PARAMETER[\"Northing at false origin\",1000000,LENGTHUNIT[\"metre\",1],ID[\"EPSG\",8827]]],CS[Cartesian,2],AXIS[\"easting (X)\",east,ORDER[1],LENGTHUNIT[\"metre\",1]],AXIS[\"northing (Y)\",north,ORDER[2],LENGTHUNIT[\"metre\",1]],USAGE[SCOPE[\"NNRMS National Spatial Framework (NSF) state resource database of medium resolution earth observation imagery and mapping.\"],AREA[\"India - Delhi national capital territory.\"],BBOX[28.4,76.83,28.89,77.34]],ID[\"EPSG\",7760]]\n"
     ]
    }
   ],
   "source": [
    "drain = spatial_index_utils.reproject_gdf(drain, epsg_code)"
   ]
  },
  {
   "cell_type": "code",
   "execution_count": 37,
   "metadata": {},
   "outputs": [
    {
     "name": "stdout",
     "output_type": "stream",
     "text": [
      "GeoDataFrame now has the following CRS:\n",
      "\n",
      "PROJCRS[\"WGS 84 / Delhi\",BASEGEOGCRS[\"WGS 84\",ENSEMBLE[\"World Geodetic System 1984 ensemble\",MEMBER[\"World Geodetic System 1984 (Transit)\"],MEMBER[\"World Geodetic System 1984 (G730)\"],MEMBER[\"World Geodetic System 1984 (G873)\"],MEMBER[\"World Geodetic System 1984 (G1150)\"],MEMBER[\"World Geodetic System 1984 (G1674)\"],MEMBER[\"World Geodetic System 1984 (G1762)\"],ELLIPSOID[\"WGS 84\",6378137,298.257223563,LENGTHUNIT[\"metre\",1]],ENSEMBLEACCURACY[2.0]],PRIMEM[\"Greenwich\",0,ANGLEUNIT[\"degree\",0.0174532925199433]],ID[\"EPSG\",4326]],CONVERSION[\"Delhi NSF LCC\",METHOD[\"Lambert Conic Conformal (2SP)\",ID[\"EPSG\",9802]],PARAMETER[\"Latitude of false origin\",28.62510126,ANGLEUNIT[\"degree\",0.0174532925199433],ID[\"EPSG\",8821]],PARAMETER[\"Longitude of false origin\",77,ANGLEUNIT[\"degree\",0.0174532925199433],ID[\"EPSG\",8822]],PARAMETER[\"Latitude of 1st standard parallel\",28.375,ANGLEUNIT[\"degree\",0.0174532925199433],ID[\"EPSG\",8823]],PARAMETER[\"Latitude of 2nd standard parallel\",28.875,ANGLEUNIT[\"degree\",0.0174532925199433],ID[\"EPSG\",8824]],PARAMETER[\"Easting at false origin\",1000000,LENGTHUNIT[\"metre\",1],ID[\"EPSG\",8826]],PARAMETER[\"Northing at false origin\",1000000,LENGTHUNIT[\"metre\",1],ID[\"EPSG\",8827]]],CS[Cartesian,2],AXIS[\"easting (X)\",east,ORDER[1],LENGTHUNIT[\"metre\",1]],AXIS[\"northing (Y)\",north,ORDER[2],LENGTHUNIT[\"metre\",1]],USAGE[SCOPE[\"NNRMS National Spatial Framework (NSF) state resource database of medium resolution earth observation imagery and mapping.\"],AREA[\"India - Delhi national capital territory.\"],BBOX[28.4,76.83,28.89,77.34]],ID[\"EPSG\",7760]]\n"
     ]
    }
   ],
   "source": [
    "railway = spatial_index_utils.reproject_gdf(railway, epsg_code)"
   ]
  },
  {
   "cell_type": "code",
   "execution_count": 38,
   "metadata": {},
   "outputs": [
    {
     "data": {
      "text/plain": [
       "True"
      ]
     },
     "execution_count": 38,
     "metadata": {},
     "output_type": "execute_result"
    }
   ],
   "source": [
    "colonies.crs == drain.crs == canal.crs == railway.crs"
   ]
  },
  {
   "cell_type": "markdown",
   "metadata": {},
   "source": [
    "## Calculate Area (in square kilometers)"
   ]
  },
  {
   "cell_type": "code",
   "execution_count": 39,
   "metadata": {},
   "outputs": [],
   "source": [
    "colonies['area_km2'] = colonies.area/1000000"
   ]
  },
  {
   "cell_type": "code",
   "execution_count": 40,
   "metadata": {},
   "outputs": [
    {
     "data": {
      "text/html": [
       "<div>\n",
       "<style scoped>\n",
       "    .dataframe tbody tr th:only-of-type {\n",
       "        vertical-align: middle;\n",
       "    }\n",
       "\n",
       "    .dataframe tbody tr th {\n",
       "        vertical-align: top;\n",
       "    }\n",
       "\n",
       "    .dataframe thead th {\n",
       "        text-align: right;\n",
       "    }\n",
       "</style>\n",
       "<table border=\"1\" class=\"dataframe\">\n",
       "  <thead>\n",
       "    <tr style=\"text-align: right;\">\n",
       "      <th></th>\n",
       "      <th>index</th>\n",
       "      <th>AREA</th>\n",
       "      <th>USO_AREA_U</th>\n",
       "      <th>HOUSETAX_C</th>\n",
       "      <th>USO_FINAL</th>\n",
       "      <th>geometry</th>\n",
       "      <th>geom_type</th>\n",
       "      <th>area_km2</th>\n",
       "    </tr>\n",
       "  </thead>\n",
       "  <tbody>\n",
       "    <tr>\n",
       "      <th>0</th>\n",
       "      <td>0</td>\n",
       "      <td>NEW DELHI 36</td>\n",
       "      <td>5584</td>\n",
       "      <td>None</td>\n",
       "      <td>Planned</td>\n",
       "      <td>POLYGON Z ((1020282.788 996796.773 0.000, 1020...</td>\n",
       "      <td>&lt;property object at 0x000001FF10AB4DB0&gt;</td>\n",
       "      <td>1.966739</td>\n",
       "    </tr>\n",
       "    <tr>\n",
       "      <th>1</th>\n",
       "      <td>1</td>\n",
       "      <td>NEW DELHI 35</td>\n",
       "      <td>5585</td>\n",
       "      <td>None</td>\n",
       "      <td>Planned</td>\n",
       "      <td>POLYGON Z ((1019724.475 994932.797 0.000, 1019...</td>\n",
       "      <td>&lt;property object at 0x000001FF10AB4DB0&gt;</td>\n",
       "      <td>0.036429</td>\n",
       "    </tr>\n",
       "    <tr>\n",
       "      <th>2</th>\n",
       "      <td>2</td>\n",
       "      <td>NEW DELHI 34</td>\n",
       "      <td>5586</td>\n",
       "      <td>None</td>\n",
       "      <td>Planned</td>\n",
       "      <td>POLYGON Z ((1019571.955 994876.019 0.000, 1019...</td>\n",
       "      <td>&lt;property object at 0x000001FF10AB4DB0&gt;</td>\n",
       "      <td>0.230739</td>\n",
       "    </tr>\n",
       "    <tr>\n",
       "      <th>3</th>\n",
       "      <td>3</td>\n",
       "      <td>NEW DELHI 33</td>\n",
       "      <td>5587</td>\n",
       "      <td>None</td>\n",
       "      <td>Planned</td>\n",
       "      <td>POLYGON Z ((1019352.702 994352.546 0.000, 1019...</td>\n",
       "      <td>&lt;property object at 0x000001FF10AB4DB0&gt;</td>\n",
       "      <td>0.281195</td>\n",
       "    </tr>\n",
       "    <tr>\n",
       "      <th>4</th>\n",
       "      <td>4</td>\n",
       "      <td>NEW DELHI 32</td>\n",
       "      <td>5588</td>\n",
       "      <td>None</td>\n",
       "      <td>Planned</td>\n",
       "      <td>POLYGON Z ((1018793.292 994224.182 0.000, 1018...</td>\n",
       "      <td>&lt;property object at 0x000001FF10AB4DB0&gt;</td>\n",
       "      <td>0.301253</td>\n",
       "    </tr>\n",
       "  </tbody>\n",
       "</table>\n",
       "</div>"
      ],
      "text/plain": [
       "   index          AREA  USO_AREA_U HOUSETAX_C USO_FINAL  \\\n",
       "0      0  NEW DELHI 36        5584       None   Planned   \n",
       "1      1  NEW DELHI 35        5585       None   Planned   \n",
       "2      2  NEW DELHI 34        5586       None   Planned   \n",
       "3      3  NEW DELHI 33        5587       None   Planned   \n",
       "4      4  NEW DELHI 32        5588       None   Planned   \n",
       "\n",
       "                                            geometry  \\\n",
       "0  POLYGON Z ((1020282.788 996796.773 0.000, 1020...   \n",
       "1  POLYGON Z ((1019724.475 994932.797 0.000, 1019...   \n",
       "2  POLYGON Z ((1019571.955 994876.019 0.000, 1019...   \n",
       "3  POLYGON Z ((1019352.702 994352.546 0.000, 1019...   \n",
       "4  POLYGON Z ((1018793.292 994224.182 0.000, 1018...   \n",
       "\n",
       "                                 geom_type  area_km2  \n",
       "0  <property object at 0x000001FF10AB4DB0>  1.966739  \n",
       "1  <property object at 0x000001FF10AB4DB0>  0.036429  \n",
       "2  <property object at 0x000001FF10AB4DB0>  0.230739  \n",
       "3  <property object at 0x000001FF10AB4DB0>  0.281195  \n",
       "4  <property object at 0x000001FF10AB4DB0>  0.301253  "
      ]
     },
     "execution_count": 40,
     "metadata": {},
     "output_type": "execute_result"
    }
   ],
   "source": [
    "colonies.head()"
   ]
  },
  {
   "cell_type": "code",
   "execution_count": 41,
   "metadata": {},
   "outputs": [
    {
     "data": {
      "text/plain": [
       "29.1165489652962"
      ]
     },
     "execution_count": 41,
     "metadata": {},
     "output_type": "execute_result"
    }
   ],
   "source": [
    "colonies['area_km2'].max()"
   ]
  },
  {
   "cell_type": "code",
   "execution_count": 42,
   "metadata": {},
   "outputs": [
    {
     "data": {
      "text/plain": [
       "2.3028217018471078e-09"
      ]
     },
     "execution_count": 42,
     "metadata": {},
     "output_type": "execute_result"
    }
   ],
   "source": [
    "colonies['area_km2'].min()"
   ]
  },
  {
   "cell_type": "markdown",
   "metadata": {},
   "source": [
    "## Compute barrier clip"
   ]
  },
  {
   "cell_type": "code",
   "execution_count": 43,
   "metadata": {},
   "outputs": [
    {
     "data": {
      "text/html": [
       "<div>\n",
       "<style scoped>\n",
       "    .dataframe tbody tr th:only-of-type {\n",
       "        vertical-align: middle;\n",
       "    }\n",
       "\n",
       "    .dataframe tbody tr th {\n",
       "        vertical-align: top;\n",
       "    }\n",
       "\n",
       "    .dataframe thead th {\n",
       "        text-align: right;\n",
       "    }\n",
       "</style>\n",
       "<table border=\"1\" class=\"dataframe\">\n",
       "  <thead>\n",
       "    <tr style=\"text-align: right;\">\n",
       "      <th></th>\n",
       "      <th>index</th>\n",
       "      <th>AREA</th>\n",
       "      <th>USO_AREA_U</th>\n",
       "      <th>HOUSETAX_C</th>\n",
       "      <th>USO_FINAL</th>\n",
       "      <th>geometry</th>\n",
       "      <th>geom_type</th>\n",
       "      <th>area_km2</th>\n",
       "    </tr>\n",
       "  </thead>\n",
       "  <tbody>\n",
       "    <tr>\n",
       "      <th>0</th>\n",
       "      <td>0</td>\n",
       "      <td>NEW DELHI 36</td>\n",
       "      <td>5584</td>\n",
       "      <td>None</td>\n",
       "      <td>Planned</td>\n",
       "      <td>POLYGON Z ((1020282.788 996796.773 0.000, 1020...</td>\n",
       "      <td>&lt;property object at 0x000001FF10AB4DB0&gt;</td>\n",
       "      <td>1.966739</td>\n",
       "    </tr>\n",
       "    <tr>\n",
       "      <th>1</th>\n",
       "      <td>1</td>\n",
       "      <td>NEW DELHI 35</td>\n",
       "      <td>5585</td>\n",
       "      <td>None</td>\n",
       "      <td>Planned</td>\n",
       "      <td>POLYGON Z ((1019724.475 994932.797 0.000, 1019...</td>\n",
       "      <td>&lt;property object at 0x000001FF10AB4DB0&gt;</td>\n",
       "      <td>0.036429</td>\n",
       "    </tr>\n",
       "    <tr>\n",
       "      <th>2</th>\n",
       "      <td>2</td>\n",
       "      <td>NEW DELHI 34</td>\n",
       "      <td>5586</td>\n",
       "      <td>None</td>\n",
       "      <td>Planned</td>\n",
       "      <td>POLYGON Z ((1019571.955 994876.019 0.000, 1019...</td>\n",
       "      <td>&lt;property object at 0x000001FF10AB4DB0&gt;</td>\n",
       "      <td>0.230739</td>\n",
       "    </tr>\n",
       "    <tr>\n",
       "      <th>3</th>\n",
       "      <td>3</td>\n",
       "      <td>NEW DELHI 33</td>\n",
       "      <td>5587</td>\n",
       "      <td>None</td>\n",
       "      <td>Planned</td>\n",
       "      <td>POLYGON Z ((1019352.702 994352.546 0.000, 1019...</td>\n",
       "      <td>&lt;property object at 0x000001FF10AB4DB0&gt;</td>\n",
       "      <td>0.281195</td>\n",
       "    </tr>\n",
       "    <tr>\n",
       "      <th>4</th>\n",
       "      <td>4</td>\n",
       "      <td>NEW DELHI 32</td>\n",
       "      <td>5588</td>\n",
       "      <td>None</td>\n",
       "      <td>Planned</td>\n",
       "      <td>POLYGON Z ((1018793.292 994224.182 0.000, 1018...</td>\n",
       "      <td>&lt;property object at 0x000001FF10AB4DB0&gt;</td>\n",
       "      <td>0.301253</td>\n",
       "    </tr>\n",
       "  </tbody>\n",
       "</table>\n",
       "</div>"
      ],
      "text/plain": [
       "   index          AREA  USO_AREA_U HOUSETAX_C USO_FINAL  \\\n",
       "0      0  NEW DELHI 36        5584       None   Planned   \n",
       "1      1  NEW DELHI 35        5585       None   Planned   \n",
       "2      2  NEW DELHI 34        5586       None   Planned   \n",
       "3      3  NEW DELHI 33        5587       None   Planned   \n",
       "4      4  NEW DELHI 32        5588       None   Planned   \n",
       "\n",
       "                                            geometry  \\\n",
       "0  POLYGON Z ((1020282.788 996796.773 0.000, 1020...   \n",
       "1  POLYGON Z ((1019724.475 994932.797 0.000, 1019...   \n",
       "2  POLYGON Z ((1019571.955 994876.019 0.000, 1019...   \n",
       "3  POLYGON Z ((1019352.702 994352.546 0.000, 1019...   \n",
       "4  POLYGON Z ((1018793.292 994224.182 0.000, 1018...   \n",
       "\n",
       "                                 geom_type  area_km2  \n",
       "0  <property object at 0x000001FF10AB4DB0>  1.966739  \n",
       "1  <property object at 0x000001FF10AB4DB0>  0.036429  \n",
       "2  <property object at 0x000001FF10AB4DB0>  0.230739  \n",
       "3  <property object at 0x000001FF10AB4DB0>  0.281195  \n",
       "4  <property object at 0x000001FF10AB4DB0>  0.301253  "
      ]
     },
     "execution_count": 43,
     "metadata": {},
     "output_type": "execute_result"
    }
   ],
   "source": [
    "colonies.head()"
   ]
  },
  {
   "cell_type": "code",
   "execution_count": 44,
   "metadata": {},
   "outputs": [],
   "source": [
    "# Note... I had to reset index to make spatial join work!\n",
    "#colonies = colonies.reset_index()\n",
    "colonies = colonies.drop(columns=['index'])"
   ]
  },
  {
   "cell_type": "code",
   "execution_count": 45,
   "metadata": {},
   "outputs": [
    {
     "data": {
      "text/html": [
       "<div>\n",
       "<style scoped>\n",
       "    .dataframe tbody tr th:only-of-type {\n",
       "        vertical-align: middle;\n",
       "    }\n",
       "\n",
       "    .dataframe tbody tr th {\n",
       "        vertical-align: top;\n",
       "    }\n",
       "\n",
       "    .dataframe thead th {\n",
       "        text-align: right;\n",
       "    }\n",
       "</style>\n",
       "<table border=\"1\" class=\"dataframe\">\n",
       "  <thead>\n",
       "    <tr style=\"text-align: right;\">\n",
       "      <th></th>\n",
       "      <th>AREA</th>\n",
       "      <th>USO_AREA_U</th>\n",
       "      <th>HOUSETAX_C</th>\n",
       "      <th>USO_FINAL</th>\n",
       "      <th>geometry</th>\n",
       "      <th>geom_type</th>\n",
       "      <th>area_km2</th>\n",
       "    </tr>\n",
       "  </thead>\n",
       "  <tbody>\n",
       "    <tr>\n",
       "      <th>0</th>\n",
       "      <td>NEW DELHI 36</td>\n",
       "      <td>5584</td>\n",
       "      <td>None</td>\n",
       "      <td>Planned</td>\n",
       "      <td>POLYGON Z ((1020282.788 996796.773 0.000, 1020...</td>\n",
       "      <td>&lt;property object at 0x000001FF10AB4DB0&gt;</td>\n",
       "      <td>1.966739</td>\n",
       "    </tr>\n",
       "    <tr>\n",
       "      <th>1</th>\n",
       "      <td>NEW DELHI 35</td>\n",
       "      <td>5585</td>\n",
       "      <td>None</td>\n",
       "      <td>Planned</td>\n",
       "      <td>POLYGON Z ((1019724.475 994932.797 0.000, 1019...</td>\n",
       "      <td>&lt;property object at 0x000001FF10AB4DB0&gt;</td>\n",
       "      <td>0.036429</td>\n",
       "    </tr>\n",
       "    <tr>\n",
       "      <th>2</th>\n",
       "      <td>NEW DELHI 34</td>\n",
       "      <td>5586</td>\n",
       "      <td>None</td>\n",
       "      <td>Planned</td>\n",
       "      <td>POLYGON Z ((1019571.955 994876.019 0.000, 1019...</td>\n",
       "      <td>&lt;property object at 0x000001FF10AB4DB0&gt;</td>\n",
       "      <td>0.230739</td>\n",
       "    </tr>\n",
       "    <tr>\n",
       "      <th>3</th>\n",
       "      <td>NEW DELHI 33</td>\n",
       "      <td>5587</td>\n",
       "      <td>None</td>\n",
       "      <td>Planned</td>\n",
       "      <td>POLYGON Z ((1019352.702 994352.546 0.000, 1019...</td>\n",
       "      <td>&lt;property object at 0x000001FF10AB4DB0&gt;</td>\n",
       "      <td>0.281195</td>\n",
       "    </tr>\n",
       "    <tr>\n",
       "      <th>4</th>\n",
       "      <td>NEW DELHI 32</td>\n",
       "      <td>5588</td>\n",
       "      <td>None</td>\n",
       "      <td>Planned</td>\n",
       "      <td>POLYGON Z ((1018793.292 994224.182 0.000, 1018...</td>\n",
       "      <td>&lt;property object at 0x000001FF10AB4DB0&gt;</td>\n",
       "      <td>0.301253</td>\n",
       "    </tr>\n",
       "  </tbody>\n",
       "</table>\n",
       "</div>"
      ],
      "text/plain": [
       "           AREA  USO_AREA_U HOUSETAX_C USO_FINAL  \\\n",
       "0  NEW DELHI 36        5584       None   Planned   \n",
       "1  NEW DELHI 35        5585       None   Planned   \n",
       "2  NEW DELHI 34        5586       None   Planned   \n",
       "3  NEW DELHI 33        5587       None   Planned   \n",
       "4  NEW DELHI 32        5588       None   Planned   \n",
       "\n",
       "                                            geometry  \\\n",
       "0  POLYGON Z ((1020282.788 996796.773 0.000, 1020...   \n",
       "1  POLYGON Z ((1019724.475 994932.797 0.000, 1019...   \n",
       "2  POLYGON Z ((1019571.955 994876.019 0.000, 1019...   \n",
       "3  POLYGON Z ((1019352.702 994352.546 0.000, 1019...   \n",
       "4  POLYGON Z ((1018793.292 994224.182 0.000, 1018...   \n",
       "\n",
       "                                 geom_type  area_km2  \n",
       "0  <property object at 0x000001FF10AB4DB0>  1.966739  \n",
       "1  <property object at 0x000001FF10AB4DB0>  0.036429  \n",
       "2  <property object at 0x000001FF10AB4DB0>  0.230739  \n",
       "3  <property object at 0x000001FF10AB4DB0>  0.281195  \n",
       "4  <property object at 0x000001FF10AB4DB0>  0.301253  "
      ]
     },
     "execution_count": 45,
     "metadata": {},
     "output_type": "execute_result"
    }
   ],
   "source": [
    "colonies.head()"
   ]
  },
  {
   "cell_type": "code",
   "execution_count": 46,
   "metadata": {},
   "outputs": [],
   "source": [
    "# Create new columns showing intersection with canal, railway and drain\n",
    "colonies = spatial_index_utils.barrier_intersection(colonies, canal, \"canal\")"
   ]
  },
  {
   "cell_type": "code",
   "execution_count": 47,
   "metadata": {},
   "outputs": [],
   "source": [
    "colonies = spatial_index_utils.barrier_intersection(colonies, railway, \"railway\")"
   ]
  },
  {
   "cell_type": "code",
   "execution_count": 48,
   "metadata": {},
   "outputs": [],
   "source": [
    "colonies = spatial_index_utils.barrier_intersection(colonies, drain, \"drain\")"
   ]
  },
  {
   "cell_type": "code",
   "execution_count": 49,
   "metadata": {},
   "outputs": [],
   "source": [
    "# Create barrier column as being intersection with canal, railway or drain\n",
    "colonies['barrier'] = colonies['canal'] | colonies['railway'] | colonies[\"drain\"]"
   ]
  },
  {
   "cell_type": "code",
   "execution_count": 50,
   "metadata": {},
   "outputs": [
    {
     "data": {
      "text/html": [
       "<div>\n",
       "<style scoped>\n",
       "    .dataframe tbody tr th:only-of-type {\n",
       "        vertical-align: middle;\n",
       "    }\n",
       "\n",
       "    .dataframe tbody tr th {\n",
       "        vertical-align: top;\n",
       "    }\n",
       "\n",
       "    .dataframe thead th {\n",
       "        text-align: right;\n",
       "    }\n",
       "</style>\n",
       "<table border=\"1\" class=\"dataframe\">\n",
       "  <thead>\n",
       "    <tr style=\"text-align: right;\">\n",
       "      <th></th>\n",
       "      <th>AREA</th>\n",
       "      <th>USO_AREA_U</th>\n",
       "      <th>HOUSETAX_C</th>\n",
       "      <th>USO_FINAL</th>\n",
       "      <th>geometry</th>\n",
       "      <th>geom_type</th>\n",
       "      <th>area_km2</th>\n",
       "      <th>canal</th>\n",
       "      <th>railway</th>\n",
       "      <th>drain</th>\n",
       "      <th>barrier</th>\n",
       "    </tr>\n",
       "  </thead>\n",
       "  <tbody>\n",
       "    <tr>\n",
       "      <th>0</th>\n",
       "      <td>NEW DELHI 36</td>\n",
       "      <td>5584</td>\n",
       "      <td>None</td>\n",
       "      <td>Planned</td>\n",
       "      <td>POLYGON Z ((1020282.788 996796.773 0.000, 1020...</td>\n",
       "      <td>&lt;property object at 0x000001FF10AB4DB0&gt;</td>\n",
       "      <td>1.966739</td>\n",
       "      <td>False</td>\n",
       "      <td>True</td>\n",
       "      <td>True</td>\n",
       "      <td>True</td>\n",
       "    </tr>\n",
       "    <tr>\n",
       "      <th>1</th>\n",
       "      <td>NEW DELHI 35</td>\n",
       "      <td>5585</td>\n",
       "      <td>None</td>\n",
       "      <td>Planned</td>\n",
       "      <td>POLYGON Z ((1019724.475 994932.797 0.000, 1019...</td>\n",
       "      <td>&lt;property object at 0x000001FF10AB4DB0&gt;</td>\n",
       "      <td>0.036429</td>\n",
       "      <td>False</td>\n",
       "      <td>False</td>\n",
       "      <td>False</td>\n",
       "      <td>False</td>\n",
       "    </tr>\n",
       "    <tr>\n",
       "      <th>2</th>\n",
       "      <td>NEW DELHI 34</td>\n",
       "      <td>5586</td>\n",
       "      <td>None</td>\n",
       "      <td>Planned</td>\n",
       "      <td>POLYGON Z ((1019571.955 994876.019 0.000, 1019...</td>\n",
       "      <td>&lt;property object at 0x000001FF10AB4DB0&gt;</td>\n",
       "      <td>0.230739</td>\n",
       "      <td>False</td>\n",
       "      <td>False</td>\n",
       "      <td>True</td>\n",
       "      <td>True</td>\n",
       "    </tr>\n",
       "    <tr>\n",
       "      <th>3</th>\n",
       "      <td>NEW DELHI 33</td>\n",
       "      <td>5587</td>\n",
       "      <td>None</td>\n",
       "      <td>Planned</td>\n",
       "      <td>POLYGON Z ((1019352.702 994352.546 0.000, 1019...</td>\n",
       "      <td>&lt;property object at 0x000001FF10AB4DB0&gt;</td>\n",
       "      <td>0.281195</td>\n",
       "      <td>False</td>\n",
       "      <td>False</td>\n",
       "      <td>False</td>\n",
       "      <td>False</td>\n",
       "    </tr>\n",
       "    <tr>\n",
       "      <th>4</th>\n",
       "      <td>NEW DELHI 32</td>\n",
       "      <td>5588</td>\n",
       "      <td>None</td>\n",
       "      <td>Planned</td>\n",
       "      <td>POLYGON Z ((1018793.292 994224.182 0.000, 1018...</td>\n",
       "      <td>&lt;property object at 0x000001FF10AB4DB0&gt;</td>\n",
       "      <td>0.301253</td>\n",
       "      <td>False</td>\n",
       "      <td>False</td>\n",
       "      <td>True</td>\n",
       "      <td>True</td>\n",
       "    </tr>\n",
       "  </tbody>\n",
       "</table>\n",
       "</div>"
      ],
      "text/plain": [
       "           AREA  USO_AREA_U HOUSETAX_C USO_FINAL  \\\n",
       "0  NEW DELHI 36        5584       None   Planned   \n",
       "1  NEW DELHI 35        5585       None   Planned   \n",
       "2  NEW DELHI 34        5586       None   Planned   \n",
       "3  NEW DELHI 33        5587       None   Planned   \n",
       "4  NEW DELHI 32        5588       None   Planned   \n",
       "\n",
       "                                            geometry  \\\n",
       "0  POLYGON Z ((1020282.788 996796.773 0.000, 1020...   \n",
       "1  POLYGON Z ((1019724.475 994932.797 0.000, 1019...   \n",
       "2  POLYGON Z ((1019571.955 994876.019 0.000, 1019...   \n",
       "3  POLYGON Z ((1019352.702 994352.546 0.000, 1019...   \n",
       "4  POLYGON Z ((1018793.292 994224.182 0.000, 1018...   \n",
       "\n",
       "                                 geom_type  area_km2  canal  railway  drain  \\\n",
       "0  <property object at 0x000001FF10AB4DB0>  1.966739  False     True   True   \n",
       "1  <property object at 0x000001FF10AB4DB0>  0.036429  False    False  False   \n",
       "2  <property object at 0x000001FF10AB4DB0>  0.230739  False    False   True   \n",
       "3  <property object at 0x000001FF10AB4DB0>  0.281195  False    False  False   \n",
       "4  <property object at 0x000001FF10AB4DB0>  0.301253  False    False   True   \n",
       "\n",
       "   barrier  \n",
       "0     True  \n",
       "1    False  \n",
       "2     True  \n",
       "3    False  \n",
       "4     True  "
      ]
     },
     "execution_count": 50,
     "metadata": {},
     "output_type": "execute_result"
    }
   ],
   "source": [
    "colonies.head()"
   ]
  },
  {
   "cell_type": "code",
   "execution_count": 51,
   "metadata": {},
   "outputs": [
    {
     "data": {
      "text/plain": [
       "4357"
      ]
     },
     "execution_count": 51,
     "metadata": {},
     "output_type": "execute_result"
    }
   ],
   "source": [
    "len(colonies)"
   ]
  },
  {
   "cell_type": "markdown",
   "metadata": {},
   "source": [
    "## Calculate centroid for each polygon"
   ]
  },
  {
   "cell_type": "code",
   "execution_count": 52,
   "metadata": {},
   "outputs": [
    {
     "data": {
      "text/html": [
       "<div>\n",
       "<style scoped>\n",
       "    .dataframe tbody tr th:only-of-type {\n",
       "        vertical-align: middle;\n",
       "    }\n",
       "\n",
       "    .dataframe tbody tr th {\n",
       "        vertical-align: top;\n",
       "    }\n",
       "\n",
       "    .dataframe thead th {\n",
       "        text-align: right;\n",
       "    }\n",
       "</style>\n",
       "<table border=\"1\" class=\"dataframe\">\n",
       "  <thead>\n",
       "    <tr style=\"text-align: right;\">\n",
       "      <th></th>\n",
       "      <th>AREA</th>\n",
       "      <th>USO_AREA_U</th>\n",
       "      <th>HOUSETAX_C</th>\n",
       "      <th>USO_FINAL</th>\n",
       "      <th>geometry</th>\n",
       "      <th>geom_type</th>\n",
       "      <th>area_km2</th>\n",
       "      <th>canal</th>\n",
       "      <th>railway</th>\n",
       "      <th>drain</th>\n",
       "      <th>barrier</th>\n",
       "      <th>centroid</th>\n",
       "    </tr>\n",
       "  </thead>\n",
       "  <tbody>\n",
       "    <tr>\n",
       "      <th>0</th>\n",
       "      <td>NEW DELHI 36</td>\n",
       "      <td>5584</td>\n",
       "      <td>None</td>\n",
       "      <td>Planned</td>\n",
       "      <td>POLYGON Z ((1020282.788 996796.773 0.000, 1020...</td>\n",
       "      <td>&lt;property object at 0x000001FF10AB4DB0&gt;</td>\n",
       "      <td>1.966739</td>\n",
       "      <td>False</td>\n",
       "      <td>True</td>\n",
       "      <td>True</td>\n",
       "      <td>True</td>\n",
       "      <td>POINT (1020123.175 995898.851)</td>\n",
       "    </tr>\n",
       "    <tr>\n",
       "      <th>1</th>\n",
       "      <td>NEW DELHI 35</td>\n",
       "      <td>5585</td>\n",
       "      <td>None</td>\n",
       "      <td>Planned</td>\n",
       "      <td>POLYGON Z ((1019724.475 994932.797 0.000, 1019...</td>\n",
       "      <td>&lt;property object at 0x000001FF10AB4DB0&gt;</td>\n",
       "      <td>0.036429</td>\n",
       "      <td>False</td>\n",
       "      <td>False</td>\n",
       "      <td>False</td>\n",
       "      <td>False</td>\n",
       "      <td>POINT (1019673.024 994869.699)</td>\n",
       "    </tr>\n",
       "    <tr>\n",
       "      <th>2</th>\n",
       "      <td>NEW DELHI 34</td>\n",
       "      <td>5586</td>\n",
       "      <td>None</td>\n",
       "      <td>Planned</td>\n",
       "      <td>POLYGON Z ((1019571.955 994876.019 0.000, 1019...</td>\n",
       "      <td>&lt;property object at 0x000001FF10AB4DB0&gt;</td>\n",
       "      <td>0.230739</td>\n",
       "      <td>False</td>\n",
       "      <td>False</td>\n",
       "      <td>True</td>\n",
       "      <td>True</td>\n",
       "      <td>POINT (1019485.484 994565.783)</td>\n",
       "    </tr>\n",
       "    <tr>\n",
       "      <th>3</th>\n",
       "      <td>NEW DELHI 33</td>\n",
       "      <td>5587</td>\n",
       "      <td>None</td>\n",
       "      <td>Planned</td>\n",
       "      <td>POLYGON Z ((1019352.702 994352.546 0.000, 1019...</td>\n",
       "      <td>&lt;property object at 0x000001FF10AB4DB0&gt;</td>\n",
       "      <td>0.281195</td>\n",
       "      <td>False</td>\n",
       "      <td>False</td>\n",
       "      <td>False</td>\n",
       "      <td>False</td>\n",
       "      <td>POINT (1019171.868 994576.688)</td>\n",
       "    </tr>\n",
       "    <tr>\n",
       "      <th>4</th>\n",
       "      <td>NEW DELHI 32</td>\n",
       "      <td>5588</td>\n",
       "      <td>None</td>\n",
       "      <td>Planned</td>\n",
       "      <td>POLYGON Z ((1018793.292 994224.182 0.000, 1018...</td>\n",
       "      <td>&lt;property object at 0x000001FF10AB4DB0&gt;</td>\n",
       "      <td>0.301253</td>\n",
       "      <td>False</td>\n",
       "      <td>False</td>\n",
       "      <td>True</td>\n",
       "      <td>True</td>\n",
       "      <td>POINT (1018785.675 994590.275)</td>\n",
       "    </tr>\n",
       "  </tbody>\n",
       "</table>\n",
       "</div>"
      ],
      "text/plain": [
       "           AREA  USO_AREA_U HOUSETAX_C USO_FINAL  \\\n",
       "0  NEW DELHI 36        5584       None   Planned   \n",
       "1  NEW DELHI 35        5585       None   Planned   \n",
       "2  NEW DELHI 34        5586       None   Planned   \n",
       "3  NEW DELHI 33        5587       None   Planned   \n",
       "4  NEW DELHI 32        5588       None   Planned   \n",
       "\n",
       "                                            geometry  \\\n",
       "0  POLYGON Z ((1020282.788 996796.773 0.000, 1020...   \n",
       "1  POLYGON Z ((1019724.475 994932.797 0.000, 1019...   \n",
       "2  POLYGON Z ((1019571.955 994876.019 0.000, 1019...   \n",
       "3  POLYGON Z ((1019352.702 994352.546 0.000, 1019...   \n",
       "4  POLYGON Z ((1018793.292 994224.182 0.000, 1018...   \n",
       "\n",
       "                                 geom_type  area_km2  canal  railway  drain  \\\n",
       "0  <property object at 0x000001FF10AB4DB0>  1.966739  False     True   True   \n",
       "1  <property object at 0x000001FF10AB4DB0>  0.036429  False    False  False   \n",
       "2  <property object at 0x000001FF10AB4DB0>  0.230739  False    False   True   \n",
       "3  <property object at 0x000001FF10AB4DB0>  0.281195  False    False  False   \n",
       "4  <property object at 0x000001FF10AB4DB0>  0.301253  False    False   True   \n",
       "\n",
       "   barrier                        centroid  \n",
       "0     True  POINT (1020123.175 995898.851)  \n",
       "1    False  POINT (1019673.024 994869.699)  \n",
       "2     True  POINT (1019485.484 994565.783)  \n",
       "3    False  POINT (1019171.868 994576.688)  \n",
       "4     True  POINT (1018785.675 994590.275)  "
      ]
     },
     "execution_count": 52,
     "metadata": {},
     "output_type": "execute_result"
    }
   ],
   "source": [
    "colonies['centroid'] = colonies.centroid\n",
    "colonies.head()"
   ]
  },
  {
   "cell_type": "markdown",
   "metadata": {},
   "source": [
    "## Distance from NDMC (turn into function)"
   ]
  },
  {
   "cell_type": "code",
   "execution_count": 53,
   "metadata": {},
   "outputs": [
    {
     "data": {
      "text/html": [
       "<div>\n",
       "<style scoped>\n",
       "    .dataframe tbody tr th:only-of-type {\n",
       "        vertical-align: middle;\n",
       "    }\n",
       "\n",
       "    .dataframe tbody tr th {\n",
       "        vertical-align: top;\n",
       "    }\n",
       "\n",
       "    .dataframe thead th {\n",
       "        text-align: right;\n",
       "    }\n",
       "</style>\n",
       "<table border=\"1\" class=\"dataframe\">\n",
       "  <thead>\n",
       "    <tr style=\"text-align: right;\">\n",
       "      <th></th>\n",
       "      <th>AREA</th>\n",
       "      <th>USO_AREA_U</th>\n",
       "      <th>HOUSETAX_C</th>\n",
       "      <th>USO_FINAL</th>\n",
       "      <th>geometry</th>\n",
       "      <th>geom_type</th>\n",
       "      <th>area_km2</th>\n",
       "      <th>canal</th>\n",
       "      <th>railway</th>\n",
       "      <th>drain</th>\n",
       "      <th>barrier</th>\n",
       "      <th>centroid</th>\n",
       "      <th>ndmc_dist_km</th>\n",
       "    </tr>\n",
       "  </thead>\n",
       "  <tbody>\n",
       "    <tr>\n",
       "      <th>0</th>\n",
       "      <td>NEW DELHI 36</td>\n",
       "      <td>5584</td>\n",
       "      <td>None</td>\n",
       "      <td>Planned</td>\n",
       "      <td>POLYGON Z ((1020282.788 996796.773 0.000, 1020...</td>\n",
       "      <td>&lt;property object at 0x000001FF10AB4DB0&gt;</td>\n",
       "      <td>1.966739</td>\n",
       "      <td>False</td>\n",
       "      <td>True</td>\n",
       "      <td>True</td>\n",
       "      <td>True</td>\n",
       "      <td>POINT (1020123.175 995898.851)</td>\n",
       "      <td>5.159809</td>\n",
       "    </tr>\n",
       "    <tr>\n",
       "      <th>1</th>\n",
       "      <td>NEW DELHI 35</td>\n",
       "      <td>5585</td>\n",
       "      <td>None</td>\n",
       "      <td>Planned</td>\n",
       "      <td>POLYGON Z ((1019724.475 994932.797 0.000, 1019...</td>\n",
       "      <td>&lt;property object at 0x000001FF10AB4DB0&gt;</td>\n",
       "      <td>0.036429</td>\n",
       "      <td>False</td>\n",
       "      <td>False</td>\n",
       "      <td>False</td>\n",
       "      <td>False</td>\n",
       "      <td>POINT (1019673.024 994869.699)</td>\n",
       "      <td>6.273149</td>\n",
       "    </tr>\n",
       "    <tr>\n",
       "      <th>2</th>\n",
       "      <td>NEW DELHI 34</td>\n",
       "      <td>5586</td>\n",
       "      <td>None</td>\n",
       "      <td>Planned</td>\n",
       "      <td>POLYGON Z ((1019571.955 994876.019 0.000, 1019...</td>\n",
       "      <td>&lt;property object at 0x000001FF10AB4DB0&gt;</td>\n",
       "      <td>0.230739</td>\n",
       "      <td>False</td>\n",
       "      <td>False</td>\n",
       "      <td>True</td>\n",
       "      <td>True</td>\n",
       "      <td>POINT (1019485.484 994565.783)</td>\n",
       "      <td>6.618792</td>\n",
       "    </tr>\n",
       "    <tr>\n",
       "      <th>3</th>\n",
       "      <td>NEW DELHI 33</td>\n",
       "      <td>5587</td>\n",
       "      <td>None</td>\n",
       "      <td>Planned</td>\n",
       "      <td>POLYGON Z ((1019352.702 994352.546 0.000, 1019...</td>\n",
       "      <td>&lt;property object at 0x000001FF10AB4DB0&gt;</td>\n",
       "      <td>0.281195</td>\n",
       "      <td>False</td>\n",
       "      <td>False</td>\n",
       "      <td>False</td>\n",
       "      <td>False</td>\n",
       "      <td>POINT (1019171.868 994576.688)</td>\n",
       "      <td>6.709542</td>\n",
       "    </tr>\n",
       "    <tr>\n",
       "      <th>4</th>\n",
       "      <td>NEW DELHI 32</td>\n",
       "      <td>5588</td>\n",
       "      <td>None</td>\n",
       "      <td>Planned</td>\n",
       "      <td>POLYGON Z ((1018793.292 994224.182 0.000, 1018...</td>\n",
       "      <td>&lt;property object at 0x000001FF10AB4DB0&gt;</td>\n",
       "      <td>0.301253</td>\n",
       "      <td>False</td>\n",
       "      <td>False</td>\n",
       "      <td>True</td>\n",
       "      <td>True</td>\n",
       "      <td>POINT (1018785.675 994590.275)</td>\n",
       "      <td>6.839299</td>\n",
       "    </tr>\n",
       "  </tbody>\n",
       "</table>\n",
       "</div>"
      ],
      "text/plain": [
       "           AREA  USO_AREA_U HOUSETAX_C USO_FINAL  \\\n",
       "0  NEW DELHI 36        5584       None   Planned   \n",
       "1  NEW DELHI 35        5585       None   Planned   \n",
       "2  NEW DELHI 34        5586       None   Planned   \n",
       "3  NEW DELHI 33        5587       None   Planned   \n",
       "4  NEW DELHI 32        5588       None   Planned   \n",
       "\n",
       "                                            geometry  \\\n",
       "0  POLYGON Z ((1020282.788 996796.773 0.000, 1020...   \n",
       "1  POLYGON Z ((1019724.475 994932.797 0.000, 1019...   \n",
       "2  POLYGON Z ((1019571.955 994876.019 0.000, 1019...   \n",
       "3  POLYGON Z ((1019352.702 994352.546 0.000, 1019...   \n",
       "4  POLYGON Z ((1018793.292 994224.182 0.000, 1018...   \n",
       "\n",
       "                                 geom_type  area_km2  canal  railway  drain  \\\n",
       "0  <property object at 0x000001FF10AB4DB0>  1.966739  False     True   True   \n",
       "1  <property object at 0x000001FF10AB4DB0>  0.036429  False    False  False   \n",
       "2  <property object at 0x000001FF10AB4DB0>  0.230739  False    False   True   \n",
       "3  <property object at 0x000001FF10AB4DB0>  0.281195  False    False  False   \n",
       "4  <property object at 0x000001FF10AB4DB0>  0.301253  False    False   True   \n",
       "\n",
       "   barrier                        centroid  ndmc_dist_km  \n",
       "0     True  POINT (1020123.175 995898.851)      5.159809  \n",
       "1    False  POINT (1019673.024 994869.699)      6.273149  \n",
       "2     True  POINT (1019485.484 994565.783)      6.618792  \n",
       "3    False  POINT (1019171.868 994576.688)      6.709542  \n",
       "4     True  POINT (1018785.675 994590.275)      6.839299  "
      ]
     },
     "execution_count": 53,
     "metadata": {},
     "output_type": "execute_result"
    }
   ],
   "source": [
    "# ndmc_center shapefile location\n",
    "ndmc_center_filepath = os.path.join('shapefiles', 'ndmc_center7760.shp')\n",
    "\n",
    "# Import shapefile\n",
    "ndmc_center = gpd.read_file(ndmc_center_filepath)\n",
    "\n",
    "# Extract NDMC Center as Shapely Point\n",
    "ndmc_center_point = ndmc_center['geometry'].values[0]\n",
    "\n",
    "# Code to generate ndmc_distances\n",
    "# initialize new column with value 0\n",
    "colonies['ndmc_dist_km'] = 0\n",
    "\n",
    "# Compute distance from NDMC to centroid of each polygon\n",
    "# Division by 1000 turns units into kilometers\n",
    "for idx, row in colonies.iterrows():\n",
    "    colonies.loc[idx, 'ndmc_dist_km'] = ndmc_center_point.distance(row['centroid'])/1000\n",
    "    \n",
    "colonies.head()"
   ]
  },
  {
   "cell_type": "markdown",
   "metadata": {},
   "source": [
    "## Create GeoDataFrame with Bounding Box of each Polygon"
   ]
  },
  {
   "cell_type": "code",
   "execution_count": 88,
   "metadata": {},
   "outputs": [],
   "source": [
    "colonies_bbox = spatial_index_utils.create_bbox_gdf(colonies)"
   ]
  },
  {
   "cell_type": "code",
   "execution_count": 89,
   "metadata": {},
   "outputs": [],
   "source": [
    "# To generate sindex\n",
    "colonies_bbox_updated = gpd.GeoDataFrame(colonies_bbox, crs=colonies.crs)"
   ]
  },
  {
   "cell_type": "markdown",
   "metadata": {},
   "source": [
    "## Spatial Join (intersection of polygon and bbox geometries)"
   ]
  },
  {
   "cell_type": "code",
   "execution_count": 90,
   "metadata": {},
   "outputs": [
    {
     "name": "stderr",
     "output_type": "stream",
     "text": [
      "100%|██████████████████████████████████████████████████████████████████████████████| 4352/4352 [09:37<00:00,  7.54it/s]\n"
     ]
    },
    {
     "data": {
      "text/html": [
       "<div>\n",
       "<style scoped>\n",
       "    .dataframe tbody tr th:only-of-type {\n",
       "        vertical-align: middle;\n",
       "    }\n",
       "\n",
       "    .dataframe tbody tr th {\n",
       "        vertical-align: top;\n",
       "    }\n",
       "\n",
       "    .dataframe thead th {\n",
       "        text-align: right;\n",
       "    }\n",
       "</style>\n",
       "<table border=\"1\" class=\"dataframe\">\n",
       "  <thead>\n",
       "    <tr style=\"text-align: right;\">\n",
       "      <th></th>\n",
       "      <th>AREA</th>\n",
       "      <th>USO_AREA_U</th>\n",
       "      <th>HOUSETAX_C</th>\n",
       "      <th>USO_FINAL</th>\n",
       "      <th>geometry</th>\n",
       "      <th>geom_type</th>\n",
       "      <th>area_km2</th>\n",
       "      <th>canal</th>\n",
       "      <th>railway</th>\n",
       "      <th>drain</th>\n",
       "      <th>barrier</th>\n",
       "      <th>centroid</th>\n",
       "      <th>ndmc_dist_km</th>\n",
       "      <th>nbrs_bbox</th>\n",
       "    </tr>\n",
       "  </thead>\n",
       "  <tbody>\n",
       "    <tr>\n",
       "      <th>0</th>\n",
       "      <td>NEW DELHI 36</td>\n",
       "      <td>5584</td>\n",
       "      <td>None</td>\n",
       "      <td>Planned</td>\n",
       "      <td>POLYGON Z ((1020282.788 996796.773 0.000, 1020...</td>\n",
       "      <td>&lt;property object at 0x000001FF10AB4DB0&gt;</td>\n",
       "      <td>1.966739</td>\n",
       "      <td>False</td>\n",
       "      <td>True</td>\n",
       "      <td>True</td>\n",
       "      <td>True</td>\n",
       "      <td>POINT (1020123.175 995898.851)</td>\n",
       "      <td>5.159809</td>\n",
       "      <td>[5598, 5599, 5602, 5603, 3508, 3776, 4011, 349...</td>\n",
       "    </tr>\n",
       "    <tr>\n",
       "      <th>1</th>\n",
       "      <td>NEW DELHI 35</td>\n",
       "      <td>5585</td>\n",
       "      <td>None</td>\n",
       "      <td>Planned</td>\n",
       "      <td>POLYGON Z ((1019724.475 994932.797 0.000, 1019...</td>\n",
       "      <td>&lt;property object at 0x000001FF10AB4DB0&gt;</td>\n",
       "      <td>0.036429</td>\n",
       "      <td>False</td>\n",
       "      <td>False</td>\n",
       "      <td>False</td>\n",
       "      <td>False</td>\n",
       "      <td>POINT (1019673.024 994869.699)</td>\n",
       "      <td>6.273149</td>\n",
       "      <td>[5594, 4336, 2679, 1256, 4373, 5585, 1697, 180...</td>\n",
       "    </tr>\n",
       "    <tr>\n",
       "      <th>2</th>\n",
       "      <td>NEW DELHI 34</td>\n",
       "      <td>5586</td>\n",
       "      <td>None</td>\n",
       "      <td>Planned</td>\n",
       "      <td>POLYGON Z ((1019571.955 994876.019 0.000, 1019...</td>\n",
       "      <td>&lt;property object at 0x000001FF10AB4DB0&gt;</td>\n",
       "      <td>0.230739</td>\n",
       "      <td>False</td>\n",
       "      <td>False</td>\n",
       "      <td>True</td>\n",
       "      <td>True</td>\n",
       "      <td>POINT (1019485.484 994565.783)</td>\n",
       "      <td>6.618792</td>\n",
       "      <td>[5594, 5587, 5585, 5596]</td>\n",
       "    </tr>\n",
       "    <tr>\n",
       "      <th>3</th>\n",
       "      <td>NEW DELHI 33</td>\n",
       "      <td>5587</td>\n",
       "      <td>None</td>\n",
       "      <td>Planned</td>\n",
       "      <td>POLYGON Z ((1019352.702 994352.546 0.000, 1019...</td>\n",
       "      <td>&lt;property object at 0x000001FF10AB4DB0&gt;</td>\n",
       "      <td>0.281195</td>\n",
       "      <td>False</td>\n",
       "      <td>False</td>\n",
       "      <td>False</td>\n",
       "      <td>False</td>\n",
       "      <td>POINT (1019171.868 994576.688)</td>\n",
       "      <td>6.709542</td>\n",
       "      <td>[5596, 5587]</td>\n",
       "    </tr>\n",
       "    <tr>\n",
       "      <th>4</th>\n",
       "      <td>NEW DELHI 32</td>\n",
       "      <td>5588</td>\n",
       "      <td>None</td>\n",
       "      <td>Planned</td>\n",
       "      <td>POLYGON Z ((1018793.292 994224.182 0.000, 1018...</td>\n",
       "      <td>&lt;property object at 0x000001FF10AB4DB0&gt;</td>\n",
       "      <td>0.301253</td>\n",
       "      <td>False</td>\n",
       "      <td>False</td>\n",
       "      <td>True</td>\n",
       "      <td>True</td>\n",
       "      <td>POINT (1018785.675 994590.275)</td>\n",
       "      <td>6.839299</td>\n",
       "      <td>[5621, 5587, 5620, 5596]</td>\n",
       "    </tr>\n",
       "  </tbody>\n",
       "</table>\n",
       "</div>"
      ],
      "text/plain": [
       "           AREA  USO_AREA_U HOUSETAX_C USO_FINAL  \\\n",
       "0  NEW DELHI 36        5584       None   Planned   \n",
       "1  NEW DELHI 35        5585       None   Planned   \n",
       "2  NEW DELHI 34        5586       None   Planned   \n",
       "3  NEW DELHI 33        5587       None   Planned   \n",
       "4  NEW DELHI 32        5588       None   Planned   \n",
       "\n",
       "                                            geometry  \\\n",
       "0  POLYGON Z ((1020282.788 996796.773 0.000, 1020...   \n",
       "1  POLYGON Z ((1019724.475 994932.797 0.000, 1019...   \n",
       "2  POLYGON Z ((1019571.955 994876.019 0.000, 1019...   \n",
       "3  POLYGON Z ((1019352.702 994352.546 0.000, 1019...   \n",
       "4  POLYGON Z ((1018793.292 994224.182 0.000, 1018...   \n",
       "\n",
       "                                 geom_type  area_km2  canal  railway  drain  \\\n",
       "0  <property object at 0x000001FF10AB4DB0>  1.966739  False     True   True   \n",
       "1  <property object at 0x000001FF10AB4DB0>  0.036429  False    False  False   \n",
       "2  <property object at 0x000001FF10AB4DB0>  0.230739  False    False   True   \n",
       "3  <property object at 0x000001FF10AB4DB0>  0.281195  False    False  False   \n",
       "4  <property object at 0x000001FF10AB4DB0>  0.301253  False    False   True   \n",
       "\n",
       "   barrier                        centroid  ndmc_dist_km  \\\n",
       "0     True  POINT (1020123.175 995898.851)      5.159809   \n",
       "1    False  POINT (1019673.024 994869.699)      6.273149   \n",
       "2     True  POINT (1019485.484 994565.783)      6.618792   \n",
       "3    False  POINT (1019171.868 994576.688)      6.709542   \n",
       "4     True  POINT (1018785.675 994590.275)      6.839299   \n",
       "\n",
       "                                           nbrs_bbox  \n",
       "0  [5598, 5599, 5602, 5603, 3508, 3776, 4011, 349...  \n",
       "1  [5594, 4336, 2679, 1256, 4373, 5585, 1697, 180...  \n",
       "2                           [5594, 5587, 5585, 5596]  \n",
       "3                                       [5596, 5587]  \n",
       "4                           [5621, 5587, 5620, 5596]  "
      ]
     },
     "execution_count": 90,
     "metadata": {},
     "output_type": "execute_result"
    }
   ],
   "source": [
    "colonies_bbox_nbrs = spatial_index_utils.add_polygon_neighbors_column_fast(polygon_gdf=colonies,\n",
    "                                                       #right_gdf=colonies_bbox,\n",
    "                                                       right_gdf = colonies_bbox_updated,\n",
    "                                                       id_colname='USO_AREA_U', \n",
    "                                                       neighbor_colname='nbrs_bbox',\n",
    "                                                       barrier_colname='barrier')\n",
    "colonies_bbox_nbrs.head()"
   ]
  },
  {
   "cell_type": "markdown",
   "metadata": {},
   "source": [
    "## Calculate neighbor distances"
   ]
  },
  {
   "cell_type": "code",
   "execution_count": 91,
   "metadata": {},
   "outputs": [
    {
     "name": "stderr",
     "output_type": "stream",
     "text": [
      "100%|██████████████████████████████████████████████████████████████████████████████| 4357/4357 [04:51<00:00, 14.93it/s]\n"
     ]
    },
    {
     "data": {
      "text/html": [
       "<div>\n",
       "<style scoped>\n",
       "    .dataframe tbody tr th:only-of-type {\n",
       "        vertical-align: middle;\n",
       "    }\n",
       "\n",
       "    .dataframe tbody tr th {\n",
       "        vertical-align: top;\n",
       "    }\n",
       "\n",
       "    .dataframe thead th {\n",
       "        text-align: right;\n",
       "    }\n",
       "</style>\n",
       "<table border=\"1\" class=\"dataframe\">\n",
       "  <thead>\n",
       "    <tr style=\"text-align: right;\">\n",
       "      <th></th>\n",
       "      <th>AREA</th>\n",
       "      <th>USO_AREA_U</th>\n",
       "      <th>HOUSETAX_C</th>\n",
       "      <th>USO_FINAL</th>\n",
       "      <th>geometry</th>\n",
       "      <th>geom_type</th>\n",
       "      <th>area_km2</th>\n",
       "      <th>canal</th>\n",
       "      <th>railway</th>\n",
       "      <th>drain</th>\n",
       "      <th>barrier</th>\n",
       "      <th>centroid</th>\n",
       "      <th>ndmc_dist_km</th>\n",
       "      <th>nbrs_bbox</th>\n",
       "      <th>nbrs_dist_bbox</th>\n",
       "    </tr>\n",
       "  </thead>\n",
       "  <tbody>\n",
       "    <tr>\n",
       "      <th>0</th>\n",
       "      <td>NEW DELHI 36</td>\n",
       "      <td>5584</td>\n",
       "      <td>None</td>\n",
       "      <td>Planned</td>\n",
       "      <td>POLYGON Z ((1020282.788 996796.773 0.000, 1020...</td>\n",
       "      <td>&lt;property object at 0x000001FF10AB4DB0&gt;</td>\n",
       "      <td>1.966739</td>\n",
       "      <td>False</td>\n",
       "      <td>True</td>\n",
       "      <td>True</td>\n",
       "      <td>True</td>\n",
       "      <td>POINT (1020123.175 995898.851)</td>\n",
       "      <td>5.159809</td>\n",
       "      <td>[5598, 5599, 5602, 5603, 3508, 3776, 4011, 349...</td>\n",
       "      <td>[(5598, 1.074790368771482), (5599, 1.015506410...</td>\n",
       "    </tr>\n",
       "    <tr>\n",
       "      <th>1</th>\n",
       "      <td>NEW DELHI 35</td>\n",
       "      <td>5585</td>\n",
       "      <td>None</td>\n",
       "      <td>Planned</td>\n",
       "      <td>POLYGON Z ((1019724.475 994932.797 0.000, 1019...</td>\n",
       "      <td>&lt;property object at 0x000001FF10AB4DB0&gt;</td>\n",
       "      <td>0.036429</td>\n",
       "      <td>False</td>\n",
       "      <td>False</td>\n",
       "      <td>False</td>\n",
       "      <td>False</td>\n",
       "      <td>POINT (1019673.024 994869.699)</td>\n",
       "      <td>6.273149</td>\n",
       "      <td>[5594, 4336, 2679, 1256, 4373, 5585, 1697, 180...</td>\n",
       "      <td>[(5594, 0.6299162683011635), (4336, 14.7374799...</td>\n",
       "    </tr>\n",
       "    <tr>\n",
       "      <th>2</th>\n",
       "      <td>NEW DELHI 34</td>\n",
       "      <td>5586</td>\n",
       "      <td>None</td>\n",
       "      <td>Planned</td>\n",
       "      <td>POLYGON Z ((1019571.955 994876.019 0.000, 1019...</td>\n",
       "      <td>&lt;property object at 0x000001FF10AB4DB0&gt;</td>\n",
       "      <td>0.230739</td>\n",
       "      <td>False</td>\n",
       "      <td>False</td>\n",
       "      <td>True</td>\n",
       "      <td>True</td>\n",
       "      <td>POINT (1019485.484 994565.783)</td>\n",
       "      <td>6.618792</td>\n",
       "      <td>[5594, 5587, 5585, 5596]</td>\n",
       "      <td>[(5594, 0.4532645992822079), (5587, 0.31380549...</td>\n",
       "    </tr>\n",
       "    <tr>\n",
       "      <th>3</th>\n",
       "      <td>NEW DELHI 33</td>\n",
       "      <td>5587</td>\n",
       "      <td>None</td>\n",
       "      <td>Planned</td>\n",
       "      <td>POLYGON Z ((1019352.702 994352.546 0.000, 1019...</td>\n",
       "      <td>&lt;property object at 0x000001FF10AB4DB0&gt;</td>\n",
       "      <td>0.281195</td>\n",
       "      <td>False</td>\n",
       "      <td>False</td>\n",
       "      <td>False</td>\n",
       "      <td>False</td>\n",
       "      <td>POINT (1019171.868 994576.688)</td>\n",
       "      <td>6.709542</td>\n",
       "      <td>[5596, 5587]</td>\n",
       "      <td>[(5596, 0.5564745103109905), (5587, 0.0)]</td>\n",
       "    </tr>\n",
       "    <tr>\n",
       "      <th>4</th>\n",
       "      <td>NEW DELHI 32</td>\n",
       "      <td>5588</td>\n",
       "      <td>None</td>\n",
       "      <td>Planned</td>\n",
       "      <td>POLYGON Z ((1018793.292 994224.182 0.000, 1018...</td>\n",
       "      <td>&lt;property object at 0x000001FF10AB4DB0&gt;</td>\n",
       "      <td>0.301253</td>\n",
       "      <td>False</td>\n",
       "      <td>False</td>\n",
       "      <td>True</td>\n",
       "      <td>True</td>\n",
       "      <td>POINT (1018785.675 994590.275)</td>\n",
       "      <td>6.839299</td>\n",
       "      <td>[5621, 5587, 5620, 5596]</td>\n",
       "      <td>[(5621, 0.5779093230804585), (5587, 0.38643264...</td>\n",
       "    </tr>\n",
       "  </tbody>\n",
       "</table>\n",
       "</div>"
      ],
      "text/plain": [
       "           AREA  USO_AREA_U HOUSETAX_C USO_FINAL  \\\n",
       "0  NEW DELHI 36        5584       None   Planned   \n",
       "1  NEW DELHI 35        5585       None   Planned   \n",
       "2  NEW DELHI 34        5586       None   Planned   \n",
       "3  NEW DELHI 33        5587       None   Planned   \n",
       "4  NEW DELHI 32        5588       None   Planned   \n",
       "\n",
       "                                            geometry  \\\n",
       "0  POLYGON Z ((1020282.788 996796.773 0.000, 1020...   \n",
       "1  POLYGON Z ((1019724.475 994932.797 0.000, 1019...   \n",
       "2  POLYGON Z ((1019571.955 994876.019 0.000, 1019...   \n",
       "3  POLYGON Z ((1019352.702 994352.546 0.000, 1019...   \n",
       "4  POLYGON Z ((1018793.292 994224.182 0.000, 1018...   \n",
       "\n",
       "                                 geom_type  area_km2  canal  railway  drain  \\\n",
       "0  <property object at 0x000001FF10AB4DB0>  1.966739  False     True   True   \n",
       "1  <property object at 0x000001FF10AB4DB0>  0.036429  False    False  False   \n",
       "2  <property object at 0x000001FF10AB4DB0>  0.230739  False    False   True   \n",
       "3  <property object at 0x000001FF10AB4DB0>  0.281195  False    False  False   \n",
       "4  <property object at 0x000001FF10AB4DB0>  0.301253  False    False   True   \n",
       "\n",
       "   barrier                        centroid  ndmc_dist_km  \\\n",
       "0     True  POINT (1020123.175 995898.851)      5.159809   \n",
       "1    False  POINT (1019673.024 994869.699)      6.273149   \n",
       "2     True  POINT (1019485.484 994565.783)      6.618792   \n",
       "3    False  POINT (1019171.868 994576.688)      6.709542   \n",
       "4     True  POINT (1018785.675 994590.275)      6.839299   \n",
       "\n",
       "                                           nbrs_bbox  \\\n",
       "0  [5598, 5599, 5602, 5603, 3508, 3776, 4011, 349...   \n",
       "1  [5594, 4336, 2679, 1256, 4373, 5585, 1697, 180...   \n",
       "2                           [5594, 5587, 5585, 5596]   \n",
       "3                                       [5596, 5587]   \n",
       "4                           [5621, 5587, 5620, 5596]   \n",
       "\n",
       "                                      nbrs_dist_bbox  \n",
       "0  [(5598, 1.074790368771482), (5599, 1.015506410...  \n",
       "1  [(5594, 0.6299162683011635), (4336, 14.7374799...  \n",
       "2  [(5594, 0.4532645992822079), (5587, 0.31380549...  \n",
       "3          [(5596, 0.5564745103109905), (5587, 0.0)]  \n",
       "4  [(5621, 0.5779093230804585), (5587, 0.38643264...  "
      ]
     },
     "execution_count": 91,
     "metadata": {},
     "output_type": "execute_result"
    }
   ],
   "source": [
    "colonies_bbox_nbrs = spatial_index_utils.calc_nbr_dist(polygon_gdf=colonies_bbox_nbrs,\n",
    "                                  nbr_dist_colname='nbrs_dist_bbox',\n",
    "                                  centroid_colname='centroid',\n",
    "                                  neighbor_colname='nbrs_bbox',\n",
    "                                  neighbor_id_col='USO_AREA_U')\n",
    "\n",
    "colonies_bbox_nbrs.head()"
   ]
  },
  {
   "cell_type": "markdown",
   "metadata": {},
   "source": [
    "## Create index column"
   ]
  },
  {
   "cell_type": "code",
   "execution_count": 92,
   "metadata": {},
   "outputs": [],
   "source": [
    "colonies_bbox_nbrs['index'] = colonies_bbox_nbrs.index"
   ]
  },
  {
   "cell_type": "code",
   "execution_count": 94,
   "metadata": {},
   "outputs": [
    {
     "data": {
      "text/html": [
       "<div>\n",
       "<style scoped>\n",
       "    .dataframe tbody tr th:only-of-type {\n",
       "        vertical-align: middle;\n",
       "    }\n",
       "\n",
       "    .dataframe tbody tr th {\n",
       "        vertical-align: top;\n",
       "    }\n",
       "\n",
       "    .dataframe thead th {\n",
       "        text-align: right;\n",
       "    }\n",
       "</style>\n",
       "<table border=\"1\" class=\"dataframe\">\n",
       "  <thead>\n",
       "    <tr style=\"text-align: right;\">\n",
       "      <th></th>\n",
       "      <th>AREA</th>\n",
       "      <th>USO_AREA_U</th>\n",
       "      <th>HOUSETAX_C</th>\n",
       "      <th>USO_FINAL</th>\n",
       "      <th>geometry</th>\n",
       "      <th>geom_type</th>\n",
       "      <th>area_km2</th>\n",
       "      <th>canal</th>\n",
       "      <th>railway</th>\n",
       "      <th>drain</th>\n",
       "      <th>barrier</th>\n",
       "      <th>centroid</th>\n",
       "      <th>ndmc_dist_km</th>\n",
       "      <th>nbrs_bbox</th>\n",
       "      <th>nbrs_dist_bbox</th>\n",
       "      <th>index</th>\n",
       "    </tr>\n",
       "  </thead>\n",
       "  <tbody>\n",
       "    <tr>\n",
       "      <th>0</th>\n",
       "      <td>NEW DELHI 36</td>\n",
       "      <td>5584</td>\n",
       "      <td>None</td>\n",
       "      <td>Planned</td>\n",
       "      <td>POLYGON Z ((1020282.788 996796.773 0.000, 1020...</td>\n",
       "      <td>&lt;property object at 0x000001FF10AB4DB0&gt;</td>\n",
       "      <td>1.966739</td>\n",
       "      <td>False</td>\n",
       "      <td>True</td>\n",
       "      <td>True</td>\n",
       "      <td>True</td>\n",
       "      <td>POINT (1020123.175 995898.851)</td>\n",
       "      <td>5.159809</td>\n",
       "      <td>[5598, 5599, 5602, 5603, 3508, 3776, 4011, 349...</td>\n",
       "      <td>[(5598, 1.074790368771482), (5599, 1.015506410...</td>\n",
       "      <td>0</td>\n",
       "    </tr>\n",
       "    <tr>\n",
       "      <th>1</th>\n",
       "      <td>NEW DELHI 35</td>\n",
       "      <td>5585</td>\n",
       "      <td>None</td>\n",
       "      <td>Planned</td>\n",
       "      <td>POLYGON Z ((1019724.475 994932.797 0.000, 1019...</td>\n",
       "      <td>&lt;property object at 0x000001FF10AB4DB0&gt;</td>\n",
       "      <td>0.036429</td>\n",
       "      <td>False</td>\n",
       "      <td>False</td>\n",
       "      <td>False</td>\n",
       "      <td>False</td>\n",
       "      <td>POINT (1019673.024 994869.699)</td>\n",
       "      <td>6.273149</td>\n",
       "      <td>[5594, 4336, 2679, 1256, 4373, 5585, 1697, 180...</td>\n",
       "      <td>[(5594, 0.6299162683011635), (4336, 14.7374799...</td>\n",
       "      <td>1</td>\n",
       "    </tr>\n",
       "    <tr>\n",
       "      <th>2</th>\n",
       "      <td>NEW DELHI 34</td>\n",
       "      <td>5586</td>\n",
       "      <td>None</td>\n",
       "      <td>Planned</td>\n",
       "      <td>POLYGON Z ((1019571.955 994876.019 0.000, 1019...</td>\n",
       "      <td>&lt;property object at 0x000001FF10AB4DB0&gt;</td>\n",
       "      <td>0.230739</td>\n",
       "      <td>False</td>\n",
       "      <td>False</td>\n",
       "      <td>True</td>\n",
       "      <td>True</td>\n",
       "      <td>POINT (1019485.484 994565.783)</td>\n",
       "      <td>6.618792</td>\n",
       "      <td>[5594, 5587, 5585, 5596]</td>\n",
       "      <td>[(5594, 0.4532645992822079), (5587, 0.31380549...</td>\n",
       "      <td>2</td>\n",
       "    </tr>\n",
       "    <tr>\n",
       "      <th>3</th>\n",
       "      <td>NEW DELHI 33</td>\n",
       "      <td>5587</td>\n",
       "      <td>None</td>\n",
       "      <td>Planned</td>\n",
       "      <td>POLYGON Z ((1019352.702 994352.546 0.000, 1019...</td>\n",
       "      <td>&lt;property object at 0x000001FF10AB4DB0&gt;</td>\n",
       "      <td>0.281195</td>\n",
       "      <td>False</td>\n",
       "      <td>False</td>\n",
       "      <td>False</td>\n",
       "      <td>False</td>\n",
       "      <td>POINT (1019171.868 994576.688)</td>\n",
       "      <td>6.709542</td>\n",
       "      <td>[5596, 5587]</td>\n",
       "      <td>[(5596, 0.5564745103109905), (5587, 0.0)]</td>\n",
       "      <td>3</td>\n",
       "    </tr>\n",
       "    <tr>\n",
       "      <th>4</th>\n",
       "      <td>NEW DELHI 32</td>\n",
       "      <td>5588</td>\n",
       "      <td>None</td>\n",
       "      <td>Planned</td>\n",
       "      <td>POLYGON Z ((1018793.292 994224.182 0.000, 1018...</td>\n",
       "      <td>&lt;property object at 0x000001FF10AB4DB0&gt;</td>\n",
       "      <td>0.301253</td>\n",
       "      <td>False</td>\n",
       "      <td>False</td>\n",
       "      <td>True</td>\n",
       "      <td>True</td>\n",
       "      <td>POINT (1018785.675 994590.275)</td>\n",
       "      <td>6.839299</td>\n",
       "      <td>[5621, 5587, 5620, 5596]</td>\n",
       "      <td>[(5621, 0.5779093230804585), (5587, 0.38643264...</td>\n",
       "      <td>4</td>\n",
       "    </tr>\n",
       "  </tbody>\n",
       "</table>\n",
       "</div>"
      ],
      "text/plain": [
       "           AREA  USO_AREA_U HOUSETAX_C USO_FINAL  \\\n",
       "0  NEW DELHI 36        5584       None   Planned   \n",
       "1  NEW DELHI 35        5585       None   Planned   \n",
       "2  NEW DELHI 34        5586       None   Planned   \n",
       "3  NEW DELHI 33        5587       None   Planned   \n",
       "4  NEW DELHI 32        5588       None   Planned   \n",
       "\n",
       "                                            geometry  \\\n",
       "0  POLYGON Z ((1020282.788 996796.773 0.000, 1020...   \n",
       "1  POLYGON Z ((1019724.475 994932.797 0.000, 1019...   \n",
       "2  POLYGON Z ((1019571.955 994876.019 0.000, 1019...   \n",
       "3  POLYGON Z ((1019352.702 994352.546 0.000, 1019...   \n",
       "4  POLYGON Z ((1018793.292 994224.182 0.000, 1018...   \n",
       "\n",
       "                                 geom_type  area_km2  canal  railway  drain  \\\n",
       "0  <property object at 0x000001FF10AB4DB0>  1.966739  False     True   True   \n",
       "1  <property object at 0x000001FF10AB4DB0>  0.036429  False    False  False   \n",
       "2  <property object at 0x000001FF10AB4DB0>  0.230739  False    False   True   \n",
       "3  <property object at 0x000001FF10AB4DB0>  0.281195  False    False  False   \n",
       "4  <property object at 0x000001FF10AB4DB0>  0.301253  False    False   True   \n",
       "\n",
       "   barrier                        centroid  ndmc_dist_km  \\\n",
       "0     True  POINT (1020123.175 995898.851)      5.159809   \n",
       "1    False  POINT (1019673.024 994869.699)      6.273149   \n",
       "2     True  POINT (1019485.484 994565.783)      6.618792   \n",
       "3    False  POINT (1019171.868 994576.688)      6.709542   \n",
       "4     True  POINT (1018785.675 994590.275)      6.839299   \n",
       "\n",
       "                                           nbrs_bbox  \\\n",
       "0  [5598, 5599, 5602, 5603, 3508, 3776, 4011, 349...   \n",
       "1  [5594, 4336, 2679, 1256, 4373, 5585, 1697, 180...   \n",
       "2                           [5594, 5587, 5585, 5596]   \n",
       "3                                       [5596, 5587]   \n",
       "4                           [5621, 5587, 5620, 5596]   \n",
       "\n",
       "                                      nbrs_dist_bbox  index  \n",
       "0  [(5598, 1.074790368771482), (5599, 1.015506410...      0  \n",
       "1  [(5594, 0.6299162683011635), (4336, 14.7374799...      1  \n",
       "2  [(5594, 0.4532645992822079), (5587, 0.31380549...      2  \n",
       "3          [(5596, 0.5564745103109905), (5587, 0.0)]      3  \n",
       "4  [(5621, 0.5779093230804585), (5587, 0.38643264...      4  "
      ]
     },
     "execution_count": 94,
     "metadata": {},
     "output_type": "execute_result"
    }
   ],
   "source": [
    "colonies_bbox_nbrs.head()"
   ]
  },
  {
   "cell_type": "markdown",
   "metadata": {},
   "source": [
    "## Remove extraneous columns (`geom_type`)"
   ]
  },
  {
   "cell_type": "code",
   "execution_count": 95,
   "metadata": {},
   "outputs": [],
   "source": [
    "colonies_bbox_nbrs = colonies_bbox_nbrs.drop(columns=['geom_type']) "
   ]
  },
  {
   "cell_type": "code",
   "execution_count": 96,
   "metadata": {},
   "outputs": [
    {
     "data": {
      "text/html": [
       "<div>\n",
       "<style scoped>\n",
       "    .dataframe tbody tr th:only-of-type {\n",
       "        vertical-align: middle;\n",
       "    }\n",
       "\n",
       "    .dataframe tbody tr th {\n",
       "        vertical-align: top;\n",
       "    }\n",
       "\n",
       "    .dataframe thead th {\n",
       "        text-align: right;\n",
       "    }\n",
       "</style>\n",
       "<table border=\"1\" class=\"dataframe\">\n",
       "  <thead>\n",
       "    <tr style=\"text-align: right;\">\n",
       "      <th></th>\n",
       "      <th>AREA</th>\n",
       "      <th>USO_AREA_U</th>\n",
       "      <th>HOUSETAX_C</th>\n",
       "      <th>USO_FINAL</th>\n",
       "      <th>geometry</th>\n",
       "      <th>area_km2</th>\n",
       "      <th>canal</th>\n",
       "      <th>railway</th>\n",
       "      <th>drain</th>\n",
       "      <th>barrier</th>\n",
       "      <th>centroid</th>\n",
       "      <th>ndmc_dist_km</th>\n",
       "      <th>nbrs_bbox</th>\n",
       "      <th>nbrs_dist_bbox</th>\n",
       "      <th>index</th>\n",
       "    </tr>\n",
       "  </thead>\n",
       "  <tbody>\n",
       "    <tr>\n",
       "      <th>0</th>\n",
       "      <td>NEW DELHI 36</td>\n",
       "      <td>5584</td>\n",
       "      <td>None</td>\n",
       "      <td>Planned</td>\n",
       "      <td>POLYGON Z ((1020282.788 996796.773 0.000, 1020...</td>\n",
       "      <td>1.966739</td>\n",
       "      <td>False</td>\n",
       "      <td>True</td>\n",
       "      <td>True</td>\n",
       "      <td>True</td>\n",
       "      <td>POINT (1020123.175 995898.851)</td>\n",
       "      <td>5.159809</td>\n",
       "      <td>[5598, 5599, 5602, 5603, 3508, 3776, 4011, 349...</td>\n",
       "      <td>[(5598, 1.074790368771482), (5599, 1.015506410...</td>\n",
       "      <td>0</td>\n",
       "    </tr>\n",
       "    <tr>\n",
       "      <th>1</th>\n",
       "      <td>NEW DELHI 35</td>\n",
       "      <td>5585</td>\n",
       "      <td>None</td>\n",
       "      <td>Planned</td>\n",
       "      <td>POLYGON Z ((1019724.475 994932.797 0.000, 1019...</td>\n",
       "      <td>0.036429</td>\n",
       "      <td>False</td>\n",
       "      <td>False</td>\n",
       "      <td>False</td>\n",
       "      <td>False</td>\n",
       "      <td>POINT (1019673.024 994869.699)</td>\n",
       "      <td>6.273149</td>\n",
       "      <td>[5594, 4336, 2679, 1256, 4373, 5585, 1697, 180...</td>\n",
       "      <td>[(5594, 0.6299162683011635), (4336, 14.7374799...</td>\n",
       "      <td>1</td>\n",
       "    </tr>\n",
       "    <tr>\n",
       "      <th>2</th>\n",
       "      <td>NEW DELHI 34</td>\n",
       "      <td>5586</td>\n",
       "      <td>None</td>\n",
       "      <td>Planned</td>\n",
       "      <td>POLYGON Z ((1019571.955 994876.019 0.000, 1019...</td>\n",
       "      <td>0.230739</td>\n",
       "      <td>False</td>\n",
       "      <td>False</td>\n",
       "      <td>True</td>\n",
       "      <td>True</td>\n",
       "      <td>POINT (1019485.484 994565.783)</td>\n",
       "      <td>6.618792</td>\n",
       "      <td>[5594, 5587, 5585, 5596]</td>\n",
       "      <td>[(5594, 0.4532645992822079), (5587, 0.31380549...</td>\n",
       "      <td>2</td>\n",
       "    </tr>\n",
       "    <tr>\n",
       "      <th>3</th>\n",
       "      <td>NEW DELHI 33</td>\n",
       "      <td>5587</td>\n",
       "      <td>None</td>\n",
       "      <td>Planned</td>\n",
       "      <td>POLYGON Z ((1019352.702 994352.546 0.000, 1019...</td>\n",
       "      <td>0.281195</td>\n",
       "      <td>False</td>\n",
       "      <td>False</td>\n",
       "      <td>False</td>\n",
       "      <td>False</td>\n",
       "      <td>POINT (1019171.868 994576.688)</td>\n",
       "      <td>6.709542</td>\n",
       "      <td>[5596, 5587]</td>\n",
       "      <td>[(5596, 0.5564745103109905), (5587, 0.0)]</td>\n",
       "      <td>3</td>\n",
       "    </tr>\n",
       "    <tr>\n",
       "      <th>4</th>\n",
       "      <td>NEW DELHI 32</td>\n",
       "      <td>5588</td>\n",
       "      <td>None</td>\n",
       "      <td>Planned</td>\n",
       "      <td>POLYGON Z ((1018793.292 994224.182 0.000, 1018...</td>\n",
       "      <td>0.301253</td>\n",
       "      <td>False</td>\n",
       "      <td>False</td>\n",
       "      <td>True</td>\n",
       "      <td>True</td>\n",
       "      <td>POINT (1018785.675 994590.275)</td>\n",
       "      <td>6.839299</td>\n",
       "      <td>[5621, 5587, 5620, 5596]</td>\n",
       "      <td>[(5621, 0.5779093230804585), (5587, 0.38643264...</td>\n",
       "      <td>4</td>\n",
       "    </tr>\n",
       "  </tbody>\n",
       "</table>\n",
       "</div>"
      ],
      "text/plain": [
       "           AREA  USO_AREA_U HOUSETAX_C USO_FINAL  \\\n",
       "0  NEW DELHI 36        5584       None   Planned   \n",
       "1  NEW DELHI 35        5585       None   Planned   \n",
       "2  NEW DELHI 34        5586       None   Planned   \n",
       "3  NEW DELHI 33        5587       None   Planned   \n",
       "4  NEW DELHI 32        5588       None   Planned   \n",
       "\n",
       "                                            geometry  area_km2  canal  \\\n",
       "0  POLYGON Z ((1020282.788 996796.773 0.000, 1020...  1.966739  False   \n",
       "1  POLYGON Z ((1019724.475 994932.797 0.000, 1019...  0.036429  False   \n",
       "2  POLYGON Z ((1019571.955 994876.019 0.000, 1019...  0.230739  False   \n",
       "3  POLYGON Z ((1019352.702 994352.546 0.000, 1019...  0.281195  False   \n",
       "4  POLYGON Z ((1018793.292 994224.182 0.000, 1018...  0.301253  False   \n",
       "\n",
       "   railway  drain  barrier                        centroid  ndmc_dist_km  \\\n",
       "0     True   True     True  POINT (1020123.175 995898.851)      5.159809   \n",
       "1    False  False    False  POINT (1019673.024 994869.699)      6.273149   \n",
       "2    False   True     True  POINT (1019485.484 994565.783)      6.618792   \n",
       "3    False  False    False  POINT (1019171.868 994576.688)      6.709542   \n",
       "4    False   True     True  POINT (1018785.675 994590.275)      6.839299   \n",
       "\n",
       "                                           nbrs_bbox  \\\n",
       "0  [5598, 5599, 5602, 5603, 3508, 3776, 4011, 349...   \n",
       "1  [5594, 4336, 2679, 1256, 4373, 5585, 1697, 180...   \n",
       "2                           [5594, 5587, 5585, 5596]   \n",
       "3                                       [5596, 5587]   \n",
       "4                           [5621, 5587, 5620, 5596]   \n",
       "\n",
       "                                      nbrs_dist_bbox  index  \n",
       "0  [(5598, 1.074790368771482), (5599, 1.015506410...      0  \n",
       "1  [(5594, 0.6299162683011635), (4336, 14.7374799...      1  \n",
       "2  [(5594, 0.4532645992822079), (5587, 0.31380549...      2  \n",
       "3          [(5596, 0.5564745103109905), (5587, 0.0)]      3  \n",
       "4  [(5621, 0.5779093230804585), (5587, 0.38643264...      4  "
      ]
     },
     "execution_count": 96,
     "metadata": {},
     "output_type": "execute_result"
    }
   ],
   "source": [
    "colonies_bbox_nbrs.head()"
   ]
  },
  {
   "cell_type": "markdown",
   "metadata": {},
   "source": [
    "## Save colonies file for Spatial Index"
   ]
  },
  {
   "cell_type": "code",
   "execution_count": 97,
   "metadata": {},
   "outputs": [],
   "source": [
    "with open('colonies_bbox_nbrs29Aug2021.pkl', 'wb') as f:\n",
    "    pickle.dump(colonies_bbox_nbrs, f)"
   ]
  }
 ],
 "metadata": {
  "kernelspec": {
   "display_name": "Python 3",
   "language": "python",
   "name": "python3"
  },
  "language_info": {
   "codemirror_mode": {
    "name": "ipython",
    "version": 3
   },
   "file_extension": ".py",
   "mimetype": "text/x-python",
   "name": "python",
   "nbconvert_exporter": "python",
   "pygments_lexer": "ipython3",
   "version": "3.8.10"
  }
 },
 "nbformat": 4,
 "nbformat_minor": 4
}
