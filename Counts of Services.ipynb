{
 "cells": [
  {
   "cell_type": "markdown",
   "metadata": {},
   "source": [
    "# Calculate Descriptive Statistics for Delhi Services"
   ]
  },
  {
   "cell_type": "markdown",
   "metadata": {},
   "source": [
    "## Import modules and set constants"
   ]
  },
  {
   "cell_type": "code",
   "execution_count": 4,
   "metadata": {},
   "outputs": [],
   "source": [
    "import os\n",
    "import pickle\n",
    "from importlib import reload\n",
    "import pandas as pd\n",
    "import geopandas as gpd\n",
    "from shapely.geometry import Polygon, box\n",
    "import spatial_index_utils\n",
    "\n",
    "reload(spatial_index_utils)\n",
    "\n",
    "# WGS 84 / Delhi\n",
    "epsg_code = 7760"
   ]
  },
  {
   "cell_type": "markdown",
   "metadata": {},
   "source": [
    "## Import services shapefiles"
   ]
  },
  {
   "cell_type": "code",
   "execution_count": 5,
   "metadata": {},
   "outputs": [],
   "source": [
    "# Define filepaths\n",
    "\n",
    "services_dir = os.path.join('shapefiles', 'Spatial_Index_GIS', 'Public Services')\n",
    "\n",
    "bank_fp = os.path.join(services_dir, 'Banking', 'Banking.shp')\n",
    "health_fp = os.path.join(services_dir, 'Health', 'Health.shp')\n",
    "road_fp = os.path.join(services_dir, 'Major Road', 'Road.shp')\n",
    "police_fp = os.path.join(services_dir, 'Police', 'Police Station.shp')\n",
    "ration_fp = os.path.join(services_dir, 'Ration', 'Ration.shp')\n",
    "school_fp = os.path.join(services_dir, 'School', 'schools7760.shp')\n",
    "transport_fp = os.path.join(services_dir, 'Transport', 'Transport.shp')\n",
    "\n",
    "# Check that all filepaths exist\n",
    "filepath_list = [bank_fp, health_fp, road_fp, police_fp, ration_fp, school_fp, transport_fp]\n",
    "\n",
    "for filepath in filepath_list:\n",
    "    if not os.path.exists(filepath):\n",
    "        print('{} does not exist'.format(filepath))"
   ]
  },
  {
   "cell_type": "code",
   "execution_count": 6,
   "metadata": {},
   "outputs": [],
   "source": [
    "# Import services\n",
    "bank = gpd.read_file(bank_fp)\n",
    "health = gpd.read_file(health_fp)\n",
    "road = gpd.read_file(road_fp)\n",
    "police = gpd.read_file(police_fp)\n",
    "ration = gpd.read_file(ration_fp)\n",
    "school = gpd.read_file(school_fp)\n",
    "transport = gpd.read_file(transport_fp)"
   ]
  },
  {
   "cell_type": "markdown",
   "metadata": {},
   "source": [
    "No need to check validity of these shapefiles, as this was previously done."
   ]
  },
  {
   "cell_type": "code",
   "execution_count": 8,
   "metadata": {},
   "outputs": [
    {
     "data": {
      "text/plain": [
       "True"
      ]
     },
     "execution_count": 8,
     "metadata": {},
     "output_type": "execute_result"
    }
   ],
   "source": [
    "bank.crs == health.crs == road.crs == police.crs == ration.crs == school.crs == transport.crs"
   ]
  },
  {
   "cell_type": "markdown",
   "metadata": {},
   "source": [
    "## Counts"
   ]
  },
  {
   "cell_type": "code",
   "execution_count": 10,
   "metadata": {},
   "outputs": [
    {
     "data": {
      "text/plain": [
       "10637"
      ]
     },
     "execution_count": 10,
     "metadata": {},
     "output_type": "execute_result"
    }
   ],
   "source": [
    "len(bank)"
   ]
  },
  {
   "cell_type": "code",
   "execution_count": 11,
   "metadata": {},
   "outputs": [
    {
     "data": {
      "text/plain": [
       "331"
      ]
     },
     "execution_count": 11,
     "metadata": {},
     "output_type": "execute_result"
    }
   ],
   "source": [
    "len(health)"
   ]
  },
  {
   "cell_type": "code",
   "execution_count": 14,
   "metadata": {},
   "outputs": [
    {
     "data": {
      "text/plain": [
       "2014"
      ]
     },
     "execution_count": 14,
     "metadata": {},
     "output_type": "execute_result"
    }
   ],
   "source": [
    "len(ration)"
   ]
  },
  {
   "cell_type": "code",
   "execution_count": 15,
   "metadata": {},
   "outputs": [
    {
     "data": {
      "text/plain": [
       "162"
      ]
     },
     "execution_count": 15,
     "metadata": {},
     "output_type": "execute_result"
    }
   ],
   "source": [
    "len(police)"
   ]
  },
  {
   "cell_type": "code",
   "execution_count": 16,
   "metadata": {},
   "outputs": [
    {
     "data": {
      "text/plain": [
       "4349"
      ]
     },
     "execution_count": 16,
     "metadata": {},
     "output_type": "execute_result"
    }
   ],
   "source": [
    "len(transport)"
   ]
  },
  {
   "cell_type": "code",
   "execution_count": 17,
   "metadata": {},
   "outputs": [
    {
     "data": {
      "text/plain": [
       "2821"
      ]
     },
     "execution_count": 17,
     "metadata": {},
     "output_type": "execute_result"
    }
   ],
   "source": [
    "len(school)"
   ]
  },
  {
   "cell_type": "code",
   "execution_count": 18,
   "metadata": {},
   "outputs": [
    {
     "data": {
      "text/html": [
       "<div>\n",
       "<style scoped>\n",
       "    .dataframe tbody tr th:only-of-type {\n",
       "        vertical-align: middle;\n",
       "    }\n",
       "\n",
       "    .dataframe tbody tr th {\n",
       "        vertical-align: top;\n",
       "    }\n",
       "\n",
       "    .dataframe thead th {\n",
       "        text-align: right;\n",
       "    }\n",
       "</style>\n",
       "<table border=\"1\" class=\"dataframe\">\n",
       "  <thead>\n",
       "    <tr style=\"text-align: right;\">\n",
       "      <th></th>\n",
       "      <th>FID</th>\n",
       "      <th>RD_NM</th>\n",
       "      <th>RD_CLS</th>\n",
       "      <th>RD_LANES</th>\n",
       "      <th>RD_TP_SRF</th>\n",
       "      <th>RD_MB</th>\n",
       "      <th>RD_ONEWAY</th>\n",
       "      <th>EL_GND</th>\n",
       "      <th>DIST_NM</th>\n",
       "      <th>ONEWAY</th>\n",
       "      <th>Speed_kmph</th>\n",
       "      <th>geometry</th>\n",
       "    </tr>\n",
       "  </thead>\n",
       "  <tbody>\n",
       "    <tr>\n",
       "      <th>0</th>\n",
       "      <td>0</td>\n",
       "      <td>NOIDA LINK ROAD (DADRI ROAD)</td>\n",
       "      <td>NATIONAL HIGHWAY</td>\n",
       "      <td>6</td>\n",
       "      <td>BLACK TOP</td>\n",
       "      <td>PWD</td>\n",
       "      <td>None</td>\n",
       "      <td>204</td>\n",
       "      <td>EAST</td>\n",
       "      <td>FT</td>\n",
       "      <td>50</td>\n",
       "      <td>LINESTRING (1029515.044 995391.902, 1029514.17...</td>\n",
       "    </tr>\n",
       "    <tr>\n",
       "      <th>1</th>\n",
       "      <td>1</td>\n",
       "      <td>NOIDA LINK ROAD (DADRI ROAD)</td>\n",
       "      <td>NATIONAL HIGHWAY</td>\n",
       "      <td>6</td>\n",
       "      <td>BLACK TOP</td>\n",
       "      <td>PWD</td>\n",
       "      <td>None</td>\n",
       "      <td>204</td>\n",
       "      <td>EAST</td>\n",
       "      <td>FT</td>\n",
       "      <td>50</td>\n",
       "      <td>LINESTRING (1029476.747 995449.214, 1029475.97...</td>\n",
       "    </tr>\n",
       "    <tr>\n",
       "      <th>2</th>\n",
       "      <td>2</td>\n",
       "      <td>NOIDA LINK ROAD (DADRI ROAD)</td>\n",
       "      <td>NATIONAL HIGHWAY</td>\n",
       "      <td>6</td>\n",
       "      <td>BLACK TOP</td>\n",
       "      <td>PWD</td>\n",
       "      <td>None</td>\n",
       "      <td>204</td>\n",
       "      <td>EAST</td>\n",
       "      <td>FT</td>\n",
       "      <td>50</td>\n",
       "      <td>LINESTRING (1029457.796 995477.073, 1029457.63...</td>\n",
       "    </tr>\n",
       "    <tr>\n",
       "      <th>3</th>\n",
       "      <td>3</td>\n",
       "      <td>NOIDA LINK ROAD (DADRI ROAD)</td>\n",
       "      <td>NATIONAL HIGHWAY</td>\n",
       "      <td>6</td>\n",
       "      <td>BLACK TOP</td>\n",
       "      <td>PWD</td>\n",
       "      <td>None</td>\n",
       "      <td>204</td>\n",
       "      <td>EAST</td>\n",
       "      <td>FT</td>\n",
       "      <td>50</td>\n",
       "      <td>LINESTRING (1029453.771 995482.882, 1029452.98...</td>\n",
       "    </tr>\n",
       "    <tr>\n",
       "      <th>4</th>\n",
       "      <td>4</td>\n",
       "      <td>NOIDA LINK ROAD (DADRI ROAD)</td>\n",
       "      <td>NATIONAL HIGHWAY</td>\n",
       "      <td>6</td>\n",
       "      <td>BLACK TOP</td>\n",
       "      <td>PWD</td>\n",
       "      <td>None</td>\n",
       "      <td>204</td>\n",
       "      <td>EAST</td>\n",
       "      <td>FT</td>\n",
       "      <td>50</td>\n",
       "      <td>LINESTRING (1029462.725 995489.465, 1029462.97...</td>\n",
       "    </tr>\n",
       "  </tbody>\n",
       "</table>\n",
       "</div>"
      ],
      "text/plain": [
       "   FID                         RD_NM            RD_CLS  RD_LANES  RD_TP_SRF  \\\n",
       "0    0  NOIDA LINK ROAD (DADRI ROAD)  NATIONAL HIGHWAY         6  BLACK TOP   \n",
       "1    1  NOIDA LINK ROAD (DADRI ROAD)  NATIONAL HIGHWAY         6  BLACK TOP   \n",
       "2    2  NOIDA LINK ROAD (DADRI ROAD)  NATIONAL HIGHWAY         6  BLACK TOP   \n",
       "3    3  NOIDA LINK ROAD (DADRI ROAD)  NATIONAL HIGHWAY         6  BLACK TOP   \n",
       "4    4  NOIDA LINK ROAD (DADRI ROAD)  NATIONAL HIGHWAY         6  BLACK TOP   \n",
       "\n",
       "  RD_MB RD_ONEWAY  EL_GND DIST_NM ONEWAY  Speed_kmph  \\\n",
       "0   PWD      None     204    EAST     FT          50   \n",
       "1   PWD      None     204    EAST     FT          50   \n",
       "2   PWD      None     204    EAST     FT          50   \n",
       "3   PWD      None     204    EAST     FT          50   \n",
       "4   PWD      None     204    EAST     FT          50   \n",
       "\n",
       "                                            geometry  \n",
       "0  LINESTRING (1029515.044 995391.902, 1029514.17...  \n",
       "1  LINESTRING (1029476.747 995449.214, 1029475.97...  \n",
       "2  LINESTRING (1029457.796 995477.073, 1029457.63...  \n",
       "3  LINESTRING (1029453.771 995482.882, 1029452.98...  \n",
       "4  LINESTRING (1029462.725 995489.465, 1029462.97...  "
      ]
     },
     "execution_count": 18,
     "metadata": {},
     "output_type": "execute_result"
    }
   ],
   "source": [
    "road.head()"
   ]
  },
  {
   "cell_type": "code",
   "execution_count": 23,
   "metadata": {},
   "outputs": [
    {
     "data": {
      "text/plain": [
       "2114.099633773766"
      ]
     },
     "execution_count": 23,
     "metadata": {},
     "output_type": "execute_result"
    }
   ],
   "source": [
    "# Calculate total length of roads in kilometers\n",
    "road.length.sum()/1000"
   ]
  }
 ],
 "metadata": {
  "kernelspec": {
   "display_name": "Python 3",
   "language": "python",
   "name": "python3"
  },
  "language_info": {
   "codemirror_mode": {
    "name": "ipython",
    "version": 3
   },
   "file_extension": ".py",
   "mimetype": "text/x-python",
   "name": "python",
   "nbconvert_exporter": "python",
   "pygments_lexer": "ipython3",
   "version": "3.7.7"
  }
 },
 "nbformat": 4,
 "nbformat_minor": 4
}
