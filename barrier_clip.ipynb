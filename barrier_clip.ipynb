{
 "cells": [
  {
   "cell_type": "markdown",
   "metadata": {},
   "source": [
    "# Barrier clip\n",
    "\n",
    "### Add column to colonies GeoDataFrame showing if there is the presence of a barrier or not.\n",
    "\n",
    "Outline of how to implement this:\n",
    "* Import Delhi/NDMC/JJC dataset **[DONE]**\n",
    "* Import barrier clip shapefiles **[DONE]**\n",
    "* Reproject shapefiles to the same CRS **[DONE]**\n",
    "* Check validity - turn into a function (that can be used for other shapefiles)\n",
    "    * Make sure there are no duplicate rows **[DONE]**\n",
    "    * Make sure there are no duplicate geometries **[DONE]**\n",
    "    * Make sure that no row has None in geometry field. **[DONE]**\n",
    "    * Check that barrier clip shapefiles are all (poly)lines. **[DONE]**\n",
    "    * Make sure there are no validity problems. **[DONE]**\n",
    "* Use Spatial Join to create identifier column `barrier`. **[DONE]**\n",
    "    * Create function to do this\n",
    "    * `barrier` column should be boolean (True or False)\n",
    "    * Create intermediate columns 'canal', 'railway', and 'drain'.\n",
    "    * Make 'barrier' as intersection of canal, railway and drain\n",
    "* Export colonies shapefile. **[DONE]**\n",
    "* Open in QGIS and manually inspect features."
   ]
  },
  {
   "cell_type": "code",
   "execution_count": 61,
   "metadata": {},
   "outputs": [],
   "source": [
    "import os\n",
    "from importlib import reload\n",
    "import pandas as pd\n",
    "import geopandas as gpd\n",
    "import shapely\n",
    "import spatial_index_utils"
   ]
  },
  {
   "cell_type": "code",
   "execution_count": 194,
   "metadata": {},
   "outputs": [
    {
     "data": {
      "text/plain": [
       "<module 'spatial_index_utils' from 'C:\\\\Users\\\\bwbel\\\\Google Drive\\\\slum_project\\\\spatial_index_python\\\\spatial_index_utils.py'>"
      ]
     },
     "execution_count": 194,
     "metadata": {},
     "output_type": "execute_result"
    }
   ],
   "source": [
    "reload(spatial_index_utils)"
   ]
  },
  {
   "cell_type": "markdown",
   "metadata": {},
   "source": [
    "### Import Delhi/NDMC/JJC dataset"
   ]
  },
  {
   "cell_type": "code",
   "execution_count": 5,
   "metadata": {},
   "outputs": [],
   "source": [
    "colonies = gpd.read_file('delhi_ndmc_jjc_corrected.shp')"
   ]
  },
  {
   "cell_type": "code",
   "execution_count": 7,
   "metadata": {},
   "outputs": [
    {
     "data": {
      "text/html": [
       "<div>\n",
       "<style scoped>\n",
       "    .dataframe tbody tr th:only-of-type {\n",
       "        vertical-align: middle;\n",
       "    }\n",
       "\n",
       "    .dataframe tbody tr th {\n",
       "        vertical-align: top;\n",
       "    }\n",
       "\n",
       "    .dataframe thead th {\n",
       "        text-align: right;\n",
       "    }\n",
       "</style>\n",
       "<table border=\"1\" class=\"dataframe\">\n",
       "  <thead>\n",
       "    <tr style=\"text-align: right;\">\n",
       "      <th></th>\n",
       "      <th>AREA</th>\n",
       "      <th>USO_AREA_U</th>\n",
       "      <th>HOUSETAX_C</th>\n",
       "      <th>USO_FINAL</th>\n",
       "      <th>geometry</th>\n",
       "    </tr>\n",
       "  </thead>\n",
       "  <tbody>\n",
       "    <tr>\n",
       "      <th>0</th>\n",
       "      <td>Singhola</td>\n",
       "      <td>3058</td>\n",
       "      <td>H</td>\n",
       "      <td>RV</td>\n",
       "      <td>POLYGON Z ((1013763.588 1023721.838 0.000, 101...</td>\n",
       "    </tr>\n",
       "    <tr>\n",
       "      <th>1</th>\n",
       "      <td>Indra Colony (Narela)</td>\n",
       "      <td>1760</td>\n",
       "      <td>G</td>\n",
       "      <td>RUAC</td>\n",
       "      <td>POLYGON Z ((1007997.730 1025421.961 0.000, 100...</td>\n",
       "    </tr>\n",
       "  </tbody>\n",
       "</table>\n",
       "</div>"
      ],
      "text/plain": [
       "                    AREA  USO_AREA_U HOUSETAX_C USO_FINAL  \\\n",
       "0               Singhola        3058          H        RV   \n",
       "1  Indra Colony (Narela)        1760          G      RUAC   \n",
       "\n",
       "                                            geometry  \n",
       "0  POLYGON Z ((1013763.588 1023721.838 0.000, 101...  \n",
       "1  POLYGON Z ((1007997.730 1025421.961 0.000, 100...  "
      ]
     },
     "execution_count": 7,
     "metadata": {},
     "output_type": "execute_result"
    }
   ],
   "source": [
    "colonies.head(2)"
   ]
  },
  {
   "cell_type": "markdown",
   "metadata": {},
   "source": [
    "### Import barrier shapefiles"
   ]
  },
  {
   "cell_type": "code",
   "execution_count": 13,
   "metadata": {},
   "outputs": [
    {
     "name": "stdout",
     "output_type": "stream",
     "text": [
      "canal filepath exists: True\n",
      "drain filepath exists: True\n",
      "railway filepath exists: True\n"
     ]
    }
   ],
   "source": [
    "barrier_clip_dir = 'Barrier_Clip'\n",
    "\n",
    "canal_filepath = os.path.join(barrier_clip_dir, 'Canal', 'Canal.shp')\n",
    "drain_filepath = os.path.join(barrier_clip_dir, 'Drain', 'Major_Drain.shp')\n",
    "railway_filepath = os.path.join(barrier_clip_dir, 'Railway', 'Railway_Line.shp')\n",
    "\n",
    "# Check filepath validity before importing shapefiles\n",
    "print('canal filepath exists:', os.path.exists(canal_filepath))\n",
    "print('drain filepath exists:', os.path.exists(drain_filepath))\n",
    "print('railway filepath exists:', os.path.exists(railway_filepath))"
   ]
  },
  {
   "cell_type": "code",
   "execution_count": 14,
   "metadata": {},
   "outputs": [],
   "source": [
    "canal = gpd.read_file(canal_filepath)\n",
    "drain = gpd.read_file(drain_filepath)\n",
    "railway = gpd.read_file(railway_filepath)"
   ]
  },
  {
   "cell_type": "code",
   "execution_count": 15,
   "metadata": {},
   "outputs": [
    {
     "data": {
      "text/html": [
       "<div>\n",
       "<style scoped>\n",
       "    .dataframe tbody tr th:only-of-type {\n",
       "        vertical-align: middle;\n",
       "    }\n",
       "\n",
       "    .dataframe tbody tr th {\n",
       "        vertical-align: top;\n",
       "    }\n",
       "\n",
       "    .dataframe thead th {\n",
       "        text-align: right;\n",
       "    }\n",
       "</style>\n",
       "<table border=\"1\" class=\"dataframe\">\n",
       "  <thead>\n",
       "    <tr style=\"text-align: right;\">\n",
       "      <th></th>\n",
       "      <th>FID</th>\n",
       "      <th>CAN_NM</th>\n",
       "      <th>CAN_CLSF</th>\n",
       "      <th>EL_GND</th>\n",
       "      <th>DIST_NM</th>\n",
       "      <th>geometry</th>\n",
       "    </tr>\n",
       "  </thead>\n",
       "  <tbody>\n",
       "    <tr>\n",
       "      <th>0</th>\n",
       "      <td>0</td>\n",
       "      <td>WESTERN YAMUNA CANAL</td>\n",
       "      <td>None</td>\n",
       "      <td>216.682</td>\n",
       "      <td>None</td>\n",
       "      <td>LINESTRING (77.15632 28.70021, 77.15519 28.70205)</td>\n",
       "    </tr>\n",
       "    <tr>\n",
       "      <th>1</th>\n",
       "      <td>1</td>\n",
       "      <td>WESTERN YAMUNA CANAL</td>\n",
       "      <td>None</td>\n",
       "      <td>221.601</td>\n",
       "      <td>None</td>\n",
       "      <td>LINESTRING (77.15714 28.69886, 77.15632 28.70021)</td>\n",
       "    </tr>\n",
       "  </tbody>\n",
       "</table>\n",
       "</div>"
      ],
      "text/plain": [
       "   FID                CAN_NM CAN_CLSF   EL_GND DIST_NM  \\\n",
       "0    0  WESTERN YAMUNA CANAL     None  216.682    None   \n",
       "1    1  WESTERN YAMUNA CANAL     None  221.601    None   \n",
       "\n",
       "                                            geometry  \n",
       "0  LINESTRING (77.15632 28.70021, 77.15519 28.70205)  \n",
       "1  LINESTRING (77.15714 28.69886, 77.15632 28.70021)  "
      ]
     },
     "execution_count": 15,
     "metadata": {},
     "output_type": "execute_result"
    }
   ],
   "source": [
    "canal.head(2)"
   ]
  },
  {
   "cell_type": "code",
   "execution_count": 16,
   "metadata": {},
   "outputs": [
    {
     "data": {
      "text/html": [
       "<div>\n",
       "<style scoped>\n",
       "    .dataframe tbody tr th:only-of-type {\n",
       "        vertical-align: middle;\n",
       "    }\n",
       "\n",
       "    .dataframe tbody tr th {\n",
       "        vertical-align: top;\n",
       "    }\n",
       "\n",
       "    .dataframe thead th {\n",
       "        text-align: right;\n",
       "    }\n",
       "</style>\n",
       "<table border=\"1\" class=\"dataframe\">\n",
       "  <thead>\n",
       "    <tr style=\"text-align: right;\">\n",
       "      <th></th>\n",
       "      <th>FID</th>\n",
       "      <th>Drain_type</th>\n",
       "      <th>Drain_Name</th>\n",
       "      <th>MAINTAINED</th>\n",
       "      <th>AC_NAME</th>\n",
       "      <th>DISTRICT</th>\n",
       "      <th>geometry</th>\n",
       "    </tr>\n",
       "  </thead>\n",
       "  <tbody>\n",
       "    <tr>\n",
       "      <th>0</th>\n",
       "      <td>0</td>\n",
       "      <td>None</td>\n",
       "      <td>Asola Drain</td>\n",
       "      <td>None</td>\n",
       "      <td>CHHATARPUR</td>\n",
       "      <td>SOUTH</td>\n",
       "      <td>LINESTRING (77.19468 28.44483, 77.19467 28.445...</td>\n",
       "    </tr>\n",
       "    <tr>\n",
       "      <th>1</th>\n",
       "      <td>1</td>\n",
       "      <td>None</td>\n",
       "      <td>Asola Drain</td>\n",
       "      <td>None</td>\n",
       "      <td>CHHATARPUR</td>\n",
       "      <td>SOUTH</td>\n",
       "      <td>MULTILINESTRING ((77.18090 28.45571, 77.18086 ...</td>\n",
       "    </tr>\n",
       "  </tbody>\n",
       "</table>\n",
       "</div>"
      ],
      "text/plain": [
       "   FID Drain_type   Drain_Name MAINTAINED     AC_NAME DISTRICT  \\\n",
       "0    0       None  Asola Drain       None  CHHATARPUR    SOUTH   \n",
       "1    1       None  Asola Drain       None  CHHATARPUR    SOUTH   \n",
       "\n",
       "                                            geometry  \n",
       "0  LINESTRING (77.19468 28.44483, 77.19467 28.445...  \n",
       "1  MULTILINESTRING ((77.18090 28.45571, 77.18086 ...  "
      ]
     },
     "execution_count": 16,
     "metadata": {},
     "output_type": "execute_result"
    }
   ],
   "source": [
    "drain.head(2)"
   ]
  },
  {
   "cell_type": "code",
   "execution_count": 17,
   "metadata": {},
   "outputs": [
    {
     "data": {
      "text/html": [
       "<div>\n",
       "<style scoped>\n",
       "    .dataframe tbody tr th:only-of-type {\n",
       "        vertical-align: middle;\n",
       "    }\n",
       "\n",
       "    .dataframe tbody tr th {\n",
       "        vertical-align: top;\n",
       "    }\n",
       "\n",
       "    .dataframe thead th {\n",
       "        text-align: right;\n",
       "    }\n",
       "</style>\n",
       "<table border=\"1\" class=\"dataframe\">\n",
       "  <thead>\n",
       "    <tr style=\"text-align: right;\">\n",
       "      <th></th>\n",
       "      <th>FID</th>\n",
       "      <th>RL_ZONE</th>\n",
       "      <th>geometry</th>\n",
       "    </tr>\n",
       "  </thead>\n",
       "  <tbody>\n",
       "    <tr>\n",
       "      <th>0</th>\n",
       "      <td>0</td>\n",
       "      <td>NORTHERN RAILWAY</td>\n",
       "      <td>LINESTRING (77.25315 28.63192, 77.25308 28.631...</td>\n",
       "    </tr>\n",
       "    <tr>\n",
       "      <th>1</th>\n",
       "      <td>1</td>\n",
       "      <td>NORTHERN RAILWAY</td>\n",
       "      <td>LINESTRING (77.25309 28.63194, 77.25302 28.63181)</td>\n",
       "    </tr>\n",
       "  </tbody>\n",
       "</table>\n",
       "</div>"
      ],
      "text/plain": [
       "   FID           RL_ZONE                                           geometry\n",
       "0    0  NORTHERN RAILWAY  LINESTRING (77.25315 28.63192, 77.25308 28.631...\n",
       "1    1  NORTHERN RAILWAY  LINESTRING (77.25309 28.63194, 77.25302 28.63181)"
      ]
     },
     "execution_count": 17,
     "metadata": {},
     "output_type": "execute_result"
    }
   ],
   "source": [
    "railway.head(2)"
   ]
  },
  {
   "cell_type": "markdown",
   "metadata": {},
   "source": [
    "### Reproject shapefiles to EPSG:3857"
   ]
  },
  {
   "cell_type": "code",
   "execution_count": 18,
   "metadata": {},
   "outputs": [
    {
     "data": {
      "text/plain": [
       "\u001b[1;31mSignature:\u001b[0m \u001b[0mspatial_index_utils\u001b[0m\u001b[1;33m.\u001b[0m\u001b[0mreproject_gdf\u001b[0m\u001b[1;33m(\u001b[0m\u001b[0mgdf\u001b[0m\u001b[1;33m,\u001b[0m \u001b[0mepsg_code\u001b[0m\u001b[1;33m)\u001b[0m\u001b[1;33m\u001b[0m\u001b[1;33m\u001b[0m\u001b[0m\n",
       "\u001b[1;31mDocstring:\u001b[0m\n",
       "Reprojects GeoDataFrame to CRS with EPSG code\n",
       "\n",
       "Assigns WKT format of projection to EPSG code to GeoDataFrame.\n",
       "\n",
       "Args:\n",
       "gdf: GeoDataFrame with any geometry (e.g., Point, Line, Polygon)\n",
       "epsg_code: EPSG code (integer)\n",
       "\n",
       "Returns:\n",
       "    GeoDataFrame reprojected to new crs (based on EPSG code).\n",
       "\u001b[1;31mFile:\u001b[0m      c:\\users\\bwbel\\google drive\\slum_project\\spatial_index_python\\spatial_index_utils.py\n",
       "\u001b[1;31mType:\u001b[0m      function\n"
      ]
     },
     "metadata": {},
     "output_type": "display_data"
    }
   ],
   "source": [
    "colonies = spatial_index_utils.reproject_gdf?"
   ]
  },
  {
   "cell_type": "code",
   "execution_count": 19,
   "metadata": {},
   "outputs": [
    {
     "name": "stdout",
     "output_type": "stream",
     "text": [
      "GeoDataFrame now has the following CRS:\n",
      "\n",
      "PROJCRS[\"WGS 84 / Pseudo-Mercator\",BASEGEOGCRS[\"WGS 84\",DATUM[\"World Geodetic System 1984\",ELLIPSOID[\"WGS 84\",6378137,298.257223563,LENGTHUNIT[\"metre\",1]]],PRIMEM[\"Greenwich\",0,ANGLEUNIT[\"degree\",0.0174532925199433]],ID[\"EPSG\",4326]],CONVERSION[\"Popular Visualisation Pseudo-Mercator\",METHOD[\"Popular Visualisation Pseudo Mercator\",ID[\"EPSG\",1024]],PARAMETER[\"Latitude of natural origin\",0,ANGLEUNIT[\"degree\",0.0174532925199433],ID[\"EPSG\",8801]],PARAMETER[\"Longitude of natural origin\",0,ANGLEUNIT[\"degree\",0.0174532925199433],ID[\"EPSG\",8802]],PARAMETER[\"False easting\",0,LENGTHUNIT[\"metre\",1],ID[\"EPSG\",8806]],PARAMETER[\"False northing\",0,LENGTHUNIT[\"metre\",1],ID[\"EPSG\",8807]]],CS[Cartesian,2],AXIS[\"easting (X)\",east,ORDER[1],LENGTHUNIT[\"metre\",1]],AXIS[\"northing (Y)\",north,ORDER[2],LENGTHUNIT[\"metre\",1]],USAGE[SCOPE[\"unknown\"],AREA[\"World - 85°S to 85°N\"],BBOX[-85.06,-180,85.06,180]],ID[\"EPSG\",3857]]\n"
     ]
    }
   ],
   "source": [
    "colonies = spatial_index_utils.reproject_gdf(gdf=colonies, epsg_code=3857)"
   ]
  },
  {
   "cell_type": "code",
   "execution_count": 20,
   "metadata": {},
   "outputs": [
    {
     "name": "stdout",
     "output_type": "stream",
     "text": [
      "GeoDataFrame now has the following CRS:\n",
      "\n",
      "PROJCRS[\"WGS 84 / Pseudo-Mercator\",BASEGEOGCRS[\"WGS 84\",DATUM[\"World Geodetic System 1984\",ELLIPSOID[\"WGS 84\",6378137,298.257223563,LENGTHUNIT[\"metre\",1]]],PRIMEM[\"Greenwich\",0,ANGLEUNIT[\"degree\",0.0174532925199433]],ID[\"EPSG\",4326]],CONVERSION[\"Popular Visualisation Pseudo-Mercator\",METHOD[\"Popular Visualisation Pseudo Mercator\",ID[\"EPSG\",1024]],PARAMETER[\"Latitude of natural origin\",0,ANGLEUNIT[\"degree\",0.0174532925199433],ID[\"EPSG\",8801]],PARAMETER[\"Longitude of natural origin\",0,ANGLEUNIT[\"degree\",0.0174532925199433],ID[\"EPSG\",8802]],PARAMETER[\"False easting\",0,LENGTHUNIT[\"metre\",1],ID[\"EPSG\",8806]],PARAMETER[\"False northing\",0,LENGTHUNIT[\"metre\",1],ID[\"EPSG\",8807]]],CS[Cartesian,2],AXIS[\"easting (X)\",east,ORDER[1],LENGTHUNIT[\"metre\",1]],AXIS[\"northing (Y)\",north,ORDER[2],LENGTHUNIT[\"metre\",1]],USAGE[SCOPE[\"unknown\"],AREA[\"World - 85°S to 85°N\"],BBOX[-85.06,-180,85.06,180]],ID[\"EPSG\",3857]]\n"
     ]
    }
   ],
   "source": [
    "canal = spatial_index_utils.reproject_gdf(gdf=canal, epsg_code=3857)"
   ]
  },
  {
   "cell_type": "code",
   "execution_count": 21,
   "metadata": {},
   "outputs": [
    {
     "name": "stdout",
     "output_type": "stream",
     "text": [
      "GeoDataFrame now has the following CRS:\n",
      "\n",
      "PROJCRS[\"WGS 84 / Pseudo-Mercator\",BASEGEOGCRS[\"WGS 84\",DATUM[\"World Geodetic System 1984\",ELLIPSOID[\"WGS 84\",6378137,298.257223563,LENGTHUNIT[\"metre\",1]]],PRIMEM[\"Greenwich\",0,ANGLEUNIT[\"degree\",0.0174532925199433]],ID[\"EPSG\",4326]],CONVERSION[\"Popular Visualisation Pseudo-Mercator\",METHOD[\"Popular Visualisation Pseudo Mercator\",ID[\"EPSG\",1024]],PARAMETER[\"Latitude of natural origin\",0,ANGLEUNIT[\"degree\",0.0174532925199433],ID[\"EPSG\",8801]],PARAMETER[\"Longitude of natural origin\",0,ANGLEUNIT[\"degree\",0.0174532925199433],ID[\"EPSG\",8802]],PARAMETER[\"False easting\",0,LENGTHUNIT[\"metre\",1],ID[\"EPSG\",8806]],PARAMETER[\"False northing\",0,LENGTHUNIT[\"metre\",1],ID[\"EPSG\",8807]]],CS[Cartesian,2],AXIS[\"easting (X)\",east,ORDER[1],LENGTHUNIT[\"metre\",1]],AXIS[\"northing (Y)\",north,ORDER[2],LENGTHUNIT[\"metre\",1]],USAGE[SCOPE[\"unknown\"],AREA[\"World - 85°S to 85°N\"],BBOX[-85.06,-180,85.06,180]],ID[\"EPSG\",3857]]\n"
     ]
    }
   ],
   "source": [
    "drain = spatial_index_utils.reproject_gdf(gdf=drain, epsg_code=3857)"
   ]
  },
  {
   "cell_type": "code",
   "execution_count": 22,
   "metadata": {},
   "outputs": [
    {
     "name": "stdout",
     "output_type": "stream",
     "text": [
      "GeoDataFrame now has the following CRS:\n",
      "\n",
      "PROJCRS[\"WGS 84 / Pseudo-Mercator\",BASEGEOGCRS[\"WGS 84\",DATUM[\"World Geodetic System 1984\",ELLIPSOID[\"WGS 84\",6378137,298.257223563,LENGTHUNIT[\"metre\",1]]],PRIMEM[\"Greenwich\",0,ANGLEUNIT[\"degree\",0.0174532925199433]],ID[\"EPSG\",4326]],CONVERSION[\"Popular Visualisation Pseudo-Mercator\",METHOD[\"Popular Visualisation Pseudo Mercator\",ID[\"EPSG\",1024]],PARAMETER[\"Latitude of natural origin\",0,ANGLEUNIT[\"degree\",0.0174532925199433],ID[\"EPSG\",8801]],PARAMETER[\"Longitude of natural origin\",0,ANGLEUNIT[\"degree\",0.0174532925199433],ID[\"EPSG\",8802]],PARAMETER[\"False easting\",0,LENGTHUNIT[\"metre\",1],ID[\"EPSG\",8806]],PARAMETER[\"False northing\",0,LENGTHUNIT[\"metre\",1],ID[\"EPSG\",8807]]],CS[Cartesian,2],AXIS[\"easting (X)\",east,ORDER[1],LENGTHUNIT[\"metre\",1]],AXIS[\"northing (Y)\",north,ORDER[2],LENGTHUNIT[\"metre\",1]],USAGE[SCOPE[\"unknown\"],AREA[\"World - 85°S to 85°N\"],BBOX[-85.06,-180,85.06,180]],ID[\"EPSG\",3857]]\n"
     ]
    }
   ],
   "source": [
    "railway = spatial_index_utils.reproject_gdf(gdf=railway, epsg_code=3857)"
   ]
  },
  {
   "cell_type": "markdown",
   "metadata": {},
   "source": [
    "### Check validity of shapefiles (and correct)"
   ]
  },
  {
   "cell_type": "markdown",
   "metadata": {},
   "source": [
    "#### First, check for duplicate rows"
   ]
  },
  {
   "cell_type": "code",
   "execution_count": 30,
   "metadata": {},
   "outputs": [],
   "source": [
    "gdf_list = {'colonies': colonies, 'canal': canal, 'drain': drain, 'railway': railway}"
   ]
  },
  {
   "cell_type": "code",
   "execution_count": 33,
   "metadata": {},
   "outputs": [
    {
     "name": "stdout",
     "output_type": "stream",
     "text": [
      "colonies has duplicate rows: False\n",
      "canal has duplicate rows: False\n",
      "drain has duplicate rows: False\n",
      "railway has duplicate rows: False\n"
     ]
    }
   ],
   "source": [
    "for gdf in gdf_list:\n",
    "    print(gdf, 'has duplicate rows:', spatial_index_utils.gdf_has_duplicate_rows(gdf_list[gdf]))"
   ]
  },
  {
   "cell_type": "markdown",
   "metadata": {},
   "source": [
    "#### Second, correct any duplicate geometries"
   ]
  },
  {
   "cell_type": "code",
   "execution_count": 36,
   "metadata": {},
   "outputs": [
    {
     "data": {
      "text/plain": [
       "2811"
      ]
     },
     "execution_count": 36,
     "metadata": {},
     "output_type": "execute_result"
    }
   ],
   "source": [
    "len(colonies)"
   ]
  },
  {
   "cell_type": "code",
   "execution_count": 37,
   "metadata": {},
   "outputs": [],
   "source": [
    "colonies = spatial_index_utils.remove_duplicate_geom(colonies)"
   ]
  },
  {
   "cell_type": "code",
   "execution_count": 38,
   "metadata": {},
   "outputs": [
    {
     "data": {
      "text/plain": [
       "2808"
      ]
     },
     "execution_count": 38,
     "metadata": {},
     "output_type": "execute_result"
    }
   ],
   "source": [
    "len(colonies) # after removing duplicate geometries"
   ]
  },
  {
   "cell_type": "code",
   "execution_count": 39,
   "metadata": {},
   "outputs": [
    {
     "data": {
      "text/plain": [
       "45"
      ]
     },
     "execution_count": 39,
     "metadata": {},
     "output_type": "execute_result"
    }
   ],
   "source": [
    "len(canal)"
   ]
  },
  {
   "cell_type": "code",
   "execution_count": 40,
   "metadata": {},
   "outputs": [],
   "source": [
    "canal = spatial_index_utils.remove_duplicate_geom(canal)"
   ]
  },
  {
   "cell_type": "code",
   "execution_count": 41,
   "metadata": {},
   "outputs": [
    {
     "data": {
      "text/plain": [
       "45"
      ]
     },
     "execution_count": 41,
     "metadata": {},
     "output_type": "execute_result"
    }
   ],
   "source": [
    "len(canal)"
   ]
  },
  {
   "cell_type": "code",
   "execution_count": 42,
   "metadata": {},
   "outputs": [
    {
     "data": {
      "text/plain": [
       "616"
      ]
     },
     "execution_count": 42,
     "metadata": {},
     "output_type": "execute_result"
    }
   ],
   "source": [
    "len(drain)"
   ]
  },
  {
   "cell_type": "code",
   "execution_count": 43,
   "metadata": {},
   "outputs": [],
   "source": [
    "drain = spatial_index_utils.remove_duplicate_geom(drain)"
   ]
  },
  {
   "cell_type": "code",
   "execution_count": 44,
   "metadata": {},
   "outputs": [
    {
     "data": {
      "text/plain": [
       "616"
      ]
     },
     "execution_count": 44,
     "metadata": {},
     "output_type": "execute_result"
    }
   ],
   "source": [
    "len(drain)"
   ]
  },
  {
   "cell_type": "code",
   "execution_count": 45,
   "metadata": {},
   "outputs": [
    {
     "data": {
      "text/plain": [
       "5414"
      ]
     },
     "execution_count": 45,
     "metadata": {},
     "output_type": "execute_result"
    }
   ],
   "source": [
    "len(railway)"
   ]
  },
  {
   "cell_type": "code",
   "execution_count": 46,
   "metadata": {},
   "outputs": [],
   "source": [
    "railway = spatial_index_utils.remove_duplicate_geom(railway)"
   ]
  },
  {
   "cell_type": "code",
   "execution_count": 47,
   "metadata": {},
   "outputs": [
    {
     "data": {
      "text/plain": [
       "5414"
      ]
     },
     "execution_count": 47,
     "metadata": {},
     "output_type": "execute_result"
    }
   ],
   "source": [
    "len(railway)"
   ]
  },
  {
   "cell_type": "markdown",
   "metadata": {},
   "source": [
    "#### Third, make sure no row has None in Geometry Field"
   ]
  },
  {
   "cell_type": "code",
   "execution_count": 48,
   "metadata": {},
   "outputs": [
    {
     "data": {
      "text/html": [
       "<div>\n",
       "<style scoped>\n",
       "    .dataframe tbody tr th:only-of-type {\n",
       "        vertical-align: middle;\n",
       "    }\n",
       "\n",
       "    .dataframe tbody tr th {\n",
       "        vertical-align: top;\n",
       "    }\n",
       "\n",
       "    .dataframe thead th {\n",
       "        text-align: right;\n",
       "    }\n",
       "</style>\n",
       "<table border=\"1\" class=\"dataframe\">\n",
       "  <thead>\n",
       "    <tr style=\"text-align: right;\">\n",
       "      <th></th>\n",
       "      <th>index</th>\n",
       "      <th>AREA</th>\n",
       "      <th>USO_AREA_U</th>\n",
       "      <th>HOUSETAX_C</th>\n",
       "      <th>USO_FINAL</th>\n",
       "      <th>geometry</th>\n",
       "    </tr>\n",
       "  </thead>\n",
       "  <tbody>\n",
       "  </tbody>\n",
       "</table>\n",
       "</div>"
      ],
      "text/plain": [
       "Empty GeoDataFrame\n",
       "Columns: [index, AREA, USO_AREA_U, HOUSETAX_C, USO_FINAL, geometry]\n",
       "Index: []"
      ]
     },
     "execution_count": 48,
     "metadata": {},
     "output_type": "execute_result"
    }
   ],
   "source": [
    "colonies[colonies['geometry'] == None]"
   ]
  },
  {
   "cell_type": "code",
   "execution_count": 49,
   "metadata": {},
   "outputs": [
    {
     "data": {
      "text/html": [
       "<div>\n",
       "<style scoped>\n",
       "    .dataframe tbody tr th:only-of-type {\n",
       "        vertical-align: middle;\n",
       "    }\n",
       "\n",
       "    .dataframe tbody tr th {\n",
       "        vertical-align: top;\n",
       "    }\n",
       "\n",
       "    .dataframe thead th {\n",
       "        text-align: right;\n",
       "    }\n",
       "</style>\n",
       "<table border=\"1\" class=\"dataframe\">\n",
       "  <thead>\n",
       "    <tr style=\"text-align: right;\">\n",
       "      <th></th>\n",
       "      <th>index</th>\n",
       "      <th>FID</th>\n",
       "      <th>CAN_NM</th>\n",
       "      <th>CAN_CLSF</th>\n",
       "      <th>EL_GND</th>\n",
       "      <th>DIST_NM</th>\n",
       "      <th>geometry</th>\n",
       "    </tr>\n",
       "  </thead>\n",
       "  <tbody>\n",
       "  </tbody>\n",
       "</table>\n",
       "</div>"
      ],
      "text/plain": [
       "Empty GeoDataFrame\n",
       "Columns: [index, FID, CAN_NM, CAN_CLSF, EL_GND, DIST_NM, geometry]\n",
       "Index: []"
      ]
     },
     "execution_count": 49,
     "metadata": {},
     "output_type": "execute_result"
    }
   ],
   "source": [
    "canal[canal['geometry'] == None]"
   ]
  },
  {
   "cell_type": "code",
   "execution_count": 50,
   "metadata": {},
   "outputs": [
    {
     "data": {
      "text/html": [
       "<div>\n",
       "<style scoped>\n",
       "    .dataframe tbody tr th:only-of-type {\n",
       "        vertical-align: middle;\n",
       "    }\n",
       "\n",
       "    .dataframe tbody tr th {\n",
       "        vertical-align: top;\n",
       "    }\n",
       "\n",
       "    .dataframe thead th {\n",
       "        text-align: right;\n",
       "    }\n",
       "</style>\n",
       "<table border=\"1\" class=\"dataframe\">\n",
       "  <thead>\n",
       "    <tr style=\"text-align: right;\">\n",
       "      <th></th>\n",
       "      <th>index</th>\n",
       "      <th>FID</th>\n",
       "      <th>Drain_type</th>\n",
       "      <th>Drain_Name</th>\n",
       "      <th>MAINTAINED</th>\n",
       "      <th>AC_NAME</th>\n",
       "      <th>DISTRICT</th>\n",
       "      <th>geometry</th>\n",
       "    </tr>\n",
       "  </thead>\n",
       "  <tbody>\n",
       "  </tbody>\n",
       "</table>\n",
       "</div>"
      ],
      "text/plain": [
       "Empty GeoDataFrame\n",
       "Columns: [index, FID, Drain_type, Drain_Name, MAINTAINED, AC_NAME, DISTRICT, geometry]\n",
       "Index: []"
      ]
     },
     "execution_count": 50,
     "metadata": {},
     "output_type": "execute_result"
    }
   ],
   "source": [
    "drain[drain['geometry'] == None]"
   ]
  },
  {
   "cell_type": "code",
   "execution_count": 51,
   "metadata": {},
   "outputs": [
    {
     "data": {
      "text/html": [
       "<div>\n",
       "<style scoped>\n",
       "    .dataframe tbody tr th:only-of-type {\n",
       "        vertical-align: middle;\n",
       "    }\n",
       "\n",
       "    .dataframe tbody tr th {\n",
       "        vertical-align: top;\n",
       "    }\n",
       "\n",
       "    .dataframe thead th {\n",
       "        text-align: right;\n",
       "    }\n",
       "</style>\n",
       "<table border=\"1\" class=\"dataframe\">\n",
       "  <thead>\n",
       "    <tr style=\"text-align: right;\">\n",
       "      <th></th>\n",
       "      <th>index</th>\n",
       "      <th>FID</th>\n",
       "      <th>RL_ZONE</th>\n",
       "      <th>geometry</th>\n",
       "    </tr>\n",
       "  </thead>\n",
       "  <tbody>\n",
       "  </tbody>\n",
       "</table>\n",
       "</div>"
      ],
      "text/plain": [
       "Empty GeoDataFrame\n",
       "Columns: [index, FID, RL_ZONE, geometry]\n",
       "Index: []"
      ]
     },
     "execution_count": 51,
     "metadata": {},
     "output_type": "execute_result"
    }
   ],
   "source": [
    "railway[railway['geometry'] == None]"
   ]
  },
  {
   "cell_type": "markdown",
   "metadata": {},
   "source": [
    "#### Fourth, check that barrier clip shapefiles are all (poly)lines."
   ]
  },
  {
   "cell_type": "code",
   "execution_count": 57,
   "metadata": {},
   "outputs": [
    {
     "name": "stdout",
     "output_type": "stream",
     "text": [
      "colonies has all geometries of type Line : False\n",
      "canal has all geometries of type Line : True\n",
      "drain has all geometries of type Line : True\n",
      "railway has all geometries of type Line : True\n"
     ]
    }
   ],
   "source": [
    "geom_type = \"Line\"\n",
    "for gdf in gdf_list:\n",
    "    print(gdf, 'has all geometries of type', geom_type, \":\",\n",
    "          spatial_index_utils.check_geometries(gdf_list[gdf], geom_type))"
   ]
  },
  {
   "cell_type": "markdown",
   "metadata": {},
   "source": [
    "#### Fifth, ensure no validity problems\n",
    "* Canal has problems with rows 17 and 18.\n",
    "* Railway has problems in multiple places"
   ]
  },
  {
   "cell_type": "code",
   "execution_count": 58,
   "metadata": {},
   "outputs": [
    {
     "data": {
      "text/html": [
       "<div>\n",
       "<style scoped>\n",
       "    .dataframe tbody tr th:only-of-type {\n",
       "        vertical-align: middle;\n",
       "    }\n",
       "\n",
       "    .dataframe tbody tr th {\n",
       "        vertical-align: top;\n",
       "    }\n",
       "\n",
       "    .dataframe thead th {\n",
       "        text-align: right;\n",
       "    }\n",
       "</style>\n",
       "<table border=\"1\" class=\"dataframe\">\n",
       "  <thead>\n",
       "    <tr style=\"text-align: right;\">\n",
       "      <th></th>\n",
       "      <th>index</th>\n",
       "      <th>FID</th>\n",
       "      <th>CAN_NM</th>\n",
       "      <th>CAN_CLSF</th>\n",
       "      <th>EL_GND</th>\n",
       "      <th>DIST_NM</th>\n",
       "      <th>geometry</th>\n",
       "    </tr>\n",
       "  </thead>\n",
       "  <tbody>\n",
       "    <tr>\n",
       "      <th>0</th>\n",
       "      <td>0</td>\n",
       "      <td>0</td>\n",
       "      <td>WESTERN YAMUNA CANAL</td>\n",
       "      <td>None</td>\n",
       "      <td>216.682</td>\n",
       "      <td>None</td>\n",
       "      <td>LINESTRING (8589002.799 3337544.234, 8588876.3...</td>\n",
       "    </tr>\n",
       "    <tr>\n",
       "      <th>1</th>\n",
       "      <td>1</td>\n",
       "      <td>1</td>\n",
       "      <td>WESTERN YAMUNA CANAL</td>\n",
       "      <td>None</td>\n",
       "      <td>221.601</td>\n",
       "      <td>None</td>\n",
       "      <td>LINESTRING (8589093.770 3337372.930, 8589002.7...</td>\n",
       "    </tr>\n",
       "    <tr>\n",
       "      <th>2</th>\n",
       "      <td>2</td>\n",
       "      <td>2</td>\n",
       "      <td>WESTERN YAMUNA CANAL</td>\n",
       "      <td>None</td>\n",
       "      <td>216.329</td>\n",
       "      <td>None</td>\n",
       "      <td>LINESTRING (8589093.770 3337372.930, 8589195.6...</td>\n",
       "    </tr>\n",
       "    <tr>\n",
       "      <th>3</th>\n",
       "      <td>3</td>\n",
       "      <td>3</td>\n",
       "      <td>WESTERN YAMUNA CANAL</td>\n",
       "      <td>None</td>\n",
       "      <td>215.459</td>\n",
       "      <td>None</td>\n",
       "      <td>LINESTRING (8590447.715 3334557.954, 8590314.4...</td>\n",
       "    </tr>\n",
       "    <tr>\n",
       "      <th>4</th>\n",
       "      <td>4</td>\n",
       "      <td>4</td>\n",
       "      <td>WESTERN YAMUNA CANAL</td>\n",
       "      <td>None</td>\n",
       "      <td>216.210</td>\n",
       "      <td>None</td>\n",
       "      <td>LINESTRING (8589584.266 3336275.195, 8589600.1...</td>\n",
       "    </tr>\n",
       "  </tbody>\n",
       "</table>\n",
       "</div>"
      ],
      "text/plain": [
       "   index  FID                CAN_NM CAN_CLSF   EL_GND DIST_NM  \\\n",
       "0      0    0  WESTERN YAMUNA CANAL     None  216.682    None   \n",
       "1      1    1  WESTERN YAMUNA CANAL     None  221.601    None   \n",
       "2      2    2  WESTERN YAMUNA CANAL     None  216.329    None   \n",
       "3      3    3  WESTERN YAMUNA CANAL     None  215.459    None   \n",
       "4      4    4  WESTERN YAMUNA CANAL     None  216.210    None   \n",
       "\n",
       "                                            geometry  \n",
       "0  LINESTRING (8589002.799 3337544.234, 8588876.3...  \n",
       "1  LINESTRING (8589093.770 3337372.930, 8589002.7...  \n",
       "2  LINESTRING (8589093.770 3337372.930, 8589195.6...  \n",
       "3  LINESTRING (8590447.715 3334557.954, 8590314.4...  \n",
       "4  LINESTRING (8589584.266 3336275.195, 8589600.1...  "
      ]
     },
     "execution_count": 58,
     "metadata": {},
     "output_type": "execute_result"
    }
   ],
   "source": [
    "canal.head()"
   ]
  },
  {
   "cell_type": "code",
   "execution_count": 76,
   "metadata": {},
   "outputs": [],
   "source": [
    "def print_invalid_rows(gdf):\n",
    "    \"\"\"Print rows with invalid geometries\"\"\"\n",
    "    for i, row in gdf.iterrows():\n",
    "        if not row['geometry'].is_valid:\n",
    "            print('not valid index', i, '\\n', row)\n",
    "        "
   ]
  },
  {
   "cell_type": "code",
   "execution_count": 86,
   "metadata": {},
   "outputs": [],
   "source": [
    "# print_invalid_rows(canal) # 2 rows of invalid data"
   ]
  },
  {
   "cell_type": "code",
   "execution_count": 78,
   "metadata": {},
   "outputs": [],
   "source": [
    "print_invalid_rows(colonies)"
   ]
  },
  {
   "cell_type": "code",
   "execution_count": 79,
   "metadata": {},
   "outputs": [],
   "source": [
    "print_invalid_rows(drain)"
   ]
  },
  {
   "cell_type": "code",
   "execution_count": 85,
   "metadata": {},
   "outputs": [],
   "source": [
    "#print_invalid_rows(railway) #there were many rows"
   ]
  },
  {
   "cell_type": "markdown",
   "metadata": {},
   "source": [
    "#### Test again with recorrected shapefiles (canal and railway)"
   ]
  },
  {
   "cell_type": "code",
   "execution_count": 82,
   "metadata": {},
   "outputs": [
    {
     "name": "stdout",
     "output_type": "stream",
     "text": [
      "GeoDataFrame now has the following CRS:\n",
      "\n",
      "PROJCRS[\"WGS 84 / Pseudo-Mercator\",BASEGEOGCRS[\"WGS 84\",DATUM[\"World Geodetic System 1984\",ELLIPSOID[\"WGS 84\",6378137,298.257223563,LENGTHUNIT[\"metre\",1]]],PRIMEM[\"Greenwich\",0,ANGLEUNIT[\"degree\",0.0174532925199433]],ID[\"EPSG\",4326]],CONVERSION[\"Popular Visualisation Pseudo-Mercator\",METHOD[\"Popular Visualisation Pseudo Mercator\",ID[\"EPSG\",1024]],PARAMETER[\"Latitude of natural origin\",0,ANGLEUNIT[\"degree\",0.0174532925199433],ID[\"EPSG\",8801]],PARAMETER[\"Longitude of natural origin\",0,ANGLEUNIT[\"degree\",0.0174532925199433],ID[\"EPSG\",8802]],PARAMETER[\"False easting\",0,LENGTHUNIT[\"metre\",1],ID[\"EPSG\",8806]],PARAMETER[\"False northing\",0,LENGTHUNIT[\"metre\",1],ID[\"EPSG\",8807]]],CS[Cartesian,2],AXIS[\"easting (X)\",east,ORDER[1],LENGTHUNIT[\"metre\",1]],AXIS[\"northing (Y)\",north,ORDER[2],LENGTHUNIT[\"metre\",1]],USAGE[SCOPE[\"unknown\"],AREA[\"World - 85°S to 85°N\"],BBOX[-85.06,-180,85.06,180]],ID[\"EPSG\",3857]]\n"
     ]
    }
   ],
   "source": [
    "canal = gpd.read_file(canal_filepath)\n",
    "canal = spatial_index_utils.reproject_gdf(gdf=canal, epsg_code=3857)\n",
    "print_invalid_rows(canal)"
   ]
  },
  {
   "cell_type": "code",
   "execution_count": 83,
   "metadata": {},
   "outputs": [
    {
     "name": "stdout",
     "output_type": "stream",
     "text": [
      "GeoDataFrame now has the following CRS:\n",
      "\n",
      "PROJCRS[\"WGS 84 / Pseudo-Mercator\",BASEGEOGCRS[\"WGS 84\",DATUM[\"World Geodetic System 1984\",ELLIPSOID[\"WGS 84\",6378137,298.257223563,LENGTHUNIT[\"metre\",1]]],PRIMEM[\"Greenwich\",0,ANGLEUNIT[\"degree\",0.0174532925199433]],ID[\"EPSG\",4326]],CONVERSION[\"Popular Visualisation Pseudo-Mercator\",METHOD[\"Popular Visualisation Pseudo Mercator\",ID[\"EPSG\",1024]],PARAMETER[\"Latitude of natural origin\",0,ANGLEUNIT[\"degree\",0.0174532925199433],ID[\"EPSG\",8801]],PARAMETER[\"Longitude of natural origin\",0,ANGLEUNIT[\"degree\",0.0174532925199433],ID[\"EPSG\",8802]],PARAMETER[\"False easting\",0,LENGTHUNIT[\"metre\",1],ID[\"EPSG\",8806]],PARAMETER[\"False northing\",0,LENGTHUNIT[\"metre\",1],ID[\"EPSG\",8807]]],CS[Cartesian,2],AXIS[\"easting (X)\",east,ORDER[1],LENGTHUNIT[\"metre\",1]],AXIS[\"northing (Y)\",north,ORDER[2],LENGTHUNIT[\"metre\",1]],USAGE[SCOPE[\"unknown\"],AREA[\"World - 85°S to 85°N\"],BBOX[-85.06,-180,85.06,180]],ID[\"EPSG\",3857]]\n"
     ]
    }
   ],
   "source": [
    "railway = gpd.read_file(railway_filepath)\n",
    "railway = spatial_index_utils.reproject_gdf(gdf=railway, epsg_code=3857)"
   ]
  },
  {
   "cell_type": "code",
   "execution_count": 84,
   "metadata": {},
   "outputs": [],
   "source": [
    "print_invalid_rows(railway)"
   ]
  },
  {
   "cell_type": "markdown",
   "metadata": {},
   "source": [
    "### Spatial Join for Intersections\n",
    "\n",
    "let's start with colonies and canal"
   ]
  },
  {
   "cell_type": "code",
   "execution_count": 199,
   "metadata": {},
   "outputs": [],
   "source": [
    "colonies = spatial_index_utils.barrier_intersection(colonies, canal, \"canal\")"
   ]
  },
  {
   "cell_type": "code",
   "execution_count": 202,
   "metadata": {},
   "outputs": [],
   "source": [
    "colonies = spatial_index_utils.barrier_intersection(colonies, railway, \"railway\")"
   ]
  },
  {
   "cell_type": "code",
   "execution_count": 220,
   "metadata": {},
   "outputs": [],
   "source": [
    "colonies = spatial_index_utils.barrier_intersection(colonies, drain, \"drain\")"
   ]
  },
  {
   "cell_type": "code",
   "execution_count": 221,
   "metadata": {},
   "outputs": [
    {
     "data": {
      "text/html": [
       "<div>\n",
       "<style scoped>\n",
       "    .dataframe tbody tr th:only-of-type {\n",
       "        vertical-align: middle;\n",
       "    }\n",
       "\n",
       "    .dataframe tbody tr th {\n",
       "        vertical-align: top;\n",
       "    }\n",
       "\n",
       "    .dataframe thead th {\n",
       "        text-align: right;\n",
       "    }\n",
       "</style>\n",
       "<table border=\"1\" class=\"dataframe\">\n",
       "  <thead>\n",
       "    <tr style=\"text-align: right;\">\n",
       "      <th></th>\n",
       "      <th>index</th>\n",
       "      <th>AREA</th>\n",
       "      <th>USO_AREA_U</th>\n",
       "      <th>HOUSETAX_C</th>\n",
       "      <th>USO_FINAL</th>\n",
       "      <th>geometry</th>\n",
       "      <th>canal</th>\n",
       "      <th>railway</th>\n",
       "      <th>drain</th>\n",
       "    </tr>\n",
       "  </thead>\n",
       "  <tbody>\n",
       "    <tr>\n",
       "      <th>0</th>\n",
       "      <td>0</td>\n",
       "      <td>Singhola</td>\n",
       "      <td>3058</td>\n",
       "      <td>H</td>\n",
       "      <td>RV</td>\n",
       "      <td>POLYGON Z ((8587300.847 3355178.518 0.000, 858...</td>\n",
       "      <td>False</td>\n",
       "      <td>False</td>\n",
       "      <td>True</td>\n",
       "    </tr>\n",
       "    <tr>\n",
       "      <th>1</th>\n",
       "      <td>1</td>\n",
       "      <td>Indra Colony (Narela)</td>\n",
       "      <td>1760</td>\n",
       "      <td>G</td>\n",
       "      <td>RUAC</td>\n",
       "      <td>POLYGON Z ((8580725.093 3357134.173 0.000, 858...</td>\n",
       "      <td>False</td>\n",
       "      <td>True</td>\n",
       "      <td>False</td>\n",
       "    </tr>\n",
       "    <tr>\n",
       "      <th>2</th>\n",
       "      <td>2</td>\n",
       "      <td>Bhor Garh</td>\n",
       "      <td>1276</td>\n",
       "      <td>H</td>\n",
       "      <td>Industrial</td>\n",
       "      <td>POLYGON Z ((8581345.143 3353980.079 0.000, 858...</td>\n",
       "      <td>False</td>\n",
       "      <td>True</td>\n",
       "      <td>False</td>\n",
       "    </tr>\n",
       "    <tr>\n",
       "      <th>3</th>\n",
       "      <td>3</td>\n",
       "      <td>Gautam Colony</td>\n",
       "      <td>1528</td>\n",
       "      <td>G</td>\n",
       "      <td>RUAC</td>\n",
       "      <td>POLYGON Z ((8580819.492 3356801.814 0.000, 858...</td>\n",
       "      <td>False</td>\n",
       "      <td>True</td>\n",
       "      <td>False</td>\n",
       "    </tr>\n",
       "    <tr>\n",
       "      <th>4</th>\n",
       "      <td>4</td>\n",
       "      <td>Kureni</td>\n",
       "      <td>2082</td>\n",
       "      <td>H</td>\n",
       "      <td>RV</td>\n",
       "      <td>POLYGON Z ((8582448.764 3356971.996 0.000, 858...</td>\n",
       "      <td>False</td>\n",
       "      <td>True</td>\n",
       "      <td>False</td>\n",
       "    </tr>\n",
       "  </tbody>\n",
       "</table>\n",
       "</div>"
      ],
      "text/plain": [
       "   index                   AREA  USO_AREA_U HOUSETAX_C   USO_FINAL  \\\n",
       "0      0               Singhola        3058          H          RV   \n",
       "1      1  Indra Colony (Narela)        1760          G        RUAC   \n",
       "2      2              Bhor Garh        1276          H  Industrial   \n",
       "3      3          Gautam Colony        1528          G        RUAC   \n",
       "4      4                 Kureni        2082          H          RV   \n",
       "\n",
       "                                            geometry  canal  railway  drain  \n",
       "0  POLYGON Z ((8587300.847 3355178.518 0.000, 858...  False    False   True  \n",
       "1  POLYGON Z ((8580725.093 3357134.173 0.000, 858...  False     True  False  \n",
       "2  POLYGON Z ((8581345.143 3353980.079 0.000, 858...  False     True  False  \n",
       "3  POLYGON Z ((8580819.492 3356801.814 0.000, 858...  False     True  False  \n",
       "4  POLYGON Z ((8582448.764 3356971.996 0.000, 858...  False     True  False  "
      ]
     },
     "execution_count": 221,
     "metadata": {},
     "output_type": "execute_result"
    }
   ],
   "source": [
    "colonies.head()"
   ]
  },
  {
   "cell_type": "code",
   "execution_count": 224,
   "metadata": {},
   "outputs": [],
   "source": [
    "# Create barrier column as being intersection with canal, railway or drain\n",
    "colonies['barrier'] = colonies['canal'] | colonies['railway'] | colonies[\"drain\"]"
   ]
  },
  {
   "cell_type": "code",
   "execution_count": 229,
   "metadata": {},
   "outputs": [
    {
     "data": {
      "text/html": [
       "<div>\n",
       "<style scoped>\n",
       "    .dataframe tbody tr th:only-of-type {\n",
       "        vertical-align: middle;\n",
       "    }\n",
       "\n",
       "    .dataframe tbody tr th {\n",
       "        vertical-align: top;\n",
       "    }\n",
       "\n",
       "    .dataframe thead th {\n",
       "        text-align: right;\n",
       "    }\n",
       "</style>\n",
       "<table border=\"1\" class=\"dataframe\">\n",
       "  <thead>\n",
       "    <tr style=\"text-align: right;\">\n",
       "      <th></th>\n",
       "      <th>index</th>\n",
       "      <th>AREA</th>\n",
       "      <th>USO_AREA_U</th>\n",
       "      <th>HOUSETAX_C</th>\n",
       "      <th>USO_FINAL</th>\n",
       "      <th>geometry</th>\n",
       "      <th>canal</th>\n",
       "      <th>railway</th>\n",
       "      <th>drain</th>\n",
       "      <th>barrier</th>\n",
       "    </tr>\n",
       "  </thead>\n",
       "  <tbody>\n",
       "    <tr>\n",
       "      <th>0</th>\n",
       "      <td>0</td>\n",
       "      <td>Singhola</td>\n",
       "      <td>3058</td>\n",
       "      <td>H</td>\n",
       "      <td>RV</td>\n",
       "      <td>POLYGON Z ((8587300.847 3355178.518 0.000, 858...</td>\n",
       "      <td>False</td>\n",
       "      <td>False</td>\n",
       "      <td>True</td>\n",
       "      <td>True</td>\n",
       "    </tr>\n",
       "    <tr>\n",
       "      <th>1</th>\n",
       "      <td>1</td>\n",
       "      <td>Indra Colony (Narela)</td>\n",
       "      <td>1760</td>\n",
       "      <td>G</td>\n",
       "      <td>RUAC</td>\n",
       "      <td>POLYGON Z ((8580725.093 3357134.173 0.000, 858...</td>\n",
       "      <td>False</td>\n",
       "      <td>True</td>\n",
       "      <td>False</td>\n",
       "      <td>True</td>\n",
       "    </tr>\n",
       "    <tr>\n",
       "      <th>2</th>\n",
       "      <td>2</td>\n",
       "      <td>Bhor Garh</td>\n",
       "      <td>1276</td>\n",
       "      <td>H</td>\n",
       "      <td>Industrial</td>\n",
       "      <td>POLYGON Z ((8581345.143 3353980.079 0.000, 858...</td>\n",
       "      <td>False</td>\n",
       "      <td>True</td>\n",
       "      <td>False</td>\n",
       "      <td>True</td>\n",
       "    </tr>\n",
       "    <tr>\n",
       "      <th>3</th>\n",
       "      <td>3</td>\n",
       "      <td>Gautam Colony</td>\n",
       "      <td>1528</td>\n",
       "      <td>G</td>\n",
       "      <td>RUAC</td>\n",
       "      <td>POLYGON Z ((8580819.492 3356801.814 0.000, 858...</td>\n",
       "      <td>False</td>\n",
       "      <td>True</td>\n",
       "      <td>False</td>\n",
       "      <td>True</td>\n",
       "    </tr>\n",
       "    <tr>\n",
       "      <th>4</th>\n",
       "      <td>4</td>\n",
       "      <td>Kureni</td>\n",
       "      <td>2082</td>\n",
       "      <td>H</td>\n",
       "      <td>RV</td>\n",
       "      <td>POLYGON Z ((8582448.764 3356971.996 0.000, 858...</td>\n",
       "      <td>False</td>\n",
       "      <td>True</td>\n",
       "      <td>False</td>\n",
       "      <td>True</td>\n",
       "    </tr>\n",
       "    <tr>\n",
       "      <th>5</th>\n",
       "      <td>5</td>\n",
       "      <td>Mamoor Pur</td>\n",
       "      <td>2183</td>\n",
       "      <td>H</td>\n",
       "      <td>RV</td>\n",
       "      <td>POLYGON Z ((8584563.612 3358228.541 0.000, 858...</td>\n",
       "      <td>False</td>\n",
       "      <td>False</td>\n",
       "      <td>True</td>\n",
       "      <td>True</td>\n",
       "    </tr>\n",
       "    <tr>\n",
       "      <th>6</th>\n",
       "      <td>6</td>\n",
       "      <td>Guru Ravi Dass Nagar Harijan Basti</td>\n",
       "      <td>1632</td>\n",
       "      <td>G</td>\n",
       "      <td>UV</td>\n",
       "      <td>POLYGON Z ((8584563.612 3358228.541 0.000, 858...</td>\n",
       "      <td>False</td>\n",
       "      <td>False</td>\n",
       "      <td>False</td>\n",
       "      <td>False</td>\n",
       "    </tr>\n",
       "    <tr>\n",
       "      <th>7</th>\n",
       "      <td>7</td>\n",
       "      <td>Baba Hari Dass Nagar(Tikri Khurd)</td>\n",
       "      <td>1148</td>\n",
       "      <td>G</td>\n",
       "      <td>RUAC</td>\n",
       "      <td>POLYGON Z ((8583516.652 3354259.887 0.000, 858...</td>\n",
       "      <td>False</td>\n",
       "      <td>False</td>\n",
       "      <td>True</td>\n",
       "      <td>True</td>\n",
       "    </tr>\n",
       "    <tr>\n",
       "      <th>8</th>\n",
       "      <td>8</td>\n",
       "      <td>Sanjay Colony Narela</td>\n",
       "      <td>2869</td>\n",
       "      <td>G</td>\n",
       "      <td>UAC1</td>\n",
       "      <td>POLYGON Z ((8581528.709 3357162.771 0.000, 858...</td>\n",
       "      <td>False</td>\n",
       "      <td>False</td>\n",
       "      <td>False</td>\n",
       "      <td>False</td>\n",
       "    </tr>\n",
       "    <tr>\n",
       "      <th>9</th>\n",
       "      <td>9</td>\n",
       "      <td>Tikri Khurd</td>\n",
       "      <td>3169</td>\n",
       "      <td>H</td>\n",
       "      <td>RV</td>\n",
       "      <td>POLYGON Z ((8585406.523 3354793.344 0.000, 858...</td>\n",
       "      <td>False</td>\n",
       "      <td>False</td>\n",
       "      <td>True</td>\n",
       "      <td>True</td>\n",
       "    </tr>\n",
       "  </tbody>\n",
       "</table>\n",
       "</div>"
      ],
      "text/plain": [
       "   index                                AREA  USO_AREA_U HOUSETAX_C  \\\n",
       "0      0                            Singhola        3058          H   \n",
       "1      1               Indra Colony (Narela)        1760          G   \n",
       "2      2                           Bhor Garh        1276          H   \n",
       "3      3                       Gautam Colony        1528          G   \n",
       "4      4                              Kureni        2082          H   \n",
       "5      5                          Mamoor Pur        2183          H   \n",
       "6      6  Guru Ravi Dass Nagar Harijan Basti        1632          G   \n",
       "7      7   Baba Hari Dass Nagar(Tikri Khurd)        1148          G   \n",
       "8      8                Sanjay Colony Narela        2869          G   \n",
       "9      9                         Tikri Khurd        3169          H   \n",
       "\n",
       "    USO_FINAL                                           geometry  canal  \\\n",
       "0          RV  POLYGON Z ((8587300.847 3355178.518 0.000, 858...  False   \n",
       "1        RUAC  POLYGON Z ((8580725.093 3357134.173 0.000, 858...  False   \n",
       "2  Industrial  POLYGON Z ((8581345.143 3353980.079 0.000, 858...  False   \n",
       "3        RUAC  POLYGON Z ((8580819.492 3356801.814 0.000, 858...  False   \n",
       "4          RV  POLYGON Z ((8582448.764 3356971.996 0.000, 858...  False   \n",
       "5          RV  POLYGON Z ((8584563.612 3358228.541 0.000, 858...  False   \n",
       "6          UV  POLYGON Z ((8584563.612 3358228.541 0.000, 858...  False   \n",
       "7        RUAC  POLYGON Z ((8583516.652 3354259.887 0.000, 858...  False   \n",
       "8        UAC1  POLYGON Z ((8581528.709 3357162.771 0.000, 858...  False   \n",
       "9          RV  POLYGON Z ((8585406.523 3354793.344 0.000, 858...  False   \n",
       "\n",
       "   railway  drain  barrier  \n",
       "0    False   True     True  \n",
       "1     True  False     True  \n",
       "2     True  False     True  \n",
       "3     True  False     True  \n",
       "4     True  False     True  \n",
       "5    False   True     True  \n",
       "6    False  False    False  \n",
       "7    False   True     True  \n",
       "8    False  False    False  \n",
       "9    False   True     True  "
      ]
     },
     "execution_count": 229,
     "metadata": {},
     "output_type": "execute_result"
    }
   ],
   "source": [
    "colonies.head(10)"
   ]
  },
  {
   "cell_type": "code",
   "execution_count": 230,
   "metadata": {},
   "outputs": [
    {
     "data": {
      "text/html": [
       "<div>\n",
       "<style scoped>\n",
       "    .dataframe tbody tr th:only-of-type {\n",
       "        vertical-align: middle;\n",
       "    }\n",
       "\n",
       "    .dataframe tbody tr th {\n",
       "        vertical-align: top;\n",
       "    }\n",
       "\n",
       "    .dataframe thead th {\n",
       "        text-align: right;\n",
       "    }\n",
       "</style>\n",
       "<table border=\"1\" class=\"dataframe\">\n",
       "  <thead>\n",
       "    <tr style=\"text-align: right;\">\n",
       "      <th></th>\n",
       "      <th>index</th>\n",
       "      <th>AREA</th>\n",
       "      <th>USO_AREA_U</th>\n",
       "      <th>HOUSETAX_C</th>\n",
       "      <th>USO_FINAL</th>\n",
       "      <th>geometry</th>\n",
       "      <th>canal</th>\n",
       "      <th>railway</th>\n",
       "      <th>drain</th>\n",
       "      <th>barrier</th>\n",
       "    </tr>\n",
       "  </thead>\n",
       "  <tbody>\n",
       "    <tr>\n",
       "      <th>2798</th>\n",
       "      <td>2801</td>\n",
       "      <td>Tool Room Training Center Wazirpur Industrial ...</td>\n",
       "      <td>4061</td>\n",
       "      <td>None</td>\n",
       "      <td>JJC2</td>\n",
       "      <td>MULTIPOLYGON Z (((8590004.633 3337386.648 0.00...</td>\n",
       "      <td>False</td>\n",
       "      <td>False</td>\n",
       "      <td>False</td>\n",
       "      <td>False</td>\n",
       "    </tr>\n",
       "    <tr>\n",
       "      <th>2799</th>\n",
       "      <td>2802</td>\n",
       "      <td>Ambedker Colony Andheria More</td>\n",
       "      <td>4062</td>\n",
       "      <td>None</td>\n",
       "      <td>JJC2</td>\n",
       "      <td>POLYGON Z ((8591351.569 3313070.398 0.000, 859...</td>\n",
       "      <td>False</td>\n",
       "      <td>False</td>\n",
       "      <td>False</td>\n",
       "      <td>False</td>\n",
       "    </tr>\n",
       "    <tr>\n",
       "      <th>2800</th>\n",
       "      <td>2803</td>\n",
       "      <td>Manav Kalyan Camp Giri Nagar Kalkaji</td>\n",
       "      <td>4063</td>\n",
       "      <td>None</td>\n",
       "      <td>JJC2</td>\n",
       "      <td>POLYGON Z ((8600986.284 3317539.466 0.000, 860...</td>\n",
       "      <td>False</td>\n",
       "      <td>False</td>\n",
       "      <td>False</td>\n",
       "      <td>False</td>\n",
       "    </tr>\n",
       "    <tr>\n",
       "      <th>2801</th>\n",
       "      <td>2804</td>\n",
       "      <td>X-Block Nariana Loha Mandi</td>\n",
       "      <td>4064</td>\n",
       "      <td>None</td>\n",
       "      <td>JJC2</td>\n",
       "      <td>POLYGON Z ((8587320.465 3329597.175 0.000, 858...</td>\n",
       "      <td>False</td>\n",
       "      <td>False</td>\n",
       "      <td>False</td>\n",
       "      <td>False</td>\n",
       "    </tr>\n",
       "    <tr>\n",
       "      <th>2802</th>\n",
       "      <td>2805</td>\n",
       "      <td>X-Block Mangol Puri</td>\n",
       "      <td>4065</td>\n",
       "      <td>None</td>\n",
       "      <td>JJC2</td>\n",
       "      <td>POLYGON Z ((8580598.207 3337039.238 0.000, 858...</td>\n",
       "      <td>False</td>\n",
       "      <td>False</td>\n",
       "      <td>False</td>\n",
       "      <td>False</td>\n",
       "    </tr>\n",
       "    <tr>\n",
       "      <th>2803</th>\n",
       "      <td>2806</td>\n",
       "      <td>Shaheed Arjun Dass Camp on Kushak Nalla Betwee...</td>\n",
       "      <td>4066</td>\n",
       "      <td>None</td>\n",
       "      <td>JJC2</td>\n",
       "      <td>POLYGON Z ((8593433.440 3325349.337 0.000, 859...</td>\n",
       "      <td>False</td>\n",
       "      <td>False</td>\n",
       "      <td>False</td>\n",
       "      <td>False</td>\n",
       "    </tr>\n",
       "    <tr>\n",
       "      <th>2804</th>\n",
       "      <td>2807</td>\n",
       "      <td>Sant Ravi Dass Camp L-Block, Shakur Pur.</td>\n",
       "      <td>4067</td>\n",
       "      <td>None</td>\n",
       "      <td>JJC2</td>\n",
       "      <td>POLYGON Z ((8587319.108 3336213.658 0.000, 858...</td>\n",
       "      <td>False</td>\n",
       "      <td>False</td>\n",
       "      <td>False</td>\n",
       "      <td>False</td>\n",
       "    </tr>\n",
       "    <tr>\n",
       "      <th>2805</th>\n",
       "      <td>2808</td>\n",
       "      <td>Block-17 &amp; 21 Kalyan Puri</td>\n",
       "      <td>4068</td>\n",
       "      <td>None</td>\n",
       "      <td>JJC2</td>\n",
       "      <td>POLYGON Z ((8606328.421 3326900.546 0.000, 860...</td>\n",
       "      <td>False</td>\n",
       "      <td>False</td>\n",
       "      <td>False</td>\n",
       "      <td>False</td>\n",
       "    </tr>\n",
       "    <tr>\n",
       "      <th>2806</th>\n",
       "      <td>2809</td>\n",
       "      <td>Jhuggies Kholi Wala Baba Mandir Rajokari</td>\n",
       "      <td>4069</td>\n",
       "      <td>None</td>\n",
       "      <td>JJC2</td>\n",
       "      <td>POLYGON Z ((8585316.940 3313858.375 0.000, 858...</td>\n",
       "      <td>False</td>\n",
       "      <td>False</td>\n",
       "      <td>False</td>\n",
       "      <td>False</td>\n",
       "    </tr>\n",
       "    <tr>\n",
       "      <th>2807</th>\n",
       "      <td>2810</td>\n",
       "      <td>JJC Janta Jeevan Camp in the back Lane of X-38...</td>\n",
       "      <td>4070</td>\n",
       "      <td>None</td>\n",
       "      <td>JJC2</td>\n",
       "      <td>POLYGON Z ((8602311.287 3316781.436 0.000, 860...</td>\n",
       "      <td>False</td>\n",
       "      <td>False</td>\n",
       "      <td>False</td>\n",
       "      <td>False</td>\n",
       "    </tr>\n",
       "  </tbody>\n",
       "</table>\n",
       "</div>"
      ],
      "text/plain": [
       "      index                                               AREA  USO_AREA_U  \\\n",
       "2798   2801  Tool Room Training Center Wazirpur Industrial ...        4061   \n",
       "2799   2802                      Ambedker Colony Andheria More        4062   \n",
       "2800   2803               Manav Kalyan Camp Giri Nagar Kalkaji        4063   \n",
       "2801   2804                         X-Block Nariana Loha Mandi        4064   \n",
       "2802   2805                                X-Block Mangol Puri        4065   \n",
       "2803   2806  Shaheed Arjun Dass Camp on Kushak Nalla Betwee...        4066   \n",
       "2804   2807           Sant Ravi Dass Camp L-Block, Shakur Pur.        4067   \n",
       "2805   2808                          Block-17 & 21 Kalyan Puri        4068   \n",
       "2806   2809           Jhuggies Kholi Wala Baba Mandir Rajokari        4069   \n",
       "2807   2810  JJC Janta Jeevan Camp in the back Lane of X-38...        4070   \n",
       "\n",
       "     HOUSETAX_C USO_FINAL                                           geometry  \\\n",
       "2798       None      JJC2  MULTIPOLYGON Z (((8590004.633 3337386.648 0.00...   \n",
       "2799       None      JJC2  POLYGON Z ((8591351.569 3313070.398 0.000, 859...   \n",
       "2800       None      JJC2  POLYGON Z ((8600986.284 3317539.466 0.000, 860...   \n",
       "2801       None      JJC2  POLYGON Z ((8587320.465 3329597.175 0.000, 858...   \n",
       "2802       None      JJC2  POLYGON Z ((8580598.207 3337039.238 0.000, 858...   \n",
       "2803       None      JJC2  POLYGON Z ((8593433.440 3325349.337 0.000, 859...   \n",
       "2804       None      JJC2  POLYGON Z ((8587319.108 3336213.658 0.000, 858...   \n",
       "2805       None      JJC2  POLYGON Z ((8606328.421 3326900.546 0.000, 860...   \n",
       "2806       None      JJC2  POLYGON Z ((8585316.940 3313858.375 0.000, 858...   \n",
       "2807       None      JJC2  POLYGON Z ((8602311.287 3316781.436 0.000, 860...   \n",
       "\n",
       "      canal  railway  drain  barrier  \n",
       "2798  False    False  False    False  \n",
       "2799  False    False  False    False  \n",
       "2800  False    False  False    False  \n",
       "2801  False    False  False    False  \n",
       "2802  False    False  False    False  \n",
       "2803  False    False  False    False  \n",
       "2804  False    False  False    False  \n",
       "2805  False    False  False    False  \n",
       "2806  False    False  False    False  \n",
       "2807  False    False  False    False  "
      ]
     },
     "execution_count": 230,
     "metadata": {},
     "output_type": "execute_result"
    }
   ],
   "source": [
    "colonies.tail(10)"
   ]
  },
  {
   "cell_type": "markdown",
   "metadata": {},
   "source": [
    "### Save and export files"
   ]
  },
  {
   "cell_type": "code",
   "execution_count": 231,
   "metadata": {},
   "outputs": [],
   "source": [
    "colonies.to_file(\"colonies_with_barrier_3Aug2020.shp\")"
   ]
  },
  {
   "cell_type": "code",
   "execution_count": 232,
   "metadata": {},
   "outputs": [],
   "source": [
    "with open(\"colonies_with_barrier_3Aug2020.data\", \"wb\") as f:\n",
    "    pickle.dump(colonies, f)"
   ]
  }
 ],
 "metadata": {
  "kernelspec": {
   "display_name": "Python 3",
   "language": "python",
   "name": "python3"
  },
  "language_info": {
   "codemirror_mode": {
    "name": "ipython",
    "version": 3
   },
   "file_extension": ".py",
   "mimetype": "text/x-python",
   "name": "python",
   "nbconvert_exporter": "python",
   "pygments_lexer": "ipython3",
   "version": "3.7.7"
  }
 },
 "nbformat": 4,
 "nbformat_minor": 4
}
