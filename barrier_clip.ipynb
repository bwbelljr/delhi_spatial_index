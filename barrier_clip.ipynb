{
 "cells": [
  {
   "cell_type": "markdown",
   "metadata": {},
   "source": [
    "# Barrier clip\n",
    "\n",
    "### Add column to colonies GeoDataFrame showing if there is the presence of a barrier or not.\n",
    "\n",
    "Outline of how to implement this:\n",
    "* Import Delhi/NDMC/JJC dataset **[DONE]**\n",
    "* Import barrier clip shapefiles **[DONE]**\n",
    "* Reproject shapefiles to the same CRS **[DONE]**\n",
    "* Check validity - turn into a function (that can be used for other shapefiles)\n",
    "    * Check that barrier clip shapefiles are all (poly)lines. \n",
    "    * Make sure there are no validity problems.\n",
    "    * Make sure there are no duplicates.\n",
    "    * Make sure that no row has None in geometry field.\n",
    "* Merge barrier clip shapefiles into one shapefile\n",
    "* Use Spatial Join to create identifier column `barrier`.\n",
    "    * Create function to do this\n",
    "    * `barrier` column should be boolean (True or False)\n",
    "* Export colonies shapefile.\n",
    "* Open in QGIS and manually inspect features."
   ]
  },
  {
   "cell_type": "code",
   "execution_count": 23,
   "metadata": {},
   "outputs": [],
   "source": [
    "import os\n",
    "from importlib import reload\n",
    "import pandas as pd\n",
    "import geopandas as gpd\n",
    "import spatial_index_utils"
   ]
  },
  {
   "cell_type": "code",
   "execution_count": 25,
   "metadata": {},
   "outputs": [
    {
     "data": {
      "text/plain": [
       "<module 'spatial_index_utils' from 'C:\\\\Users\\\\bwbel\\\\Google Drive\\\\slum_project\\\\spatial_index_python\\\\spatial_index_utils.py'>"
      ]
     },
     "execution_count": 25,
     "metadata": {},
     "output_type": "execute_result"
    }
   ],
   "source": [
    "reload(spatial_index_utils)"
   ]
  },
  {
   "cell_type": "markdown",
   "metadata": {},
   "source": [
    "### Import Delhi/NDMC/JJC dataset"
   ]
  },
  {
   "cell_type": "code",
   "execution_count": 5,
   "metadata": {},
   "outputs": [],
   "source": [
    "colonies = gpd.read_file('delhi_ndmc_jjc_corrected.shp')"
   ]
  },
  {
   "cell_type": "code",
   "execution_count": 7,
   "metadata": {},
   "outputs": [
    {
     "data": {
      "text/html": [
       "<div>\n",
       "<style scoped>\n",
       "    .dataframe tbody tr th:only-of-type {\n",
       "        vertical-align: middle;\n",
       "    }\n",
       "\n",
       "    .dataframe tbody tr th {\n",
       "        vertical-align: top;\n",
       "    }\n",
       "\n",
       "    .dataframe thead th {\n",
       "        text-align: right;\n",
       "    }\n",
       "</style>\n",
       "<table border=\"1\" class=\"dataframe\">\n",
       "  <thead>\n",
       "    <tr style=\"text-align: right;\">\n",
       "      <th></th>\n",
       "      <th>AREA</th>\n",
       "      <th>USO_AREA_U</th>\n",
       "      <th>HOUSETAX_C</th>\n",
       "      <th>USO_FINAL</th>\n",
       "      <th>geometry</th>\n",
       "    </tr>\n",
       "  </thead>\n",
       "  <tbody>\n",
       "    <tr>\n",
       "      <th>0</th>\n",
       "      <td>Singhola</td>\n",
       "      <td>3058</td>\n",
       "      <td>H</td>\n",
       "      <td>RV</td>\n",
       "      <td>POLYGON Z ((1013763.588 1023721.838 0.000, 101...</td>\n",
       "    </tr>\n",
       "    <tr>\n",
       "      <th>1</th>\n",
       "      <td>Indra Colony (Narela)</td>\n",
       "      <td>1760</td>\n",
       "      <td>G</td>\n",
       "      <td>RUAC</td>\n",
       "      <td>POLYGON Z ((1007997.730 1025421.961 0.000, 100...</td>\n",
       "    </tr>\n",
       "  </tbody>\n",
       "</table>\n",
       "</div>"
      ],
      "text/plain": [
       "                    AREA  USO_AREA_U HOUSETAX_C USO_FINAL  \\\n",
       "0               Singhola        3058          H        RV   \n",
       "1  Indra Colony (Narela)        1760          G      RUAC   \n",
       "\n",
       "                                            geometry  \n",
       "0  POLYGON Z ((1013763.588 1023721.838 0.000, 101...  \n",
       "1  POLYGON Z ((1007997.730 1025421.961 0.000, 100...  "
      ]
     },
     "execution_count": 7,
     "metadata": {},
     "output_type": "execute_result"
    }
   ],
   "source": [
    "colonies.head(2)"
   ]
  },
  {
   "cell_type": "markdown",
   "metadata": {},
   "source": [
    "### Import barrier shapefiles"
   ]
  },
  {
   "cell_type": "code",
   "execution_count": 13,
   "metadata": {},
   "outputs": [
    {
     "name": "stdout",
     "output_type": "stream",
     "text": [
      "canal filepath exists: True\n",
      "drain filepath exists: True\n",
      "railway filepath exists: True\n"
     ]
    }
   ],
   "source": [
    "barrier_clip_dir = 'Barrier_Clip'\n",
    "\n",
    "canal_filepath = os.path.join(barrier_clip_dir, 'Canal', 'Canal.shp')\n",
    "drain_filepath = os.path.join(barrier_clip_dir, 'Drain', 'Major_Drain.shp')\n",
    "railway_filepath = os.path.join(barrier_clip_dir, 'Railway', 'Railway_Line.shp')\n",
    "\n",
    "# Check filepath validity before importing shapefiles\n",
    "print('canal filepath exists:', os.path.exists(canal_filepath))\n",
    "print('drain filepath exists:', os.path.exists(drain_filepath))\n",
    "print('railway filepath exists:', os.path.exists(railway_filepath))"
   ]
  },
  {
   "cell_type": "code",
   "execution_count": 14,
   "metadata": {},
   "outputs": [],
   "source": [
    "canal = gpd.read_file(canal_filepath)\n",
    "drain = gpd.read_file(drain_filepath)\n",
    "railway = gpd.read_file(railway_filepath)"
   ]
  },
  {
   "cell_type": "code",
   "execution_count": 15,
   "metadata": {},
   "outputs": [
    {
     "data": {
      "text/html": [
       "<div>\n",
       "<style scoped>\n",
       "    .dataframe tbody tr th:only-of-type {\n",
       "        vertical-align: middle;\n",
       "    }\n",
       "\n",
       "    .dataframe tbody tr th {\n",
       "        vertical-align: top;\n",
       "    }\n",
       "\n",
       "    .dataframe thead th {\n",
       "        text-align: right;\n",
       "    }\n",
       "</style>\n",
       "<table border=\"1\" class=\"dataframe\">\n",
       "  <thead>\n",
       "    <tr style=\"text-align: right;\">\n",
       "      <th></th>\n",
       "      <th>FID</th>\n",
       "      <th>CAN_NM</th>\n",
       "      <th>CAN_CLSF</th>\n",
       "      <th>EL_GND</th>\n",
       "      <th>DIST_NM</th>\n",
       "      <th>geometry</th>\n",
       "    </tr>\n",
       "  </thead>\n",
       "  <tbody>\n",
       "    <tr>\n",
       "      <th>0</th>\n",
       "      <td>0</td>\n",
       "      <td>WESTERN YAMUNA CANAL</td>\n",
       "      <td>None</td>\n",
       "      <td>216.682</td>\n",
       "      <td>None</td>\n",
       "      <td>LINESTRING (77.15632 28.70021, 77.15519 28.70205)</td>\n",
       "    </tr>\n",
       "    <tr>\n",
       "      <th>1</th>\n",
       "      <td>1</td>\n",
       "      <td>WESTERN YAMUNA CANAL</td>\n",
       "      <td>None</td>\n",
       "      <td>221.601</td>\n",
       "      <td>None</td>\n",
       "      <td>LINESTRING (77.15714 28.69886, 77.15632 28.70021)</td>\n",
       "    </tr>\n",
       "  </tbody>\n",
       "</table>\n",
       "</div>"
      ],
      "text/plain": [
       "   FID                CAN_NM CAN_CLSF   EL_GND DIST_NM  \\\n",
       "0    0  WESTERN YAMUNA CANAL     None  216.682    None   \n",
       "1    1  WESTERN YAMUNA CANAL     None  221.601    None   \n",
       "\n",
       "                                            geometry  \n",
       "0  LINESTRING (77.15632 28.70021, 77.15519 28.70205)  \n",
       "1  LINESTRING (77.15714 28.69886, 77.15632 28.70021)  "
      ]
     },
     "execution_count": 15,
     "metadata": {},
     "output_type": "execute_result"
    }
   ],
   "source": [
    "canal.head(2)"
   ]
  },
  {
   "cell_type": "code",
   "execution_count": 16,
   "metadata": {},
   "outputs": [
    {
     "data": {
      "text/html": [
       "<div>\n",
       "<style scoped>\n",
       "    .dataframe tbody tr th:only-of-type {\n",
       "        vertical-align: middle;\n",
       "    }\n",
       "\n",
       "    .dataframe tbody tr th {\n",
       "        vertical-align: top;\n",
       "    }\n",
       "\n",
       "    .dataframe thead th {\n",
       "        text-align: right;\n",
       "    }\n",
       "</style>\n",
       "<table border=\"1\" class=\"dataframe\">\n",
       "  <thead>\n",
       "    <tr style=\"text-align: right;\">\n",
       "      <th></th>\n",
       "      <th>FID</th>\n",
       "      <th>Drain_type</th>\n",
       "      <th>Drain_Name</th>\n",
       "      <th>MAINTAINED</th>\n",
       "      <th>AC_NAME</th>\n",
       "      <th>DISTRICT</th>\n",
       "      <th>geometry</th>\n",
       "    </tr>\n",
       "  </thead>\n",
       "  <tbody>\n",
       "    <tr>\n",
       "      <th>0</th>\n",
       "      <td>0</td>\n",
       "      <td>None</td>\n",
       "      <td>Asola Drain</td>\n",
       "      <td>None</td>\n",
       "      <td>CHHATARPUR</td>\n",
       "      <td>SOUTH</td>\n",
       "      <td>LINESTRING (77.19468 28.44483, 77.19467 28.445...</td>\n",
       "    </tr>\n",
       "    <tr>\n",
       "      <th>1</th>\n",
       "      <td>1</td>\n",
       "      <td>None</td>\n",
       "      <td>Asola Drain</td>\n",
       "      <td>None</td>\n",
       "      <td>CHHATARPUR</td>\n",
       "      <td>SOUTH</td>\n",
       "      <td>MULTILINESTRING ((77.18090 28.45571, 77.18086 ...</td>\n",
       "    </tr>\n",
       "  </tbody>\n",
       "</table>\n",
       "</div>"
      ],
      "text/plain": [
       "   FID Drain_type   Drain_Name MAINTAINED     AC_NAME DISTRICT  \\\n",
       "0    0       None  Asola Drain       None  CHHATARPUR    SOUTH   \n",
       "1    1       None  Asola Drain       None  CHHATARPUR    SOUTH   \n",
       "\n",
       "                                            geometry  \n",
       "0  LINESTRING (77.19468 28.44483, 77.19467 28.445...  \n",
       "1  MULTILINESTRING ((77.18090 28.45571, 77.18086 ...  "
      ]
     },
     "execution_count": 16,
     "metadata": {},
     "output_type": "execute_result"
    }
   ],
   "source": [
    "drain.head(2)"
   ]
  },
  {
   "cell_type": "code",
   "execution_count": 17,
   "metadata": {},
   "outputs": [
    {
     "data": {
      "text/html": [
       "<div>\n",
       "<style scoped>\n",
       "    .dataframe tbody tr th:only-of-type {\n",
       "        vertical-align: middle;\n",
       "    }\n",
       "\n",
       "    .dataframe tbody tr th {\n",
       "        vertical-align: top;\n",
       "    }\n",
       "\n",
       "    .dataframe thead th {\n",
       "        text-align: right;\n",
       "    }\n",
       "</style>\n",
       "<table border=\"1\" class=\"dataframe\">\n",
       "  <thead>\n",
       "    <tr style=\"text-align: right;\">\n",
       "      <th></th>\n",
       "      <th>FID</th>\n",
       "      <th>RL_ZONE</th>\n",
       "      <th>geometry</th>\n",
       "    </tr>\n",
       "  </thead>\n",
       "  <tbody>\n",
       "    <tr>\n",
       "      <th>0</th>\n",
       "      <td>0</td>\n",
       "      <td>NORTHERN RAILWAY</td>\n",
       "      <td>LINESTRING (77.25315 28.63192, 77.25308 28.631...</td>\n",
       "    </tr>\n",
       "    <tr>\n",
       "      <th>1</th>\n",
       "      <td>1</td>\n",
       "      <td>NORTHERN RAILWAY</td>\n",
       "      <td>LINESTRING (77.25309 28.63194, 77.25302 28.63181)</td>\n",
       "    </tr>\n",
       "  </tbody>\n",
       "</table>\n",
       "</div>"
      ],
      "text/plain": [
       "   FID           RL_ZONE                                           geometry\n",
       "0    0  NORTHERN RAILWAY  LINESTRING (77.25315 28.63192, 77.25308 28.631...\n",
       "1    1  NORTHERN RAILWAY  LINESTRING (77.25309 28.63194, 77.25302 28.63181)"
      ]
     },
     "execution_count": 17,
     "metadata": {},
     "output_type": "execute_result"
    }
   ],
   "source": [
    "railway.head(2)"
   ]
  },
  {
   "cell_type": "markdown",
   "metadata": {},
   "source": [
    "### Reproject shapefiles to EPSG:3857"
   ]
  },
  {
   "cell_type": "code",
   "execution_count": 18,
   "metadata": {},
   "outputs": [
    {
     "data": {
      "text/plain": [
       "\u001b[1;31mSignature:\u001b[0m \u001b[0mspatial_index_utils\u001b[0m\u001b[1;33m.\u001b[0m\u001b[0mreproject_gdf\u001b[0m\u001b[1;33m(\u001b[0m\u001b[0mgdf\u001b[0m\u001b[1;33m,\u001b[0m \u001b[0mepsg_code\u001b[0m\u001b[1;33m)\u001b[0m\u001b[1;33m\u001b[0m\u001b[1;33m\u001b[0m\u001b[0m\n",
       "\u001b[1;31mDocstring:\u001b[0m\n",
       "Reprojects GeoDataFrame to CRS with EPSG code\n",
       "\n",
       "Assigns WKT format of projection to EPSG code to GeoDataFrame.\n",
       "\n",
       "Args:\n",
       "gdf: GeoDataFrame with any geometry (e.g., Point, Line, Polygon)\n",
       "epsg_code: EPSG code (integer)\n",
       "\n",
       "Returns:\n",
       "    GeoDataFrame reprojected to new crs (based on EPSG code).\n",
       "\u001b[1;31mFile:\u001b[0m      c:\\users\\bwbel\\google drive\\slum_project\\spatial_index_python\\spatial_index_utils.py\n",
       "\u001b[1;31mType:\u001b[0m      function\n"
      ]
     },
     "metadata": {},
     "output_type": "display_data"
    }
   ],
   "source": [
    "colonies = spatial_index_utils.reproject_gdf?"
   ]
  },
  {
   "cell_type": "code",
   "execution_count": 19,
   "metadata": {},
   "outputs": [
    {
     "name": "stdout",
     "output_type": "stream",
     "text": [
      "GeoDataFrame now has the following CRS:\n",
      "\n",
      "PROJCRS[\"WGS 84 / Pseudo-Mercator\",BASEGEOGCRS[\"WGS 84\",DATUM[\"World Geodetic System 1984\",ELLIPSOID[\"WGS 84\",6378137,298.257223563,LENGTHUNIT[\"metre\",1]]],PRIMEM[\"Greenwich\",0,ANGLEUNIT[\"degree\",0.0174532925199433]],ID[\"EPSG\",4326]],CONVERSION[\"Popular Visualisation Pseudo-Mercator\",METHOD[\"Popular Visualisation Pseudo Mercator\",ID[\"EPSG\",1024]],PARAMETER[\"Latitude of natural origin\",0,ANGLEUNIT[\"degree\",0.0174532925199433],ID[\"EPSG\",8801]],PARAMETER[\"Longitude of natural origin\",0,ANGLEUNIT[\"degree\",0.0174532925199433],ID[\"EPSG\",8802]],PARAMETER[\"False easting\",0,LENGTHUNIT[\"metre\",1],ID[\"EPSG\",8806]],PARAMETER[\"False northing\",0,LENGTHUNIT[\"metre\",1],ID[\"EPSG\",8807]]],CS[Cartesian,2],AXIS[\"easting (X)\",east,ORDER[1],LENGTHUNIT[\"metre\",1]],AXIS[\"northing (Y)\",north,ORDER[2],LENGTHUNIT[\"metre\",1]],USAGE[SCOPE[\"unknown\"],AREA[\"World - 85°S to 85°N\"],BBOX[-85.06,-180,85.06,180]],ID[\"EPSG\",3857]]\n"
     ]
    }
   ],
   "source": [
    "colonies = spatial_index_utils.reproject_gdf(gdf=colonies, epsg_code=3857)"
   ]
  },
  {
   "cell_type": "code",
   "execution_count": 20,
   "metadata": {},
   "outputs": [
    {
     "name": "stdout",
     "output_type": "stream",
     "text": [
      "GeoDataFrame now has the following CRS:\n",
      "\n",
      "PROJCRS[\"WGS 84 / Pseudo-Mercator\",BASEGEOGCRS[\"WGS 84\",DATUM[\"World Geodetic System 1984\",ELLIPSOID[\"WGS 84\",6378137,298.257223563,LENGTHUNIT[\"metre\",1]]],PRIMEM[\"Greenwich\",0,ANGLEUNIT[\"degree\",0.0174532925199433]],ID[\"EPSG\",4326]],CONVERSION[\"Popular Visualisation Pseudo-Mercator\",METHOD[\"Popular Visualisation Pseudo Mercator\",ID[\"EPSG\",1024]],PARAMETER[\"Latitude of natural origin\",0,ANGLEUNIT[\"degree\",0.0174532925199433],ID[\"EPSG\",8801]],PARAMETER[\"Longitude of natural origin\",0,ANGLEUNIT[\"degree\",0.0174532925199433],ID[\"EPSG\",8802]],PARAMETER[\"False easting\",0,LENGTHUNIT[\"metre\",1],ID[\"EPSG\",8806]],PARAMETER[\"False northing\",0,LENGTHUNIT[\"metre\",1],ID[\"EPSG\",8807]]],CS[Cartesian,2],AXIS[\"easting (X)\",east,ORDER[1],LENGTHUNIT[\"metre\",1]],AXIS[\"northing (Y)\",north,ORDER[2],LENGTHUNIT[\"metre\",1]],USAGE[SCOPE[\"unknown\"],AREA[\"World - 85°S to 85°N\"],BBOX[-85.06,-180,85.06,180]],ID[\"EPSG\",3857]]\n"
     ]
    }
   ],
   "source": [
    "canal = spatial_index_utils.reproject_gdf(gdf=canal, epsg_code=3857)"
   ]
  },
  {
   "cell_type": "code",
   "execution_count": 21,
   "metadata": {},
   "outputs": [
    {
     "name": "stdout",
     "output_type": "stream",
     "text": [
      "GeoDataFrame now has the following CRS:\n",
      "\n",
      "PROJCRS[\"WGS 84 / Pseudo-Mercator\",BASEGEOGCRS[\"WGS 84\",DATUM[\"World Geodetic System 1984\",ELLIPSOID[\"WGS 84\",6378137,298.257223563,LENGTHUNIT[\"metre\",1]]],PRIMEM[\"Greenwich\",0,ANGLEUNIT[\"degree\",0.0174532925199433]],ID[\"EPSG\",4326]],CONVERSION[\"Popular Visualisation Pseudo-Mercator\",METHOD[\"Popular Visualisation Pseudo Mercator\",ID[\"EPSG\",1024]],PARAMETER[\"Latitude of natural origin\",0,ANGLEUNIT[\"degree\",0.0174532925199433],ID[\"EPSG\",8801]],PARAMETER[\"Longitude of natural origin\",0,ANGLEUNIT[\"degree\",0.0174532925199433],ID[\"EPSG\",8802]],PARAMETER[\"False easting\",0,LENGTHUNIT[\"metre\",1],ID[\"EPSG\",8806]],PARAMETER[\"False northing\",0,LENGTHUNIT[\"metre\",1],ID[\"EPSG\",8807]]],CS[Cartesian,2],AXIS[\"easting (X)\",east,ORDER[1],LENGTHUNIT[\"metre\",1]],AXIS[\"northing (Y)\",north,ORDER[2],LENGTHUNIT[\"metre\",1]],USAGE[SCOPE[\"unknown\"],AREA[\"World - 85°S to 85°N\"],BBOX[-85.06,-180,85.06,180]],ID[\"EPSG\",3857]]\n"
     ]
    }
   ],
   "source": [
    "drain = spatial_index_utils.reproject_gdf(gdf=drain, epsg_code=3857)"
   ]
  },
  {
   "cell_type": "code",
   "execution_count": 22,
   "metadata": {},
   "outputs": [
    {
     "name": "stdout",
     "output_type": "stream",
     "text": [
      "GeoDataFrame now has the following CRS:\n",
      "\n",
      "PROJCRS[\"WGS 84 / Pseudo-Mercator\",BASEGEOGCRS[\"WGS 84\",DATUM[\"World Geodetic System 1984\",ELLIPSOID[\"WGS 84\",6378137,298.257223563,LENGTHUNIT[\"metre\",1]]],PRIMEM[\"Greenwich\",0,ANGLEUNIT[\"degree\",0.0174532925199433]],ID[\"EPSG\",4326]],CONVERSION[\"Popular Visualisation Pseudo-Mercator\",METHOD[\"Popular Visualisation Pseudo Mercator\",ID[\"EPSG\",1024]],PARAMETER[\"Latitude of natural origin\",0,ANGLEUNIT[\"degree\",0.0174532925199433],ID[\"EPSG\",8801]],PARAMETER[\"Longitude of natural origin\",0,ANGLEUNIT[\"degree\",0.0174532925199433],ID[\"EPSG\",8802]],PARAMETER[\"False easting\",0,LENGTHUNIT[\"metre\",1],ID[\"EPSG\",8806]],PARAMETER[\"False northing\",0,LENGTHUNIT[\"metre\",1],ID[\"EPSG\",8807]]],CS[Cartesian,2],AXIS[\"easting (X)\",east,ORDER[1],LENGTHUNIT[\"metre\",1]],AXIS[\"northing (Y)\",north,ORDER[2],LENGTHUNIT[\"metre\",1]],USAGE[SCOPE[\"unknown\"],AREA[\"World - 85°S to 85°N\"],BBOX[-85.06,-180,85.06,180]],ID[\"EPSG\",3857]]\n"
     ]
    }
   ],
   "source": [
    "railway = spatial_index_utils.reproject_gdf(gdf=railway, epsg_code=3857)"
   ]
  },
  {
   "cell_type": "markdown",
   "metadata": {},
   "source": [
    "### Check validity of shapefiles (and correct)"
   ]
  },
  {
   "cell_type": "markdown",
   "metadata": {},
   "source": [
    "#### First, check for duplicate rows"
   ]
  },
  {
   "cell_type": "code",
   "execution_count": 30,
   "metadata": {},
   "outputs": [],
   "source": [
    "gdf_list = {'colonies': colonies, 'canal': canal, 'drain': drain, 'railway': railway}"
   ]
  },
  {
   "cell_type": "code",
   "execution_count": 33,
   "metadata": {},
   "outputs": [
    {
     "name": "stdout",
     "output_type": "stream",
     "text": [
      "colonies has duplicate rows: False\n",
      "canal has duplicate rows: False\n",
      "drain has duplicate rows: False\n",
      "railway has duplicate rows: False\n"
     ]
    }
   ],
   "source": [
    "for gdf in gdf_list:\n",
    "    print(gdf, 'has duplicate rows:', spatial_index_utils.gdf_has_duplicate_rows(gdf_list[gdf]))"
   ]
  },
  {
   "cell_type": "markdown",
   "metadata": {},
   "source": [
    "#### Second, "
   ]
  }
 ],
 "metadata": {
  "kernelspec": {
   "display_name": "Python 3",
   "language": "python",
   "name": "python3"
  },
  "language_info": {
   "codemirror_mode": {
    "name": "ipython",
    "version": 3
   },
   "file_extension": ".py",
   "mimetype": "text/x-python",
   "name": "python",
   "nbconvert_exporter": "python",
   "pygments_lexer": "ipython3",
   "version": "3.7.7"
  }
 },
 "nbformat": 4,
 "nbformat_minor": 4
}
