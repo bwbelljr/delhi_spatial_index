{
 "cells": [
  {
   "cell_type": "markdown",
   "metadata": {},
   "source": [
    "# Calculating Public Services for Wards\n",
    "\n",
    "Population data from: https://www.elections.in/delhi/mcd-elections/mcd-ward-list-2017.html"
   ]
  },
  {
   "cell_type": "code",
   "execution_count": 75,
   "metadata": {},
   "outputs": [],
   "source": [
    "import os\n",
    "import pickle\n",
    "from importlib import reload\n",
    "import pandas as pd\n",
    "import geopandas as gpd\n",
    "from shapely.geometry import Polygon, box\n",
    "import spatial_index_utils\n",
    "from spatial_index_utils import reproject_gdf, calc_all_services_wards"
   ]
  },
  {
   "cell_type": "code",
   "execution_count": 74,
   "metadata": {},
   "outputs": [
    {
     "data": {
      "text/plain": [
       "<module 'spatial_index_utils' from 'C:\\\\Users\\\\bwbel\\\\Google Drive\\\\slum_project\\\\spatial_index_python\\\\spatial_index_utils.py'>"
      ]
     },
     "execution_count": 74,
     "metadata": {},
     "output_type": "execute_result"
    }
   ],
   "source": [
    "reload(spatial_index_utils)"
   ]
  },
  {
   "cell_type": "code",
   "execution_count": 34,
   "metadata": {},
   "outputs": [],
   "source": [
    "# WGS 84 / Delhi\n",
    "epsg_code = 7760"
   ]
  },
  {
   "cell_type": "markdown",
   "metadata": {},
   "source": [
    "## Import Ward Population"
   ]
  },
  {
   "cell_type": "code",
   "execution_count": 35,
   "metadata": {},
   "outputs": [
    {
     "data": {
      "text/html": [
       "<div>\n",
       "<style scoped>\n",
       "    .dataframe tbody tr th:only-of-type {\n",
       "        vertical-align: middle;\n",
       "    }\n",
       "\n",
       "    .dataframe tbody tr th {\n",
       "        vertical-align: top;\n",
       "    }\n",
       "\n",
       "    .dataframe thead th {\n",
       "        text-align: right;\n",
       "    }\n",
       "</style>\n",
       "<table border=\"1\" class=\"dataframe\">\n",
       "  <thead>\n",
       "    <tr style=\"text-align: right;\">\n",
       "      <th></th>\n",
       "      <th>AC No.</th>\n",
       "      <th>AC Name</th>\n",
       "      <th>Ward No.</th>\n",
       "      <th>Ward Name</th>\n",
       "      <th>Total Population</th>\n",
       "      <th>SC Population</th>\n",
       "    </tr>\n",
       "  </thead>\n",
       "  <tbody>\n",
       "    <tr>\n",
       "      <th>0</th>\n",
       "      <td>55.0</td>\n",
       "      <td>TRILOKPURI</td>\n",
       "      <td>001-E</td>\n",
       "      <td>MAYUR VIHAR PHASE-I</td>\n",
       "      <td>61348</td>\n",
       "      <td>17546</td>\n",
       "    </tr>\n",
       "    <tr>\n",
       "      <th>1</th>\n",
       "      <td>NaN</td>\n",
       "      <td>NaN</td>\n",
       "      <td>002-E</td>\n",
       "      <td>TRILOKPURI-EAST</td>\n",
       "      <td>59678</td>\n",
       "      <td>33296</td>\n",
       "    </tr>\n",
       "    <tr>\n",
       "      <th>2</th>\n",
       "      <td>NaN</td>\n",
       "      <td>NaN</td>\n",
       "      <td>003-E</td>\n",
       "      <td>TRILOKPURI-WEST</td>\n",
       "      <td>64346</td>\n",
       "      <td>22075</td>\n",
       "    </tr>\n",
       "    <tr>\n",
       "      <th>3</th>\n",
       "      <td>NaN</td>\n",
       "      <td>NaN</td>\n",
       "      <td>004-E</td>\n",
       "      <td>NEW ASHOK NAGAR</td>\n",
       "      <td>56168</td>\n",
       "      <td>3689</td>\n",
       "    </tr>\n",
       "    <tr>\n",
       "      <th>4</th>\n",
       "      <td>56.0</td>\n",
       "      <td>KONDLI</td>\n",
       "      <td>005-E</td>\n",
       "      <td>KONDLI</td>\n",
       "      <td>62399</td>\n",
       "      <td>17502</td>\n",
       "    </tr>\n",
       "  </tbody>\n",
       "</table>\n",
       "</div>"
      ],
      "text/plain": [
       "   AC No.     AC Name Ward No.            Ward Name  Total Population  \\\n",
       "0    55.0  TRILOKPURI    001-E  MAYUR VIHAR PHASE-I             61348   \n",
       "1     NaN         NaN    002-E      TRILOKPURI-EAST             59678   \n",
       "2     NaN         NaN    003-E      TRILOKPURI-WEST             64346   \n",
       "3     NaN         NaN    004-E      NEW ASHOK NAGAR             56168   \n",
       "4    56.0      KONDLI    005-E               KONDLI             62399   \n",
       "\n",
       "   SC Population  \n",
       "0          17546  \n",
       "1          33296  \n",
       "2          22075  \n",
       "3           3689  \n",
       "4          17502  "
      ]
     },
     "execution_count": 35,
     "metadata": {},
     "output_type": "execute_result"
    }
   ],
   "source": [
    "ward_pop = pd.read_csv('wards_pop.csv')\n",
    "ward_pop.head()"
   ]
  },
  {
   "cell_type": "markdown",
   "metadata": {},
   "source": [
    "## Import Wards Shapefile"
   ]
  },
  {
   "cell_type": "code",
   "execution_count": 36,
   "metadata": {},
   "outputs": [
    {
     "data": {
      "text/html": [
       "<div>\n",
       "<style scoped>\n",
       "    .dataframe tbody tr th:only-of-type {\n",
       "        vertical-align: middle;\n",
       "    }\n",
       "\n",
       "    .dataframe tbody tr th {\n",
       "        vertical-align: top;\n",
       "    }\n",
       "\n",
       "    .dataframe thead th {\n",
       "        text-align: right;\n",
       "    }\n",
       "</style>\n",
       "<table border=\"1\" class=\"dataframe\">\n",
       "  <thead>\n",
       "    <tr style=\"text-align: right;\">\n",
       "      <th></th>\n",
       "      <th>FID</th>\n",
       "      <th>ID</th>\n",
       "      <th>AC_NO</th>\n",
       "      <th>AC_NM</th>\n",
       "      <th>WARD_NO</th>\n",
       "      <th>WARD_NAME</th>\n",
       "      <th>TOT_POP</th>\n",
       "      <th>SC_POP</th>\n",
       "      <th>NA_POP</th>\n",
       "      <th>LB</th>\n",
       "      <th>geometry</th>\n",
       "    </tr>\n",
       "  </thead>\n",
       "  <tbody>\n",
       "    <tr>\n",
       "      <th>0</th>\n",
       "      <td>0</td>\n",
       "      <td>4</td>\n",
       "      <td>55</td>\n",
       "      <td>TRILOKPURI</td>\n",
       "      <td>004-E</td>\n",
       "      <td>NEW ASHOK NAGAR</td>\n",
       "      <td>None</td>\n",
       "      <td>None</td>\n",
       "      <td>None</td>\n",
       "      <td>EAST</td>\n",
       "      <td>POLYGON ((77.29898 28.59049, 77.30123 28.59310...</td>\n",
       "    </tr>\n",
       "    <tr>\n",
       "      <th>1</th>\n",
       "      <td>1</td>\n",
       "      <td>3</td>\n",
       "      <td>55</td>\n",
       "      <td>TRILOKPURI</td>\n",
       "      <td>003-E</td>\n",
       "      <td>TRILOKPURI-WEST</td>\n",
       "      <td>None</td>\n",
       "      <td>None</td>\n",
       "      <td>None</td>\n",
       "      <td>EAST</td>\n",
       "      <td>POLYGON ((77.30900 28.60206, 77.30875 28.60177...</td>\n",
       "    </tr>\n",
       "    <tr>\n",
       "      <th>2</th>\n",
       "      <td>2</td>\n",
       "      <td>1</td>\n",
       "      <td>55</td>\n",
       "      <td>TRILOKPURI</td>\n",
       "      <td>001-E</td>\n",
       "      <td>MAYUR VIHAR PHASE-I</td>\n",
       "      <td>None</td>\n",
       "      <td>None</td>\n",
       "      <td>None</td>\n",
       "      <td>EAST</td>\n",
       "      <td>POLYGON ((77.29656 28.60533, 77.29649 28.60550...</td>\n",
       "    </tr>\n",
       "    <tr>\n",
       "      <th>3</th>\n",
       "      <td>3</td>\n",
       "      <td>2</td>\n",
       "      <td>55</td>\n",
       "      <td>TRILOKPURI</td>\n",
       "      <td>002-E</td>\n",
       "      <td>TRILOKPURI-EAST</td>\n",
       "      <td>None</td>\n",
       "      <td>None</td>\n",
       "      <td>None</td>\n",
       "      <td>EAST</td>\n",
       "      <td>POLYGON ((77.32022 28.61495, 77.32022 28.61491...</td>\n",
       "    </tr>\n",
       "    <tr>\n",
       "      <th>4</th>\n",
       "      <td>4</td>\n",
       "      <td>5</td>\n",
       "      <td>56</td>\n",
       "      <td>KONDLI</td>\n",
       "      <td>005-E</td>\n",
       "      <td>DALLUPURA</td>\n",
       "      <td>None</td>\n",
       "      <td>None</td>\n",
       "      <td>None</td>\n",
       "      <td>EAST</td>\n",
       "      <td>POLYGON ((77.31043 28.59916, 77.31016 28.59934...</td>\n",
       "    </tr>\n",
       "  </tbody>\n",
       "</table>\n",
       "</div>"
      ],
      "text/plain": [
       "   FID  ID AC_NO       AC_NM WARD_NO            WARD_NAME TOT_POP SC_POP  \\\n",
       "0    0   4    55  TRILOKPURI   004-E      NEW ASHOK NAGAR    None   None   \n",
       "1    1   3    55  TRILOKPURI   003-E      TRILOKPURI-WEST    None   None   \n",
       "2    2   1    55  TRILOKPURI   001-E  MAYUR VIHAR PHASE-I    None   None   \n",
       "3    3   2    55  TRILOKPURI   002-E      TRILOKPURI-EAST    None   None   \n",
       "4    4   5    56      KONDLI   005-E            DALLUPURA    None   None   \n",
       "\n",
       "  NA_POP    LB                                           geometry  \n",
       "0   None  EAST  POLYGON ((77.29898 28.59049, 77.30123 28.59310...  \n",
       "1   None  EAST  POLYGON ((77.30900 28.60206, 77.30875 28.60177...  \n",
       "2   None  EAST  POLYGON ((77.29656 28.60533, 77.29649 28.60550...  \n",
       "3   None  EAST  POLYGON ((77.32022 28.61495, 77.32022 28.61491...  \n",
       "4   None  EAST  POLYGON ((77.31043 28.59916, 77.31016 28.59934...  "
      ]
     },
     "execution_count": 36,
     "metadata": {},
     "output_type": "execute_result"
    }
   ],
   "source": [
    "ward_shapefile = gpd.read_file('Ward_2017_Fixed.shp')\n",
    "ward_shapefile.head()"
   ]
  },
  {
   "cell_type": "markdown",
   "metadata": {},
   "source": [
    "## Merge Ward Shapefile with Ward Population"
   ]
  },
  {
   "cell_type": "code",
   "execution_count": 37,
   "metadata": {},
   "outputs": [
    {
     "data": {
      "text/html": [
       "<div>\n",
       "<style scoped>\n",
       "    .dataframe tbody tr th:only-of-type {\n",
       "        vertical-align: middle;\n",
       "    }\n",
       "\n",
       "    .dataframe tbody tr th {\n",
       "        vertical-align: top;\n",
       "    }\n",
       "\n",
       "    .dataframe thead th {\n",
       "        text-align: right;\n",
       "    }\n",
       "</style>\n",
       "<table border=\"1\" class=\"dataframe\">\n",
       "  <thead>\n",
       "    <tr style=\"text-align: right;\">\n",
       "      <th></th>\n",
       "      <th>FID</th>\n",
       "      <th>ID</th>\n",
       "      <th>AC_NO</th>\n",
       "      <th>AC_NM</th>\n",
       "      <th>WARD_NO</th>\n",
       "      <th>WARD_NAME</th>\n",
       "      <th>TOT_POP</th>\n",
       "      <th>SC_POP</th>\n",
       "      <th>NA_POP</th>\n",
       "      <th>LB</th>\n",
       "      <th>geometry</th>\n",
       "      <th>AC No.</th>\n",
       "      <th>AC Name</th>\n",
       "      <th>Ward No.</th>\n",
       "      <th>Ward Name</th>\n",
       "      <th>Total Population</th>\n",
       "      <th>SC Population</th>\n",
       "    </tr>\n",
       "  </thead>\n",
       "  <tbody>\n",
       "    <tr>\n",
       "      <th>0</th>\n",
       "      <td>0</td>\n",
       "      <td>4</td>\n",
       "      <td>55</td>\n",
       "      <td>TRILOKPURI</td>\n",
       "      <td>004-E</td>\n",
       "      <td>NEW ASHOK NAGAR</td>\n",
       "      <td>None</td>\n",
       "      <td>None</td>\n",
       "      <td>None</td>\n",
       "      <td>EAST</td>\n",
       "      <td>POLYGON ((77.29898 28.59049, 77.30123 28.59310...</td>\n",
       "      <td>NaN</td>\n",
       "      <td>NaN</td>\n",
       "      <td>004-E</td>\n",
       "      <td>NEW ASHOK NAGAR</td>\n",
       "      <td>56168</td>\n",
       "      <td>3689</td>\n",
       "    </tr>\n",
       "    <tr>\n",
       "      <th>1</th>\n",
       "      <td>1</td>\n",
       "      <td>3</td>\n",
       "      <td>55</td>\n",
       "      <td>TRILOKPURI</td>\n",
       "      <td>003-E</td>\n",
       "      <td>TRILOKPURI-WEST</td>\n",
       "      <td>None</td>\n",
       "      <td>None</td>\n",
       "      <td>None</td>\n",
       "      <td>EAST</td>\n",
       "      <td>POLYGON ((77.30900 28.60206, 77.30875 28.60177...</td>\n",
       "      <td>NaN</td>\n",
       "      <td>NaN</td>\n",
       "      <td>003-E</td>\n",
       "      <td>TRILOKPURI-WEST</td>\n",
       "      <td>64346</td>\n",
       "      <td>22075</td>\n",
       "    </tr>\n",
       "    <tr>\n",
       "      <th>2</th>\n",
       "      <td>2</td>\n",
       "      <td>1</td>\n",
       "      <td>55</td>\n",
       "      <td>TRILOKPURI</td>\n",
       "      <td>001-E</td>\n",
       "      <td>MAYUR VIHAR PHASE-I</td>\n",
       "      <td>None</td>\n",
       "      <td>None</td>\n",
       "      <td>None</td>\n",
       "      <td>EAST</td>\n",
       "      <td>POLYGON ((77.29656 28.60533, 77.29649 28.60550...</td>\n",
       "      <td>55.0</td>\n",
       "      <td>TRILOKPURI</td>\n",
       "      <td>001-E</td>\n",
       "      <td>MAYUR VIHAR PHASE-I</td>\n",
       "      <td>61348</td>\n",
       "      <td>17546</td>\n",
       "    </tr>\n",
       "    <tr>\n",
       "      <th>3</th>\n",
       "      <td>3</td>\n",
       "      <td>2</td>\n",
       "      <td>55</td>\n",
       "      <td>TRILOKPURI</td>\n",
       "      <td>002-E</td>\n",
       "      <td>TRILOKPURI-EAST</td>\n",
       "      <td>None</td>\n",
       "      <td>None</td>\n",
       "      <td>None</td>\n",
       "      <td>EAST</td>\n",
       "      <td>POLYGON ((77.32022 28.61495, 77.32022 28.61491...</td>\n",
       "      <td>NaN</td>\n",
       "      <td>NaN</td>\n",
       "      <td>002-E</td>\n",
       "      <td>TRILOKPURI-EAST</td>\n",
       "      <td>59678</td>\n",
       "      <td>33296</td>\n",
       "    </tr>\n",
       "    <tr>\n",
       "      <th>4</th>\n",
       "      <td>4</td>\n",
       "      <td>5</td>\n",
       "      <td>56</td>\n",
       "      <td>KONDLI</td>\n",
       "      <td>005-E</td>\n",
       "      <td>DALLUPURA</td>\n",
       "      <td>None</td>\n",
       "      <td>None</td>\n",
       "      <td>None</td>\n",
       "      <td>EAST</td>\n",
       "      <td>POLYGON ((77.31043 28.59916, 77.31016 28.59934...</td>\n",
       "      <td>56.0</td>\n",
       "      <td>KONDLI</td>\n",
       "      <td>005-E</td>\n",
       "      <td>KONDLI</td>\n",
       "      <td>62399</td>\n",
       "      <td>17502</td>\n",
       "    </tr>\n",
       "  </tbody>\n",
       "</table>\n",
       "</div>"
      ],
      "text/plain": [
       "   FID  ID AC_NO       AC_NM WARD_NO            WARD_NAME TOT_POP SC_POP  \\\n",
       "0    0   4    55  TRILOKPURI   004-E      NEW ASHOK NAGAR    None   None   \n",
       "1    1   3    55  TRILOKPURI   003-E      TRILOKPURI-WEST    None   None   \n",
       "2    2   1    55  TRILOKPURI   001-E  MAYUR VIHAR PHASE-I    None   None   \n",
       "3    3   2    55  TRILOKPURI   002-E      TRILOKPURI-EAST    None   None   \n",
       "4    4   5    56      KONDLI   005-E            DALLUPURA    None   None   \n",
       "\n",
       "  NA_POP    LB                                           geometry  AC No.  \\\n",
       "0   None  EAST  POLYGON ((77.29898 28.59049, 77.30123 28.59310...     NaN   \n",
       "1   None  EAST  POLYGON ((77.30900 28.60206, 77.30875 28.60177...     NaN   \n",
       "2   None  EAST  POLYGON ((77.29656 28.60533, 77.29649 28.60550...    55.0   \n",
       "3   None  EAST  POLYGON ((77.32022 28.61495, 77.32022 28.61491...     NaN   \n",
       "4   None  EAST  POLYGON ((77.31043 28.59916, 77.31016 28.59934...    56.0   \n",
       "\n",
       "      AC Name Ward No.            Ward Name  Total Population  SC Population  \n",
       "0         NaN    004-E      NEW ASHOK NAGAR             56168           3689  \n",
       "1         NaN    003-E      TRILOKPURI-WEST             64346          22075  \n",
       "2  TRILOKPURI    001-E  MAYUR VIHAR PHASE-I             61348          17546  \n",
       "3         NaN    002-E      TRILOKPURI-EAST             59678          33296  \n",
       "4      KONDLI    005-E               KONDLI             62399          17502  "
      ]
     },
     "execution_count": 37,
     "metadata": {},
     "output_type": "execute_result"
    }
   ],
   "source": [
    "ward_shapefile = ward_shapefile.merge(ward_pop, how='inner', left_on='WARD_NO', right_on='Ward No.')\n",
    "ward_shapefile.head()"
   ]
  },
  {
   "cell_type": "code",
   "execution_count": 38,
   "metadata": {},
   "outputs": [
    {
     "data": {
      "text/plain": [
       "272"
      ]
     },
     "execution_count": 38,
     "metadata": {},
     "output_type": "execute_result"
    }
   ],
   "source": [
    "# WARD_NO is the unique ID\n",
    "len(ward_shapefile['WARD_NO'].unique())"
   ]
  },
  {
   "cell_type": "code",
   "execution_count": 44,
   "metadata": {},
   "outputs": [
    {
     "data": {
      "text/plain": [
       "Index(['FID', 'ID', 'AC_NO', 'AC_NM', 'WARD_NO', 'WARD_NAME', 'TOT_POP',\n",
       "       'SC_POP', 'NA_POP', 'LB', 'geometry', 'AC No.', 'AC Name', 'Ward No.',\n",
       "       'Ward Name', 'Total Population', 'SC Population', 'geom_type', 'index'],\n",
       "      dtype='object')"
      ]
     },
     "execution_count": 44,
     "metadata": {},
     "output_type": "execute_result"
    }
   ],
   "source": [
    "ward_shapefile.columns"
   ]
  },
  {
   "cell_type": "markdown",
   "metadata": {},
   "source": [
    "## Check Validity of Ward Shapefile"
   ]
  },
  {
   "cell_type": "code",
   "execution_count": 39,
   "metadata": {},
   "outputs": [],
   "source": [
    "# boundary of Delhi\n",
    "delhi_bounds_filepath = os.path.join('shapefiles', 'delhi_bounds_buffer.shp')"
   ]
  },
  {
   "cell_type": "code",
   "execution_count": 40,
   "metadata": {},
   "outputs": [
    {
     "name": "stdout",
     "output_type": "stream",
     "text": [
      "wards has duplicate rows: False\n",
      "----------------------------------------------------\n",
      "rows with invalid geometries \n",
      "\n",
      "----------------------------------------------------\n",
      "all geometries in wards are of type Polygon: True\n",
      "----------------------------------------------------\n",
      "Rows with None value in geometry column are below\n",
      "Empty GeoDataFrame\n",
      "Columns: [FID, ID, AC_NO, AC_NM, WARD_NO, WARD_NAME, TOT_POP, SC_POP, NA_POP, LB, geometry, AC No., AC Name, Ward No., Ward Name, Total Population, SC Population, geom_type]\n",
      "Index: []\n",
      "----------------------------------------------------\n",
      "wards shapefile is contained within Delhi: True\n",
      "----------------------------------------------------\n",
      "Done with shapefile evaluation\n"
     ]
    }
   ],
   "source": [
    "spatial_index_utils.check_shapefile(gdf=ward_shapefile, gdf_name='wards', \n",
    "                                    geom_type='Polygon', \n",
    "                                    delhi_bounds_filepath=delhi_bounds_filepath)"
   ]
  },
  {
   "cell_type": "markdown",
   "metadata": {},
   "source": [
    "## Create index column"
   ]
  },
  {
   "cell_type": "code",
   "execution_count": 42,
   "metadata": {},
   "outputs": [],
   "source": [
    "ward_shapefile['index'] = ward_shapefile.index"
   ]
  },
  {
   "cell_type": "code",
   "execution_count": 43,
   "metadata": {},
   "outputs": [
    {
     "data": {
      "text/html": [
       "<div>\n",
       "<style scoped>\n",
       "    .dataframe tbody tr th:only-of-type {\n",
       "        vertical-align: middle;\n",
       "    }\n",
       "\n",
       "    .dataframe tbody tr th {\n",
       "        vertical-align: top;\n",
       "    }\n",
       "\n",
       "    .dataframe thead th {\n",
       "        text-align: right;\n",
       "    }\n",
       "</style>\n",
       "<table border=\"1\" class=\"dataframe\">\n",
       "  <thead>\n",
       "    <tr style=\"text-align: right;\">\n",
       "      <th></th>\n",
       "      <th>FID</th>\n",
       "      <th>ID</th>\n",
       "      <th>AC_NO</th>\n",
       "      <th>AC_NM</th>\n",
       "      <th>WARD_NO</th>\n",
       "      <th>WARD_NAME</th>\n",
       "      <th>TOT_POP</th>\n",
       "      <th>SC_POP</th>\n",
       "      <th>NA_POP</th>\n",
       "      <th>LB</th>\n",
       "      <th>geometry</th>\n",
       "      <th>AC No.</th>\n",
       "      <th>AC Name</th>\n",
       "      <th>Ward No.</th>\n",
       "      <th>Ward Name</th>\n",
       "      <th>Total Population</th>\n",
       "      <th>SC Population</th>\n",
       "      <th>geom_type</th>\n",
       "      <th>index</th>\n",
       "    </tr>\n",
       "  </thead>\n",
       "  <tbody>\n",
       "    <tr>\n",
       "      <th>0</th>\n",
       "      <td>0</td>\n",
       "      <td>4</td>\n",
       "      <td>55</td>\n",
       "      <td>TRILOKPURI</td>\n",
       "      <td>004-E</td>\n",
       "      <td>NEW ASHOK NAGAR</td>\n",
       "      <td>None</td>\n",
       "      <td>None</td>\n",
       "      <td>None</td>\n",
       "      <td>EAST</td>\n",
       "      <td>POLYGON ((77.29898 28.59049, 77.30123 28.59310...</td>\n",
       "      <td>NaN</td>\n",
       "      <td>NaN</td>\n",
       "      <td>004-E</td>\n",
       "      <td>NEW ASHOK NAGAR</td>\n",
       "      <td>56168</td>\n",
       "      <td>3689</td>\n",
       "      <td>&lt;class 'geopandas.geoseries.GeoSeries'&gt;</td>\n",
       "      <td>0</td>\n",
       "    </tr>\n",
       "    <tr>\n",
       "      <th>1</th>\n",
       "      <td>1</td>\n",
       "      <td>3</td>\n",
       "      <td>55</td>\n",
       "      <td>TRILOKPURI</td>\n",
       "      <td>003-E</td>\n",
       "      <td>TRILOKPURI-WEST</td>\n",
       "      <td>None</td>\n",
       "      <td>None</td>\n",
       "      <td>None</td>\n",
       "      <td>EAST</td>\n",
       "      <td>POLYGON ((77.30900 28.60206, 77.30875 28.60177...</td>\n",
       "      <td>NaN</td>\n",
       "      <td>NaN</td>\n",
       "      <td>003-E</td>\n",
       "      <td>TRILOKPURI-WEST</td>\n",
       "      <td>64346</td>\n",
       "      <td>22075</td>\n",
       "      <td>&lt;class 'geopandas.geoseries.GeoSeries'&gt;</td>\n",
       "      <td>1</td>\n",
       "    </tr>\n",
       "    <tr>\n",
       "      <th>2</th>\n",
       "      <td>2</td>\n",
       "      <td>1</td>\n",
       "      <td>55</td>\n",
       "      <td>TRILOKPURI</td>\n",
       "      <td>001-E</td>\n",
       "      <td>MAYUR VIHAR PHASE-I</td>\n",
       "      <td>None</td>\n",
       "      <td>None</td>\n",
       "      <td>None</td>\n",
       "      <td>EAST</td>\n",
       "      <td>POLYGON ((77.29656 28.60533, 77.29649 28.60550...</td>\n",
       "      <td>55.0</td>\n",
       "      <td>TRILOKPURI</td>\n",
       "      <td>001-E</td>\n",
       "      <td>MAYUR VIHAR PHASE-I</td>\n",
       "      <td>61348</td>\n",
       "      <td>17546</td>\n",
       "      <td>&lt;class 'geopandas.geoseries.GeoSeries'&gt;</td>\n",
       "      <td>2</td>\n",
       "    </tr>\n",
       "    <tr>\n",
       "      <th>3</th>\n",
       "      <td>3</td>\n",
       "      <td>2</td>\n",
       "      <td>55</td>\n",
       "      <td>TRILOKPURI</td>\n",
       "      <td>002-E</td>\n",
       "      <td>TRILOKPURI-EAST</td>\n",
       "      <td>None</td>\n",
       "      <td>None</td>\n",
       "      <td>None</td>\n",
       "      <td>EAST</td>\n",
       "      <td>POLYGON ((77.32022 28.61495, 77.32022 28.61491...</td>\n",
       "      <td>NaN</td>\n",
       "      <td>NaN</td>\n",
       "      <td>002-E</td>\n",
       "      <td>TRILOKPURI-EAST</td>\n",
       "      <td>59678</td>\n",
       "      <td>33296</td>\n",
       "      <td>&lt;class 'geopandas.geoseries.GeoSeries'&gt;</td>\n",
       "      <td>3</td>\n",
       "    </tr>\n",
       "    <tr>\n",
       "      <th>4</th>\n",
       "      <td>4</td>\n",
       "      <td>5</td>\n",
       "      <td>56</td>\n",
       "      <td>KONDLI</td>\n",
       "      <td>005-E</td>\n",
       "      <td>DALLUPURA</td>\n",
       "      <td>None</td>\n",
       "      <td>None</td>\n",
       "      <td>None</td>\n",
       "      <td>EAST</td>\n",
       "      <td>POLYGON ((77.31043 28.59916, 77.31016 28.59934...</td>\n",
       "      <td>56.0</td>\n",
       "      <td>KONDLI</td>\n",
       "      <td>005-E</td>\n",
       "      <td>KONDLI</td>\n",
       "      <td>62399</td>\n",
       "      <td>17502</td>\n",
       "      <td>&lt;class 'geopandas.geoseries.GeoSeries'&gt;</td>\n",
       "      <td>4</td>\n",
       "    </tr>\n",
       "  </tbody>\n",
       "</table>\n",
       "</div>"
      ],
      "text/plain": [
       "   FID  ID AC_NO       AC_NM WARD_NO            WARD_NAME TOT_POP SC_POP  \\\n",
       "0    0   4    55  TRILOKPURI   004-E      NEW ASHOK NAGAR    None   None   \n",
       "1    1   3    55  TRILOKPURI   003-E      TRILOKPURI-WEST    None   None   \n",
       "2    2   1    55  TRILOKPURI   001-E  MAYUR VIHAR PHASE-I    None   None   \n",
       "3    3   2    55  TRILOKPURI   002-E      TRILOKPURI-EAST    None   None   \n",
       "4    4   5    56      KONDLI   005-E            DALLUPURA    None   None   \n",
       "\n",
       "  NA_POP    LB                                           geometry  AC No.  \\\n",
       "0   None  EAST  POLYGON ((77.29898 28.59049, 77.30123 28.59310...     NaN   \n",
       "1   None  EAST  POLYGON ((77.30900 28.60206, 77.30875 28.60177...     NaN   \n",
       "2   None  EAST  POLYGON ((77.29656 28.60533, 77.29649 28.60550...    55.0   \n",
       "3   None  EAST  POLYGON ((77.32022 28.61495, 77.32022 28.61491...     NaN   \n",
       "4   None  EAST  POLYGON ((77.31043 28.59916, 77.31016 28.59934...    56.0   \n",
       "\n",
       "      AC Name Ward No.            Ward Name  Total Population  SC Population  \\\n",
       "0         NaN    004-E      NEW ASHOK NAGAR             56168           3689   \n",
       "1         NaN    003-E      TRILOKPURI-WEST             64346          22075   \n",
       "2  TRILOKPURI    001-E  MAYUR VIHAR PHASE-I             61348          17546   \n",
       "3         NaN    002-E      TRILOKPURI-EAST             59678          33296   \n",
       "4      KONDLI    005-E               KONDLI             62399          17502   \n",
       "\n",
       "                                 geom_type  index  \n",
       "0  <class 'geopandas.geoseries.GeoSeries'>      0  \n",
       "1  <class 'geopandas.geoseries.GeoSeries'>      1  \n",
       "2  <class 'geopandas.geoseries.GeoSeries'>      2  \n",
       "3  <class 'geopandas.geoseries.GeoSeries'>      3  \n",
       "4  <class 'geopandas.geoseries.GeoSeries'>      4  "
      ]
     },
     "execution_count": 43,
     "metadata": {},
     "output_type": "execute_result"
    }
   ],
   "source": [
    "ward_shapefile.head()"
   ]
  },
  {
   "cell_type": "markdown",
   "metadata": {},
   "source": [
    "## Import services shapefiles"
   ]
  },
  {
   "cell_type": "code",
   "execution_count": 52,
   "metadata": {},
   "outputs": [],
   "source": [
    "# Define filepaths\n",
    "\n",
    "services_dir = os.path.join('shapefiles', 'Spatial_Index_GIS', 'Public Services')\n",
    "\n",
    "bank_fp = os.path.join(services_dir, 'Banking', 'Banking.shp')\n",
    "health_fp = os.path.join(services_dir, 'Health', 'Health.shp')\n",
    "road_fp = os.path.join(services_dir, 'Major Road', 'Road.shp')\n",
    "police_fp = os.path.join(services_dir, 'Police', 'Police Station.shp')\n",
    "ration_fp = os.path.join(services_dir, 'Ration', 'Ration.shp')\n",
    "school_fp = os.path.join(services_dir, 'School', 'schools7760.shp')\n",
    "transport_fp = os.path.join(services_dir, 'Transport', 'Transport.shp')\n",
    "\n",
    "# boundary of Delhi\n",
    "delhi_bounds_filepath = os.path.join('shapefiles', 'delhi_bounds_buffer.shp')\n",
    "\n",
    "# Check that all filepaths exist\n",
    "filepath_list = [bank_fp, health_fp, road_fp, police_fp, ration_fp, school_fp, transport_fp, delhi_bounds_filepath]\n",
    "\n",
    "for filepath in filepath_list:\n",
    "    if not os.path.exists(filepath):\n",
    "        print('{} does not exist'.format(filepath))\n",
    "        \n",
    "# Import services\n",
    "bank = gpd.read_file(bank_fp)\n",
    "health = gpd.read_file(health_fp)\n",
    "road = gpd.read_file(road_fp)\n",
    "police = gpd.read_file(police_fp)\n",
    "ration = gpd.read_file(ration_fp)\n",
    "school = gpd.read_file(school_fp)\n",
    "transport = gpd.read_file(transport_fp)"
   ]
  },
  {
   "cell_type": "markdown",
   "metadata": {},
   "source": [
    "## Reproject everything to EPSG 7760"
   ]
  },
  {
   "cell_type": "code",
   "execution_count": 55,
   "metadata": {},
   "outputs": [
    {
     "name": "stdout",
     "output_type": "stream",
     "text": [
      "GeoDataFrame now has the following CRS:\n",
      "\n",
      "PROJCRS[\"WGS 84 / Delhi\",BASEGEOGCRS[\"WGS 84\",DATUM[\"World Geodetic System 1984\",ELLIPSOID[\"WGS 84\",6378137,298.257223563,LENGTHUNIT[\"metre\",1]]],PRIMEM[\"Greenwich\",0,ANGLEUNIT[\"degree\",0.0174532925199433]],ID[\"EPSG\",4326]],CONVERSION[\"Delhi NSF LCC\",METHOD[\"Lambert Conic Conformal (2SP)\",ID[\"EPSG\",9802]],PARAMETER[\"Latitude of false origin\",28.62510126,ANGLEUNIT[\"degree\",0.0174532925199433],ID[\"EPSG\",8821]],PARAMETER[\"Longitude of false origin\",77,ANGLEUNIT[\"degree\",0.0174532925199433],ID[\"EPSG\",8822]],PARAMETER[\"Latitude of 1st standard parallel\",28.375,ANGLEUNIT[\"degree\",0.0174532925199433],ID[\"EPSG\",8823]],PARAMETER[\"Latitude of 2nd standard parallel\",28.875,ANGLEUNIT[\"degree\",0.0174532925199433],ID[\"EPSG\",8824]],PARAMETER[\"Easting at false origin\",1000000,LENGTHUNIT[\"metre\",1],ID[\"EPSG\",8826]],PARAMETER[\"Northing at false origin\",1000000,LENGTHUNIT[\"metre\",1],ID[\"EPSG\",8827]]],CS[Cartesian,2],AXIS[\"easting (X)\",east,ORDER[1],LENGTHUNIT[\"metre\",1]],AXIS[\"northing (Y)\",north,ORDER[2],LENGTHUNIT[\"metre\",1]],USAGE[SCOPE[\"unknown\"],AREA[\"India - Delhi\"],BBOX[28.4,76.83,28.89,77.34]],ID[\"EPSG\",7760]]\n"
     ]
    }
   ],
   "source": [
    "ward_shapefile = reproject_gdf(ward_shapefile, epsg_code)"
   ]
  },
  {
   "cell_type": "code",
   "execution_count": 56,
   "metadata": {},
   "outputs": [
    {
     "data": {
      "text/plain": [
       "True"
      ]
     },
     "execution_count": 56,
     "metadata": {},
     "output_type": "execute_result"
    }
   ],
   "source": [
    "bank.crs == health.crs == road.crs == police.crs == ration.crs == school.crs == transport.crs == ward_shapefile.crs"
   ]
  },
  {
   "cell_type": "markdown",
   "metadata": {},
   "source": [
    "## Test Service Index for Wards"
   ]
  },
  {
   "cell_type": "code",
   "execution_count": 57,
   "metadata": {},
   "outputs": [
    {
     "name": "stdout",
     "output_type": "stream",
     "text": [
      "GeoDataFrame now has the following CRS:\n",
      "\n",
      "epsg:7760\n"
     ]
    },
    {
     "data": {
      "text/html": [
       "<div>\n",
       "<style scoped>\n",
       "    .dataframe tbody tr th:only-of-type {\n",
       "        vertical-align: middle;\n",
       "    }\n",
       "\n",
       "    .dataframe tbody tr th {\n",
       "        vertical-align: top;\n",
       "    }\n",
       "\n",
       "    .dataframe thead th {\n",
       "        text-align: right;\n",
       "    }\n",
       "</style>\n",
       "<table border=\"1\" class=\"dataframe\">\n",
       "  <thead>\n",
       "    <tr style=\"text-align: right;\">\n",
       "      <th></th>\n",
       "      <th>FID</th>\n",
       "      <th>ID</th>\n",
       "      <th>AC_NO</th>\n",
       "      <th>AC_NM</th>\n",
       "      <th>WARD_NO</th>\n",
       "      <th>WARD_NAME</th>\n",
       "      <th>TOT_POP</th>\n",
       "      <th>SC_POP</th>\n",
       "      <th>NA_POP</th>\n",
       "      <th>LB</th>\n",
       "      <th>...</th>\n",
       "      <th>AC Name</th>\n",
       "      <th>Ward No.</th>\n",
       "      <th>Ward Name</th>\n",
       "      <th>Total Population</th>\n",
       "      <th>SC Population</th>\n",
       "      <th>geom_type</th>\n",
       "      <th>index</th>\n",
       "      <th>health_count</th>\n",
       "      <th>health_pcen</th>\n",
       "      <th>health_idx</th>\n",
       "    </tr>\n",
       "  </thead>\n",
       "  <tbody>\n",
       "    <tr>\n",
       "      <th>0</th>\n",
       "      <td>0</td>\n",
       "      <td>4</td>\n",
       "      <td>55</td>\n",
       "      <td>TRILOKPURI</td>\n",
       "      <td>004-E</td>\n",
       "      <td>NEW ASHOK NAGAR</td>\n",
       "      <td>None</td>\n",
       "      <td>None</td>\n",
       "      <td>None</td>\n",
       "      <td>EAST</td>\n",
       "      <td>...</td>\n",
       "      <td>NaN</td>\n",
       "      <td>004-E</td>\n",
       "      <td>NEW ASHOK NAGAR</td>\n",
       "      <td>56168</td>\n",
       "      <td>3689</td>\n",
       "      <td>&lt;class 'geopandas.geoseries.GeoSeries'&gt;</td>\n",
       "      <td>0</td>\n",
       "      <td>1</td>\n",
       "      <td>0.000018</td>\n",
       "      <td>0.145560</td>\n",
       "    </tr>\n",
       "    <tr>\n",
       "      <th>1</th>\n",
       "      <td>1</td>\n",
       "      <td>3</td>\n",
       "      <td>55</td>\n",
       "      <td>TRILOKPURI</td>\n",
       "      <td>003-E</td>\n",
       "      <td>TRILOKPURI-WEST</td>\n",
       "      <td>None</td>\n",
       "      <td>None</td>\n",
       "      <td>None</td>\n",
       "      <td>EAST</td>\n",
       "      <td>...</td>\n",
       "      <td>NaN</td>\n",
       "      <td>003-E</td>\n",
       "      <td>TRILOKPURI-WEST</td>\n",
       "      <td>64346</td>\n",
       "      <td>22075</td>\n",
       "      <td>&lt;class 'geopandas.geoseries.GeoSeries'&gt;</td>\n",
       "      <td>1</td>\n",
       "      <td>2</td>\n",
       "      <td>0.000031</td>\n",
       "      <td>0.254121</td>\n",
       "    </tr>\n",
       "    <tr>\n",
       "      <th>2</th>\n",
       "      <td>2</td>\n",
       "      <td>1</td>\n",
       "      <td>55</td>\n",
       "      <td>TRILOKPURI</td>\n",
       "      <td>001-E</td>\n",
       "      <td>MAYUR VIHAR PHASE-I</td>\n",
       "      <td>None</td>\n",
       "      <td>None</td>\n",
       "      <td>None</td>\n",
       "      <td>EAST</td>\n",
       "      <td>...</td>\n",
       "      <td>TRILOKPURI</td>\n",
       "      <td>001-E</td>\n",
       "      <td>MAYUR VIHAR PHASE-I</td>\n",
       "      <td>61348</td>\n",
       "      <td>17546</td>\n",
       "      <td>&lt;class 'geopandas.geoseries.GeoSeries'&gt;</td>\n",
       "      <td>2</td>\n",
       "      <td>1</td>\n",
       "      <td>0.000016</td>\n",
       "      <td>0.133270</td>\n",
       "    </tr>\n",
       "    <tr>\n",
       "      <th>3</th>\n",
       "      <td>3</td>\n",
       "      <td>2</td>\n",
       "      <td>55</td>\n",
       "      <td>TRILOKPURI</td>\n",
       "      <td>002-E</td>\n",
       "      <td>TRILOKPURI-EAST</td>\n",
       "      <td>None</td>\n",
       "      <td>None</td>\n",
       "      <td>None</td>\n",
       "      <td>EAST</td>\n",
       "      <td>...</td>\n",
       "      <td>NaN</td>\n",
       "      <td>002-E</td>\n",
       "      <td>TRILOKPURI-EAST</td>\n",
       "      <td>59678</td>\n",
       "      <td>33296</td>\n",
       "      <td>&lt;class 'geopandas.geoseries.GeoSeries'&gt;</td>\n",
       "      <td>3</td>\n",
       "      <td>1</td>\n",
       "      <td>0.000017</td>\n",
       "      <td>0.136999</td>\n",
       "    </tr>\n",
       "    <tr>\n",
       "      <th>4</th>\n",
       "      <td>4</td>\n",
       "      <td>5</td>\n",
       "      <td>56</td>\n",
       "      <td>KONDLI</td>\n",
       "      <td>005-E</td>\n",
       "      <td>DALLUPURA</td>\n",
       "      <td>None</td>\n",
       "      <td>None</td>\n",
       "      <td>None</td>\n",
       "      <td>EAST</td>\n",
       "      <td>...</td>\n",
       "      <td>KONDLI</td>\n",
       "      <td>005-E</td>\n",
       "      <td>KONDLI</td>\n",
       "      <td>62399</td>\n",
       "      <td>17502</td>\n",
       "      <td>&lt;class 'geopandas.geoseries.GeoSeries'&gt;</td>\n",
       "      <td>4</td>\n",
       "      <td>1</td>\n",
       "      <td>0.000016</td>\n",
       "      <td>0.131025</td>\n",
       "    </tr>\n",
       "    <tr>\n",
       "      <th>...</th>\n",
       "      <td>...</td>\n",
       "      <td>...</td>\n",
       "      <td>...</td>\n",
       "      <td>...</td>\n",
       "      <td>...</td>\n",
       "      <td>...</td>\n",
       "      <td>...</td>\n",
       "      <td>...</td>\n",
       "      <td>...</td>\n",
       "      <td>...</td>\n",
       "      <td>...</td>\n",
       "      <td>...</td>\n",
       "      <td>...</td>\n",
       "      <td>...</td>\n",
       "      <td>...</td>\n",
       "      <td>...</td>\n",
       "      <td>...</td>\n",
       "      <td>...</td>\n",
       "      <td>...</td>\n",
       "      <td>...</td>\n",
       "      <td>...</td>\n",
       "    </tr>\n",
       "    <tr>\n",
       "      <th>267</th>\n",
       "      <td>267</td>\n",
       "      <td>100</td>\n",
       "      <td>25</td>\n",
       "      <td>MOTI NAGAR</td>\n",
       "      <td>100-N</td>\n",
       "      <td>MOTI NAGAR</td>\n",
       "      <td>None</td>\n",
       "      <td>None</td>\n",
       "      <td>None</td>\n",
       "      <td>NORTH</td>\n",
       "      <td>...</td>\n",
       "      <td>NaN</td>\n",
       "      <td>100-N</td>\n",
       "      <td>MOTI NAGAR</td>\n",
       "      <td>59963</td>\n",
       "      <td>4333</td>\n",
       "      <td>&lt;class 'geopandas.geoseries.GeoSeries'&gt;</td>\n",
       "      <td>267</td>\n",
       "      <td>2</td>\n",
       "      <td>0.000033</td>\n",
       "      <td>0.272696</td>\n",
       "    </tr>\n",
       "    <tr>\n",
       "      <th>268</th>\n",
       "      <td>268</td>\n",
       "      <td>104</td>\n",
       "      <td>39</td>\n",
       "      <td>RAJINDER NAGAR</td>\n",
       "      <td>104-N</td>\n",
       "      <td>NARAINA</td>\n",
       "      <td>None</td>\n",
       "      <td>None</td>\n",
       "      <td>None</td>\n",
       "      <td>NORTH</td>\n",
       "      <td>...</td>\n",
       "      <td>NaN</td>\n",
       "      <td>104-N</td>\n",
       "      <td>NARAINA</td>\n",
       "      <td>80240</td>\n",
       "      <td>15689</td>\n",
       "      <td>&lt;class 'geopandas.geoseries.GeoSeries'&gt;</td>\n",
       "      <td>268</td>\n",
       "      <td>1</td>\n",
       "      <td>0.000012</td>\n",
       "      <td>0.101892</td>\n",
       "    </tr>\n",
       "    <tr>\n",
       "      <th>269</th>\n",
       "      <td>269</td>\n",
       "      <td>103</td>\n",
       "      <td>39</td>\n",
       "      <td>RAJINDER NAGAR</td>\n",
       "      <td>103-N</td>\n",
       "      <td>INDER PURI</td>\n",
       "      <td>None</td>\n",
       "      <td>None</td>\n",
       "      <td>None</td>\n",
       "      <td>NORTH</td>\n",
       "      <td>...</td>\n",
       "      <td>NaN</td>\n",
       "      <td>103-N</td>\n",
       "      <td>INDER PURI</td>\n",
       "      <td>65425</td>\n",
       "      <td>20479</td>\n",
       "      <td>&lt;class 'geopandas.geoseries.GeoSeries'&gt;</td>\n",
       "      <td>269</td>\n",
       "      <td>1</td>\n",
       "      <td>0.000015</td>\n",
       "      <td>0.124965</td>\n",
       "    </tr>\n",
       "    <tr>\n",
       "      <th>270</th>\n",
       "      <td>270</td>\n",
       "      <td>102</td>\n",
       "      <td>39</td>\n",
       "      <td>RAJINDER NAGAR</td>\n",
       "      <td>102-N</td>\n",
       "      <td>RAJINDER NAGAR</td>\n",
       "      <td>None</td>\n",
       "      <td>None</td>\n",
       "      <td>None</td>\n",
       "      <td>NORTH</td>\n",
       "      <td>...</td>\n",
       "      <td>RAJINDER NAGAR</td>\n",
       "      <td>102-N</td>\n",
       "      <td>RAJINDER NAGAR</td>\n",
       "      <td>56402</td>\n",
       "      <td>7788</td>\n",
       "      <td>&lt;class 'geopandas.geoseries.GeoSeries'&gt;</td>\n",
       "      <td>270</td>\n",
       "      <td>1</td>\n",
       "      <td>0.000018</td>\n",
       "      <td>0.144956</td>\n",
       "    </tr>\n",
       "    <tr>\n",
       "      <th>271</th>\n",
       "      <td>271</td>\n",
       "      <td>82</td>\n",
       "      <td>19</td>\n",
       "      <td>SADAR BAZAR</td>\n",
       "      <td>082-N</td>\n",
       "      <td>ANAND PARBAT</td>\n",
       "      <td>None</td>\n",
       "      <td>None</td>\n",
       "      <td>None</td>\n",
       "      <td>NORTH</td>\n",
       "      <td>...</td>\n",
       "      <td>NaN</td>\n",
       "      <td>082-N</td>\n",
       "      <td>ANAND PARBAT</td>\n",
       "      <td>50294</td>\n",
       "      <td>14087</td>\n",
       "      <td>&lt;class 'geopandas.geoseries.GeoSeries'&gt;</td>\n",
       "      <td>271</td>\n",
       "      <td>3</td>\n",
       "      <td>0.000060</td>\n",
       "      <td>0.487682</td>\n",
       "    </tr>\n",
       "  </tbody>\n",
       "</table>\n",
       "<p>272 rows × 22 columns</p>\n",
       "</div>"
      ],
      "text/plain": [
       "     FID   ID AC_NO           AC_NM WARD_NO            WARD_NAME TOT_POP  \\\n",
       "0      0    4    55      TRILOKPURI   004-E      NEW ASHOK NAGAR    None   \n",
       "1      1    3    55      TRILOKPURI   003-E      TRILOKPURI-WEST    None   \n",
       "2      2    1    55      TRILOKPURI   001-E  MAYUR VIHAR PHASE-I    None   \n",
       "3      3    2    55      TRILOKPURI   002-E      TRILOKPURI-EAST    None   \n",
       "4      4    5    56          KONDLI   005-E            DALLUPURA    None   \n",
       "..   ...  ...   ...             ...     ...                  ...     ...   \n",
       "267  267  100    25      MOTI NAGAR   100-N           MOTI NAGAR    None   \n",
       "268  268  104    39  RAJINDER NAGAR   104-N              NARAINA    None   \n",
       "269  269  103    39  RAJINDER NAGAR   103-N           INDER PURI    None   \n",
       "270  270  102    39  RAJINDER NAGAR   102-N       RAJINDER NAGAR    None   \n",
       "271  271   82    19     SADAR BAZAR   082-N         ANAND PARBAT    None   \n",
       "\n",
       "    SC_POP NA_POP     LB  ...         AC Name  Ward No.            Ward Name  \\\n",
       "0     None   None   EAST  ...             NaN     004-E      NEW ASHOK NAGAR   \n",
       "1     None   None   EAST  ...             NaN     003-E      TRILOKPURI-WEST   \n",
       "2     None   None   EAST  ...      TRILOKPURI     001-E  MAYUR VIHAR PHASE-I   \n",
       "3     None   None   EAST  ...             NaN     002-E      TRILOKPURI-EAST   \n",
       "4     None   None   EAST  ...          KONDLI     005-E               KONDLI   \n",
       "..     ...    ...    ...  ...             ...       ...                  ...   \n",
       "267   None   None  NORTH  ...             NaN     100-N           MOTI NAGAR   \n",
       "268   None   None  NORTH  ...             NaN     104-N              NARAINA   \n",
       "269   None   None  NORTH  ...             NaN     103-N           INDER PURI   \n",
       "270   None   None  NORTH  ...  RAJINDER NAGAR     102-N       RAJINDER NAGAR   \n",
       "271   None   None  NORTH  ...             NaN     082-N         ANAND PARBAT   \n",
       "\n",
       "    Total Population SC Population                                geom_type  \\\n",
       "0              56168          3689  <class 'geopandas.geoseries.GeoSeries'>   \n",
       "1              64346         22075  <class 'geopandas.geoseries.GeoSeries'>   \n",
       "2              61348         17546  <class 'geopandas.geoseries.GeoSeries'>   \n",
       "3              59678         33296  <class 'geopandas.geoseries.GeoSeries'>   \n",
       "4              62399         17502  <class 'geopandas.geoseries.GeoSeries'>   \n",
       "..               ...           ...                                      ...   \n",
       "267            59963          4333  <class 'geopandas.geoseries.GeoSeries'>   \n",
       "268            80240         15689  <class 'geopandas.geoseries.GeoSeries'>   \n",
       "269            65425         20479  <class 'geopandas.geoseries.GeoSeries'>   \n",
       "270            56402          7788  <class 'geopandas.geoseries.GeoSeries'>   \n",
       "271            50294         14087  <class 'geopandas.geoseries.GeoSeries'>   \n",
       "\n",
       "     index health_count  health_pcen  health_idx  \n",
       "0        0            1     0.000018    0.145560  \n",
       "1        1            2     0.000031    0.254121  \n",
       "2        2            1     0.000016    0.133270  \n",
       "3        3            1     0.000017    0.136999  \n",
       "4        4            1     0.000016    0.131025  \n",
       "..     ...          ...          ...         ...  \n",
       "267    267            2     0.000033    0.272696  \n",
       "268    268            1     0.000012    0.101892  \n",
       "269    269            1     0.000015    0.124965  \n",
       "270    270            1     0.000018    0.144956  \n",
       "271    271            3     0.000060    0.487682  \n",
       "\n",
       "[272 rows x 22 columns]"
      ]
     },
     "execution_count": 57,
     "metadata": {},
     "output_type": "execute_result"
    }
   ],
   "source": [
    "create_service_index_wards(polygon_gdf=ward_shapefile,\n",
    "                           point_gdf=health,\n",
    "                           service_name='health',\n",
    "                           epsg_code=epsg_code)"
   ]
  },
  {
   "cell_type": "markdown",
   "metadata": {},
   "source": [
    "## Define Point and Line Services"
   ]
  },
  {
   "cell_type": "code",
   "execution_count": 58,
   "metadata": {},
   "outputs": [],
   "source": [
    "# Define all point services as dictionary\n",
    "# makes it easier to calculate all point\n",
    "# services with one function\n",
    "point_services = {'bank': bank,\n",
    "                  'health': health,\n",
    "                  'police': police,\n",
    "                  'ration': ration,\n",
    "                  'school': school,\n",
    "                  'transport': transport}\n",
    "\n",
    "line_services = {'road': road}"
   ]
  },
  {
   "cell_type": "code",
   "execution_count": 77,
   "metadata": {},
   "outputs": [
    {
     "name": "stdout",
     "output_type": "stream",
     "text": [
      "GeoDataFrame now has the following CRS:\n",
      "\n",
      "epsg:7760\n",
      "bank service index is completed\n",
      "--------------------------------------------------------\n",
      "GeoDataFrame now has the following CRS:\n",
      "\n",
      "epsg:7760\n",
      "health service index is completed\n",
      "--------------------------------------------------------\n",
      "GeoDataFrame now has the following CRS:\n",
      "\n",
      "epsg:7760\n",
      "police service index is completed\n",
      "--------------------------------------------------------\n",
      "GeoDataFrame now has the following CRS:\n",
      "\n",
      "epsg:7760\n",
      "ration service index is completed\n",
      "--------------------------------------------------------\n",
      "GeoDataFrame now has the following CRS:\n",
      "\n",
      "epsg:7760\n",
      "school service index is completed\n",
      "--------------------------------------------------------\n",
      "GeoDataFrame now has the following CRS:\n",
      "\n",
      "epsg:7760\n",
      "transport service index is completed\n",
      "--------------------------------------------------------\n",
      "all point services completed\n",
      "GeoDataFrame now has the following CRS:\n",
      "\n",
      "epsg:7760\n",
      "road service is completed\n"
     ]
    }
   ],
   "source": [
    "ward_idx = calc_all_services_wards(ward_shapefile, point_services, line_services, epsg_code)"
   ]
  },
  {
   "cell_type": "code",
   "execution_count": 78,
   "metadata": {},
   "outputs": [
    {
     "data": {
      "text/html": [
       "<div>\n",
       "<style scoped>\n",
       "    .dataframe tbody tr th:only-of-type {\n",
       "        vertical-align: middle;\n",
       "    }\n",
       "\n",
       "    .dataframe tbody tr th {\n",
       "        vertical-align: top;\n",
       "    }\n",
       "\n",
       "    .dataframe thead th {\n",
       "        text-align: right;\n",
       "    }\n",
       "</style>\n",
       "<table border=\"1\" class=\"dataframe\">\n",
       "  <thead>\n",
       "    <tr style=\"text-align: right;\">\n",
       "      <th></th>\n",
       "      <th>FID</th>\n",
       "      <th>ID</th>\n",
       "      <th>AC_NO</th>\n",
       "      <th>AC_NM</th>\n",
       "      <th>WARD_NO</th>\n",
       "      <th>WARD_NAME</th>\n",
       "      <th>TOT_POP</th>\n",
       "      <th>SC_POP</th>\n",
       "      <th>NA_POP</th>\n",
       "      <th>LB</th>\n",
       "      <th>...</th>\n",
       "      <th>ration_idx</th>\n",
       "      <th>school_count</th>\n",
       "      <th>school_pcen</th>\n",
       "      <th>school_idx</th>\n",
       "      <th>transport_count</th>\n",
       "      <th>transport_pcen</th>\n",
       "      <th>transport_idx</th>\n",
       "      <th>road_count</th>\n",
       "      <th>road_pcen</th>\n",
       "      <th>road_idx</th>\n",
       "    </tr>\n",
       "  </thead>\n",
       "  <tbody>\n",
       "    <tr>\n",
       "      <th>0</th>\n",
       "      <td>0</td>\n",
       "      <td>4</td>\n",
       "      <td>55</td>\n",
       "      <td>TRILOKPURI</td>\n",
       "      <td>004-E</td>\n",
       "      <td>NEW ASHOK NAGAR</td>\n",
       "      <td>None</td>\n",
       "      <td>None</td>\n",
       "      <td>None</td>\n",
       "      <td>EAST</td>\n",
       "      <td>...</td>\n",
       "      <td>0.175233</td>\n",
       "      <td>4</td>\n",
       "      <td>0.000071</td>\n",
       "      <td>0.099107</td>\n",
       "      <td>1</td>\n",
       "      <td>0.000018</td>\n",
       "      <td>0.008551</td>\n",
       "      <td>1.449313</td>\n",
       "      <td>0.000026</td>\n",
       "      <td>0.024171</td>\n",
       "    </tr>\n",
       "    <tr>\n",
       "      <th>1</th>\n",
       "      <td>1</td>\n",
       "      <td>3</td>\n",
       "      <td>55</td>\n",
       "      <td>TRILOKPURI</td>\n",
       "      <td>003-E</td>\n",
       "      <td>TRILOKPURI-WEST</td>\n",
       "      <td>None</td>\n",
       "      <td>None</td>\n",
       "      <td>None</td>\n",
       "      <td>EAST</td>\n",
       "      <td>...</td>\n",
       "      <td>0.267684</td>\n",
       "      <td>5</td>\n",
       "      <td>0.000078</td>\n",
       "      <td>0.108139</td>\n",
       "      <td>1</td>\n",
       "      <td>0.000016</td>\n",
       "      <td>0.007464</td>\n",
       "      <td>5.102390</td>\n",
       "      <td>0.000079</td>\n",
       "      <td>0.074279</td>\n",
       "    </tr>\n",
       "    <tr>\n",
       "      <th>2</th>\n",
       "      <td>2</td>\n",
       "      <td>1</td>\n",
       "      <td>55</td>\n",
       "      <td>TRILOKPURI</td>\n",
       "      <td>001-E</td>\n",
       "      <td>MAYUR VIHAR PHASE-I</td>\n",
       "      <td>None</td>\n",
       "      <td>None</td>\n",
       "      <td>None</td>\n",
       "      <td>EAST</td>\n",
       "      <td>...</td>\n",
       "      <td>0.481312</td>\n",
       "      <td>18</td>\n",
       "      <td>0.000293</td>\n",
       "      <td>0.408326</td>\n",
       "      <td>9</td>\n",
       "      <td>0.000147</td>\n",
       "      <td>0.070463</td>\n",
       "      <td>1.735704</td>\n",
       "      <td>0.000028</td>\n",
       "      <td>0.026503</td>\n",
       "    </tr>\n",
       "    <tr>\n",
       "      <th>3</th>\n",
       "      <td>3</td>\n",
       "      <td>2</td>\n",
       "      <td>55</td>\n",
       "      <td>TRILOKPURI</td>\n",
       "      <td>002-E</td>\n",
       "      <td>TRILOKPURI-EAST</td>\n",
       "      <td>None</td>\n",
       "      <td>None</td>\n",
       "      <td>None</td>\n",
       "      <td>EAST</td>\n",
       "      <td>...</td>\n",
       "      <td>0.577244</td>\n",
       "      <td>13</td>\n",
       "      <td>0.000218</td>\n",
       "      <td>0.303155</td>\n",
       "      <td>3</td>\n",
       "      <td>0.000050</td>\n",
       "      <td>0.024145</td>\n",
       "      <td>3.165265</td>\n",
       "      <td>0.000053</td>\n",
       "      <td>0.049684</td>\n",
       "    </tr>\n",
       "    <tr>\n",
       "      <th>4</th>\n",
       "      <td>4</td>\n",
       "      <td>5</td>\n",
       "      <td>56</td>\n",
       "      <td>KONDLI</td>\n",
       "      <td>005-E</td>\n",
       "      <td>DALLUPURA</td>\n",
       "      <td>None</td>\n",
       "      <td>None</td>\n",
       "      <td>None</td>\n",
       "      <td>EAST</td>\n",
       "      <td>...</td>\n",
       "      <td>0.039434</td>\n",
       "      <td>11</td>\n",
       "      <td>0.000176</td>\n",
       "      <td>0.245330</td>\n",
       "      <td>17</td>\n",
       "      <td>0.000272</td>\n",
       "      <td>0.130856</td>\n",
       "      <td>8.781155</td>\n",
       "      <td>0.000141</td>\n",
       "      <td>0.131823</td>\n",
       "    </tr>\n",
       "  </tbody>\n",
       "</table>\n",
       "<p>5 rows × 41 columns</p>\n",
       "</div>"
      ],
      "text/plain": [
       "   FID  ID AC_NO       AC_NM WARD_NO            WARD_NAME TOT_POP SC_POP  \\\n",
       "0    0   4    55  TRILOKPURI   004-E      NEW ASHOK NAGAR    None   None   \n",
       "1    1   3    55  TRILOKPURI   003-E      TRILOKPURI-WEST    None   None   \n",
       "2    2   1    55  TRILOKPURI   001-E  MAYUR VIHAR PHASE-I    None   None   \n",
       "3    3   2    55  TRILOKPURI   002-E      TRILOKPURI-EAST    None   None   \n",
       "4    4   5    56      KONDLI   005-E            DALLUPURA    None   None   \n",
       "\n",
       "  NA_POP    LB  ... ration_idx  school_count school_pcen school_idx  \\\n",
       "0   None  EAST  ...   0.175233             4    0.000071   0.099107   \n",
       "1   None  EAST  ...   0.267684             5    0.000078   0.108139   \n",
       "2   None  EAST  ...   0.481312            18    0.000293   0.408326   \n",
       "3   None  EAST  ...   0.577244            13    0.000218   0.303155   \n",
       "4   None  EAST  ...   0.039434            11    0.000176   0.245330   \n",
       "\n",
       "  transport_count  transport_pcen  transport_idx road_count  road_pcen  \\\n",
       "0               1        0.000018       0.008551   1.449313   0.000026   \n",
       "1               1        0.000016       0.007464   5.102390   0.000079   \n",
       "2               9        0.000147       0.070463   1.735704   0.000028   \n",
       "3               3        0.000050       0.024145   3.165265   0.000053   \n",
       "4              17        0.000272       0.130856   8.781155   0.000141   \n",
       "\n",
       "   road_idx  \n",
       "0  0.024171  \n",
       "1  0.074279  \n",
       "2  0.026503  \n",
       "3  0.049684  \n",
       "4  0.131823  \n",
       "\n",
       "[5 rows x 41 columns]"
      ]
     },
     "execution_count": 78,
     "metadata": {},
     "output_type": "execute_result"
    }
   ],
   "source": [
    "ward_idx.head()"
   ]
  },
  {
   "cell_type": "markdown",
   "metadata": {},
   "source": [
    "## Visualizing Results"
   ]
  },
  {
   "cell_type": "markdown",
   "metadata": {},
   "source": [
    "## Ration Shops"
   ]
  },
  {
   "cell_type": "code",
   "execution_count": 95,
   "metadata": {},
   "outputs": [
    {
     "data": {
      "text/plain": [
       "ration_count\n",
       "0      3\n",
       "1      7\n",
       "2      7\n",
       "3     21\n",
       "4     28\n",
       "5     31\n",
       "6     24\n",
       "7     35\n",
       "8     24\n",
       "9     20\n",
       "10    16\n",
       "11    16\n",
       "12    13\n",
       "13    14\n",
       "14     5\n",
       "15     4\n",
       "17     2\n",
       "18     1\n",
       "24     1\n",
       "dtype: int64"
      ]
     },
     "execution_count": 95,
     "metadata": {},
     "output_type": "execute_result"
    }
   ],
   "source": [
    "ward_idx.groupby('ration_count').size()"
   ]
  },
  {
   "cell_type": "code",
   "execution_count": 94,
   "metadata": {},
   "outputs": [
    {
     "data": {
      "text/plain": [
       "<matplotlib.axes._subplots.AxesSubplot at 0x2740aede108>"
      ]
     },
     "execution_count": 94,
     "metadata": {},
     "output_type": "execute_result"
    },
    {
     "data": {
      "image/png": "[encoded data removed]",
      "text/plain": [
       "<Figure size 432x288 with 1 Axes>"
      ]
     },
     "metadata": {
      "needs_background": "light"
     },
     "output_type": "display_data"
    }
   ],
   "source": [
    "ward_idx['ration_count'].plot(kind='hist')"
   ]
  },
  {
   "cell_type": "code",
   "execution_count": 96,
   "metadata": {},
   "outputs": [
    {
     "data": {
      "text/plain": [
       "<matplotlib.axes._subplots.AxesSubplot at 0x2740af2a208>"
      ]
     },
     "execution_count": 96,
     "metadata": {},
     "output_type": "execute_result"
    },
    {
     "data": {
      "image/png": "[encoded data removed]",
      "text/plain": [
       "<Figure size 432x288 with 1 Axes>"
      ]
     },
     "metadata": {
      "needs_background": "light"
     },
     "output_type": "display_data"
    }
   ],
   "source": [
    "ward_idx['ration_pcen'].plot(kind='hist')"
   ]
  },
  {
   "cell_type": "code",
   "execution_count": 79,
   "metadata": {},
   "outputs": [
    {
     "data": {
      "text/plain": [
       "<matplotlib.axes._subplots.AxesSubplot at 0x2740444f788>"
      ]
     },
     "execution_count": 79,
     "metadata": {},
     "output_type": "execute_result"
    },
    {
     "data": {
      "image/png": "[encoded data removed]",
      "text/plain": [
       "<Figure size 432x288 with 1 Axes>"
      ]
     },
     "metadata": {
      "needs_background": "light"
     },
     "output_type": "display_data"
    }
   ],
   "source": [
    "ward_idx['ration_idx'].plot(kind='hist')"
   ]
  },
  {
   "cell_type": "code",
   "execution_count": null,
   "metadata": {},
   "outputs": [],
   "source": []
  },
  {
   "cell_type": "code",
   "execution_count": null,
   "metadata": {},
   "outputs": [],
   "source": []
  },
  {
   "cell_type": "code",
   "execution_count": null,
   "metadata": {},
   "outputs": [],
   "source": []
  },
  {
   "cell_type": "code",
   "execution_count": null,
   "metadata": {},
   "outputs": [],
   "source": []
  },
  {
   "cell_type": "code",
   "execution_count": null,
   "metadata": {},
   "outputs": [],
   "source": []
  },
  {
   "cell_type": "code",
   "execution_count": null,
   "metadata": {},
   "outputs": [],
   "source": []
  },
  {
   "cell_type": "code",
   "execution_count": 80,
   "metadata": {},
   "outputs": [
    {
     "data": {
      "text/plain": [
       "<matplotlib.axes._subplots.AxesSubplot at 0x2740ac60748>"
      ]
     },
     "execution_count": 80,
     "metadata": {},
     "output_type": "execute_result"
    },
    {
     "data": {
      "image/png": "[encoded data removed]",
      "text/plain": [
       "<Figure size 432x288 with 1 Axes>"
      ]
     },
     "metadata": {
      "needs_background": "light"
     },
     "output_type": "display_data"
    }
   ],
   "source": [
    "ward_idx['school_idx'].plot(kind='hist')"
   ]
  },
  {
   "cell_type": "code",
   "execution_count": 81,
   "metadata": {},
   "outputs": [
    {
     "data": {
      "text/plain": [
       "<matplotlib.axes._subplots.AxesSubplot at 0x27408d5e148>"
      ]
     },
     "execution_count": 81,
     "metadata": {},
     "output_type": "execute_result"
    },
    {
     "data": {
      "image/png": "[encoded data removed]",
      "text/plain": [
       "<Figure size 432x288 with 1 Axes>"
      ]
     },
     "metadata": {
      "needs_background": "light"
     },
     "output_type": "display_data"
    }
   ],
   "source": [
    "ward_idx['bank_idx'].plot(kind='hist')"
   ]
  },
  {
   "cell_type": "code",
   "execution_count": 82,
   "metadata": {},
   "outputs": [
    {
     "data": {
      "text/plain": [
       "<matplotlib.axes._subplots.AxesSubplot at 0x2740aae5788>"
      ]
     },
     "execution_count": 82,
     "metadata": {},
     "output_type": "execute_result"
    },
    {
     "data": {
      "image/png": "[encoded data removed]",
      "text/plain": [
       "<Figure size 432x288 with 1 Axes>"
      ]
     },
     "metadata": {
      "needs_background": "light"
     },
     "output_type": "display_data"
    }
   ],
   "source": [
    "ward_idx['road_idx'].plot(kind='hist')"
   ]
  },
  {
   "cell_type": "markdown",
   "metadata": {},
   "source": [
    "## Health"
   ]
  },
  {
   "cell_type": "code",
   "execution_count": 83,
   "metadata": {},
   "outputs": [
    {
     "data": {
      "text/plain": [
       "<matplotlib.axes._subplots.AxesSubplot at 0x2740aba9688>"
      ]
     },
     "execution_count": 83,
     "metadata": {},
     "output_type": "execute_result"
    },
    {
     "data": {
      "image/png": "[encoded data removed]",
      "text/plain": [
       "<Figure size 432x288 with 1 Axes>"
      ]
     },
     "metadata": {
      "needs_background": "light"
     },
     "output_type": "display_data"
    }
   ],
   "source": [
    "ward_idx['health_idx'].plot(kind='hist')"
   ]
  },
  {
   "cell_type": "code",
   "execution_count": 92,
   "metadata": {},
   "outputs": [
    {
     "data": {
      "text/plain": [
       "<matplotlib.axes._subplots.AxesSubplot at 0x2740ae58508>"
      ]
     },
     "execution_count": 92,
     "metadata": {},
     "output_type": "execute_result"
    },
    {
     "data": {
      "image/png": "[encoded data removed]",
      "text/plain": [
       "<Figure size 432x288 with 1 Axes>"
      ]
     },
     "metadata": {
      "needs_background": "light"
     },
     "output_type": "display_data"
    }
   ],
   "source": [
    "ward_idx['health_pcen'].plot(kind='hist')"
   ]
  },
  {
   "cell_type": "code",
   "execution_count": 93,
   "metadata": {},
   "outputs": [
    {
     "data": {
      "text/plain": [
       "<matplotlib.axes._subplots.AxesSubplot at 0x2740ae99d48>"
      ]
     },
     "execution_count": 93,
     "metadata": {},
     "output_type": "execute_result"
    },
    {
     "data": {
      "image/png": "[encoded data removed]",
      "text/plain": [
       "<Figure size 432x288 with 1 Axes>"
      ]
     },
     "metadata": {
      "needs_background": "light"
     },
     "output_type": "display_data"
    }
   ],
   "source": [
    "ward_idx['health_count'].plot(kind='hist')"
   ]
  },
  {
   "cell_type": "code",
   "execution_count": null,
   "metadata": {},
   "outputs": [],
   "source": []
  },
  {
   "cell_type": "code",
   "execution_count": null,
   "metadata": {},
   "outputs": [],
   "source": []
  },
  {
   "cell_type": "code",
   "execution_count": null,
   "metadata": {},
   "outputs": [],
   "source": []
  },
  {
   "cell_type": "code",
   "execution_count": null,
   "metadata": {},
   "outputs": [],
   "source": []
  },
  {
   "cell_type": "code",
   "execution_count": null,
   "metadata": {},
   "outputs": [],
   "source": []
  },
  {
   "cell_type": "code",
   "execution_count": null,
   "metadata": {},
   "outputs": [],
   "source": []
  },
  {
   "cell_type": "code",
   "execution_count": 84,
   "metadata": {},
   "outputs": [
    {
     "data": {
      "text/plain": [
       "<matplotlib.axes._subplots.AxesSubplot at 0x2740ad3c908>"
      ]
     },
     "execution_count": 84,
     "metadata": {},
     "output_type": "execute_result"
    },
    {
     "data": {
      "image/png": "[encoded data removed]",
      "text/plain": [
       "<Figure size 432x288 with 1 Axes>"
      ]
     },
     "metadata": {
      "needs_background": "light"
     },
     "output_type": "display_data"
    }
   ],
   "source": [
    "ward_idx['transport_idx'].plot(kind='hist')"
   ]
  },
  {
   "cell_type": "code",
   "execution_count": 85,
   "metadata": {},
   "outputs": [
    {
     "data": {
      "text/plain": [
       "<matplotlib.axes._subplots.AxesSubplot at 0x2740ad24648>"
      ]
     },
     "execution_count": 85,
     "metadata": {},
     "output_type": "execute_result"
    },
    {
     "data": {
      "image/png": "[encoded data removed]",
      "text/plain": [
       "<Figure size 432x288 with 1 Axes>"
      ]
     },
     "metadata": {
      "needs_background": "light"
     },
     "output_type": "display_data"
    }
   ],
   "source": [
    "ward_idx['police_idx'].plot(kind='hist')"
   ]
  },
  {
   "cell_type": "code",
   "execution_count": 87,
   "metadata": {},
   "outputs": [
    {
     "data": {
      "text/plain": [
       "array([1, 2, 0, 3, 6, 4, 5])"
      ]
     },
     "execution_count": 87,
     "metadata": {},
     "output_type": "execute_result"
    }
   ],
   "source": [
    "ward_idx['health_count'].unique()"
   ]
  },
  {
   "cell_type": "code",
   "execution_count": 90,
   "metadata": {},
   "outputs": [
    {
     "data": {
      "text/plain": [
       "health_count\n",
       "0     77\n",
       "1    110\n",
       "2     54\n",
       "3     23\n",
       "4      4\n",
       "5      2\n",
       "6      2\n",
       "dtype: int64"
      ]
     },
     "execution_count": 90,
     "metadata": {},
     "output_type": "execute_result"
    }
   ],
   "source": [
    "ward_idx.groupby('health_count').size()"
   ]
  },
  {
   "cell_type": "code",
   "execution_count": 91,
   "metadata": {},
   "outputs": [
    {
     "data": {
      "text/plain": [
       "<matplotlib.axes._subplots.AxesSubplot at 0x2740adf2088>"
      ]
     },
     "execution_count": 91,
     "metadata": {},
     "output_type": "execute_result"
    },
    {
     "data": {
      "image/png": "[encoded data removed]",
      "text/plain": [
       "<Figure size 432x288 with 1 Axes>"
      ]
     },
     "metadata": {
      "needs_background": "light"
     },
     "output_type": "display_data"
    }
   ],
   "source": []
  },
  {
   "cell_type": "code",
   "execution_count": 89,
   "metadata": {},
   "outputs": [
    {
     "data": {
      "text/plain": [
       "count      272.000000\n",
       "mean     60362.731618\n",
       "std       7304.196995\n",
       "min      41674.000000\n",
       "25%      55137.750000\n",
       "50%      60130.000000\n",
       "75%      64996.500000\n",
       "max      83645.000000\n",
       "Name: Total Population, dtype: float64"
      ]
     },
     "execution_count": 89,
     "metadata": {},
     "output_type": "execute_result"
    }
   ],
   "source": [
    "ward_idx['Total Population'].describe()"
   ]
  },
  {
   "cell_type": "markdown",
   "metadata": {},
   "source": [
    "## Buffer \n",
    "* Pretend there is only one number (not creating multiple variables)\n",
    "* No neighbors (like ward)"
   ]
  },
  {
   "cell_type": "code",
   "execution_count": 99,
   "metadata": {},
   "outputs": [],
   "source": [
    "ward_shapefile['buffer'] = ward_shapefile.buffer(1000)"
   ]
  },
  {
   "cell_type": "code",
   "execution_count": 100,
   "metadata": {},
   "outputs": [
    {
     "data": {
      "text/html": [
       "<div>\n",
       "<style scoped>\n",
       "    .dataframe tbody tr th:only-of-type {\n",
       "        vertical-align: middle;\n",
       "    }\n",
       "\n",
       "    .dataframe tbody tr th {\n",
       "        vertical-align: top;\n",
       "    }\n",
       "\n",
       "    .dataframe thead th {\n",
       "        text-align: right;\n",
       "    }\n",
       "</style>\n",
       "<table border=\"1\" class=\"dataframe\">\n",
       "  <thead>\n",
       "    <tr style=\"text-align: right;\">\n",
       "      <th></th>\n",
       "      <th>FID</th>\n",
       "      <th>ID</th>\n",
       "      <th>AC_NO</th>\n",
       "      <th>AC_NM</th>\n",
       "      <th>WARD_NO</th>\n",
       "      <th>WARD_NAME</th>\n",
       "      <th>TOT_POP</th>\n",
       "      <th>SC_POP</th>\n",
       "      <th>NA_POP</th>\n",
       "      <th>LB</th>\n",
       "      <th>...</th>\n",
       "      <th>AC No.</th>\n",
       "      <th>AC Name</th>\n",
       "      <th>Ward No.</th>\n",
       "      <th>Ward Name</th>\n",
       "      <th>Total Population</th>\n",
       "      <th>SC Population</th>\n",
       "      <th>geom_type</th>\n",
       "      <th>index</th>\n",
       "      <th>road_length</th>\n",
       "      <th>buffer</th>\n",
       "    </tr>\n",
       "  </thead>\n",
       "  <tbody>\n",
       "    <tr>\n",
       "      <th>0</th>\n",
       "      <td>0</td>\n",
       "      <td>4</td>\n",
       "      <td>55</td>\n",
       "      <td>TRILOKPURI</td>\n",
       "      <td>004-E</td>\n",
       "      <td>NEW ASHOK NAGAR</td>\n",
       "      <td>None</td>\n",
       "      <td>None</td>\n",
       "      <td>None</td>\n",
       "      <td>EAST</td>\n",
       "      <td>...</td>\n",
       "      <td>NaN</td>\n",
       "      <td>NaN</td>\n",
       "      <td>004-E</td>\n",
       "      <td>NEW ASHOK NAGAR</td>\n",
       "      <td>56168</td>\n",
       "      <td>3689</td>\n",
       "      <td>&lt;class 'geopandas.geoseries.GeoSeries'&gt;</td>\n",
       "      <td>0</td>\n",
       "      <td>1.449313</td>\n",
       "      <td>POLYGON ((1028349.123 995758.895, 1028311.803 ...</td>\n",
       "    </tr>\n",
       "    <tr>\n",
       "      <th>1</th>\n",
       "      <td>1</td>\n",
       "      <td>3</td>\n",
       "      <td>55</td>\n",
       "      <td>TRILOKPURI</td>\n",
       "      <td>003-E</td>\n",
       "      <td>TRILOKPURI-WEST</td>\n",
       "      <td>None</td>\n",
       "      <td>None</td>\n",
       "      <td>None</td>\n",
       "      <td>EAST</td>\n",
       "      <td>...</td>\n",
       "      <td>NaN</td>\n",
       "      <td>NaN</td>\n",
       "      <td>003-E</td>\n",
       "      <td>TRILOKPURI-WEST</td>\n",
       "      <td>64346</td>\n",
       "      <td>22075</td>\n",
       "      <td>&lt;class 'geopandas.geoseries.GeoSeries'&gt;</td>\n",
       "      <td>1</td>\n",
       "      <td>5.102390</td>\n",
       "      <td>POLYGON ((1027984.440 996399.002, 1027972.012 ...</td>\n",
       "    </tr>\n",
       "    <tr>\n",
       "      <th>2</th>\n",
       "      <td>2</td>\n",
       "      <td>1</td>\n",
       "      <td>55</td>\n",
       "      <td>TRILOKPURI</td>\n",
       "      <td>001-E</td>\n",
       "      <td>MAYUR VIHAR PHASE-I</td>\n",
       "      <td>None</td>\n",
       "      <td>None</td>\n",
       "      <td>None</td>\n",
       "      <td>EAST</td>\n",
       "      <td>...</td>\n",
       "      <td>55.0</td>\n",
       "      <td>TRILOKPURI</td>\n",
       "      <td>001-E</td>\n",
       "      <td>MAYUR VIHAR PHASE-I</td>\n",
       "      <td>61348</td>\n",
       "      <td>17546</td>\n",
       "      <td>&lt;class 'geopandas.geoseries.GeoSeries'&gt;</td>\n",
       "      <td>2</td>\n",
       "      <td>1.735704</td>\n",
       "      <td>POLYGON ((1027872.024 998109.458, 1027830.143 ...</td>\n",
       "    </tr>\n",
       "    <tr>\n",
       "      <th>3</th>\n",
       "      <td>3</td>\n",
       "      <td>2</td>\n",
       "      <td>55</td>\n",
       "      <td>TRILOKPURI</td>\n",
       "      <td>002-E</td>\n",
       "      <td>TRILOKPURI-EAST</td>\n",
       "      <td>None</td>\n",
       "      <td>None</td>\n",
       "      <td>None</td>\n",
       "      <td>EAST</td>\n",
       "      <td>...</td>\n",
       "      <td>NaN</td>\n",
       "      <td>NaN</td>\n",
       "      <td>002-E</td>\n",
       "      <td>TRILOKPURI-EAST</td>\n",
       "      <td>59678</td>\n",
       "      <td>33296</td>\n",
       "      <td>&lt;class 'geopandas.geoseries.GeoSeries'&gt;</td>\n",
       "      <td>3</td>\n",
       "      <td>3.165265</td>\n",
       "      <td>POLYGON ((1029069.586 998648.297, 1029071.687 ...</td>\n",
       "    </tr>\n",
       "    <tr>\n",
       "      <th>4</th>\n",
       "      <td>4</td>\n",
       "      <td>5</td>\n",
       "      <td>56</td>\n",
       "      <td>KONDLI</td>\n",
       "      <td>005-E</td>\n",
       "      <td>DALLUPURA</td>\n",
       "      <td>None</td>\n",
       "      <td>None</td>\n",
       "      <td>None</td>\n",
       "      <td>EAST</td>\n",
       "      <td>...</td>\n",
       "      <td>56.0</td>\n",
       "      <td>KONDLI</td>\n",
       "      <td>005-E</td>\n",
       "      <td>KONDLI</td>\n",
       "      <td>62399</td>\n",
       "      <td>17502</td>\n",
       "      <td>&lt;class 'geopandas.geoseries.GeoSeries'&gt;</td>\n",
       "      <td>4</td>\n",
       "      <td>8.781155</td>\n",
       "      <td>POLYGON ((1029619.124 998346.257, 1029645.668 ...</td>\n",
       "    </tr>\n",
       "  </tbody>\n",
       "</table>\n",
       "<p>5 rows × 21 columns</p>\n",
       "</div>"
      ],
      "text/plain": [
       "   FID  ID AC_NO       AC_NM WARD_NO            WARD_NAME TOT_POP SC_POP  \\\n",
       "0    0   4    55  TRILOKPURI   004-E      NEW ASHOK NAGAR    None   None   \n",
       "1    1   3    55  TRILOKPURI   003-E      TRILOKPURI-WEST    None   None   \n",
       "2    2   1    55  TRILOKPURI   001-E  MAYUR VIHAR PHASE-I    None   None   \n",
       "3    3   2    55  TRILOKPURI   002-E      TRILOKPURI-EAST    None   None   \n",
       "4    4   5    56      KONDLI   005-E            DALLUPURA    None   None   \n",
       "\n",
       "  NA_POP    LB  ... AC No.     AC Name Ward No.            Ward Name  \\\n",
       "0   None  EAST  ...    NaN         NaN    004-E      NEW ASHOK NAGAR   \n",
       "1   None  EAST  ...    NaN         NaN    003-E      TRILOKPURI-WEST   \n",
       "2   None  EAST  ...   55.0  TRILOKPURI    001-E  MAYUR VIHAR PHASE-I   \n",
       "3   None  EAST  ...    NaN         NaN    002-E      TRILOKPURI-EAST   \n",
       "4   None  EAST  ...   56.0      KONDLI    005-E               KONDLI   \n",
       "\n",
       "  Total Population  SC Population                                geom_type  \\\n",
       "0            56168           3689  <class 'geopandas.geoseries.GeoSeries'>   \n",
       "1            64346          22075  <class 'geopandas.geoseries.GeoSeries'>   \n",
       "2            61348          17546  <class 'geopandas.geoseries.GeoSeries'>   \n",
       "3            59678          33296  <class 'geopandas.geoseries.GeoSeries'>   \n",
       "4            62399          17502  <class 'geopandas.geoseries.GeoSeries'>   \n",
       "\n",
       "  index  road_length                                             buffer  \n",
       "0     0     1.449313  POLYGON ((1028349.123 995758.895, 1028311.803 ...  \n",
       "1     1     5.102390  POLYGON ((1027984.440 996399.002, 1027972.012 ...  \n",
       "2     2     1.735704  POLYGON ((1027872.024 998109.458, 1027830.143 ...  \n",
       "3     3     3.165265  POLYGON ((1029069.586 998648.297, 1029071.687 ...  \n",
       "4     4     8.781155  POLYGON ((1029619.124 998346.257, 1029645.668 ...  \n",
       "\n",
       "[5 rows x 21 columns]"
      ]
     },
     "execution_count": 100,
     "metadata": {},
     "output_type": "execute_result"
    }
   ],
   "source": [
    "ward_shapefile.head()"
   ]
  },
  {
   "cell_type": "markdown",
   "metadata": {},
   "source": [
    "# Save file"
   ]
  },
  {
   "cell_type": "code",
   "execution_count": 102,
   "metadata": {},
   "outputs": [
    {
     "data": {
      "text/html": [
       "<div>\n",
       "<style scoped>\n",
       "    .dataframe tbody tr th:only-of-type {\n",
       "        vertical-align: middle;\n",
       "    }\n",
       "\n",
       "    .dataframe tbody tr th {\n",
       "        vertical-align: top;\n",
       "    }\n",
       "\n",
       "    .dataframe thead th {\n",
       "        text-align: right;\n",
       "    }\n",
       "</style>\n",
       "<table border=\"1\" class=\"dataframe\">\n",
       "  <thead>\n",
       "    <tr style=\"text-align: right;\">\n",
       "      <th></th>\n",
       "      <th>FID</th>\n",
       "      <th>ID</th>\n",
       "      <th>AC_NO</th>\n",
       "      <th>AC_NM</th>\n",
       "      <th>WARD_NO</th>\n",
       "      <th>WARD_NAME</th>\n",
       "      <th>TOT_POP</th>\n",
       "      <th>SC_POP</th>\n",
       "      <th>NA_POP</th>\n",
       "      <th>LB</th>\n",
       "      <th>...</th>\n",
       "      <th>ration_idx</th>\n",
       "      <th>school_count</th>\n",
       "      <th>school_pcen</th>\n",
       "      <th>school_idx</th>\n",
       "      <th>transport_count</th>\n",
       "      <th>transport_pcen</th>\n",
       "      <th>transport_idx</th>\n",
       "      <th>road_count</th>\n",
       "      <th>road_pcen</th>\n",
       "      <th>road_idx</th>\n",
       "    </tr>\n",
       "  </thead>\n",
       "  <tbody>\n",
       "    <tr>\n",
       "      <th>0</th>\n",
       "      <td>0</td>\n",
       "      <td>4</td>\n",
       "      <td>55</td>\n",
       "      <td>TRILOKPURI</td>\n",
       "      <td>004-E</td>\n",
       "      <td>NEW ASHOK NAGAR</td>\n",
       "      <td>None</td>\n",
       "      <td>None</td>\n",
       "      <td>None</td>\n",
       "      <td>EAST</td>\n",
       "      <td>...</td>\n",
       "      <td>0.175233</td>\n",
       "      <td>4</td>\n",
       "      <td>0.000071</td>\n",
       "      <td>0.099107</td>\n",
       "      <td>1</td>\n",
       "      <td>0.000018</td>\n",
       "      <td>0.008551</td>\n",
       "      <td>1.449313</td>\n",
       "      <td>0.000026</td>\n",
       "      <td>0.024171</td>\n",
       "    </tr>\n",
       "    <tr>\n",
       "      <th>1</th>\n",
       "      <td>1</td>\n",
       "      <td>3</td>\n",
       "      <td>55</td>\n",
       "      <td>TRILOKPURI</td>\n",
       "      <td>003-E</td>\n",
       "      <td>TRILOKPURI-WEST</td>\n",
       "      <td>None</td>\n",
       "      <td>None</td>\n",
       "      <td>None</td>\n",
       "      <td>EAST</td>\n",
       "      <td>...</td>\n",
       "      <td>0.267684</td>\n",
       "      <td>5</td>\n",
       "      <td>0.000078</td>\n",
       "      <td>0.108139</td>\n",
       "      <td>1</td>\n",
       "      <td>0.000016</td>\n",
       "      <td>0.007464</td>\n",
       "      <td>5.102390</td>\n",
       "      <td>0.000079</td>\n",
       "      <td>0.074279</td>\n",
       "    </tr>\n",
       "    <tr>\n",
       "      <th>2</th>\n",
       "      <td>2</td>\n",
       "      <td>1</td>\n",
       "      <td>55</td>\n",
       "      <td>TRILOKPURI</td>\n",
       "      <td>001-E</td>\n",
       "      <td>MAYUR VIHAR PHASE-I</td>\n",
       "      <td>None</td>\n",
       "      <td>None</td>\n",
       "      <td>None</td>\n",
       "      <td>EAST</td>\n",
       "      <td>...</td>\n",
       "      <td>0.481312</td>\n",
       "      <td>18</td>\n",
       "      <td>0.000293</td>\n",
       "      <td>0.408326</td>\n",
       "      <td>9</td>\n",
       "      <td>0.000147</td>\n",
       "      <td>0.070463</td>\n",
       "      <td>1.735704</td>\n",
       "      <td>0.000028</td>\n",
       "      <td>0.026503</td>\n",
       "    </tr>\n",
       "    <tr>\n",
       "      <th>3</th>\n",
       "      <td>3</td>\n",
       "      <td>2</td>\n",
       "      <td>55</td>\n",
       "      <td>TRILOKPURI</td>\n",
       "      <td>002-E</td>\n",
       "      <td>TRILOKPURI-EAST</td>\n",
       "      <td>None</td>\n",
       "      <td>None</td>\n",
       "      <td>None</td>\n",
       "      <td>EAST</td>\n",
       "      <td>...</td>\n",
       "      <td>0.577244</td>\n",
       "      <td>13</td>\n",
       "      <td>0.000218</td>\n",
       "      <td>0.303155</td>\n",
       "      <td>3</td>\n",
       "      <td>0.000050</td>\n",
       "      <td>0.024145</td>\n",
       "      <td>3.165265</td>\n",
       "      <td>0.000053</td>\n",
       "      <td>0.049684</td>\n",
       "    </tr>\n",
       "    <tr>\n",
       "      <th>4</th>\n",
       "      <td>4</td>\n",
       "      <td>5</td>\n",
       "      <td>56</td>\n",
       "      <td>KONDLI</td>\n",
       "      <td>005-E</td>\n",
       "      <td>DALLUPURA</td>\n",
       "      <td>None</td>\n",
       "      <td>None</td>\n",
       "      <td>None</td>\n",
       "      <td>EAST</td>\n",
       "      <td>...</td>\n",
       "      <td>0.039434</td>\n",
       "      <td>11</td>\n",
       "      <td>0.000176</td>\n",
       "      <td>0.245330</td>\n",
       "      <td>17</td>\n",
       "      <td>0.000272</td>\n",
       "      <td>0.130856</td>\n",
       "      <td>8.781155</td>\n",
       "      <td>0.000141</td>\n",
       "      <td>0.131823</td>\n",
       "    </tr>\n",
       "  </tbody>\n",
       "</table>\n",
       "<p>5 rows × 41 columns</p>\n",
       "</div>"
      ],
      "text/plain": [
       "   FID  ID AC_NO       AC_NM WARD_NO            WARD_NAME TOT_POP SC_POP  \\\n",
       "0    0   4    55  TRILOKPURI   004-E      NEW ASHOK NAGAR    None   None   \n",
       "1    1   3    55  TRILOKPURI   003-E      TRILOKPURI-WEST    None   None   \n",
       "2    2   1    55  TRILOKPURI   001-E  MAYUR VIHAR PHASE-I    None   None   \n",
       "3    3   2    55  TRILOKPURI   002-E      TRILOKPURI-EAST    None   None   \n",
       "4    4   5    56      KONDLI   005-E            DALLUPURA    None   None   \n",
       "\n",
       "  NA_POP    LB  ... ration_idx  school_count school_pcen school_idx  \\\n",
       "0   None  EAST  ...   0.175233             4    0.000071   0.099107   \n",
       "1   None  EAST  ...   0.267684             5    0.000078   0.108139   \n",
       "2   None  EAST  ...   0.481312            18    0.000293   0.408326   \n",
       "3   None  EAST  ...   0.577244            13    0.000218   0.303155   \n",
       "4   None  EAST  ...   0.039434            11    0.000176   0.245330   \n",
       "\n",
       "  transport_count  transport_pcen  transport_idx road_count  road_pcen  \\\n",
       "0               1        0.000018       0.008551   1.449313   0.000026   \n",
       "1               1        0.000016       0.007464   5.102390   0.000079   \n",
       "2               9        0.000147       0.070463   1.735704   0.000028   \n",
       "3               3        0.000050       0.024145   3.165265   0.000053   \n",
       "4              17        0.000272       0.130856   8.781155   0.000141   \n",
       "\n",
       "   road_idx  \n",
       "0  0.024171  \n",
       "1  0.074279  \n",
       "2  0.026503  \n",
       "3  0.049684  \n",
       "4  0.131823  \n",
       "\n",
       "[5 rows x 41 columns]"
      ]
     },
     "execution_count": 102,
     "metadata": {},
     "output_type": "execute_result"
    }
   ],
   "source": [
    "ward_idx.head()"
   ]
  },
  {
   "cell_type": "code",
   "execution_count": 103,
   "metadata": {},
   "outputs": [
    {
     "data": {
      "text/plain": [
       "0      POLYGON ((1029245.897 996200.450, 1029465.702 ...\n",
       "1      POLYGON ((1030222.467 997485.749, 1030198.530 ...\n",
       "2      POLYGON ((1029005.321 997844.623, 1028998.231 ...\n",
       "3      POLYGON ((1031316.044 998917.330, 1031316.281 ...\n",
       "4      POLYGON ((1030363.130 997164.046, 1030337.059 ...\n",
       "                             ...                        \n",
       "267    POLYGON ((1013461.626 1004663.412, 1013475.658...\n",
       "268    POLYGON ((1013228.856 999859.940, 1013206.292 ...\n",
       "269    POLYGON ((1017899.964 1000032.400, 1017893.811...\n",
       "270    POLYGON ((1016296.054 1002158.855, 1016296.201...\n",
       "271    POLYGON ((1016828.350 1004672.494, 1016731.856...\n",
       "Name: geometry, Length: 272, dtype: geometry"
      ]
     },
     "execution_count": 103,
     "metadata": {},
     "output_type": "execute_result"
    }
   ],
   "source": [
    "ward_idx['geometry']"
   ]
  },
  {
   "cell_type": "code",
   "execution_count": 107,
   "metadata": {},
   "outputs": [],
   "source": [
    "ward_idx.drop(columns=['geom_type']).to_file('ward_idx.shp')"
   ]
  },
  {
   "cell_type": "code",
   "execution_count": null,
   "metadata": {},
   "outputs": [],
   "source": []
  }
 ],
 "metadata": {
  "kernelspec": {
   "display_name": "Python 3",
   "language": "python",
   "name": "python3"
  },
  "language_info": {
   "codemirror_mode": {
    "name": "ipython",
    "version": 3
   },
   "file_extension": ".py",
   "mimetype": "text/x-python",
   "name": "python",
   "nbconvert_exporter": "python",
   "pygments_lexer": "ipython3",
   "version": "3.7.7"
  }
 },
 "nbformat": 4,
 "nbformat_minor": 4
}
