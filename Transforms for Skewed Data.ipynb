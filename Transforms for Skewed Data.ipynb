{
 "cells": [
  {
   "cell_type": "code",
   "execution_count": 2,
   "metadata": {},
   "outputs": [],
   "source": [
    "import pickle\n",
    "import pandas as pd\n",
    "import geopandas as gpd"
   ]
  },
  {
   "cell_type": "markdown",
   "metadata": {},
   "source": [
    "## Import and visualize index calculations"
   ]
  },
  {
   "cell_type": "code",
   "execution_count": 6,
   "metadata": {},
   "outputs": [],
   "source": [
    "with open('colonies_no_rv_bbox_psi_one.pkl', 'rb') as f:\n",
    "    colonies = pickle.load(f)"
   ]
  },
  {
   "cell_type": "code",
   "execution_count": 7,
   "metadata": {},
   "outputs": [
    {
     "data": {
      "text/html": [
       "<div>\n",
       "<style scoped>\n",
       "    .dataframe tbody tr th:only-of-type {\n",
       "        vertical-align: middle;\n",
       "    }\n",
       "\n",
       "    .dataframe tbody tr th {\n",
       "        vertical-align: top;\n",
       "    }\n",
       "\n",
       "    .dataframe thead th {\n",
       "        text-align: right;\n",
       "    }\n",
       "</style>\n",
       "<table border=\"1\" class=\"dataframe\">\n",
       "  <thead>\n",
       "    <tr style=\"text-align: right;\">\n",
       "      <th></th>\n",
       "      <th>AREA</th>\n",
       "      <th>USO_AREA_U</th>\n",
       "      <th>HOUSETAX_C</th>\n",
       "      <th>USO_FINAL</th>\n",
       "      <th>geometry</th>\n",
       "      <th>area_km2</th>\n",
       "      <th>canal</th>\n",
       "      <th>railway</th>\n",
       "      <th>drain</th>\n",
       "      <th>barrier</th>\n",
       "      <th>...</th>\n",
       "      <th>school_pcen</th>\n",
       "      <th>school_idx</th>\n",
       "      <th>transport_count</th>\n",
       "      <th>transport_pcen</th>\n",
       "      <th>transport_idx</th>\n",
       "      <th>road_length</th>\n",
       "      <th>road_pcen</th>\n",
       "      <th>road_idx</th>\n",
       "      <th>unnorm_psi</th>\n",
       "      <th>norm_psi</th>\n",
       "    </tr>\n",
       "  </thead>\n",
       "  <tbody>\n",
       "    <tr>\n",
       "      <th>0</th>\n",
       "      <td>NEW DELHI 36</td>\n",
       "      <td>5584</td>\n",
       "      <td>None</td>\n",
       "      <td>Planned</td>\n",
       "      <td>POLYGON Z ((1020282.788 996796.773 0.000, 1020...</td>\n",
       "      <td>1.966739</td>\n",
       "      <td>False</td>\n",
       "      <td>True</td>\n",
       "      <td>False</td>\n",
       "      <td>True</td>\n",
       "      <td>...</td>\n",
       "      <td>2.566540</td>\n",
       "      <td>0.028971</td>\n",
       "      <td>3</td>\n",
       "      <td>24.398203</td>\n",
       "      <td>0.142039</td>\n",
       "      <td>1.951928</td>\n",
       "      <td>11.318965</td>\n",
       "      <td>0.234440</td>\n",
       "      <td>0.093715</td>\n",
       "      <td>0.096449</td>\n",
       "    </tr>\n",
       "    <tr>\n",
       "      <th>1</th>\n",
       "      <td>NEW DELHI 35</td>\n",
       "      <td>5585</td>\n",
       "      <td>None</td>\n",
       "      <td>Planned</td>\n",
       "      <td>POLYGON Z ((1019724.475 994932.797 0.000, 1019...</td>\n",
       "      <td>0.036429</td>\n",
       "      <td>False</td>\n",
       "      <td>False</td>\n",
       "      <td>False</td>\n",
       "      <td>False</td>\n",
       "      <td>...</td>\n",
       "      <td>0.736853</td>\n",
       "      <td>0.008318</td>\n",
       "      <td>0</td>\n",
       "      <td>5.034648</td>\n",
       "      <td>0.029310</td>\n",
       "      <td>0.000000</td>\n",
       "      <td>0.360970</td>\n",
       "      <td>0.007476</td>\n",
       "      <td>0.049950</td>\n",
       "      <td>0.051408</td>\n",
       "    </tr>\n",
       "    <tr>\n",
       "      <th>2</th>\n",
       "      <td>NEW DELHI 34</td>\n",
       "      <td>5586</td>\n",
       "      <td>None</td>\n",
       "      <td>Planned</td>\n",
       "      <td>POLYGON Z ((1019571.955 994876.019 0.000, 1019...</td>\n",
       "      <td>0.230739</td>\n",
       "      <td>False</td>\n",
       "      <td>False</td>\n",
       "      <td>False</td>\n",
       "      <td>False</td>\n",
       "      <td>...</td>\n",
       "      <td>6.757838</td>\n",
       "      <td>0.076284</td>\n",
       "      <td>6</td>\n",
       "      <td>9.070010</td>\n",
       "      <td>0.052803</td>\n",
       "      <td>0.000000</td>\n",
       "      <td>1.508212</td>\n",
       "      <td>0.031238</td>\n",
       "      <td>0.083330</td>\n",
       "      <td>0.085761</td>\n",
       "    </tr>\n",
       "    <tr>\n",
       "      <th>3</th>\n",
       "      <td>NEW DELHI 33</td>\n",
       "      <td>5587</td>\n",
       "      <td>None</td>\n",
       "      <td>Planned</td>\n",
       "      <td>POLYGON Z ((1019352.702 994352.546 0.000, 1019...</td>\n",
       "      <td>0.281195</td>\n",
       "      <td>False</td>\n",
       "      <td>False</td>\n",
       "      <td>False</td>\n",
       "      <td>False</td>\n",
       "      <td>...</td>\n",
       "      <td>8.767378</td>\n",
       "      <td>0.098968</td>\n",
       "      <td>0</td>\n",
       "      <td>8.579348</td>\n",
       "      <td>0.049946</td>\n",
       "      <td>0.000000</td>\n",
       "      <td>1.729878</td>\n",
       "      <td>0.035830</td>\n",
       "      <td>0.071759</td>\n",
       "      <td>0.073852</td>\n",
       "    </tr>\n",
       "    <tr>\n",
       "      <th>4</th>\n",
       "      <td>NEW DELHI 32</td>\n",
       "      <td>5588</td>\n",
       "      <td>None</td>\n",
       "      <td>Planned</td>\n",
       "      <td>POLYGON Z ((1018793.292 994224.182 0.000, 1018...</td>\n",
       "      <td>0.301253</td>\n",
       "      <td>False</td>\n",
       "      <td>False</td>\n",
       "      <td>False</td>\n",
       "      <td>False</td>\n",
       "      <td>...</td>\n",
       "      <td>7.934982</td>\n",
       "      <td>0.089571</td>\n",
       "      <td>2</td>\n",
       "      <td>5.836379</td>\n",
       "      <td>0.033978</td>\n",
       "      <td>0.747875</td>\n",
       "      <td>2.573545</td>\n",
       "      <td>0.053304</td>\n",
       "      <td>0.032901</td>\n",
       "      <td>0.033861</td>\n",
       "    </tr>\n",
       "  </tbody>\n",
       "</table>\n",
       "<p>5 rows × 39 columns</p>\n",
       "</div>"
      ],
      "text/plain": [
       "           AREA  USO_AREA_U HOUSETAX_C USO_FINAL  \\\n",
       "0  NEW DELHI 36        5584       None   Planned   \n",
       "1  NEW DELHI 35        5585       None   Planned   \n",
       "2  NEW DELHI 34        5586       None   Planned   \n",
       "3  NEW DELHI 33        5587       None   Planned   \n",
       "4  NEW DELHI 32        5588       None   Planned   \n",
       "\n",
       "                                            geometry  area_km2  canal  \\\n",
       "0  POLYGON Z ((1020282.788 996796.773 0.000, 1020...  1.966739  False   \n",
       "1  POLYGON Z ((1019724.475 994932.797 0.000, 1019...  0.036429  False   \n",
       "2  POLYGON Z ((1019571.955 994876.019 0.000, 1019...  0.230739  False   \n",
       "3  POLYGON Z ((1019352.702 994352.546 0.000, 1019...  0.281195  False   \n",
       "4  POLYGON Z ((1018793.292 994224.182 0.000, 1018...  0.301253  False   \n",
       "\n",
       "   railway  drain  barrier  ... school_pcen  school_idx  transport_count  \\\n",
       "0     True  False     True  ...    2.566540    0.028971                3   \n",
       "1    False  False    False  ...    0.736853    0.008318                0   \n",
       "2    False  False    False  ...    6.757838    0.076284                6   \n",
       "3    False  False    False  ...    8.767378    0.098968                0   \n",
       "4    False  False    False  ...    7.934982    0.089571                2   \n",
       "\n",
       "   transport_pcen transport_idx road_length  road_pcen  road_idx  unnorm_psi  \\\n",
       "0       24.398203      0.142039    1.951928  11.318965  0.234440    0.093715   \n",
       "1        5.034648      0.029310    0.000000   0.360970  0.007476    0.049950   \n",
       "2        9.070010      0.052803    0.000000   1.508212  0.031238    0.083330   \n",
       "3        8.579348      0.049946    0.000000   1.729878  0.035830    0.071759   \n",
       "4        5.836379      0.033978    0.747875   2.573545  0.053304    0.032901   \n",
       "\n",
       "   norm_psi  \n",
       "0  0.096449  \n",
       "1  0.051408  \n",
       "2  0.085761  \n",
       "3  0.073852  \n",
       "4  0.033861  \n",
       "\n",
       "[5 rows x 39 columns]"
      ]
     },
     "execution_count": 7,
     "metadata": {},
     "output_type": "execute_result"
    }
   ],
   "source": [
    "colonies.head()"
   ]
  },
  {
   "cell_type": "code",
   "execution_count": 15,
   "metadata": {},
   "outputs": [
    {
     "data": {
      "text/plain": [
       "<matplotlib.axes._subplots.AxesSubplot at 0x29da94a0288>"
      ]
     },
     "execution_count": 15,
     "metadata": {},
     "output_type": "execute_result"
    },
    {
     "data": {
      "image/png": "[encoded data removed]",
      "text/plain": [
       "<Figure size 432x288 with 1 Axes>"
      ]
     },
     "metadata": {
      "needs_background": "light"
     },
     "output_type": "display_data"
    }
   ],
   "source": [
    "colonies[~ colonies['exclude_from_psi']]['norm_psi'].plot(kind='hist')"
   ]
  },
  {
   "cell_type": "markdown",
   "metadata": {},
   "source": [
    "## Create Pandas Series with overall PSI"
   ]
  },
  {
   "cell_type": "code",
   "execution_count": 22,
   "metadata": {},
   "outputs": [],
   "source": [
    "# Save overall PSI as Pandas Series \n",
    "# Includes 4075 of the origin 4352 colonies\n",
    "unnorm_psi = colonies[~ colonies['exclude_from_psi']]['unnorm_psi']"
   ]
  },
  {
   "cell_type": "code",
   "execution_count": 23,
   "metadata": {},
   "outputs": [
    {
     "data": {
      "text/plain": [
       "<matplotlib.axes._subplots.AxesSubplot at 0x29da94f5ac8>"
      ]
     },
     "execution_count": 23,
     "metadata": {},
     "output_type": "execute_result"
    },
    {
     "data": {
      "image/png": "[encoded data removed]",
      "text/plain": [
       "<Figure size 432x288 with 1 Axes>"
      ]
     },
     "metadata": {
      "needs_background": "light"
     },
     "output_type": "display_data"
    }
   ],
   "source": [
    "# Make sure histogram looks the same\n",
    "unnorm_psi.plot(kind='hist')"
   ]
  },
  {
   "cell_type": "markdown",
   "metadata": {},
   "source": [
    "## Yeo-Johnson Transform\n",
    "\n",
    "[Here](https://machinelearningmastery.com/power-transforms-with-scikit-learn/) is some nice code to follow along with."
   ]
  },
  {
   "cell_type": "code",
   "execution_count": 43,
   "metadata": {},
   "outputs": [
    {
     "data": {
      "text/plain": [
       "<matplotlib.axes._subplots.AxesSubplot at 0x29dabda6388>"
      ]
     },
     "execution_count": 43,
     "metadata": {},
     "output_type": "execute_result"
    },
    {
     "data": {
      "image/png": "[encoded data removed]",
      "text/plain": [
       "<Figure size 432x288 with 1 Axes>"
      ]
     },
     "metadata": {
      "needs_background": "light"
     },
     "output_type": "display_data"
    }
   ],
   "source": [
    "from sklearn.preprocessing import PowerTransformer\n",
    "\n",
    "# Define Yeo-Johnson Transform\n",
    "power = PowerTransformer(method='yeo-johnson', standardize=False)\n",
    "\n",
    "# Apply transform. Requires turning DataFrame to numpy array\n",
    "# and reshaping\n",
    "data_trans = power.fit_transform(unnorm_psi.to_numpy().reshape(-1,1))\n",
    "\n",
    "yj_transformed_psi = pd.DataFrame(data_trans)\n",
    "yj_transformed_psi.plot(kind='hist')"
   ]
  },
  {
   "cell_type": "code",
   "execution_count": 63,
   "metadata": {},
   "outputs": [],
   "source": [
    "# From: https://towardsdatascience.com/transforming-skewed-data-73da4c2d0d16\n",
    "\n",
    "def normalize(column):\n",
    "    upper = column.max()\n",
    "    lower = column.min()\n",
    "    y = (column-lower)/(upper-lower)\n",
    "    return y"
   ]
  },
  {
   "cell_type": "code",
   "execution_count": 65,
   "metadata": {},
   "outputs": [
    {
     "data": {
      "text/plain": [
       "<matplotlib.axes._subplots.AxesSubplot at 0x29dac6e5288>"
      ]
     },
     "execution_count": 65,
     "metadata": {},
     "output_type": "execute_result"
    },
    {
     "data": {
      "image/png": "[encoded data removed]",
      "text/plain": [
       "<Figure size 432x288 with 1 Axes>"
      ]
     },
     "metadata": {
      "needs_background": "light"
     },
     "output_type": "display_data"
    }
   ],
   "source": [
    "normalize(yj_transformed_psi).plot(kind='hist')"
   ]
  },
  {
   "cell_type": "markdown",
   "metadata": {},
   "source": [
    "# More transforms below from [this webpage](https://towardsdatascience.com/transforming-skewed-data-73da4c2d0d16)"
   ]
  },
  {
   "cell_type": "markdown",
   "metadata": {},
   "source": [
    "## Sigmoid transform"
   ]
  },
  {
   "cell_type": "code",
   "execution_count": 72,
   "metadata": {},
   "outputs": [],
   "source": [
    "from numpy import exp"
   ]
  },
  {
   "cell_type": "code",
   "execution_count": 73,
   "metadata": {},
   "outputs": [],
   "source": [
    "def sigmoid(x):\n",
    "    e = exp(1)\n",
    "    y = 1/(1+e**(-x))\n",
    "    return y"
   ]
  },
  {
   "cell_type": "code",
   "execution_count": 106,
   "metadata": {},
   "outputs": [
    {
     "data": {
      "text/plain": [
       "<matplotlib.axes._subplots.AxesSubplot at 0x29dade0c1c8>"
      ]
     },
     "execution_count": 106,
     "metadata": {},
     "output_type": "execute_result"
    },
    {
     "data": {
      "image/png": "[encoded data removed]",
      "text/plain": [
       "<Figure size 432x288 with 1 Axes>"
      ]
     },
     "metadata": {
      "needs_background": "light"
     },
     "output_type": "display_data"
    }
   ],
   "source": [
    "unnorm_psi.plot(kind='hist')"
   ]
  },
  {
   "cell_type": "code",
   "execution_count": 74,
   "metadata": {},
   "outputs": [
    {
     "data": {
      "text/plain": [
       "<matplotlib.axes._subplots.AxesSubplot at 0x29dac831c88>"
      ]
     },
     "execution_count": 74,
     "metadata": {},
     "output_type": "execute_result"
    },
    {
     "data": {
      "image/png": "[encoded data removed]",
      "text/plain": [
       "<Figure size 432x288 with 1 Axes>"
      ]
     },
     "metadata": {
      "needs_background": "light"
     },
     "output_type": "display_data"
    }
   ],
   "source": [
    "sigmoid(unnorm_psi).plot(kind='hist')"
   ]
  },
  {
   "cell_type": "markdown",
   "metadata": {},
   "source": [
    "## Log Function + 1"
   ]
  },
  {
   "cell_type": "code",
   "execution_count": 75,
   "metadata": {},
   "outputs": [],
   "source": [
    "from numpy import log"
   ]
  },
  {
   "cell_type": "code",
   "execution_count": 107,
   "metadata": {},
   "outputs": [
    {
     "data": {
      "text/plain": [
       "<matplotlib.axes._subplots.AxesSubplot at 0x29dade76b08>"
      ]
     },
     "execution_count": 107,
     "metadata": {},
     "output_type": "execute_result"
    },
    {
     "data": {
      "image/png": "[encoded data removed]",
      "text/plain": [
       "<Figure size 432x288 with 1 Axes>"
      ]
     },
     "metadata": {
      "needs_background": "light"
     },
     "output_type": "display_data"
    }
   ],
   "source": [
    "unnorm_psi.plot(kind='hist')"
   ]
  },
  {
   "cell_type": "code",
   "execution_count": 77,
   "metadata": {},
   "outputs": [
    {
     "data": {
      "text/plain": [
       "<matplotlib.axes._subplots.AxesSubplot at 0x29dac968ec8>"
      ]
     },
     "execution_count": 77,
     "metadata": {},
     "output_type": "execute_result"
    },
    {
     "data": {
      "image/png": "[encoded data removed]",
      "text/plain": [
       "<Figure size 432x288 with 1 Axes>"
      ]
     },
     "metadata": {
      "needs_background": "light"
     },
     "output_type": "display_data"
    }
   ],
   "source": [
    "log(unnorm_psi+1).plot(kind='hist')"
   ]
  },
  {
   "cell_type": "markdown",
   "metadata": {},
   "source": [
    "## Log Function + 1 Normalized"
   ]
  },
  {
   "cell_type": "code",
   "execution_count": 108,
   "metadata": {},
   "outputs": [
    {
     "data": {
      "text/plain": [
       "<matplotlib.axes._subplots.AxesSubplot at 0x29dadee3248>"
      ]
     },
     "execution_count": 108,
     "metadata": {},
     "output_type": "execute_result"
    },
    {
     "data": {
      "image/png": "[encoded data removed]",
      "text/plain": [
       "<Figure size 432x288 with 1 Axes>"
      ]
     },
     "metadata": {
      "needs_background": "light"
     },
     "output_type": "display_data"
    }
   ],
   "source": [
    "unnorm_psi.plot(kind='hist')"
   ]
  },
  {
   "cell_type": "code",
   "execution_count": 79,
   "metadata": {},
   "outputs": [
    {
     "data": {
      "text/plain": [
       "<matplotlib.axes._subplots.AxesSubplot at 0x29dac9f96c8>"
      ]
     },
     "execution_count": 79,
     "metadata": {},
     "output_type": "execute_result"
    },
    {
     "data": {
      "image/png": "[encoded data removed]",
      "text/plain": [
       "<Figure size 432x288 with 1 Axes>"
      ]
     },
     "metadata": {
      "needs_background": "light"
     },
     "output_type": "display_data"
    }
   ],
   "source": [
    "normalize(log(unnorm_psi+1)).plot(kind='hist')"
   ]
  },
  {
   "cell_type": "markdown",
   "metadata": {},
   "source": [
    "## Cube Root"
   ]
  },
  {
   "cell_type": "code",
   "execution_count": 109,
   "metadata": {},
   "outputs": [
    {
     "data": {
      "text/plain": [
       "<matplotlib.axes._subplots.AxesSubplot at 0x29dadf7a048>"
      ]
     },
     "execution_count": 109,
     "metadata": {},
     "output_type": "execute_result"
    },
    {
     "data": {
      "image/png": "[encoded data removed]",
      "text/plain": [
       "<Figure size 432x288 with 1 Axes>"
      ]
     },
     "metadata": {
      "needs_background": "light"
     },
     "output_type": "display_data"
    }
   ],
   "source": [
    "unnorm_psi.plot(kind='hist')"
   ]
  },
  {
   "cell_type": "code",
   "execution_count": 84,
   "metadata": {},
   "outputs": [
    {
     "data": {
      "text/plain": [
       "<matplotlib.axes._subplots.AxesSubplot at 0x29dacb1c308>"
      ]
     },
     "execution_count": 84,
     "metadata": {},
     "output_type": "execute_result"
    },
    {
     "data": {
      "image/png": "[encoded data removed]",
      "text/plain": [
       "<Figure size 432x288 with 1 Axes>"
      ]
     },
     "metadata": {
      "needs_background": "light"
     },
     "output_type": "display_data"
    }
   ],
   "source": [
    "pd.DataFrame(unnorm_psi**(1/3)).plot(kind='hist')"
   ]
  },
  {
   "cell_type": "markdown",
   "metadata": {},
   "source": [
    "## Cube Root Normalized"
   ]
  },
  {
   "cell_type": "code",
   "execution_count": 110,
   "metadata": {},
   "outputs": [
    {
     "data": {
      "text/plain": [
       "<matplotlib.axes._subplots.AxesSubplot at 0x29dadefd948>"
      ]
     },
     "execution_count": 110,
     "metadata": {},
     "output_type": "execute_result"
    },
    {
     "data": {
      "image/png": "[encoded data removed]",
      "text/plain": [
       "<Figure size 432x288 with 1 Axes>"
      ]
     },
     "metadata": {
      "needs_background": "light"
     },
     "output_type": "display_data"
    }
   ],
   "source": [
    "unnorm_psi.plot(kind='hist')"
   ]
  },
  {
   "cell_type": "code",
   "execution_count": 87,
   "metadata": {},
   "outputs": [
    {
     "data": {
      "text/plain": [
       "<matplotlib.axes._subplots.AxesSubplot at 0x29dac8f3148>"
      ]
     },
     "execution_count": 87,
     "metadata": {},
     "output_type": "execute_result"
    },
    {
     "data": {
      "image/png": "[encoded data removed]",
      "text/plain": [
       "<Figure size 432x288 with 1 Axes>"
      ]
     },
     "metadata": {
      "needs_background": "light"
     },
     "output_type": "display_data"
    }
   ],
   "source": [
    "normalize(unnorm_psi**(1/3)).plot(kind='hist')"
   ]
  },
  {
   "cell_type": "markdown",
   "metadata": {},
   "source": [
    "## Log Max Root Normalize"
   ]
  },
  {
   "cell_type": "code",
   "execution_count": 88,
   "metadata": {},
   "outputs": [],
   "source": [
    "from numpy import log"
   ]
  },
  {
   "cell_type": "code",
   "execution_count": 90,
   "metadata": {},
   "outputs": [],
   "source": [
    "log_max = log(unnorm_psi.max())"
   ]
  },
  {
   "cell_type": "code",
   "execution_count": 111,
   "metadata": {},
   "outputs": [
    {
     "data": {
      "text/plain": [
       "<matplotlib.axes._subplots.AxesSubplot at 0x29dae087948>"
      ]
     },
     "execution_count": 111,
     "metadata": {},
     "output_type": "execute_result"
    },
    {
     "data": {
      "image/png": "[encoded data removed]",
      "text/plain": [
       "<Figure size 432x288 with 1 Axes>"
      ]
     },
     "metadata": {
      "needs_background": "light"
     },
     "output_type": "display_data"
    }
   ],
   "source": [
    "unnorm_psi.plot(kind='hist')"
   ]
  },
  {
   "cell_type": "code",
   "execution_count": 95,
   "metadata": {},
   "outputs": [
    {
     "data": {
      "text/plain": [
       "<matplotlib.axes._subplots.AxesSubplot at 0x29dac53d748>"
      ]
     },
     "execution_count": 95,
     "metadata": {},
     "output_type": "execute_result"
    },
    {
     "data": {
      "image/png": "[encoded data removed]",
      "text/plain": [
       "<Figure size 432x288 with 1 Axes>"
      ]
     },
     "metadata": {
      "needs_background": "light"
     },
     "output_type": "display_data"
    }
   ],
   "source": [
    "normalize(unnorm_psi**(1/log_max)).plot(kind='hist')"
   ]
  },
  {
   "cell_type": "markdown",
   "metadata": {},
   "source": [
    "## Hyperbolic Tangent"
   ]
  },
  {
   "cell_type": "code",
   "execution_count": 96,
   "metadata": {},
   "outputs": [],
   "source": [
    "from numpy import tanh"
   ]
  },
  {
   "cell_type": "code",
   "execution_count": 112,
   "metadata": {},
   "outputs": [
    {
     "data": {
      "text/plain": [
       "<matplotlib.axes._subplots.AxesSubplot at 0x29dae0fc788>"
      ]
     },
     "execution_count": 112,
     "metadata": {},
     "output_type": "execute_result"
    },
    {
     "data": {
      "image/png": "[encoded data removed]",
      "text/plain": [
       "<Figure size 432x288 with 1 Axes>"
      ]
     },
     "metadata": {
      "needs_background": "light"
     },
     "output_type": "display_data"
    }
   ],
   "source": [
    "unnorm_psi.plot(kind='hist')"
   ]
  },
  {
   "cell_type": "code",
   "execution_count": 99,
   "metadata": {},
   "outputs": [
    {
     "data": {
      "text/plain": [
       "<matplotlib.axes._subplots.AxesSubplot at 0x29dac76cf48>"
      ]
     },
     "execution_count": 99,
     "metadata": {},
     "output_type": "execute_result"
    },
    {
     "data": {
      "image/png": "[encoded data removed]",
      "text/plain": [
       "<Figure size 432x288 with 1 Axes>"
      ]
     },
     "metadata": {
      "needs_background": "light"
     },
     "output_type": "display_data"
    }
   ],
   "source": [
    "pd.DataFrame(tanh(unnorm_psi)).plot(kind='hist')"
   ]
  },
  {
   "cell_type": "markdown",
   "metadata": {},
   "source": [
    "## Percentile Linearization"
   ]
  },
  {
   "cell_type": "code",
   "execution_count": 100,
   "metadata": {},
   "outputs": [],
   "source": [
    "size = len(unnorm_psi) - 1"
   ]
  },
  {
   "cell_type": "code",
   "execution_count": 102,
   "metadata": {},
   "outputs": [],
   "source": [
    "helpful_percentile_linearization = \\\n",
    "unnorm_psi.rank(method='min').apply(lambda x: (x-1)/size)"
   ]
  },
  {
   "cell_type": "code",
   "execution_count": 113,
   "metadata": {},
   "outputs": [
    {
     "data": {
      "text/plain": [
       "<matplotlib.axes._subplots.AxesSubplot at 0x29daf13f248>"
      ]
     },
     "execution_count": 113,
     "metadata": {},
     "output_type": "execute_result"
    },
    {
     "data": {
      "image/png": "[encoded data removed]",
      "text/plain": [
       "<Figure size 432x288 with 1 Axes>"
      ]
     },
     "metadata": {
      "needs_background": "light"
     },
     "output_type": "display_data"
    }
   ],
   "source": [
    "unnorm_psi.plot(kind='hist')"
   ]
  },
  {
   "cell_type": "code",
   "execution_count": 105,
   "metadata": {},
   "outputs": [
    {
     "data": {
      "text/plain": [
       "<matplotlib.axes._subplots.AxesSubplot at 0x29daddabbc8>"
      ]
     },
     "execution_count": 105,
     "metadata": {},
     "output_type": "execute_result"
    },
    {
     "data": {
      "image/png": "[encoded data removed]",
      "text/plain": [
       "<Figure size 432x288 with 1 Axes>"
      ]
     },
     "metadata": {
      "needs_background": "light"
     },
     "output_type": "display_data"
    }
   ],
   "source": [
    "pd.DataFrame(helpful_percentile_linearization).plot(kind='hist')"
   ]
  }
 ],
 "metadata": {
  "kernelspec": {
   "display_name": "Python 3",
   "language": "python",
   "name": "python3"
  },
  "language_info": {
   "codemirror_mode": {
    "name": "ipython",
    "version": 3
   },
   "file_extension": ".py",
   "mimetype": "text/x-python",
   "name": "python",
   "nbconvert_exporter": "python",
   "pygments_lexer": "ipython3",
   "version": "3.7.7"
  }
 },
 "nbformat": 4,
 "nbformat_minor": 4
}
