{
 "cells": [
  {
   "cell_type": "markdown",
   "metadata": {
    "tags": []
   },
   "source": [
    "# Delhi Colonies Public Services Index (updated 29 Aug 2021)\n",
    "\n",
    "## Compute the following indices:\n",
    "* Index with bounding box neighbors [effective service count divided by population]\n",
    "* Index with bounding box neighbors [effective service count divided by population/area]\n",
    "\n",
    "### How to compute indices\n",
    "* Load in colonies dataset (bounding box only) from Pickle **[done]**\n",
    "* Merge New Population Estimates **[done]**\n",
    "* Remove Rural Villages **[done]**\n",
    "* Import services shapefiles **[done]**\n",
    "    * Make sure correct file paths exist\n",
    "    * Ensure that all shapefiles are valid using `check_shapefile` function\n",
    "    * Reproject shapefiles to EPSG 7760 (if needed)\n",
    "* Compute all Services indices (turn into a function) **[done]**\n",
    "    * bbox neighbors, Population Size\n",
    "    * bbox neighbors, Population Density"
   ]
  },
  {
   "cell_type": "markdown",
   "metadata": {},
   "source": [
    "## Import modules and set constants"
   ]
  },
  {
   "cell_type": "code",
   "execution_count": 1,
   "metadata": {},
   "outputs": [],
   "source": [
    "import os\n",
    "import pickle\n",
    "from importlib import reload\n",
    "import pandas as pd\n",
    "import geopandas as gpd\n",
    "from shapely.geometry import Polygon, box\n",
    "import spatial_index_utils"
   ]
  },
  {
   "cell_type": "code",
   "execution_count": 2,
   "metadata": {},
   "outputs": [
    {
     "data": {
      "text/plain": [
       "<module 'spatial_index_utils' from 'C:\\\\Users\\\\bwbel\\\\Google Drive\\\\slum_project\\\\spatial_index_python\\\\spatial_index_utils.py'>"
      ]
     },
     "execution_count": 2,
     "metadata": {},
     "output_type": "execute_result"
    }
   ],
   "source": [
    "reload(spatial_index_utils)"
   ]
  },
  {
   "cell_type": "code",
   "execution_count": 3,
   "metadata": {},
   "outputs": [],
   "source": [
    "# WGS 84 / Delhi\n",
    "epsg_code = 7760"
   ]
  },
  {
   "cell_type": "markdown",
   "metadata": {},
   "source": [
    "## Import Colonies Dataset (bounding box only)"
   ]
  },
  {
   "cell_type": "code",
   "execution_count": 4,
   "metadata": {},
   "outputs": [
    {
     "data": {
      "text/html": [
       "<div>\n",
       "<style scoped>\n",
       "    .dataframe tbody tr th:only-of-type {\n",
       "        vertical-align: middle;\n",
       "    }\n",
       "\n",
       "    .dataframe tbody tr th {\n",
       "        vertical-align: top;\n",
       "    }\n",
       "\n",
       "    .dataframe thead th {\n",
       "        text-align: right;\n",
       "    }\n",
       "</style>\n",
       "<table border=\"1\" class=\"dataframe\">\n",
       "  <thead>\n",
       "    <tr style=\"text-align: right;\">\n",
       "      <th></th>\n",
       "      <th>AREA</th>\n",
       "      <th>USO_AREA_U</th>\n",
       "      <th>HOUSETAX_C</th>\n",
       "      <th>USO_FINAL</th>\n",
       "      <th>geometry</th>\n",
       "      <th>area_km2</th>\n",
       "      <th>canal</th>\n",
       "      <th>railway</th>\n",
       "      <th>drain</th>\n",
       "      <th>barrier</th>\n",
       "      <th>centroid</th>\n",
       "      <th>ndmc_dist_km</th>\n",
       "      <th>nbrs_bbox</th>\n",
       "      <th>nbrs_dist_bbox</th>\n",
       "      <th>index</th>\n",
       "    </tr>\n",
       "  </thead>\n",
       "  <tbody>\n",
       "    <tr>\n",
       "      <th>0</th>\n",
       "      <td>NEW DELHI 36</td>\n",
       "      <td>5584</td>\n",
       "      <td>None</td>\n",
       "      <td>Planned</td>\n",
       "      <td>POLYGON Z ((1020282.788 996796.773 0.000, 1020...</td>\n",
       "      <td>1.966739</td>\n",
       "      <td>False</td>\n",
       "      <td>True</td>\n",
       "      <td>True</td>\n",
       "      <td>True</td>\n",
       "      <td>POINT (1020123.175 995898.851)</td>\n",
       "      <td>5.159809</td>\n",
       "      <td>[5598, 5599, 5602, 5603, 3508, 3776, 4011, 349...</td>\n",
       "      <td>[(5598, 1.074790368771482), (5599, 1.015506410...</td>\n",
       "      <td>0</td>\n",
       "    </tr>\n",
       "    <tr>\n",
       "      <th>1</th>\n",
       "      <td>NEW DELHI 35</td>\n",
       "      <td>5585</td>\n",
       "      <td>None</td>\n",
       "      <td>Planned</td>\n",
       "      <td>POLYGON Z ((1019724.475 994932.797 0.000, 1019...</td>\n",
       "      <td>0.036429</td>\n",
       "      <td>False</td>\n",
       "      <td>False</td>\n",
       "      <td>False</td>\n",
       "      <td>False</td>\n",
       "      <td>POINT (1019673.024 994869.699)</td>\n",
       "      <td>6.273149</td>\n",
       "      <td>[5594, 4336, 2679, 1256, 4373, 5585, 1697, 180...</td>\n",
       "      <td>[(5594, 0.6299162683011635), (4336, 14.7374799...</td>\n",
       "      <td>1</td>\n",
       "    </tr>\n",
       "    <tr>\n",
       "      <th>2</th>\n",
       "      <td>NEW DELHI 34</td>\n",
       "      <td>5586</td>\n",
       "      <td>None</td>\n",
       "      <td>Planned</td>\n",
       "      <td>POLYGON Z ((1019571.955 994876.019 0.000, 1019...</td>\n",
       "      <td>0.230739</td>\n",
       "      <td>False</td>\n",
       "      <td>False</td>\n",
       "      <td>True</td>\n",
       "      <td>True</td>\n",
       "      <td>POINT (1019485.484 994565.783)</td>\n",
       "      <td>6.618792</td>\n",
       "      <td>[5594, 5587, 5585, 5596]</td>\n",
       "      <td>[(5594, 0.4532645992822079), (5587, 0.31380549...</td>\n",
       "      <td>2</td>\n",
       "    </tr>\n",
       "    <tr>\n",
       "      <th>3</th>\n",
       "      <td>NEW DELHI 33</td>\n",
       "      <td>5587</td>\n",
       "      <td>None</td>\n",
       "      <td>Planned</td>\n",
       "      <td>POLYGON Z ((1019352.702 994352.546 0.000, 1019...</td>\n",
       "      <td>0.281195</td>\n",
       "      <td>False</td>\n",
       "      <td>False</td>\n",
       "      <td>False</td>\n",
       "      <td>False</td>\n",
       "      <td>POINT (1019171.868 994576.688)</td>\n",
       "      <td>6.709542</td>\n",
       "      <td>[5596, 5587]</td>\n",
       "      <td>[(5596, 0.5564745103109905), (5587, 0.0)]</td>\n",
       "      <td>3</td>\n",
       "    </tr>\n",
       "    <tr>\n",
       "      <th>4</th>\n",
       "      <td>NEW DELHI 32</td>\n",
       "      <td>5588</td>\n",
       "      <td>None</td>\n",
       "      <td>Planned</td>\n",
       "      <td>POLYGON Z ((1018793.292 994224.182 0.000, 1018...</td>\n",
       "      <td>0.301253</td>\n",
       "      <td>False</td>\n",
       "      <td>False</td>\n",
       "      <td>True</td>\n",
       "      <td>True</td>\n",
       "      <td>POINT (1018785.675 994590.275)</td>\n",
       "      <td>6.839299</td>\n",
       "      <td>[5621, 5587, 5620, 5596]</td>\n",
       "      <td>[(5621, 0.5779093230804585), (5587, 0.38643264...</td>\n",
       "      <td>4</td>\n",
       "    </tr>\n",
       "  </tbody>\n",
       "</table>\n",
       "</div>"
      ],
      "text/plain": [
       "           AREA  USO_AREA_U HOUSETAX_C USO_FINAL  \\\n",
       "0  NEW DELHI 36        5584       None   Planned   \n",
       "1  NEW DELHI 35        5585       None   Planned   \n",
       "2  NEW DELHI 34        5586       None   Planned   \n",
       "3  NEW DELHI 33        5587       None   Planned   \n",
       "4  NEW DELHI 32        5588       None   Planned   \n",
       "\n",
       "                                            geometry  area_km2  canal  \\\n",
       "0  POLYGON Z ((1020282.788 996796.773 0.000, 1020...  1.966739  False   \n",
       "1  POLYGON Z ((1019724.475 994932.797 0.000, 1019...  0.036429  False   \n",
       "2  POLYGON Z ((1019571.955 994876.019 0.000, 1019...  0.230739  False   \n",
       "3  POLYGON Z ((1019352.702 994352.546 0.000, 1019...  0.281195  False   \n",
       "4  POLYGON Z ((1018793.292 994224.182 0.000, 1018...  0.301253  False   \n",
       "\n",
       "   railway  drain  barrier                        centroid  ndmc_dist_km  \\\n",
       "0     True   True     True  POINT (1020123.175 995898.851)      5.159809   \n",
       "1    False  False    False  POINT (1019673.024 994869.699)      6.273149   \n",
       "2    False   True     True  POINT (1019485.484 994565.783)      6.618792   \n",
       "3    False  False    False  POINT (1019171.868 994576.688)      6.709542   \n",
       "4    False   True     True  POINT (1018785.675 994590.275)      6.839299   \n",
       "\n",
       "                                           nbrs_bbox  \\\n",
       "0  [5598, 5599, 5602, 5603, 3508, 3776, 4011, 349...   \n",
       "1  [5594, 4336, 2679, 1256, 4373, 5585, 1697, 180...   \n",
       "2                           [5594, 5587, 5585, 5596]   \n",
       "3                                       [5596, 5587]   \n",
       "4                           [5621, 5587, 5620, 5596]   \n",
       "\n",
       "                                      nbrs_dist_bbox  index  \n",
       "0  [(5598, 1.074790368771482), (5599, 1.015506410...      0  \n",
       "1  [(5594, 0.6299162683011635), (4336, 14.7374799...      1  \n",
       "2  [(5594, 0.4532645992822079), (5587, 0.31380549...      2  \n",
       "3          [(5596, 0.5564745103109905), (5587, 0.0)]      3  \n",
       "4  [(5621, 0.5779093230804585), (5587, 0.38643264...      4  "
      ]
     },
     "execution_count": 4,
     "metadata": {},
     "output_type": "execute_result"
    }
   ],
   "source": [
    "with open('colonies_bbox_nbrs29Aug2021.pkl', 'rb') as f:\n",
    "    colonies_bbox_nbrs = pickle.load(f)\n",
    "    \n",
    "colonies_bbox_nbrs.head()"
   ]
  },
  {
   "cell_type": "code",
   "execution_count": 5,
   "metadata": {},
   "outputs": [
    {
     "data": {
      "text/plain": [
       "4357"
      ]
     },
     "execution_count": 5,
     "metadata": {},
     "output_type": "execute_result"
    }
   ],
   "source": [
    "len(colonies_bbox_nbrs)"
   ]
  },
  {
   "cell_type": "markdown",
   "metadata": {},
   "source": [
    "## Update/Merge Population Estimates"
   ]
  },
  {
   "cell_type": "code",
   "execution_count": 6,
   "metadata": {},
   "outputs": [
    {
     "name": "stdout",
     "output_type": "stream",
     "text": [
      "population_data\\pop_colony_wp_2020.csv exists: True\n",
      "population_data\\pop_colony_wp_2019.csv exists: True\n"
     ]
    }
   ],
   "source": [
    "popfile_2020 = os.path.join(\"population_data\", \"pop_colony_wp_2020.csv\")\n",
    "popfile_2019 = os.path.join(\"population_data\", \"pop_colony_wp_2019.csv\")\n",
    "for popfile in [popfile_2020, popfile_2019]:\n",
    "    print(f\"{popfile} exists: {os.path.exists(popfile)}\")"
   ]
  },
  {
   "cell_type": "code",
   "execution_count": 7,
   "metadata": {},
   "outputs": [
    {
     "data": {
      "text/html": [
       "<div>\n",
       "<style scoped>\n",
       "    .dataframe tbody tr th:only-of-type {\n",
       "        vertical-align: middle;\n",
       "    }\n",
       "\n",
       "    .dataframe tbody tr th {\n",
       "        vertical-align: top;\n",
       "    }\n",
       "\n",
       "    .dataframe thead th {\n",
       "        text-align: right;\n",
       "    }\n",
       "</style>\n",
       "<table border=\"1\" class=\"dataframe\">\n",
       "  <thead>\n",
       "    <tr style=\"text-align: right;\">\n",
       "      <th></th>\n",
       "      <th>Unnamed: 0</th>\n",
       "      <th>ID</th>\n",
       "      <th>layer</th>\n",
       "      <th>area</th>\n",
       "      <th>uso_area_u</th>\n",
       "      <th>housetax_c</th>\n",
       "      <th>uso_final</th>\n",
       "    </tr>\n",
       "  </thead>\n",
       "  <tbody>\n",
       "    <tr>\n",
       "      <th>0</th>\n",
       "      <td>1</td>\n",
       "      <td>1</td>\n",
       "      <td>3570.060984</td>\n",
       "      <td>NEW DELHI 36</td>\n",
       "      <td>5584</td>\n",
       "      <td>NaN</td>\n",
       "      <td>Planned</td>\n",
       "    </tr>\n",
       "    <tr>\n",
       "      <th>1</th>\n",
       "      <td>2</td>\n",
       "      <td>2</td>\n",
       "      <td>320.568629</td>\n",
       "      <td>NEW DELHI 35</td>\n",
       "      <td>5585</td>\n",
       "      <td>NaN</td>\n",
       "      <td>Planned</td>\n",
       "    </tr>\n",
       "    <tr>\n",
       "      <th>2</th>\n",
       "      <td>3</td>\n",
       "      <td>3</td>\n",
       "      <td>2215.206473</td>\n",
       "      <td>NEW DELHI 34</td>\n",
       "      <td>5586</td>\n",
       "      <td>NaN</td>\n",
       "      <td>Planned</td>\n",
       "    </tr>\n",
       "    <tr>\n",
       "      <th>3</th>\n",
       "      <td>4</td>\n",
       "      <td>4</td>\n",
       "      <td>3956.166944</td>\n",
       "      <td>NEW DELHI 33</td>\n",
       "      <td>5587</td>\n",
       "      <td>NaN</td>\n",
       "      <td>Planned</td>\n",
       "    </tr>\n",
       "    <tr>\n",
       "      <th>4</th>\n",
       "      <td>5</td>\n",
       "      <td>5</td>\n",
       "      <td>3961.943378</td>\n",
       "      <td>NEW DELHI 32</td>\n",
       "      <td>5588</td>\n",
       "      <td>NaN</td>\n",
       "      <td>Planned</td>\n",
       "    </tr>\n",
       "  </tbody>\n",
       "</table>\n",
       "</div>"
      ],
      "text/plain": [
       "   Unnamed: 0  ID        layer          area  uso_area_u housetax_c uso_final\n",
       "0           1   1  3570.060984  NEW DELHI 36        5584        NaN   Planned\n",
       "1           2   2   320.568629  NEW DELHI 35        5585        NaN   Planned\n",
       "2           3   3  2215.206473  NEW DELHI 34        5586        NaN   Planned\n",
       "3           4   4  3956.166944  NEW DELHI 33        5587        NaN   Planned\n",
       "4           5   5  3961.943378  NEW DELHI 32        5588        NaN   Planned"
      ]
     },
     "execution_count": 7,
     "metadata": {},
     "output_type": "execute_result"
    }
   ],
   "source": [
    "# Import updated population data (2019 and 2020)\n",
    "updated_pop = pd.read_csv(popfile_2020)\n",
    "updated_pop.head()"
   ]
  },
  {
   "cell_type": "code",
   "execution_count": 8,
   "metadata": {},
   "outputs": [
    {
     "data": {
      "text/html": [
       "<div>\n",
       "<style scoped>\n",
       "    .dataframe tbody tr th:only-of-type {\n",
       "        vertical-align: middle;\n",
       "    }\n",
       "\n",
       "    .dataframe tbody tr th {\n",
       "        vertical-align: top;\n",
       "    }\n",
       "\n",
       "    .dataframe thead th {\n",
       "        text-align: right;\n",
       "    }\n",
       "</style>\n",
       "<table border=\"1\" class=\"dataframe\">\n",
       "  <thead>\n",
       "    <tr style=\"text-align: right;\">\n",
       "      <th></th>\n",
       "      <th>Unnamed: 0</th>\n",
       "      <th>ID</th>\n",
       "      <th>population_new</th>\n",
       "      <th>area</th>\n",
       "      <th>uso_area_u</th>\n",
       "      <th>housetax_c</th>\n",
       "      <th>uso_final</th>\n",
       "    </tr>\n",
       "  </thead>\n",
       "  <tbody>\n",
       "    <tr>\n",
       "      <th>0</th>\n",
       "      <td>1</td>\n",
       "      <td>1</td>\n",
       "      <td>3570.060984</td>\n",
       "      <td>NEW DELHI 36</td>\n",
       "      <td>5584</td>\n",
       "      <td>NaN</td>\n",
       "      <td>Planned</td>\n",
       "    </tr>\n",
       "    <tr>\n",
       "      <th>1</th>\n",
       "      <td>2</td>\n",
       "      <td>2</td>\n",
       "      <td>320.568629</td>\n",
       "      <td>NEW DELHI 35</td>\n",
       "      <td>5585</td>\n",
       "      <td>NaN</td>\n",
       "      <td>Planned</td>\n",
       "    </tr>\n",
       "    <tr>\n",
       "      <th>2</th>\n",
       "      <td>3</td>\n",
       "      <td>3</td>\n",
       "      <td>2215.206473</td>\n",
       "      <td>NEW DELHI 34</td>\n",
       "      <td>5586</td>\n",
       "      <td>NaN</td>\n",
       "      <td>Planned</td>\n",
       "    </tr>\n",
       "    <tr>\n",
       "      <th>3</th>\n",
       "      <td>4</td>\n",
       "      <td>4</td>\n",
       "      <td>3956.166944</td>\n",
       "      <td>NEW DELHI 33</td>\n",
       "      <td>5587</td>\n",
       "      <td>NaN</td>\n",
       "      <td>Planned</td>\n",
       "    </tr>\n",
       "    <tr>\n",
       "      <th>4</th>\n",
       "      <td>5</td>\n",
       "      <td>5</td>\n",
       "      <td>3961.943378</td>\n",
       "      <td>NEW DELHI 32</td>\n",
       "      <td>5588</td>\n",
       "      <td>NaN</td>\n",
       "      <td>Planned</td>\n",
       "    </tr>\n",
       "  </tbody>\n",
       "</table>\n",
       "</div>"
      ],
      "text/plain": [
       "   Unnamed: 0  ID  population_new          area  uso_area_u housetax_c  \\\n",
       "0           1   1     3570.060984  NEW DELHI 36        5584        NaN   \n",
       "1           2   2      320.568629  NEW DELHI 35        5585        NaN   \n",
       "2           3   3     2215.206473  NEW DELHI 34        5586        NaN   \n",
       "3           4   4     3956.166944  NEW DELHI 33        5587        NaN   \n",
       "4           5   5     3961.943378  NEW DELHI 32        5588        NaN   \n",
       "\n",
       "  uso_final  \n",
       "0   Planned  \n",
       "1   Planned  \n",
       "2   Planned  \n",
       "3   Planned  \n",
       "4   Planned  "
      ]
     },
     "execution_count": 8,
     "metadata": {},
     "output_type": "execute_result"
    }
   ],
   "source": [
    "# rename population column to make distinct in upcoming merge\n",
    "updated_pop = updated_pop.rename(columns={\"layer\":\"population_new\"})\n",
    "updated_pop.head()"
   ]
  },
  {
   "cell_type": "code",
   "execution_count": 9,
   "metadata": {},
   "outputs": [
    {
     "data": {
      "text/html": [
       "<div>\n",
       "<style scoped>\n",
       "    .dataframe tbody tr th:only-of-type {\n",
       "        vertical-align: middle;\n",
       "    }\n",
       "\n",
       "    .dataframe tbody tr th {\n",
       "        vertical-align: top;\n",
       "    }\n",
       "\n",
       "    .dataframe thead th {\n",
       "        text-align: right;\n",
       "    }\n",
       "</style>\n",
       "<table border=\"1\" class=\"dataframe\">\n",
       "  <thead>\n",
       "    <tr style=\"text-align: right;\">\n",
       "      <th></th>\n",
       "      <th>population_new</th>\n",
       "      <th>uso_area_u</th>\n",
       "    </tr>\n",
       "  </thead>\n",
       "  <tbody>\n",
       "    <tr>\n",
       "      <th>0</th>\n",
       "      <td>3570.060984</td>\n",
       "      <td>5584</td>\n",
       "    </tr>\n",
       "    <tr>\n",
       "      <th>1</th>\n",
       "      <td>320.568629</td>\n",
       "      <td>5585</td>\n",
       "    </tr>\n",
       "    <tr>\n",
       "      <th>2</th>\n",
       "      <td>2215.206473</td>\n",
       "      <td>5586</td>\n",
       "    </tr>\n",
       "    <tr>\n",
       "      <th>3</th>\n",
       "      <td>3956.166944</td>\n",
       "      <td>5587</td>\n",
       "    </tr>\n",
       "    <tr>\n",
       "      <th>4</th>\n",
       "      <td>3961.943378</td>\n",
       "      <td>5588</td>\n",
       "    </tr>\n",
       "  </tbody>\n",
       "</table>\n",
       "</div>"
      ],
      "text/plain": [
       "   population_new  uso_area_u\n",
       "0     3570.060984        5584\n",
       "1      320.568629        5585\n",
       "2     2215.206473        5586\n",
       "3     3956.166944        5587\n",
       "4     3961.943378        5588"
      ]
     },
     "execution_count": 9,
     "metadata": {},
     "output_type": "execute_result"
    }
   ],
   "source": [
    "# Restrict dataframe to only two columns:\n",
    "# layer: population data\n",
    "# uso_area_u: unique id for colonies\n",
    "updated_pop = updated_pop[['population_new', 'uso_area_u']]\n",
    "updated_pop.head()"
   ]
  },
  {
   "cell_type": "code",
   "execution_count": 10,
   "metadata": {},
   "outputs": [
    {
     "data": {
      "text/html": [
       "<div>\n",
       "<style scoped>\n",
       "    .dataframe tbody tr th:only-of-type {\n",
       "        vertical-align: middle;\n",
       "    }\n",
       "\n",
       "    .dataframe tbody tr th {\n",
       "        vertical-align: top;\n",
       "    }\n",
       "\n",
       "    .dataframe thead th {\n",
       "        text-align: right;\n",
       "    }\n",
       "</style>\n",
       "<table border=\"1\" class=\"dataframe\">\n",
       "  <thead>\n",
       "    <tr style=\"text-align: right;\">\n",
       "      <th></th>\n",
       "      <th>AREA</th>\n",
       "      <th>USO_AREA_U</th>\n",
       "      <th>HOUSETAX_C</th>\n",
       "      <th>USO_FINAL</th>\n",
       "      <th>geometry</th>\n",
       "      <th>area_km2</th>\n",
       "      <th>canal</th>\n",
       "      <th>railway</th>\n",
       "      <th>drain</th>\n",
       "      <th>barrier</th>\n",
       "      <th>centroid</th>\n",
       "      <th>ndmc_dist_km</th>\n",
       "      <th>nbrs_bbox</th>\n",
       "      <th>nbrs_dist_bbox</th>\n",
       "      <th>index</th>\n",
       "      <th>population_new</th>\n",
       "      <th>uso_area_u</th>\n",
       "    </tr>\n",
       "  </thead>\n",
       "  <tbody>\n",
       "    <tr>\n",
       "      <th>0</th>\n",
       "      <td>NEW DELHI 36</td>\n",
       "      <td>5584</td>\n",
       "      <td>None</td>\n",
       "      <td>Planned</td>\n",
       "      <td>POLYGON Z ((1020282.788 996796.773 0.000, 1020...</td>\n",
       "      <td>1.966739</td>\n",
       "      <td>False</td>\n",
       "      <td>True</td>\n",
       "      <td>True</td>\n",
       "      <td>True</td>\n",
       "      <td>POINT (1020123.175 995898.851)</td>\n",
       "      <td>5.159809</td>\n",
       "      <td>[5598, 5599, 5602, 5603, 3508, 3776, 4011, 349...</td>\n",
       "      <td>[(5598, 1.074790368771482), (5599, 1.015506410...</td>\n",
       "      <td>0</td>\n",
       "      <td>3570.060984</td>\n",
       "      <td>5584</td>\n",
       "    </tr>\n",
       "    <tr>\n",
       "      <th>1</th>\n",
       "      <td>NEW DELHI 36</td>\n",
       "      <td>5584</td>\n",
       "      <td>None</td>\n",
       "      <td>Planned</td>\n",
       "      <td>POLYGON Z ((1020282.788 996796.773 0.000, 1020...</td>\n",
       "      <td>1.966739</td>\n",
       "      <td>False</td>\n",
       "      <td>True</td>\n",
       "      <td>True</td>\n",
       "      <td>True</td>\n",
       "      <td>POINT (1020123.175 995898.851)</td>\n",
       "      <td>5.159809</td>\n",
       "      <td>[5598, 5599, 5602, 5603, 3508, 3776, 4011, 349...</td>\n",
       "      <td>[(5598, 1.074790368771482), (5599, 1.015506410...</td>\n",
       "      <td>0</td>\n",
       "      <td>3640.877478</td>\n",
       "      <td>5584</td>\n",
       "    </tr>\n",
       "    <tr>\n",
       "      <th>2</th>\n",
       "      <td>NEW DELHI 35</td>\n",
       "      <td>5585</td>\n",
       "      <td>None</td>\n",
       "      <td>Planned</td>\n",
       "      <td>POLYGON Z ((1019724.475 994932.797 0.000, 1019...</td>\n",
       "      <td>0.036429</td>\n",
       "      <td>False</td>\n",
       "      <td>False</td>\n",
       "      <td>False</td>\n",
       "      <td>False</td>\n",
       "      <td>POINT (1019673.024 994869.699)</td>\n",
       "      <td>6.273149</td>\n",
       "      <td>[5594, 4336, 2679, 1256, 4373, 5585, 1697, 180...</td>\n",
       "      <td>[(5594, 0.6299162683011635), (4336, 14.7374799...</td>\n",
       "      <td>1</td>\n",
       "      <td>320.568629</td>\n",
       "      <td>5585</td>\n",
       "    </tr>\n",
       "    <tr>\n",
       "      <th>3</th>\n",
       "      <td>NEW DELHI 35</td>\n",
       "      <td>5585</td>\n",
       "      <td>None</td>\n",
       "      <td>Planned</td>\n",
       "      <td>POLYGON Z ((1019724.475 994932.797 0.000, 1019...</td>\n",
       "      <td>0.036429</td>\n",
       "      <td>False</td>\n",
       "      <td>False</td>\n",
       "      <td>False</td>\n",
       "      <td>False</td>\n",
       "      <td>POINT (1019673.024 994869.699)</td>\n",
       "      <td>6.273149</td>\n",
       "      <td>[5594, 4336, 2679, 1256, 4373, 5585, 1697, 180...</td>\n",
       "      <td>[(5594, 0.6299162683011635), (4336, 14.7374799...</td>\n",
       "      <td>1</td>\n",
       "      <td>2613.571587</td>\n",
       "      <td>5585</td>\n",
       "    </tr>\n",
       "    <tr>\n",
       "      <th>4</th>\n",
       "      <td>NEW DELHI 34</td>\n",
       "      <td>5586</td>\n",
       "      <td>None</td>\n",
       "      <td>Planned</td>\n",
       "      <td>POLYGON Z ((1019571.955 994876.019 0.000, 1019...</td>\n",
       "      <td>0.230739</td>\n",
       "      <td>False</td>\n",
       "      <td>False</td>\n",
       "      <td>True</td>\n",
       "      <td>True</td>\n",
       "      <td>POINT (1019485.484 994565.783)</td>\n",
       "      <td>6.618792</td>\n",
       "      <td>[5594, 5587, 5585, 5596]</td>\n",
       "      <td>[(5594, 0.4532645992822079), (5587, 0.31380549...</td>\n",
       "      <td>2</td>\n",
       "      <td>2215.206473</td>\n",
       "      <td>5586</td>\n",
       "    </tr>\n",
       "  </tbody>\n",
       "</table>\n",
       "</div>"
      ],
      "text/plain": [
       "           AREA  USO_AREA_U HOUSETAX_C USO_FINAL  \\\n",
       "0  NEW DELHI 36        5584       None   Planned   \n",
       "1  NEW DELHI 36        5584       None   Planned   \n",
       "2  NEW DELHI 35        5585       None   Planned   \n",
       "3  NEW DELHI 35        5585       None   Planned   \n",
       "4  NEW DELHI 34        5586       None   Planned   \n",
       "\n",
       "                                            geometry  area_km2  canal  \\\n",
       "0  POLYGON Z ((1020282.788 996796.773 0.000, 1020...  1.966739  False   \n",
       "1  POLYGON Z ((1020282.788 996796.773 0.000, 1020...  1.966739  False   \n",
       "2  POLYGON Z ((1019724.475 994932.797 0.000, 1019...  0.036429  False   \n",
       "3  POLYGON Z ((1019724.475 994932.797 0.000, 1019...  0.036429  False   \n",
       "4  POLYGON Z ((1019571.955 994876.019 0.000, 1019...  0.230739  False   \n",
       "\n",
       "   railway  drain  barrier                        centroid  ndmc_dist_km  \\\n",
       "0     True   True     True  POINT (1020123.175 995898.851)      5.159809   \n",
       "1     True   True     True  POINT (1020123.175 995898.851)      5.159809   \n",
       "2    False  False    False  POINT (1019673.024 994869.699)      6.273149   \n",
       "3    False  False    False  POINT (1019673.024 994869.699)      6.273149   \n",
       "4    False   True     True  POINT (1019485.484 994565.783)      6.618792   \n",
       "\n",
       "                                           nbrs_bbox  \\\n",
       "0  [5598, 5599, 5602, 5603, 3508, 3776, 4011, 349...   \n",
       "1  [5598, 5599, 5602, 5603, 3508, 3776, 4011, 349...   \n",
       "2  [5594, 4336, 2679, 1256, 4373, 5585, 1697, 180...   \n",
       "3  [5594, 4336, 2679, 1256, 4373, 5585, 1697, 180...   \n",
       "4                           [5594, 5587, 5585, 5596]   \n",
       "\n",
       "                                      nbrs_dist_bbox  index  population_new  \\\n",
       "0  [(5598, 1.074790368771482), (5599, 1.015506410...      0     3570.060984   \n",
       "1  [(5598, 1.074790368771482), (5599, 1.015506410...      0     3640.877478   \n",
       "2  [(5594, 0.6299162683011635), (4336, 14.7374799...      1      320.568629   \n",
       "3  [(5594, 0.6299162683011635), (4336, 14.7374799...      1     2613.571587   \n",
       "4  [(5594, 0.4532645992822079), (5587, 0.31380549...      2     2215.206473   \n",
       "\n",
       "   uso_area_u  \n",
       "0        5584  \n",
       "1        5584  \n",
       "2        5585  \n",
       "3        5585  \n",
       "4        5586  "
      ]
     },
     "execution_count": 10,
     "metadata": {},
     "output_type": "execute_result"
    }
   ],
   "source": [
    "# Left merge updated population data with colonies data\n",
    "colonies_bbox_nbrs = colonies_bbox_nbrs.merge(updated_pop, how='left', \n",
    "                          left_on=\"USO_AREA_U\", right_on='uso_area_u')\n",
    "colonies_bbox_nbrs.head()"
   ]
  },
  {
   "cell_type": "code",
   "execution_count": 11,
   "metadata": {},
   "outputs": [],
   "source": [
    "# Identify and save colonies with missing data for updated population estimates\n",
    "#colonies_bbox_nbrs[colonies_bbox_nbrs['population_new'].isna()]#.to_csv(\"missing_colonies.csv\")"
   ]
  },
  {
   "cell_type": "code",
   "execution_count": 12,
   "metadata": {},
   "outputs": [],
   "source": [
    "# Create new column that replaces colonies with missing updated population estimates with older estimates\n",
    "#colonies_bbox_nbrs['population_updated'] = colonies_bbox_nbrs['population_new'].fillna(colonies_bbox_nbrs['population'])"
   ]
  },
  {
   "cell_type": "code",
   "execution_count": 13,
   "metadata": {},
   "outputs": [],
   "source": [
    "#colonies_bbox_nbrs.head()"
   ]
  },
  {
   "cell_type": "code",
   "execution_count": 14,
   "metadata": {},
   "outputs": [
    {
     "data": {
      "text/plain": [
       "['population_new']"
      ]
     },
     "execution_count": 14,
     "metadata": {},
     "output_type": "execute_result"
    }
   ],
   "source": [
    "[col for col in colonies_bbox_nbrs if \"pop\" in col]"
   ]
  },
  {
   "cell_type": "code",
   "execution_count": 15,
   "metadata": {},
   "outputs": [
    {
     "data": {
      "text/html": [
       "<div>\n",
       "<style scoped>\n",
       "    .dataframe tbody tr th:only-of-type {\n",
       "        vertical-align: middle;\n",
       "    }\n",
       "\n",
       "    .dataframe tbody tr th {\n",
       "        vertical-align: top;\n",
       "    }\n",
       "\n",
       "    .dataframe thead th {\n",
       "        text-align: right;\n",
       "    }\n",
       "</style>\n",
       "<table border=\"1\" class=\"dataframe\">\n",
       "  <thead>\n",
       "    <tr style=\"text-align: right;\">\n",
       "      <th></th>\n",
       "      <th>AREA</th>\n",
       "      <th>USO_AREA_U</th>\n",
       "      <th>HOUSETAX_C</th>\n",
       "      <th>USO_FINAL</th>\n",
       "      <th>geometry</th>\n",
       "      <th>area_km2</th>\n",
       "      <th>canal</th>\n",
       "      <th>railway</th>\n",
       "      <th>drain</th>\n",
       "      <th>barrier</th>\n",
       "      <th>centroid</th>\n",
       "      <th>ndmc_dist_km</th>\n",
       "      <th>nbrs_bbox</th>\n",
       "      <th>nbrs_dist_bbox</th>\n",
       "      <th>index</th>\n",
       "      <th>population</th>\n",
       "    </tr>\n",
       "  </thead>\n",
       "  <tbody>\n",
       "    <tr>\n",
       "      <th>0</th>\n",
       "      <td>NEW DELHI 36</td>\n",
       "      <td>5584</td>\n",
       "      <td>None</td>\n",
       "      <td>Planned</td>\n",
       "      <td>POLYGON Z ((1020282.788 996796.773 0.000, 1020...</td>\n",
       "      <td>1.966739</td>\n",
       "      <td>False</td>\n",
       "      <td>True</td>\n",
       "      <td>True</td>\n",
       "      <td>True</td>\n",
       "      <td>POINT (1020123.175 995898.851)</td>\n",
       "      <td>5.159809</td>\n",
       "      <td>[5598, 5599, 5602, 5603, 3508, 3776, 4011, 349...</td>\n",
       "      <td>[(5598, 1.074790368771482), (5599, 1.015506410...</td>\n",
       "      <td>0</td>\n",
       "      <td>3570.060984</td>\n",
       "    </tr>\n",
       "    <tr>\n",
       "      <th>1</th>\n",
       "      <td>NEW DELHI 36</td>\n",
       "      <td>5584</td>\n",
       "      <td>None</td>\n",
       "      <td>Planned</td>\n",
       "      <td>POLYGON Z ((1020282.788 996796.773 0.000, 1020...</td>\n",
       "      <td>1.966739</td>\n",
       "      <td>False</td>\n",
       "      <td>True</td>\n",
       "      <td>True</td>\n",
       "      <td>True</td>\n",
       "      <td>POINT (1020123.175 995898.851)</td>\n",
       "      <td>5.159809</td>\n",
       "      <td>[5598, 5599, 5602, 5603, 3508, 3776, 4011, 349...</td>\n",
       "      <td>[(5598, 1.074790368771482), (5599, 1.015506410...</td>\n",
       "      <td>0</td>\n",
       "      <td>3640.877478</td>\n",
       "    </tr>\n",
       "    <tr>\n",
       "      <th>2</th>\n",
       "      <td>NEW DELHI 35</td>\n",
       "      <td>5585</td>\n",
       "      <td>None</td>\n",
       "      <td>Planned</td>\n",
       "      <td>POLYGON Z ((1019724.475 994932.797 0.000, 1019...</td>\n",
       "      <td>0.036429</td>\n",
       "      <td>False</td>\n",
       "      <td>False</td>\n",
       "      <td>False</td>\n",
       "      <td>False</td>\n",
       "      <td>POINT (1019673.024 994869.699)</td>\n",
       "      <td>6.273149</td>\n",
       "      <td>[5594, 4336, 2679, 1256, 4373, 5585, 1697, 180...</td>\n",
       "      <td>[(5594, 0.6299162683011635), (4336, 14.7374799...</td>\n",
       "      <td>1</td>\n",
       "      <td>320.568629</td>\n",
       "    </tr>\n",
       "    <tr>\n",
       "      <th>3</th>\n",
       "      <td>NEW DELHI 35</td>\n",
       "      <td>5585</td>\n",
       "      <td>None</td>\n",
       "      <td>Planned</td>\n",
       "      <td>POLYGON Z ((1019724.475 994932.797 0.000, 1019...</td>\n",
       "      <td>0.036429</td>\n",
       "      <td>False</td>\n",
       "      <td>False</td>\n",
       "      <td>False</td>\n",
       "      <td>False</td>\n",
       "      <td>POINT (1019673.024 994869.699)</td>\n",
       "      <td>6.273149</td>\n",
       "      <td>[5594, 4336, 2679, 1256, 4373, 5585, 1697, 180...</td>\n",
       "      <td>[(5594, 0.6299162683011635), (4336, 14.7374799...</td>\n",
       "      <td>1</td>\n",
       "      <td>2613.571587</td>\n",
       "    </tr>\n",
       "    <tr>\n",
       "      <th>4</th>\n",
       "      <td>NEW DELHI 34</td>\n",
       "      <td>5586</td>\n",
       "      <td>None</td>\n",
       "      <td>Planned</td>\n",
       "      <td>POLYGON Z ((1019571.955 994876.019 0.000, 1019...</td>\n",
       "      <td>0.230739</td>\n",
       "      <td>False</td>\n",
       "      <td>False</td>\n",
       "      <td>True</td>\n",
       "      <td>True</td>\n",
       "      <td>POINT (1019485.484 994565.783)</td>\n",
       "      <td>6.618792</td>\n",
       "      <td>[5594, 5587, 5585, 5596]</td>\n",
       "      <td>[(5594, 0.4532645992822079), (5587, 0.31380549...</td>\n",
       "      <td>2</td>\n",
       "      <td>2215.206473</td>\n",
       "    </tr>\n",
       "  </tbody>\n",
       "</table>\n",
       "</div>"
      ],
      "text/plain": [
       "           AREA  USO_AREA_U HOUSETAX_C USO_FINAL  \\\n",
       "0  NEW DELHI 36        5584       None   Planned   \n",
       "1  NEW DELHI 36        5584       None   Planned   \n",
       "2  NEW DELHI 35        5585       None   Planned   \n",
       "3  NEW DELHI 35        5585       None   Planned   \n",
       "4  NEW DELHI 34        5586       None   Planned   \n",
       "\n",
       "                                            geometry  area_km2  canal  \\\n",
       "0  POLYGON Z ((1020282.788 996796.773 0.000, 1020...  1.966739  False   \n",
       "1  POLYGON Z ((1020282.788 996796.773 0.000, 1020...  1.966739  False   \n",
       "2  POLYGON Z ((1019724.475 994932.797 0.000, 1019...  0.036429  False   \n",
       "3  POLYGON Z ((1019724.475 994932.797 0.000, 1019...  0.036429  False   \n",
       "4  POLYGON Z ((1019571.955 994876.019 0.000, 1019...  0.230739  False   \n",
       "\n",
       "   railway  drain  barrier                        centroid  ndmc_dist_km  \\\n",
       "0     True   True     True  POINT (1020123.175 995898.851)      5.159809   \n",
       "1     True   True     True  POINT (1020123.175 995898.851)      5.159809   \n",
       "2    False  False    False  POINT (1019673.024 994869.699)      6.273149   \n",
       "3    False  False    False  POINT (1019673.024 994869.699)      6.273149   \n",
       "4    False   True     True  POINT (1019485.484 994565.783)      6.618792   \n",
       "\n",
       "                                           nbrs_bbox  \\\n",
       "0  [5598, 5599, 5602, 5603, 3508, 3776, 4011, 349...   \n",
       "1  [5598, 5599, 5602, 5603, 3508, 3776, 4011, 349...   \n",
       "2  [5594, 4336, 2679, 1256, 4373, 5585, 1697, 180...   \n",
       "3  [5594, 4336, 2679, 1256, 4373, 5585, 1697, 180...   \n",
       "4                           [5594, 5587, 5585, 5596]   \n",
       "\n",
       "                                      nbrs_dist_bbox  index   population  \n",
       "0  [(5598, 1.074790368771482), (5599, 1.015506410...      0  3570.060984  \n",
       "1  [(5598, 1.074790368771482), (5599, 1.015506410...      0  3640.877478  \n",
       "2  [(5594, 0.6299162683011635), (4336, 14.7374799...      1   320.568629  \n",
       "3  [(5594, 0.6299162683011635), (4336, 14.7374799...      1  2613.571587  \n",
       "4  [(5594, 0.4532645992822079), (5587, 0.31380549...      2  2215.206473  "
      ]
     },
     "execution_count": 15,
     "metadata": {},
     "output_type": "execute_result"
    }
   ],
   "source": [
    "# Remove extraneous columns\n",
    "colonies_bbox_nbrs = colonies_bbox_nbrs.drop(columns=['uso_area_u'])\n",
    "\n",
    "# Rename 'population_new' column as 'population'\n",
    "colonies_bbox_nbrs = colonies_bbox_nbrs.rename(columns={'population_new': 'population'})\n",
    "\n",
    "colonies_bbox_nbrs.head()"
   ]
  },
  {
   "cell_type": "code",
   "execution_count": 16,
   "metadata": {},
   "outputs": [
    {
     "data": {
      "text/plain": [
       "4367"
      ]
     },
     "execution_count": 16,
     "metadata": {},
     "output_type": "execute_result"
    }
   ],
   "source": [
    "# Check that we have same number of colonies\n",
    "len(colonies_bbox_nbrs)"
   ]
  },
  {
   "cell_type": "code",
   "execution_count": 17,
   "metadata": {},
   "outputs": [
    {
     "data": {
      "text/plain": [
       "0"
      ]
     },
     "execution_count": 17,
     "metadata": {},
     "output_type": "execute_result"
    }
   ],
   "source": [
    "# Confirm no population estimates are missing\n",
    "sum(colonies_bbox_nbrs['population'].isna())"
   ]
  },
  {
   "cell_type": "markdown",
   "metadata": {},
   "source": [
    "## Remove \"Rural Villages\""
   ]
  },
  {
   "cell_type": "code",
   "execution_count": 18,
   "metadata": {},
   "outputs": [],
   "source": [
    "colonies_bbox_nbrs = colonies_bbox_nbrs[colonies_bbox_nbrs['USO_FINAL'] != 'RV']"
   ]
  },
  {
   "cell_type": "code",
   "execution_count": 19,
   "metadata": {},
   "outputs": [
    {
     "data": {
      "text/plain": [
       "4156"
      ]
     },
     "execution_count": 19,
     "metadata": {},
     "output_type": "execute_result"
    }
   ],
   "source": [
    "# Check that number of colonies\n",
    "len(colonies_bbox_nbrs)"
   ]
  },
  {
   "cell_type": "markdown",
   "metadata": {},
   "source": [
    "## Import services shapefiles"
   ]
  },
  {
   "cell_type": "code",
   "execution_count": 20,
   "metadata": {},
   "outputs": [],
   "source": [
    "# Define filepaths\n",
    "\n",
    "services_dir = os.path.join('shapefiles', 'Spatial_Index_GIS', 'Public Services')\n",
    "\n",
    "bank_fp = os.path.join(services_dir, 'Banking', 'Banking.shp')\n",
    "health_fp = os.path.join(services_dir, 'Health', 'Health.shp')\n",
    "road_fp = os.path.join(services_dir, 'Major Road', 'Road.shp')\n",
    "police_fp = os.path.join(services_dir, 'Police', 'Police Station.shp')\n",
    "ration_fp = os.path.join(services_dir, 'Ration', 'Ration.shp')\n",
    "school_fp = os.path.join(services_dir, 'School', 'schools7760.shp')\n",
    "transport_fp = os.path.join(services_dir, 'Transport', 'Transport.shp')\n",
    "\n",
    "# boundary of Delhi\n",
    "delhi_bounds_filepath = os.path.join('shapefiles', 'delhi_bounds_buffer.shp')\n",
    "\n",
    "# Check that all filepaths exist\n",
    "filepath_list = [bank_fp, health_fp, road_fp, police_fp, ration_fp, school_fp, transport_fp, delhi_bounds_filepath]\n",
    "\n",
    "for filepath in filepath_list:\n",
    "    if not os.path.exists(filepath):\n",
    "        print('{} does not exist'.format(filepath))"
   ]
  },
  {
   "cell_type": "code",
   "execution_count": 21,
   "metadata": {},
   "outputs": [],
   "source": [
    "# Import services\n",
    "bank = gpd.read_file(bank_fp)\n",
    "health = gpd.read_file(health_fp)\n",
    "road = gpd.read_file(road_fp)\n",
    "police = gpd.read_file(police_fp)\n",
    "ration = gpd.read_file(ration_fp)\n",
    "school = gpd.read_file(school_fp)\n",
    "transport = gpd.read_file(transport_fp)"
   ]
  },
  {
   "cell_type": "markdown",
   "metadata": {},
   "source": [
    "## Check validity of services shapefiles\n",
    "* Duplicate rows are okay for ATMs (I assume that ATM locations for the same bank in a similar location will seem to be counted twice)\n",
    "* Look specifically for invalid geometries and whether shapefile is fully contained within Delhi"
   ]
  },
  {
   "cell_type": "code",
   "execution_count": 22,
   "metadata": {},
   "outputs": [
    {
     "name": "stdout",
     "output_type": "stream",
     "text": [
      "bank has duplicate rows: True\n",
      "----------------------------------------------------\n",
      "rows with invalid geometries \n",
      "\n",
      "----------------------------------------------------\n",
      "all geometries in bank are of type Point: True\n",
      "----------------------------------------------------\n",
      "Rows with None value in geometry column are below\n",
      "Empty GeoDataFrame\n",
      "Columns: [bank_name, Latitude, Longitude, Type, geometry, geom_type]\n",
      "Index: []\n",
      "----------------------------------------------------\n",
      "bank shapefile is contained within Delhi: True\n",
      "----------------------------------------------------\n",
      "Done with shapefile evaluation\n"
     ]
    }
   ],
   "source": [
    "spatial_index_utils.check_shapefile(gdf=bank, gdf_name='bank', \n",
    "                                    geom_type='Point', \n",
    "                                    delhi_bounds_filepath=delhi_bounds_filepath)"
   ]
  },
  {
   "cell_type": "code",
   "execution_count": 23,
   "metadata": {},
   "outputs": [
    {
     "name": "stdout",
     "output_type": "stream",
     "text": [
      "health has duplicate rows: False\n",
      "----------------------------------------------------\n",
      "rows with invalid geometries \n",
      "\n",
      "----------------------------------------------------\n",
      "all geometries in health are of type Point: True\n",
      "----------------------------------------------------\n",
      "Rows with None value in geometry column are below\n",
      "Empty GeoDataFrame\n",
      "Columns: [Hospital_C, ADDRESS, X, Y, geometry, geom_type]\n",
      "Index: []\n",
      "----------------------------------------------------\n",
      "health shapefile is contained within Delhi: True\n",
      "----------------------------------------------------\n",
      "Done with shapefile evaluation\n"
     ]
    }
   ],
   "source": [
    "spatial_index_utils.check_shapefile(gdf=health, gdf_name='health', \n",
    "                                    geom_type='Point', \n",
    "                                    delhi_bounds_filepath=delhi_bounds_filepath)"
   ]
  },
  {
   "cell_type": "code",
   "execution_count": 24,
   "metadata": {},
   "outputs": [
    {
     "name": "stdout",
     "output_type": "stream",
     "text": [
      "road has duplicate rows: False\n",
      "----------------------------------------------------\n",
      "rows with invalid geometries \n",
      "\n",
      "----------------------------------------------------\n",
      "all geometries in road are of type Line: True\n",
      "----------------------------------------------------\n",
      "Rows with None value in geometry column are below\n",
      "Empty GeoDataFrame\n",
      "Columns: [FID, RD_NM, RD_CLS, RD_LANES, RD_TP_SRF, RD_MB, RD_ONEWAY, EL_GND, DIST_NM, ONEWAY, Speed_kmph, geometry, geom_type]\n",
      "Index: []\n",
      "----------------------------------------------------\n",
      "road shapefile is contained within Delhi: True\n",
      "----------------------------------------------------\n",
      "Done with shapefile evaluation\n"
     ]
    }
   ],
   "source": [
    "spatial_index_utils.check_shapefile(gdf=road, gdf_name='road', \n",
    "                                    geom_type='Line', \n",
    "                                    delhi_bounds_filepath=delhi_bounds_filepath)"
   ]
  },
  {
   "cell_type": "code",
   "execution_count": 25,
   "metadata": {},
   "outputs": [
    {
     "name": "stdout",
     "output_type": "stream",
     "text": [
      "police has duplicate rows: False\n",
      "----------------------------------------------------\n",
      "rows with invalid geometries \n",
      "\n",
      "----------------------------------------------------\n",
      "all geometries in police are of type Point: True\n",
      "----------------------------------------------------\n",
      "Rows with None value in geometry column are below\n",
      "Empty GeoDataFrame\n",
      "Columns: [NAME, POLICE_STA, DISTRICT, x, y, geometry, geom_type]\n",
      "Index: []\n",
      "----------------------------------------------------\n",
      "police shapefile is contained within Delhi: True\n",
      "----------------------------------------------------\n",
      "Done with shapefile evaluation\n"
     ]
    }
   ],
   "source": [
    "spatial_index_utils.check_shapefile(gdf=police, gdf_name='police', \n",
    "                                    geom_type='Point', \n",
    "                                    delhi_bounds_filepath=delhi_bounds_filepath)"
   ]
  },
  {
   "cell_type": "code",
   "execution_count": 26,
   "metadata": {},
   "outputs": [
    {
     "name": "stdout",
     "output_type": "stream",
     "text": [
      "ration has duplicate rows: False\n",
      "----------------------------------------------------\n",
      "rows with invalid geometries \n",
      "\n",
      "----------------------------------------------------\n",
      "all geometries in ration are of type Point: True\n",
      "----------------------------------------------------\n",
      "Rows with None value in geometry column are below\n",
      "Empty GeoDataFrame\n",
      "Columns: [S No., License No, FPS ID, Circle, FPS Shop N, Address Of, Latitude, Longitude, Source, geometry, geom_type]\n",
      "Index: []\n",
      "----------------------------------------------------\n",
      "ration shapefile is contained within Delhi: True\n",
      "----------------------------------------------------\n",
      "Done with shapefile evaluation\n"
     ]
    }
   ],
   "source": [
    "spatial_index_utils.check_shapefile(gdf=ration, gdf_name='ration', \n",
    "                                    geom_type='Point', \n",
    "                                    delhi_bounds_filepath=delhi_bounds_filepath)"
   ]
  },
  {
   "cell_type": "code",
   "execution_count": 27,
   "metadata": {},
   "outputs": [
    {
     "name": "stdout",
     "output_type": "stream",
     "text": [
      "school has duplicate rows: False\n",
      "----------------------------------------------------\n",
      "rows with invalid geometries \n",
      "\n",
      "----------------------------------------------------\n",
      "all geometries in school are of type Point: True\n",
      "----------------------------------------------------\n",
      "Rows with None value in geometry column are below\n",
      "Empty GeoDataFrame\n",
      "Columns: [objectid_1, objectid, vilname, schname, schcd, schcat, school_cat, pincode, rururb, location, schtype, school_typ, schmgt, management, dtname, stname, stcode11, dtcode11, sdtcode11, sdtname, geometry, geom_type]\n",
      "Index: []\n",
      "\n",
      "[0 rows x 22 columns]\n",
      "----------------------------------------------------\n",
      "school shapefile is contained within Delhi: True\n",
      "----------------------------------------------------\n",
      "Done with shapefile evaluation\n"
     ]
    }
   ],
   "source": [
    "spatial_index_utils.check_shapefile(gdf=school, gdf_name='school', \n",
    "                                    geom_type='Point', \n",
    "                                    delhi_bounds_filepath=delhi_bounds_filepath)"
   ]
  },
  {
   "cell_type": "code",
   "execution_count": 28,
   "metadata": {},
   "outputs": [
    {
     "name": "stdout",
     "output_type": "stream",
     "text": [
      "transport has duplicate rows: False\n",
      "----------------------------------------------------\n",
      "rows with invalid geometries \n",
      "\n",
      "----------------------------------------------------\n",
      "all geometries in transport are of type Point: True\n",
      "----------------------------------------------------\n",
      "Rows with None value in geometry column are below\n",
      "Empty GeoDataFrame\n",
      "Columns: [stop_id, stop_name, stop_lat, stop_lon, Type, geometry, geom_type]\n",
      "Index: []\n",
      "----------------------------------------------------\n",
      "transport shapefile is contained within Delhi: True\n",
      "----------------------------------------------------\n",
      "Done with shapefile evaluation\n"
     ]
    }
   ],
   "source": [
    "spatial_index_utils.check_shapefile(gdf=transport, gdf_name='transport', \n",
    "                                    geom_type='Point', \n",
    "                                    delhi_bounds_filepath=delhi_bounds_filepath)"
   ]
  },
  {
   "cell_type": "markdown",
   "metadata": {},
   "source": [
    "## Check CRS (all shapefiles should be in EPSG: 7760)"
   ]
  },
  {
   "cell_type": "code",
   "execution_count": 29,
   "metadata": {},
   "outputs": [
    {
     "data": {
      "text/plain": [
       "True"
      ]
     },
     "execution_count": 29,
     "metadata": {},
     "output_type": "execute_result"
    }
   ],
   "source": [
    "bank.crs == health.crs == road.crs == police.crs == ration.crs == school.crs == transport.crs"
   ]
  },
  {
   "cell_type": "code",
   "execution_count": 30,
   "metadata": {},
   "outputs": [
    {
     "data": {
      "text/plain": [
       "<Projected CRS: EPSG:7760>\n",
       "Name: WGS 84 / Delhi\n",
       "Axis Info [cartesian]:\n",
       "- X[east]: Easting (metre)\n",
       "- Y[north]: Northing (metre)\n",
       "Area of Use:\n",
       "- name: India - Delhi national capital territory.\n",
       "- bounds: (76.83, 28.4, 77.34, 28.89)\n",
       "Coordinate Operation:\n",
       "- name: Delhi NSF LCC\n",
       "- method: Lambert Conic Conformal (2SP)\n",
       "Datum: World Geodetic System 1984 ensemble\n",
       "- Ellipsoid: WGS 84\n",
       "- Prime Meridian: Greenwich"
      ]
     },
     "execution_count": 30,
     "metadata": {},
     "output_type": "execute_result"
    }
   ],
   "source": [
    "bank.crs"
   ]
  },
  {
   "cell_type": "code",
   "execution_count": 31,
   "metadata": {},
   "outputs": [
    {
     "data": {
      "text/plain": [
       "True"
      ]
     },
     "execution_count": 31,
     "metadata": {},
     "output_type": "execute_result"
    }
   ],
   "source": [
    "colonies_bbox_nbrs.crs == bank.crs"
   ]
  },
  {
   "cell_type": "markdown",
   "metadata": {},
   "source": [
    "## Define Point and Line Services"
   ]
  },
  {
   "cell_type": "code",
   "execution_count": 32,
   "metadata": {},
   "outputs": [],
   "source": [
    "# Define all point services as dictionary\n",
    "# makes it easier to calculate all point\n",
    "# services with one function\n",
    "point_services = {'bank': bank,\n",
    "                  'health': health,\n",
    "                  'police': police,\n",
    "                  'ration': ration,\n",
    "                  'school': school,\n",
    "                  'transport': transport}\n",
    "\n",
    "line_services = {'road': road}"
   ]
  },
  {
   "cell_type": "markdown",
   "metadata": {},
   "source": [
    "## Calculate all service indices in one function"
   ]
  },
  {
   "cell_type": "code",
   "execution_count": 33,
   "metadata": {},
   "outputs": [],
   "source": [
    "from spatial_index_utils import calc_all_services"
   ]
  },
  {
   "cell_type": "markdown",
   "metadata": {},
   "source": [
    "### Calculate PSI for bbox neighbors using Population Size"
   ]
  },
  {
   "cell_type": "code",
   "execution_count": 34,
   "metadata": {},
   "outputs": [
    {
     "name": "stdout",
     "output_type": "stream",
     "text": [
      "GeoDataFrame now has the following CRS:\n",
      "\n",
      "epsg:7760\n",
      "bank service index is completed\n",
      "--------------------------------------------------------\n",
      "GeoDataFrame now has the following CRS:\n",
      "\n",
      "epsg:7760\n",
      "health service index is completed\n",
      "--------------------------------------------------------\n",
      "GeoDataFrame now has the following CRS:\n",
      "\n",
      "epsg:7760\n",
      "police service index is completed\n",
      "--------------------------------------------------------\n",
      "GeoDataFrame now has the following CRS:\n",
      "\n",
      "epsg:7760\n",
      "ration service index is completed\n",
      "--------------------------------------------------------\n",
      "GeoDataFrame now has the following CRS:\n",
      "\n",
      "epsg:7760\n",
      "school service index is completed\n",
      "--------------------------------------------------------\n",
      "GeoDataFrame now has the following CRS:\n",
      "\n",
      "epsg:7760\n",
      "transport service index is completed\n",
      "--------------------------------------------------------\n",
      "all point services completed\n",
      "GeoDataFrame now has the following CRS:\n",
      "\n",
      "epsg:7760\n",
      "road service is completed\n"
     ]
    }
   ],
   "source": [
    "colonies_bbox_psi_popsize = calc_all_services(polygon_gdf = colonies_bbox_nbrs, \n",
    "                                       point_services = point_services, \n",
    "                                       line_services = line_services, \n",
    "                                       epsg_code = epsg_code, \n",
    "                                       pcen_denom = \"pop\",\n",
    "                                       nbr_dist_colname = 'nbrs_dist_bbox')\n",
    "\n",
    "colonies_bbox_psi_popsize = colonies_bbox_psi_popsize.rename(columns={'road_count':'road_length'})"
   ]
  },
  {
   "cell_type": "code",
   "execution_count": 35,
   "metadata": {},
   "outputs": [
    {
     "data": {
      "text/html": [
       "<div>\n",
       "<style scoped>\n",
       "    .dataframe tbody tr th:only-of-type {\n",
       "        vertical-align: middle;\n",
       "    }\n",
       "\n",
       "    .dataframe tbody tr th {\n",
       "        vertical-align: top;\n",
       "    }\n",
       "\n",
       "    .dataframe thead th {\n",
       "        text-align: right;\n",
       "    }\n",
       "</style>\n",
       "<table border=\"1\" class=\"dataframe\">\n",
       "  <thead>\n",
       "    <tr style=\"text-align: right;\">\n",
       "      <th></th>\n",
       "      <th>AREA</th>\n",
       "      <th>USO_AREA_U</th>\n",
       "      <th>HOUSETAX_C</th>\n",
       "      <th>USO_FINAL</th>\n",
       "      <th>geometry</th>\n",
       "      <th>area_km2</th>\n",
       "      <th>canal</th>\n",
       "      <th>railway</th>\n",
       "      <th>drain</th>\n",
       "      <th>barrier</th>\n",
       "      <th>...</th>\n",
       "      <th>school_pcen</th>\n",
       "      <th>school_idx</th>\n",
       "      <th>transport_count</th>\n",
       "      <th>transport_pcen</th>\n",
       "      <th>transport_idx</th>\n",
       "      <th>road_length</th>\n",
       "      <th>road_pcen</th>\n",
       "      <th>road_idx</th>\n",
       "      <th>unnorm_psi</th>\n",
       "      <th>norm_psi</th>\n",
       "    </tr>\n",
       "  </thead>\n",
       "  <tbody>\n",
       "    <tr>\n",
       "      <th>0</th>\n",
       "      <td>NEW DELHI 36</td>\n",
       "      <td>5584</td>\n",
       "      <td>None</td>\n",
       "      <td>Planned</td>\n",
       "      <td>POLYGON Z ((1020282.788 996796.773 0.000, 1020...</td>\n",
       "      <td>1.966739</td>\n",
       "      <td>False</td>\n",
       "      <td>True</td>\n",
       "      <td>True</td>\n",
       "      <td>True</td>\n",
       "      <td>...</td>\n",
       "      <td>0.004640</td>\n",
       "      <td>0.018139</td>\n",
       "      <td>8</td>\n",
       "      <td>0.008235</td>\n",
       "      <td>0.004956</td>\n",
       "      <td>3.903855</td>\n",
       "      <td>0.003717</td>\n",
       "      <td>0.005086</td>\n",
       "      <td>0.009798</td>\n",
       "      <td>0.017123</td>\n",
       "    </tr>\n",
       "    <tr>\n",
       "      <th>1</th>\n",
       "      <td>NEW DELHI 36</td>\n",
       "      <td>5584</td>\n",
       "      <td>None</td>\n",
       "      <td>Planned</td>\n",
       "      <td>POLYGON Z ((1020282.788 996796.773 0.000, 1020...</td>\n",
       "      <td>1.966739</td>\n",
       "      <td>False</td>\n",
       "      <td>True</td>\n",
       "      <td>True</td>\n",
       "      <td>True</td>\n",
       "      <td>...</td>\n",
       "      <td>0.004550</td>\n",
       "      <td>0.017786</td>\n",
       "      <td>8</td>\n",
       "      <td>0.008074</td>\n",
       "      <td>0.004860</td>\n",
       "      <td>0.000000</td>\n",
       "      <td>0.002573</td>\n",
       "      <td>0.003520</td>\n",
       "      <td>0.009398</td>\n",
       "      <td>0.016423</td>\n",
       "    </tr>\n",
       "    <tr>\n",
       "      <th>2</th>\n",
       "      <td>NEW DELHI 35</td>\n",
       "      <td>5585</td>\n",
       "      <td>None</td>\n",
       "      <td>Planned</td>\n",
       "      <td>POLYGON Z ((1019724.475 994932.797 0.000, 1019...</td>\n",
       "      <td>0.036429</td>\n",
       "      <td>False</td>\n",
       "      <td>False</td>\n",
       "      <td>False</td>\n",
       "      <td>False</td>\n",
       "      <td>...</td>\n",
       "      <td>0.025344</td>\n",
       "      <td>0.099066</td>\n",
       "      <td>0</td>\n",
       "      <td>0.001914</td>\n",
       "      <td>0.001152</td>\n",
       "      <td>0.000000</td>\n",
       "      <td>0.001126</td>\n",
       "      <td>0.001541</td>\n",
       "      <td>0.046083</td>\n",
       "      <td>0.080534</td>\n",
       "    </tr>\n",
       "    <tr>\n",
       "      <th>3</th>\n",
       "      <td>NEW DELHI 35</td>\n",
       "      <td>5585</td>\n",
       "      <td>None</td>\n",
       "      <td>Planned</td>\n",
       "      <td>POLYGON Z ((1019724.475 994932.797 0.000, 1019...</td>\n",
       "      <td>0.036429</td>\n",
       "      <td>False</td>\n",
       "      <td>False</td>\n",
       "      <td>False</td>\n",
       "      <td>False</td>\n",
       "      <td>...</td>\n",
       "      <td>0.003109</td>\n",
       "      <td>0.012151</td>\n",
       "      <td>0</td>\n",
       "      <td>0.000235</td>\n",
       "      <td>0.000141</td>\n",
       "      <td>0.000000</td>\n",
       "      <td>0.000138</td>\n",
       "      <td>0.000189</td>\n",
       "      <td>0.005652</td>\n",
       "      <td>0.009878</td>\n",
       "    </tr>\n",
       "    <tr>\n",
       "      <th>4</th>\n",
       "      <td>NEW DELHI 34</td>\n",
       "      <td>5586</td>\n",
       "      <td>None</td>\n",
       "      <td>Planned</td>\n",
       "      <td>POLYGON Z ((1019571.955 994876.019 0.000, 1019...</td>\n",
       "      <td>0.230739</td>\n",
       "      <td>False</td>\n",
       "      <td>False</td>\n",
       "      <td>True</td>\n",
       "      <td>True</td>\n",
       "      <td>...</td>\n",
       "      <td>0.009387</td>\n",
       "      <td>0.036693</td>\n",
       "      <td>18</td>\n",
       "      <td>0.009512</td>\n",
       "      <td>0.005725</td>\n",
       "      <td>0.000000</td>\n",
       "      <td>0.000681</td>\n",
       "      <td>0.000932</td>\n",
       "      <td>0.015968</td>\n",
       "      <td>0.027905</td>\n",
       "    </tr>\n",
       "  </tbody>\n",
       "</table>\n",
       "<p>5 rows × 39 columns</p>\n",
       "</div>"
      ],
      "text/plain": [
       "           AREA  USO_AREA_U HOUSETAX_C USO_FINAL  \\\n",
       "0  NEW DELHI 36        5584       None   Planned   \n",
       "1  NEW DELHI 36        5584       None   Planned   \n",
       "2  NEW DELHI 35        5585       None   Planned   \n",
       "3  NEW DELHI 35        5585       None   Planned   \n",
       "4  NEW DELHI 34        5586       None   Planned   \n",
       "\n",
       "                                            geometry  area_km2  canal  \\\n",
       "0  POLYGON Z ((1020282.788 996796.773 0.000, 1020...  1.966739  False   \n",
       "1  POLYGON Z ((1020282.788 996796.773 0.000, 1020...  1.966739  False   \n",
       "2  POLYGON Z ((1019724.475 994932.797 0.000, 1019...  0.036429  False   \n",
       "3  POLYGON Z ((1019724.475 994932.797 0.000, 1019...  0.036429  False   \n",
       "4  POLYGON Z ((1019571.955 994876.019 0.000, 1019...  0.230739  False   \n",
       "\n",
       "   railway  drain  barrier  ... school_pcen  school_idx transport_count  \\\n",
       "0     True   True     True  ...    0.004640    0.018139               8   \n",
       "1     True   True     True  ...    0.004550    0.017786               8   \n",
       "2    False  False    False  ...    0.025344    0.099066               0   \n",
       "3    False  False    False  ...    0.003109    0.012151               0   \n",
       "4    False   True     True  ...    0.009387    0.036693              18   \n",
       "\n",
       "  transport_pcen  transport_idx  road_length  road_pcen  road_idx  unnorm_psi  \\\n",
       "0       0.008235       0.004956     3.903855   0.003717  0.005086    0.009798   \n",
       "1       0.008074       0.004860     0.000000   0.002573  0.003520    0.009398   \n",
       "2       0.001914       0.001152     0.000000   0.001126  0.001541    0.046083   \n",
       "3       0.000235       0.000141     0.000000   0.000138  0.000189    0.005652   \n",
       "4       0.009512       0.005725     0.000000   0.000681  0.000932    0.015968   \n",
       "\n",
       "   norm_psi  \n",
       "0  0.017123  \n",
       "1  0.016423  \n",
       "2  0.080534  \n",
       "3  0.009878  \n",
       "4  0.027905  \n",
       "\n",
       "[5 rows x 39 columns]"
      ]
     },
     "execution_count": 35,
     "metadata": {},
     "output_type": "execute_result"
    }
   ],
   "source": [
    "colonies_bbox_psi_popsize.to_csv('./psi_2020_results/delhi_psi_bbox_popsize2020_norv_29Aug2021.csv')\n",
    "with open('./psi_2020_results/colonies_bbox_psi_popsize2020_norv_29Aug2021.pkl', 'wb') as f:\n",
    "    pickle.dump(colonies_bbox_psi_popsize, f)\n",
    "\n",
    "colonies_bbox_psi_popsize.head()"
   ]
  },
  {
   "cell_type": "markdown",
   "metadata": {},
   "source": [
    "### Calculate PSI for bbox neighbors using Population Density"
   ]
  },
  {
   "cell_type": "code",
   "execution_count": 36,
   "metadata": {},
   "outputs": [
    {
     "name": "stdout",
     "output_type": "stream",
     "text": [
      "GeoDataFrame now has the following CRS:\n",
      "\n",
      "epsg:7760\n",
      "bank service index is completed\n",
      "--------------------------------------------------------\n",
      "GeoDataFrame now has the following CRS:\n",
      "\n",
      "epsg:7760\n",
      "health service index is completed\n",
      "--------------------------------------------------------\n",
      "GeoDataFrame now has the following CRS:\n",
      "\n",
      "epsg:7760\n",
      "police service index is completed\n",
      "--------------------------------------------------------\n",
      "GeoDataFrame now has the following CRS:\n",
      "\n",
      "epsg:7760\n",
      "ration service index is completed\n",
      "--------------------------------------------------------\n",
      "GeoDataFrame now has the following CRS:\n",
      "\n",
      "epsg:7760\n",
      "school service index is completed\n",
      "--------------------------------------------------------\n",
      "GeoDataFrame now has the following CRS:\n",
      "\n",
      "epsg:7760\n",
      "transport service index is completed\n",
      "--------------------------------------------------------\n",
      "all point services completed\n",
      "GeoDataFrame now has the following CRS:\n",
      "\n",
      "epsg:7760\n",
      "road service is completed\n"
     ]
    },
    {
     "data": {
      "text/html": [
       "<div>\n",
       "<style scoped>\n",
       "    .dataframe tbody tr th:only-of-type {\n",
       "        vertical-align: middle;\n",
       "    }\n",
       "\n",
       "    .dataframe tbody tr th {\n",
       "        vertical-align: top;\n",
       "    }\n",
       "\n",
       "    .dataframe thead th {\n",
       "        text-align: right;\n",
       "    }\n",
       "</style>\n",
       "<table border=\"1\" class=\"dataframe\">\n",
       "  <thead>\n",
       "    <tr style=\"text-align: right;\">\n",
       "      <th></th>\n",
       "      <th>AREA</th>\n",
       "      <th>USO_AREA_U</th>\n",
       "      <th>HOUSETAX_C</th>\n",
       "      <th>USO_FINAL</th>\n",
       "      <th>geometry</th>\n",
       "      <th>area_km2</th>\n",
       "      <th>canal</th>\n",
       "      <th>railway</th>\n",
       "      <th>drain</th>\n",
       "      <th>barrier</th>\n",
       "      <th>...</th>\n",
       "      <th>school_pcen</th>\n",
       "      <th>school_idx</th>\n",
       "      <th>transport_count</th>\n",
       "      <th>transport_pcen</th>\n",
       "      <th>transport_idx</th>\n",
       "      <th>road_length</th>\n",
       "      <th>road_pcen</th>\n",
       "      <th>road_idx</th>\n",
       "      <th>unnorm_psi</th>\n",
       "      <th>norm_psi</th>\n",
       "    </tr>\n",
       "  </thead>\n",
       "  <tbody>\n",
       "    <tr>\n",
       "      <th>0</th>\n",
       "      <td>NEW DELHI 36</td>\n",
       "      <td>5584</td>\n",
       "      <td>None</td>\n",
       "      <td>Planned</td>\n",
       "      <td>POLYGON Z ((1020282.788 996796.773 0.000, 1020...</td>\n",
       "      <td>1.966739</td>\n",
       "      <td>False</td>\n",
       "      <td>True</td>\n",
       "      <td>True</td>\n",
       "      <td>True</td>\n",
       "      <td>...</td>\n",
       "      <td>0.009126</td>\n",
       "      <td>0.499906</td>\n",
       "      <td>8</td>\n",
       "      <td>0.016195</td>\n",
       "      <td>0.496241</td>\n",
       "      <td>3.903855</td>\n",
       "      <td>0.007311</td>\n",
       "      <td>0.690912</td>\n",
       "      <td>0.612867</td>\n",
       "      <td>1.000000</td>\n",
       "    </tr>\n",
       "    <tr>\n",
       "      <th>1</th>\n",
       "      <td>NEW DELHI 36</td>\n",
       "      <td>5584</td>\n",
       "      <td>None</td>\n",
       "      <td>Planned</td>\n",
       "      <td>POLYGON Z ((1020282.788 996796.773 0.000, 1020...</td>\n",
       "      <td>1.966739</td>\n",
       "      <td>False</td>\n",
       "      <td>True</td>\n",
       "      <td>True</td>\n",
       "      <td>True</td>\n",
       "      <td>...</td>\n",
       "      <td>0.008949</td>\n",
       "      <td>0.490182</td>\n",
       "      <td>8</td>\n",
       "      <td>0.015880</td>\n",
       "      <td>0.486589</td>\n",
       "      <td>0.000000</td>\n",
       "      <td>0.005060</td>\n",
       "      <td>0.478183</td>\n",
       "      <td>0.572476</td>\n",
       "      <td>0.934096</td>\n",
       "    </tr>\n",
       "    <tr>\n",
       "      <th>2</th>\n",
       "      <td>NEW DELHI 35</td>\n",
       "      <td>5585</td>\n",
       "      <td>None</td>\n",
       "      <td>Planned</td>\n",
       "      <td>POLYGON Z ((1019724.475 994932.797 0.000, 1019...</td>\n",
       "      <td>0.036429</td>\n",
       "      <td>False</td>\n",
       "      <td>False</td>\n",
       "      <td>False</td>\n",
       "      <td>False</td>\n",
       "      <td>...</td>\n",
       "      <td>0.000923</td>\n",
       "      <td>0.050572</td>\n",
       "      <td>0</td>\n",
       "      <td>0.000070</td>\n",
       "      <td>0.002136</td>\n",
       "      <td>0.000000</td>\n",
       "      <td>0.000041</td>\n",
       "      <td>0.003877</td>\n",
       "      <td>0.030854</td>\n",
       "      <td>0.050343</td>\n",
       "    </tr>\n",
       "    <tr>\n",
       "      <th>3</th>\n",
       "      <td>NEW DELHI 35</td>\n",
       "      <td>5585</td>\n",
       "      <td>None</td>\n",
       "      <td>Planned</td>\n",
       "      <td>POLYGON Z ((1019724.475 994932.797 0.000, 1019...</td>\n",
       "      <td>0.036429</td>\n",
       "      <td>False</td>\n",
       "      <td>False</td>\n",
       "      <td>False</td>\n",
       "      <td>False</td>\n",
       "      <td>...</td>\n",
       "      <td>0.000113</td>\n",
       "      <td>0.006203</td>\n",
       "      <td>0</td>\n",
       "      <td>0.000009</td>\n",
       "      <td>0.000262</td>\n",
       "      <td>0.000000</td>\n",
       "      <td>0.000005</td>\n",
       "      <td>0.000475</td>\n",
       "      <td>0.003784</td>\n",
       "      <td>0.006175</td>\n",
       "    </tr>\n",
       "    <tr>\n",
       "      <th>4</th>\n",
       "      <td>NEW DELHI 34</td>\n",
       "      <td>5586</td>\n",
       "      <td>None</td>\n",
       "      <td>Planned</td>\n",
       "      <td>POLYGON Z ((1019571.955 994876.019 0.000, 1019...</td>\n",
       "      <td>0.230739</td>\n",
       "      <td>False</td>\n",
       "      <td>False</td>\n",
       "      <td>True</td>\n",
       "      <td>True</td>\n",
       "      <td>...</td>\n",
       "      <td>0.002166</td>\n",
       "      <td>0.118642</td>\n",
       "      <td>18</td>\n",
       "      <td>0.002195</td>\n",
       "      <td>0.067247</td>\n",
       "      <td>0.000000</td>\n",
       "      <td>0.000157</td>\n",
       "      <td>0.014846</td>\n",
       "      <td>0.123561</td>\n",
       "      <td>0.201612</td>\n",
       "    </tr>\n",
       "  </tbody>\n",
       "</table>\n",
       "<p>5 rows × 39 columns</p>\n",
       "</div>"
      ],
      "text/plain": [
       "           AREA  USO_AREA_U HOUSETAX_C USO_FINAL  \\\n",
       "0  NEW DELHI 36        5584       None   Planned   \n",
       "1  NEW DELHI 36        5584       None   Planned   \n",
       "2  NEW DELHI 35        5585       None   Planned   \n",
       "3  NEW DELHI 35        5585       None   Planned   \n",
       "4  NEW DELHI 34        5586       None   Planned   \n",
       "\n",
       "                                            geometry  area_km2  canal  \\\n",
       "0  POLYGON Z ((1020282.788 996796.773 0.000, 1020...  1.966739  False   \n",
       "1  POLYGON Z ((1020282.788 996796.773 0.000, 1020...  1.966739  False   \n",
       "2  POLYGON Z ((1019724.475 994932.797 0.000, 1019...  0.036429  False   \n",
       "3  POLYGON Z ((1019724.475 994932.797 0.000, 1019...  0.036429  False   \n",
       "4  POLYGON Z ((1019571.955 994876.019 0.000, 1019...  0.230739  False   \n",
       "\n",
       "   railway  drain  barrier  ... school_pcen  school_idx transport_count  \\\n",
       "0     True   True     True  ...    0.009126    0.499906               8   \n",
       "1     True   True     True  ...    0.008949    0.490182               8   \n",
       "2    False  False    False  ...    0.000923    0.050572               0   \n",
       "3    False  False    False  ...    0.000113    0.006203               0   \n",
       "4    False   True     True  ...    0.002166    0.118642              18   \n",
       "\n",
       "  transport_pcen  transport_idx  road_length  road_pcen  road_idx  unnorm_psi  \\\n",
       "0       0.016195       0.496241     3.903855   0.007311  0.690912    0.612867   \n",
       "1       0.015880       0.486589     0.000000   0.005060  0.478183    0.572476   \n",
       "2       0.000070       0.002136     0.000000   0.000041  0.003877    0.030854   \n",
       "3       0.000009       0.000262     0.000000   0.000005  0.000475    0.003784   \n",
       "4       0.002195       0.067247     0.000000   0.000157  0.014846    0.123561   \n",
       "\n",
       "   norm_psi  \n",
       "0  1.000000  \n",
       "1  0.934096  \n",
       "2  0.050343  \n",
       "3  0.006175  \n",
       "4  0.201612  \n",
       "\n",
       "[5 rows x 39 columns]"
      ]
     },
     "execution_count": 36,
     "metadata": {},
     "output_type": "execute_result"
    }
   ],
   "source": [
    "colonies_bbox_psi_popdensity = calc_all_services(polygon_gdf = colonies_bbox_nbrs, \n",
    "                                       point_services = point_services, \n",
    "                                       line_services = line_services, \n",
    "                                       epsg_code = epsg_code, \n",
    "                                       pcen_denom = \"popdensity\",\n",
    "                                       nbr_dist_colname = 'nbrs_dist_bbox')\n",
    "\n",
    "colonies_bbox_psi_popdensity = colonies_bbox_psi_popdensity.rename(columns={'road_count':'road_length'})\n",
    "\n",
    "# Provisional Save\n",
    "#colonies_bbox_psi_popdensity.to_file('./psi_2019_results/delhi_psi_bbox_popdensity2019_norv_29Aug2021.shp')\n",
    "colonies_bbox_psi_popdensity.to_csv('./psi_2020_results/delhi_psi_bbox_popdensity2020_norv_29Aug2021.csv')\n",
    "with open('./psi_2020_results/colonies_bbox_psi_popdensity2020_norv_29Aug2021.pkl', 'wb') as f:\n",
    "    pickle.dump(colonies_bbox_psi_popdensity, f)\n",
    "    \n",
    "colonies_bbox_psi_popdensity.head()"
   ]
  },
  {
   "cell_type": "markdown",
   "metadata": {},
   "source": [
    "## Inspecting PSI results"
   ]
  },
  {
   "cell_type": "code",
   "execution_count": 37,
   "metadata": {},
   "outputs": [
    {
     "name": "stdout",
     "output_type": "stream",
     "text": [
      "There are 0 negative values in bank_count column\n",
      "There are 0 negative values in health_count column\n",
      "There are 0 negative values in police_count column\n",
      "There are 0 negative values in ration_count column\n",
      "There are 0 negative values in school_count column\n",
      "There are 0 negative values in transport_count column\n"
     ]
    }
   ],
   "source": [
    "count_cols = [colname for colname in colonies_bbox_psi_popdensity.columns if colname.endswith('_count')]\n",
    "for count_col in count_cols:\n",
    "    print('There are', len(colonies_bbox_psi_popdensity[colonies_bbox_psi_popdensity[count_col] < 0]), 'negative values in', count_col, 'column')"
   ]
  },
  {
   "cell_type": "code",
   "execution_count": 38,
   "metadata": {},
   "outputs": [
    {
     "name": "stdout",
     "output_type": "stream",
     "text": [
      "There are 0 negative values in bank_pcen column\n",
      "There are 0 negative values in health_pcen column\n",
      "There are 0 negative values in police_pcen column\n",
      "There are 0 negative values in ration_pcen column\n",
      "There are 0 negative values in school_pcen column\n",
      "There are 0 negative values in transport_pcen column\n",
      "There are 0 negative values in road_pcen column\n"
     ]
    }
   ],
   "source": [
    "pcen_cols = [colname for colname in colonies_bbox_psi_popdensity.columns if colname.endswith('_pcen')]\n",
    "for pcen_col in pcen_cols:\n",
    "    print('There are', len(colonies_bbox_psi_popdensity[colonies_bbox_psi_popdensity[pcen_col] < 0]), 'negative values in', pcen_col, 'column')"
   ]
  },
  {
   "cell_type": "code",
   "execution_count": 39,
   "metadata": {},
   "outputs": [
    {
     "name": "stdout",
     "output_type": "stream",
     "text": [
      "There are 0 negative values in bank_idx column\n",
      "There are 0 negative values in health_idx column\n",
      "There are 0 negative values in police_idx column\n",
      "There are 0 negative values in ration_idx column\n",
      "There are 0 negative values in school_idx column\n",
      "There are 0 negative values in transport_idx column\n",
      "There are 0 negative values in road_idx column\n"
     ]
    }
   ],
   "source": [
    "idx_cols = [colname for colname in colonies_bbox_psi_popdensity.columns if colname.endswith('_idx')]\n",
    "for idx_col in idx_cols:\n",
    "    print('There are', len(colonies_bbox_psi_popdensity[colonies_bbox_psi_popdensity[idx_col] < 0]), 'negative values in', idx_col, 'column')"
   ]
  },
  {
   "cell_type": "code",
   "execution_count": 40,
   "metadata": {},
   "outputs": [
    {
     "data": {
      "text/plain": [
       "count    4156.000000\n",
       "mean        0.014509\n",
       "std         0.051665\n",
       "min         0.000000\n",
       "25%         0.000309\n",
       "50%         0.002748\n",
       "75%         0.011349\n",
       "max         1.000000\n",
       "Name: bank_idx, dtype: float64"
      ]
     },
     "execution_count": 40,
     "metadata": {},
     "output_type": "execute_result"
    }
   ],
   "source": [
    "colonies_bbox_psi_popdensity['bank_idx'].describe()"
   ]
  },
  {
   "cell_type": "code",
   "execution_count": 41,
   "metadata": {},
   "outputs": [
    {
     "data": {
      "text/plain": [
       "count    4156.000000\n",
       "mean        0.014445\n",
       "std         0.037375\n",
       "min         0.000000\n",
       "25%         0.000815\n",
       "50%         0.004628\n",
       "75%         0.014989\n",
       "max         0.612867\n",
       "Name: unnorm_psi, dtype: float64"
      ]
     },
     "execution_count": 41,
     "metadata": {},
     "output_type": "execute_result"
    }
   ],
   "source": [
    "colonies_bbox_psi_popdensity['unnorm_psi'].describe()"
   ]
  },
  {
   "cell_type": "code",
   "execution_count": 42,
   "metadata": {},
   "outputs": [
    {
     "data": {
      "text/plain": [
       "count    4156.000000\n",
       "mean        0.023569\n",
       "std         0.060983\n",
       "min         0.000000\n",
       "25%         0.001330\n",
       "50%         0.007551\n",
       "75%         0.024457\n",
       "max         1.000000\n",
       "Name: norm_psi, dtype: float64"
      ]
     },
     "execution_count": 42,
     "metadata": {},
     "output_type": "execute_result"
    }
   ],
   "source": [
    "colonies_bbox_psi_popdensity['norm_psi'].describe()"
   ]
  },
  {
   "cell_type": "markdown",
   "metadata": {},
   "source": [
    "## Save Files"
   ]
  },
  {
   "cell_type": "code",
   "execution_count": 43,
   "metadata": {},
   "outputs": [],
   "source": [
    "bbox_drop_columns = ['nbrs_bbox', 'nbrs_dist_bbox', 'centroid']"
   ]
  },
  {
   "cell_type": "code",
   "execution_count": null,
   "metadata": {},
   "outputs": [],
   "source": []
  },
  {
   "cell_type": "code",
   "execution_count": 44,
   "metadata": {},
   "outputs": [
    {
     "name": "stderr",
     "output_type": "stream",
     "text": [
      "<ipython-input-44-482549209f28>:1: UserWarning: Column names longer than 10 characters will be truncated when saved to ESRI Shapefile.\n",
      "  colonies_bbox_psi_popsize.drop(columns=bbox_drop_columns).to_file('./psi_2020_results/delhi_psi_bbox_popsize2020_norv_29Aug2021.shp')\n",
      "<ipython-input-44-482549209f28>:2: UserWarning: Column names longer than 10 characters will be truncated when saved to ESRI Shapefile.\n",
      "  colonies_bbox_psi_popdensity.drop(columns=bbox_drop_columns).to_file('./psi_2020_results/delhi_psi_bbox_popdensity2020_norv_29Aug2021.shp')\n"
     ]
    }
   ],
   "source": [
    "colonies_bbox_psi_popsize.drop(columns=bbox_drop_columns).to_file('./psi_2020_results/delhi_psi_bbox_popsize2020_norv_29Aug2021.shp')\n",
    "colonies_bbox_psi_popdensity.drop(columns=bbox_drop_columns).to_file('./psi_2020_results/delhi_psi_bbox_popdensity2020_norv_29Aug2021.shp')"
   ]
  },
  {
   "cell_type": "code",
   "execution_count": null,
   "metadata": {},
   "outputs": [],
   "source": []
  },
  {
   "cell_type": "code",
   "execution_count": 45,
   "metadata": {},
   "outputs": [],
   "source": [
    "colonies_bbox_psi_popsize.to_csv('./psi_2020_results/delhi_psi_bbox_popsize2020_norv_29Aug2021.csv')\n",
    "colonies_bbox_psi_popdensity.to_csv('./psi_2020_results/delhi_psi_bbox_popdensity2020_norv_29Aug2021.csv')"
   ]
  },
  {
   "cell_type": "code",
   "execution_count": 46,
   "metadata": {},
   "outputs": [],
   "source": [
    "with open('./psi_2020_results/colonies_bbox_psi_popsize2020_norv_29Aug2021.pkl', 'wb') as f:\n",
    "    pickle.dump(colonies_bbox_psi_popsize, f)\n",
    "    \n",
    "with open('./psi_2020_results/colonies_bbox_psi_popdensity2020_norv_29Aug2021.pkl', 'wb') as f:\n",
    "    pickle.dump(colonies_bbox_psi_popdensity, f)"
   ]
  },
  {
   "cell_type": "code",
   "execution_count": null,
   "metadata": {},
   "outputs": [],
   "source": []
  }
 ],
 "metadata": {
  "kernelspec": {
   "display_name": "Python 3",
   "language": "python",
   "name": "python3"
  },
  "language_info": {
   "codemirror_mode": {
    "name": "ipython",
    "version": 3
   },
   "file_extension": ".py",
   "mimetype": "text/x-python",
   "name": "python",
   "nbconvert_exporter": "python",
   "pygments_lexer": "ipython3",
   "version": "3.8.10"
  }
 },
 "nbformat": 4,
 "nbformat_minor": 4
}
