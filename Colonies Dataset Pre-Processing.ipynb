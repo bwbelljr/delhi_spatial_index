{
 "cells": [
  {
   "cell_type": "markdown",
   "metadata": {},
   "source": [
    "# Pre-processing Colonies Dataset\n",
    "\n",
    "* Data Pre-processing\n",
    "    * Import colonies\n",
    "    * Import barrier files – reproject all to EPSG 7760\n",
    "    * Check validity of all shapefiles (turn this into a function…) – also check that all points are in Delhi. (might be part of spatial index notebook and UAC deduplication)    \n",
    "* Compute barrier clip for all colonies\n",
    "* Run Neighbors Algorithm\n",
    "    * Touching Neighbors algorithm - Modify so that it ignores NDMC and related areas (The NDMC / DCB polygons are coded as NDMC and DCB)\n",
    "    * bbox Neighbors algorithm\n",
    "    * Should check for barriers\n",
    "    * Should check for NDMC and related areas\n",
    "    * Save as two separate columns: touching neighbors and bbox neighbors\n",
    "* Additional preprocessing for colonies (turn into super function)\n",
    "    * Create index column\n",
    "    * Distance from NDMC (turn into function)\n",
    "    * Area of each polygon\n",
    "    * Create fake population data (divide total population by number of colonies)\n",
    "* Export GeoDataFrame as pickle file and ESRI Shapefiles"
   ]
  },
  {
   "cell_type": "markdown",
   "metadata": {},
   "source": [
    "## Import modules and set constants"
   ]
  },
  {
   "cell_type": "code",
   "execution_count": 170,
   "metadata": {},
   "outputs": [],
   "source": [
    "import os\n",
    "import pickle\n",
    "from importlib import reload\n",
    "import pandas as pd\n",
    "import geopandas as gpd\n",
    "from shapely.geometry import Polygon, box\n",
    "import spatial_index_utils"
   ]
  },
  {
   "cell_type": "code",
   "execution_count": 174,
   "metadata": {},
   "outputs": [
    {
     "data": {
      "text/plain": [
       "<module 'spatial_index_utils' from 'C:\\\\Users\\\\bwbel\\\\Google Drive\\\\slum_project\\\\spatial_index_python\\\\spatial_index_utils.py'>"
      ]
     },
     "execution_count": 174,
     "metadata": {},
     "output_type": "execute_result"
    }
   ],
   "source": [
    "reload(spatial_index_utils)"
   ]
  },
  {
   "cell_type": "code",
   "execution_count": 43,
   "metadata": {},
   "outputs": [],
   "source": [
    "# WGS 84 / Delhi\n",
    "epsg_code = 7760"
   ]
  },
  {
   "cell_type": "markdown",
   "metadata": {},
   "source": [
    "## Import shapefiles"
   ]
  },
  {
   "cell_type": "code",
   "execution_count": 182,
   "metadata": {},
   "outputs": [],
   "source": [
    "#colony_filepath = os.path.join('shapefiles', 'Spatial_Index_GIS', 'Colony_Shapefile', \n",
    "#                        'Final_USO_fixed.shp')\n",
    "\n",
    "colony_filepath = 'final_uso_deduplicated.shp'\n",
    "\n",
    "barrier_directory = os.path.join('shapefiles', 'Barrier_Clip')\n",
    "\n",
    "canal_filepath = os.path.join(barrier_directory, 'Canal', 'Canal.shp')\n",
    "drain_filepath = os.path.join(barrier_directory, 'Drain', 'Major_Drain.shp')\n",
    "railway_filepath = os.path.join(barrier_directory, 'Railway', 'Railway_Line.shp')\n",
    "\n",
    "# boundary of Delhi\n",
    "delhi_bounds_filepath = os.path.join('shapefiles', 'delhi_bounds_buffer.shp')\n",
    "\n",
    "# Check that all filepaths exist\n",
    "filepath_list = [colony_filepath, canal_filepath, drain_filepath, railway_filepath, delhi_bounds_filepath]\n",
    "\n",
    "for filepath in filepath_list:\n",
    "    if not os.path.exists(filepath):\n",
    "        print('{} does not exist'.format(filepath))"
   ]
  },
  {
   "cell_type": "code",
   "execution_count": 51,
   "metadata": {},
   "outputs": [],
   "source": [
    "colonies = gpd.read_file(colony_filepath)"
   ]
  },
  {
   "cell_type": "code",
   "execution_count": 52,
   "metadata": {},
   "outputs": [],
   "source": [
    "canal = gpd.read_file(canal_filepath)"
   ]
  },
  {
   "cell_type": "code",
   "execution_count": 53,
   "metadata": {},
   "outputs": [],
   "source": [
    "drain = gpd.read_file(drain_filepath)"
   ]
  },
  {
   "cell_type": "code",
   "execution_count": 54,
   "metadata": {},
   "outputs": [],
   "source": [
    "railway = gpd.read_file(railway_filepath)"
   ]
  },
  {
   "cell_type": "markdown",
   "metadata": {},
   "source": [
    "## Inspect shapefiles for validity (`check_shapefile`)"
   ]
  },
  {
   "cell_type": "code",
   "execution_count": 175,
   "metadata": {},
   "outputs": [
    {
     "name": "stdout",
     "output_type": "stream",
     "text": [
      "colonies has duplicate rows: False\n",
      "----------------------------------------------------\n",
      "rows with invalid geometries \n",
      "\n",
      "----------------------------------------------------\n",
      "all geometries in colonies are of type Polygon: True\n",
      "----------------------------------------------------\n",
      "Rows with None value in geometry column are below\n",
      "Empty GeoDataFrame\n",
      "Columns: [index, AREA, USO_AREA_U, HOUSETAX_C, USO_FINAL, geometry, geom_type]\n",
      "Index: []\n",
      "----------------------------------------------------\n",
      "colonies shapefile is contained within Delhi: True\n",
      "----------------------------------------------------\n",
      "Done with shapefile evaluation\n"
     ]
    }
   ],
   "source": [
    "spatial_index_utils.check_shapefile(gdf=colonies, gdf_name='colonies', \n",
    "                                    geom_type='Polygon', \n",
    "                                    delhi_bounds_filepath=delhi_bounds_filepath)"
   ]
  },
  {
   "cell_type": "code",
   "execution_count": 176,
   "metadata": {},
   "outputs": [
    {
     "name": "stdout",
     "output_type": "stream",
     "text": [
      "canal has duplicate rows: False\n",
      "----------------------------------------------------\n",
      "rows with invalid geometries \n",
      "\n",
      "----------------------------------------------------\n",
      "all geometries in canal are of type Line: True\n",
      "----------------------------------------------------\n",
      "Rows with None value in geometry column are below\n",
      "Empty GeoDataFrame\n",
      "Columns: [index, FID_1, CAN_NM, CAN_CLSF, EL_GND, DIST_NM, geometry, geom_type]\n",
      "Index: []\n",
      "----------------------------------------------------\n",
      "canal shapefile is contained within Delhi: True\n",
      "----------------------------------------------------\n",
      "Done with shapefile evaluation\n"
     ]
    }
   ],
   "source": [
    "spatial_index_utils.check_shapefile(gdf=canal, gdf_name='canal', geom_type='Line', \n",
    "                                    delhi_bounds_filepath=delhi_bounds_filepath)"
   ]
  },
  {
   "cell_type": "code",
   "execution_count": 177,
   "metadata": {},
   "outputs": [
    {
     "name": "stdout",
     "output_type": "stream",
     "text": [
      "drain has duplicate rows: False\n",
      "----------------------------------------------------\n",
      "rows with invalid geometries \n",
      "\n",
      "----------------------------------------------------\n",
      "all geometries in drain are of type Line: True\n",
      "----------------------------------------------------\n",
      "Rows with None value in geometry column are below\n",
      "Empty GeoDataFrame\n",
      "Columns: [index, FID, Drain_type, Drain_Name, MAINTAINED, AC_NAME, DISTRICT, geometry, geom_type]\n",
      "Index: []\n",
      "----------------------------------------------------\n",
      "drain shapefile is contained within Delhi: True\n",
      "----------------------------------------------------\n",
      "Done with shapefile evaluation\n"
     ]
    }
   ],
   "source": [
    "spatial_index_utils.check_shapefile(gdf=drain, gdf_name='drain', geom_type='Line', \n",
    "                                    delhi_bounds_filepath=delhi_bounds_filepath)"
   ]
  },
  {
   "cell_type": "code",
   "execution_count": 178,
   "metadata": {},
   "outputs": [
    {
     "name": "stdout",
     "output_type": "stream",
     "text": [
      "railway has duplicate rows: False\n",
      "----------------------------------------------------\n",
      "rows with invalid geometries \n",
      "\n",
      "----------------------------------------------------\n",
      "all geometries in railway are of type Line: True\n",
      "----------------------------------------------------\n",
      "Rows with None value in geometry column are below\n",
      "Empty GeoDataFrame\n",
      "Columns: [index, FID_1, RL_ZONE, geometry, geom_type]\n",
      "Index: []\n",
      "----------------------------------------------------\n",
      "railway shapefile is contained within Delhi: True\n",
      "----------------------------------------------------\n",
      "Done with shapefile evaluation\n"
     ]
    }
   ],
   "source": [
    "spatial_index_utils.check_shapefile(gdf=railway, gdf_name='railway', geom_type='Line', \n",
    "                                    delhi_bounds_filepath=delhi_bounds_filepath)"
   ]
  },
  {
   "cell_type": "markdown",
   "metadata": {},
   "source": [
    "## Remove duplicate geometries"
   ]
  },
  {
   "cell_type": "code",
   "execution_count": 67,
   "metadata": {},
   "outputs": [
    {
     "name": "stdout",
     "output_type": "stream",
     "text": [
      "Original number of rows is 43:\n",
      "New number of rows after deduplication is 43:\n"
     ]
    }
   ],
   "source": [
    "canal = spatial_index_utils.remove_duplicate_geom(canal)"
   ]
  },
  {
   "cell_type": "code",
   "execution_count": 68,
   "metadata": {},
   "outputs": [
    {
     "name": "stdout",
     "output_type": "stream",
     "text": [
      "Original number of rows is 616:\n",
      "New number of rows after deduplication is 616:\n"
     ]
    }
   ],
   "source": [
    "drain = spatial_index_utils.remove_duplicate_geom(drain)"
   ]
  },
  {
   "cell_type": "code",
   "execution_count": 69,
   "metadata": {},
   "outputs": [
    {
     "name": "stdout",
     "output_type": "stream",
     "text": [
      "Original number of rows is 5356:\n",
      "New number of rows after deduplication is 5356:\n"
     ]
    }
   ],
   "source": [
    "railway = spatial_index_utils.remove_duplicate_geom(railway)"
   ]
  },
  {
   "cell_type": "code",
   "execution_count": 70,
   "metadata": {},
   "outputs": [
    {
     "name": "stdout",
     "output_type": "stream",
     "text": [
      "Original number of rows is 4319:\n",
      "New number of rows after deduplication is 4290:\n"
     ]
    }
   ],
   "source": [
    "colonies = spatial_index_utils.remove_duplicate_geom(colonies)"
   ]
  },
  {
   "cell_type": "code",
   "execution_count": 86,
   "metadata": {},
   "outputs": [
    {
     "data": {
      "text/html": [
       "<div>\n",
       "<style scoped>\n",
       "    .dataframe tbody tr th:only-of-type {\n",
       "        vertical-align: middle;\n",
       "    }\n",
       "\n",
       "    .dataframe tbody tr th {\n",
       "        vertical-align: top;\n",
       "    }\n",
       "\n",
       "    .dataframe thead th {\n",
       "        text-align: right;\n",
       "    }\n",
       "</style>\n",
       "<table border=\"1\" class=\"dataframe\">\n",
       "  <thead>\n",
       "    <tr style=\"text-align: right;\">\n",
       "      <th></th>\n",
       "      <th>index</th>\n",
       "      <th>AREA</th>\n",
       "      <th>USO_AREA_U</th>\n",
       "      <th>HOUSETAX_C</th>\n",
       "      <th>USO_FINAL</th>\n",
       "      <th>geometry</th>\n",
       "      <th>geom_type</th>\n",
       "    </tr>\n",
       "  </thead>\n",
       "  <tbody>\n",
       "    <tr>\n",
       "      <th>0</th>\n",
       "      <td>0</td>\n",
       "      <td>Singhola</td>\n",
       "      <td>3058</td>\n",
       "      <td>H</td>\n",
       "      <td>RV</td>\n",
       "      <td>POLYGON Z ((1013763.588 1023721.838 0.000, 101...</td>\n",
       "      <td>&lt;class 'geopandas.geoseries.GeoSeries'&gt;</td>\n",
       "    </tr>\n",
       "    <tr>\n",
       "      <th>1</th>\n",
       "      <td>1</td>\n",
       "      <td>Indra Colony (Narela)</td>\n",
       "      <td>1760</td>\n",
       "      <td>G</td>\n",
       "      <td>RUAC</td>\n",
       "      <td>POLYGON Z ((1007997.730 1025421.961 0.000, 100...</td>\n",
       "      <td>&lt;class 'geopandas.geoseries.GeoSeries'&gt;</td>\n",
       "    </tr>\n",
       "    <tr>\n",
       "      <th>2</th>\n",
       "      <td>2</td>\n",
       "      <td>Bhor Garh</td>\n",
       "      <td>1276</td>\n",
       "      <td>H</td>\n",
       "      <td>Industrial</td>\n",
       "      <td>POLYGON Z ((1008543.236 1022671.585 0.000, 100...</td>\n",
       "      <td>&lt;class 'geopandas.geoseries.GeoSeries'&gt;</td>\n",
       "    </tr>\n",
       "    <tr>\n",
       "      <th>3</th>\n",
       "      <td>3</td>\n",
       "      <td>Gautam Colony</td>\n",
       "      <td>1528</td>\n",
       "      <td>G</td>\n",
       "      <td>RUAC</td>\n",
       "      <td>POLYGON Z ((1008080.674 1025132.190 0.000, 100...</td>\n",
       "      <td>&lt;class 'geopandas.geoseries.GeoSeries'&gt;</td>\n",
       "    </tr>\n",
       "    <tr>\n",
       "      <th>4</th>\n",
       "      <td>4</td>\n",
       "      <td>Kureni</td>\n",
       "      <td>2082</td>\n",
       "      <td>H</td>\n",
       "      <td>RV</td>\n",
       "      <td>POLYGON Z ((1009508.695 1025281.671 0.000, 100...</td>\n",
       "      <td>&lt;class 'geopandas.geoseries.GeoSeries'&gt;</td>\n",
       "    </tr>\n",
       "  </tbody>\n",
       "</table>\n",
       "</div>"
      ],
      "text/plain": [
       "   index                   AREA  USO_AREA_U HOUSETAX_C   USO_FINAL  \\\n",
       "0      0               Singhola        3058          H          RV   \n",
       "1      1  Indra Colony (Narela)        1760          G        RUAC   \n",
       "2      2              Bhor Garh        1276          H  Industrial   \n",
       "3      3          Gautam Colony        1528          G        RUAC   \n",
       "4      4                 Kureni        2082          H          RV   \n",
       "\n",
       "                                            geometry  \\\n",
       "0  POLYGON Z ((1013763.588 1023721.838 0.000, 101...   \n",
       "1  POLYGON Z ((1007997.730 1025421.961 0.000, 100...   \n",
       "2  POLYGON Z ((1008543.236 1022671.585 0.000, 100...   \n",
       "3  POLYGON Z ((1008080.674 1025132.190 0.000, 100...   \n",
       "4  POLYGON Z ((1009508.695 1025281.671 0.000, 100...   \n",
       "\n",
       "                                 geom_type  \n",
       "0  <class 'geopandas.geoseries.GeoSeries'>  \n",
       "1  <class 'geopandas.geoseries.GeoSeries'>  \n",
       "2  <class 'geopandas.geoseries.GeoSeries'>  \n",
       "3  <class 'geopandas.geoseries.GeoSeries'>  \n",
       "4  <class 'geopandas.geoseries.GeoSeries'>  "
      ]
     },
     "execution_count": 86,
     "metadata": {},
     "output_type": "execute_result"
    }
   ],
   "source": [
    "colonies.head()"
   ]
  },
  {
   "cell_type": "code",
   "execution_count": 99,
   "metadata": {},
   "outputs": [],
   "source": [
    "colonies_copy.to_file('final_uso_deduplicated.shp')"
   ]
  },
  {
   "cell_type": "code",
   "execution_count": 101,
   "metadata": {},
   "outputs": [],
   "source": [
    "with open('final_uso_deduplicated.data', 'wb') as f:\n",
    "    pickle.dump(colonies_copy, f)"
   ]
  },
  {
   "cell_type": "markdown",
   "metadata": {},
   "source": [
    "## Check CRS, reproject to EPSG:7760."
   ]
  },
  {
   "cell_type": "code",
   "execution_count": 191,
   "metadata": {},
   "outputs": [
    {
     "data": {
      "text/plain": [
       "<Projected CRS: EPSG:7760>\n",
       "Name: WGS 84 / Delhi\n",
       "Axis Info [cartesian]:\n",
       "- X[east]: Easting (metre)\n",
       "- Y[north]: Northing (metre)\n",
       "Area of Use:\n",
       "- name: India - Delhi\n",
       "- bounds: (76.83, 28.4, 77.34, 28.89)\n",
       "Coordinate Operation:\n",
       "- name: Delhi NSF LCC\n",
       "- method: Lambert Conic Conformal (2SP)\n",
       "Datum: World Geodetic System 1984\n",
       "- Ellipsoid: WGS 84\n",
       "- Prime Meridian: Greenwich"
      ]
     },
     "execution_count": 191,
     "metadata": {},
     "output_type": "execute_result"
    }
   ],
   "source": [
    "colonies.crs"
   ]
  },
  {
   "cell_type": "code",
   "execution_count": 192,
   "metadata": {},
   "outputs": [
    {
     "data": {
      "text/plain": [
       "<Projected CRS: EPSG:7760>\n",
       "Name: WGS 84 / Delhi\n",
       "Axis Info [cartesian]:\n",
       "- X[east]: Easting (metre)\n",
       "- Y[north]: Northing (metre)\n",
       "Area of Use:\n",
       "- name: India - Delhi\n",
       "- bounds: (76.83, 28.4, 77.34, 28.89)\n",
       "Coordinate Operation:\n",
       "- name: Delhi NSF LCC\n",
       "- method: Lambert Conic Conformal (2SP)\n",
       "Datum: World Geodetic System 1984\n",
       "- Ellipsoid: WGS 84\n",
       "- Prime Meridian: Greenwich"
      ]
     },
     "execution_count": 192,
     "metadata": {},
     "output_type": "execute_result"
    }
   ],
   "source": [
    "canal.crs"
   ]
  },
  {
   "cell_type": "code",
   "execution_count": 193,
   "metadata": {},
   "outputs": [
    {
     "data": {
      "text/plain": [
       "<Projected CRS: EPSG:7760>\n",
       "Name: WGS 84 / Delhi\n",
       "Axis Info [cartesian]:\n",
       "- X[east]: Easting (metre)\n",
       "- Y[north]: Northing (metre)\n",
       "Area of Use:\n",
       "- name: India - Delhi\n",
       "- bounds: (76.83, 28.4, 77.34, 28.89)\n",
       "Coordinate Operation:\n",
       "- name: Delhi NSF LCC\n",
       "- method: Lambert Conic Conformal (2SP)\n",
       "Datum: World Geodetic System 1984\n",
       "- Ellipsoid: WGS 84\n",
       "- Prime Meridian: Greenwich"
      ]
     },
     "execution_count": 193,
     "metadata": {},
     "output_type": "execute_result"
    }
   ],
   "source": [
    "#drain = spatial_index_utils.reproject_gdf(drain, epsg_code)\n",
    "drain.crs"
   ]
  },
  {
   "cell_type": "code",
   "execution_count": 194,
   "metadata": {},
   "outputs": [
    {
     "data": {
      "text/plain": [
       "<Projected CRS: EPSG:7760>\n",
       "Name: WGS 84 / Delhi\n",
       "Axis Info [cartesian]:\n",
       "- X[east]: Easting (metre)\n",
       "- Y[north]: Northing (metre)\n",
       "Area of Use:\n",
       "- name: India - Delhi\n",
       "- bounds: (76.83, 28.4, 77.34, 28.89)\n",
       "Coordinate Operation:\n",
       "- name: Delhi NSF LCC\n",
       "- method: Lambert Conic Conformal (2SP)\n",
       "Datum: World Geodetic System 1984\n",
       "- Ellipsoid: WGS 84\n",
       "- Prime Meridian: Greenwich"
      ]
     },
     "execution_count": 194,
     "metadata": {},
     "output_type": "execute_result"
    }
   ],
   "source": [
    "railway.crs"
   ]
  },
  {
   "cell_type": "code",
   "execution_count": 195,
   "metadata": {},
   "outputs": [
    {
     "data": {
      "text/plain": [
       "True"
      ]
     },
     "execution_count": 195,
     "metadata": {},
     "output_type": "execute_result"
    }
   ],
   "source": [
    "colonies.crs == drain.crs == canal.crs == railway.crs"
   ]
  },
  {
   "cell_type": "code",
   "execution_count": null,
   "metadata": {},
   "outputs": [],
   "source": []
  }
 ],
 "metadata": {
  "kernelspec": {
   "display_name": "Python 3",
   "language": "python",
   "name": "python3"
  },
  "language_info": {
   "codemirror_mode": {
    "name": "ipython",
    "version": 3
   },
   "file_extension": ".py",
   "mimetype": "text/x-python",
   "name": "python",
   "nbconvert_exporter": "python",
   "pygments_lexer": "ipython3",
   "version": "3.7.7"
  }
 },
 "nbformat": 4,
 "nbformat_minor": 4
}
