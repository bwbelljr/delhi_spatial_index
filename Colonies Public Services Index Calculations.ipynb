{
 "cells": [
  {
   "cell_type": "markdown",
   "metadata": {},
   "source": [
    "# Delhi Colonies Public Services Index\n",
    "\n",
    "* Load in colonies dataset from Pickle file `colonies_10Aug2020.data` **[done]**\n",
    "    * Create two versions of colonies, with one based on touching vs. bbox neighbors\n",
    "    * Give each version a distinct name\n",
    "* Import services shapefiles **[done]**\n",
    "    * Make sure correct file paths exist\n",
    "    * Ensure that all shapefiles are valid using `check_shapefile` function\n",
    "    * Reproject shapefiles to EPSG 7760 (if needed)\n",
    "* Compute all Services indices (turn into a function)\n",
    "    * Compute Point Services Indices\n",
    "    * Compute Roads Index (make sure that units are in kilometers)\n",
    "    * Compute average of all service indices\n",
    "    * Run services indices twice (on touching vs. bbox neighbors) using function\n",
    "* Compute simple statistics (mean, min, max) based on colony type\n",
    "    * Turn into function\n",
    "    * Run on both datasets"
   ]
  },
  {
   "cell_type": "markdown",
   "metadata": {},
   "source": [
    "## Import modules and set constants"
   ]
  },
  {
   "cell_type": "code",
   "execution_count": 92,
   "metadata": {},
   "outputs": [],
   "source": [
    "import os\n",
    "import pickle\n",
    "from importlib import reload\n",
    "import pandas as pd\n",
    "import geopandas as gpd\n",
    "from shapely.geometry import Polygon, box\n",
    "import spatial_index_utils"
   ]
  },
  {
   "cell_type": "code",
   "execution_count": 93,
   "metadata": {},
   "outputs": [
    {
     "data": {
      "text/plain": [
       "<module 'spatial_index_utils' from 'C:\\\\Users\\\\bwbel\\\\Google Drive\\\\slum_project\\\\spatial_index_python\\\\spatial_index_utils.py'>"
      ]
     },
     "execution_count": 93,
     "metadata": {},
     "output_type": "execute_result"
    }
   ],
   "source": [
    "reload(spatial_index_utils)"
   ]
  },
  {
   "cell_type": "code",
   "execution_count": 3,
   "metadata": {},
   "outputs": [],
   "source": [
    "# WGS 84 / Delhi\n",
    "epsg_code = 7760"
   ]
  },
  {
   "cell_type": "markdown",
   "metadata": {},
   "source": [
    "## Load colonies dataset and create two versions"
   ]
  },
  {
   "cell_type": "code",
   "execution_count": 4,
   "metadata": {},
   "outputs": [],
   "source": [
    "with open('colonies_10Aug2020.data', 'rb') as f:\n",
    "    colonies = pickle.load(f)"
   ]
  },
  {
   "cell_type": "code",
   "execution_count": 6,
   "metadata": {},
   "outputs": [],
   "source": [
    "colonies_touch = colonies.drop(columns=['nbrs_bbox', 'nbrs_dist_bbox'])"
   ]
  },
  {
   "cell_type": "code",
   "execution_count": 8,
   "metadata": {},
   "outputs": [
    {
     "data": {
      "text/html": [
       "<div>\n",
       "<style scoped>\n",
       "    .dataframe tbody tr th:only-of-type {\n",
       "        vertical-align: middle;\n",
       "    }\n",
       "\n",
       "    .dataframe tbody tr th {\n",
       "        vertical-align: top;\n",
       "    }\n",
       "\n",
       "    .dataframe thead th {\n",
       "        text-align: right;\n",
       "    }\n",
       "</style>\n",
       "<table border=\"1\" class=\"dataframe\">\n",
       "  <thead>\n",
       "    <tr style=\"text-align: right;\">\n",
       "      <th></th>\n",
       "      <th>AREA</th>\n",
       "      <th>USO_AREA_U</th>\n",
       "      <th>HOUSETAX_C</th>\n",
       "      <th>USO_FINAL</th>\n",
       "      <th>geometry</th>\n",
       "      <th>canal</th>\n",
       "      <th>railway</th>\n",
       "      <th>drain</th>\n",
       "      <th>barrier</th>\n",
       "      <th>nbrs_touch</th>\n",
       "      <th>centroid</th>\n",
       "      <th>nbrs_dist_touch</th>\n",
       "      <th>ndmc_dist_km</th>\n",
       "      <th>area_km2</th>\n",
       "      <th>index</th>\n",
       "      <th>population</th>\n",
       "    </tr>\n",
       "  </thead>\n",
       "  <tbody>\n",
       "    <tr>\n",
       "      <th>0</th>\n",
       "      <td>Singhola</td>\n",
       "      <td>3058</td>\n",
       "      <td>H</td>\n",
       "      <td>RV</td>\n",
       "      <td>POLYGON Z ((1013763.588 1023721.838 0.000, 101...</td>\n",
       "      <td>False</td>\n",
       "      <td>False</td>\n",
       "      <td>True</td>\n",
       "      <td>True</td>\n",
       "      <td>[]</td>\n",
       "      <td>POINT (1012643.931 1023967.383)</td>\n",
       "      <td>[]</td>\n",
       "      <td>24.721016</td>\n",
       "      <td>2.733999</td>\n",
       "      <td>0</td>\n",
       "      <td>4415.586042</td>\n",
       "    </tr>\n",
       "    <tr>\n",
       "      <th>1</th>\n",
       "      <td>Indra Colony (Narela)</td>\n",
       "      <td>1760</td>\n",
       "      <td>G</td>\n",
       "      <td>RUAC</td>\n",
       "      <td>POLYGON Z ((1007997.730 1025421.961 0.000, 100...</td>\n",
       "      <td>False</td>\n",
       "      <td>True</td>\n",
       "      <td>False</td>\n",
       "      <td>True</td>\n",
       "      <td>[2869, 5445]</td>\n",
       "      <td>POINT (1008331.501 1025234.188)</td>\n",
       "      <td>[(2869, 0.5868185653539563), (5445, 0.31827133...</td>\n",
       "      <td>27.676855</td>\n",
       "      <td>0.182393</td>\n",
       "      <td>1</td>\n",
       "      <td>3990.707763</td>\n",
       "    </tr>\n",
       "    <tr>\n",
       "      <th>2</th>\n",
       "      <td>Bhor Garh</td>\n",
       "      <td>1276</td>\n",
       "      <td>H</td>\n",
       "      <td>Industrial</td>\n",
       "      <td>POLYGON Z ((1008543.236 1022671.585 0.000, 100...</td>\n",
       "      <td>False</td>\n",
       "      <td>True</td>\n",
       "      <td>False</td>\n",
       "      <td>True</td>\n",
       "      <td>[5478]</td>\n",
       "      <td>POINT (1009672.909 1022802.723)</td>\n",
       "      <td>[(5478, 0.661418841164336)]</td>\n",
       "      <td>24.900046</td>\n",
       "      <td>1.470808</td>\n",
       "      <td>2</td>\n",
       "      <td>6849.523714</td>\n",
       "    </tr>\n",
       "    <tr>\n",
       "      <th>3</th>\n",
       "      <td>Gautam Colony</td>\n",
       "      <td>1528</td>\n",
       "      <td>G</td>\n",
       "      <td>RUAC</td>\n",
       "      <td>POLYGON Z ((1008080.674 1025132.190 0.000, 100...</td>\n",
       "      <td>False</td>\n",
       "      <td>True</td>\n",
       "      <td>False</td>\n",
       "      <td>True</td>\n",
       "      <td>[2869, 5095, 5105, 5436, 5457]</td>\n",
       "      <td>POINT (1008902.120 1025098.259)</td>\n",
       "      <td>[(2869, 0.5676799818012491), (5095, 0.32048263...</td>\n",
       "      <td>27.289733</td>\n",
       "      <td>1.150775</td>\n",
       "      <td>3</td>\n",
       "      <td>26712.165262</td>\n",
       "    </tr>\n",
       "    <tr>\n",
       "      <th>4</th>\n",
       "      <td>Kureni</td>\n",
       "      <td>2082</td>\n",
       "      <td>H</td>\n",
       "      <td>RV</td>\n",
       "      <td>POLYGON Z ((1009508.695 1025281.671 0.000, 100...</td>\n",
       "      <td>False</td>\n",
       "      <td>True</td>\n",
       "      <td>False</td>\n",
       "      <td>True</td>\n",
       "      <td>[3963, 5092, 5098, 5104, 5106, 5451]</td>\n",
       "      <td>POINT (1009491.379 1023952.320)</td>\n",
       "      <td>[(3963, 0.6363487153623809), (5092, 1.29943169...</td>\n",
       "      <td>26.001177</td>\n",
       "      <td>2.415990</td>\n",
       "      <td>4</td>\n",
       "      <td>28819.392920</td>\n",
       "    </tr>\n",
       "  </tbody>\n",
       "</table>\n",
       "</div>"
      ],
      "text/plain": [
       "                    AREA  USO_AREA_U HOUSETAX_C   USO_FINAL  \\\n",
       "0               Singhola        3058          H          RV   \n",
       "1  Indra Colony (Narela)        1760          G        RUAC   \n",
       "2              Bhor Garh        1276          H  Industrial   \n",
       "3          Gautam Colony        1528          G        RUAC   \n",
       "4                 Kureni        2082          H          RV   \n",
       "\n",
       "                                            geometry  canal  railway  drain  \\\n",
       "0  POLYGON Z ((1013763.588 1023721.838 0.000, 101...  False    False   True   \n",
       "1  POLYGON Z ((1007997.730 1025421.961 0.000, 100...  False     True  False   \n",
       "2  POLYGON Z ((1008543.236 1022671.585 0.000, 100...  False     True  False   \n",
       "3  POLYGON Z ((1008080.674 1025132.190 0.000, 100...  False     True  False   \n",
       "4  POLYGON Z ((1009508.695 1025281.671 0.000, 100...  False     True  False   \n",
       "\n",
       "   barrier                            nbrs_touch  \\\n",
       "0     True                                    []   \n",
       "1     True                          [2869, 5445]   \n",
       "2     True                                [5478]   \n",
       "3     True        [2869, 5095, 5105, 5436, 5457]   \n",
       "4     True  [3963, 5092, 5098, 5104, 5106, 5451]   \n",
       "\n",
       "                          centroid  \\\n",
       "0  POINT (1012643.931 1023967.383)   \n",
       "1  POINT (1008331.501 1025234.188)   \n",
       "2  POINT (1009672.909 1022802.723)   \n",
       "3  POINT (1008902.120 1025098.259)   \n",
       "4  POINT (1009491.379 1023952.320)   \n",
       "\n",
       "                                     nbrs_dist_touch  ndmc_dist_km  area_km2  \\\n",
       "0                                                 []     24.721016  2.733999   \n",
       "1  [(2869, 0.5868185653539563), (5445, 0.31827133...     27.676855  0.182393   \n",
       "2                        [(5478, 0.661418841164336)]     24.900046  1.470808   \n",
       "3  [(2869, 0.5676799818012491), (5095, 0.32048263...     27.289733  1.150775   \n",
       "4  [(3963, 0.6363487153623809), (5092, 1.29943169...     26.001177  2.415990   \n",
       "\n",
       "   index    population  \n",
       "0      0   4415.586042  \n",
       "1      1   3990.707763  \n",
       "2      2   6849.523714  \n",
       "3      3  26712.165262  \n",
       "4      4  28819.392920  "
      ]
     },
     "execution_count": 8,
     "metadata": {},
     "output_type": "execute_result"
    }
   ],
   "source": [
    "colonies_touch.head()"
   ]
  },
  {
   "cell_type": "code",
   "execution_count": 9,
   "metadata": {},
   "outputs": [],
   "source": [
    "colonies_bbox = colonies.drop(columns=['nbrs_touch', 'nbrs_dist_touch'])"
   ]
  },
  {
   "cell_type": "code",
   "execution_count": 10,
   "metadata": {},
   "outputs": [
    {
     "data": {
      "text/html": [
       "<div>\n",
       "<style scoped>\n",
       "    .dataframe tbody tr th:only-of-type {\n",
       "        vertical-align: middle;\n",
       "    }\n",
       "\n",
       "    .dataframe tbody tr th {\n",
       "        vertical-align: top;\n",
       "    }\n",
       "\n",
       "    .dataframe thead th {\n",
       "        text-align: right;\n",
       "    }\n",
       "</style>\n",
       "<table border=\"1\" class=\"dataframe\">\n",
       "  <thead>\n",
       "    <tr style=\"text-align: right;\">\n",
       "      <th></th>\n",
       "      <th>AREA</th>\n",
       "      <th>USO_AREA_U</th>\n",
       "      <th>HOUSETAX_C</th>\n",
       "      <th>USO_FINAL</th>\n",
       "      <th>geometry</th>\n",
       "      <th>canal</th>\n",
       "      <th>railway</th>\n",
       "      <th>drain</th>\n",
       "      <th>barrier</th>\n",
       "      <th>nbrs_bbox</th>\n",
       "      <th>centroid</th>\n",
       "      <th>nbrs_dist_bbox</th>\n",
       "      <th>ndmc_dist_km</th>\n",
       "      <th>area_km2</th>\n",
       "      <th>index</th>\n",
       "      <th>population</th>\n",
       "    </tr>\n",
       "  </thead>\n",
       "  <tbody>\n",
       "    <tr>\n",
       "      <th>0</th>\n",
       "      <td>Singhola</td>\n",
       "      <td>3058</td>\n",
       "      <td>H</td>\n",
       "      <td>RV</td>\n",
       "      <td>POLYGON Z ((1013763.588 1023721.838 0.000, 101...</td>\n",
       "      <td>False</td>\n",
       "      <td>False</td>\n",
       "      <td>True</td>\n",
       "      <td>True</td>\n",
       "      <td>[5108, 5487, 5488]</td>\n",
       "      <td>POINT (1012643.931 1023967.383)</td>\n",
       "      <td>[(5108, 1.4513506146004875), (5487, 1.17056023...</td>\n",
       "      <td>24.721016</td>\n",
       "      <td>2.733999</td>\n",
       "      <td>0</td>\n",
       "      <td>4415.586042</td>\n",
       "    </tr>\n",
       "    <tr>\n",
       "      <th>1</th>\n",
       "      <td>Indra Colony (Narela)</td>\n",
       "      <td>1760</td>\n",
       "      <td>G</td>\n",
       "      <td>RUAC</td>\n",
       "      <td>POLYGON Z ((1007997.730 1025421.961 0.000, 100...</td>\n",
       "      <td>False</td>\n",
       "      <td>True</td>\n",
       "      <td>False</td>\n",
       "      <td>True</td>\n",
       "      <td>[2869, 5445]</td>\n",
       "      <td>POINT (1008331.501 1025234.188)</td>\n",
       "      <td>[(2869, 0.5868185653539563), (5445, 0.31827133...</td>\n",
       "      <td>27.676855</td>\n",
       "      <td>0.182393</td>\n",
       "      <td>1</td>\n",
       "      <td>3990.707763</td>\n",
       "    </tr>\n",
       "    <tr>\n",
       "      <th>2</th>\n",
       "      <td>Bhor Garh</td>\n",
       "      <td>1276</td>\n",
       "      <td>H</td>\n",
       "      <td>Industrial</td>\n",
       "      <td>POLYGON Z ((1008543.236 1022671.585 0.000, 100...</td>\n",
       "      <td>False</td>\n",
       "      <td>True</td>\n",
       "      <td>False</td>\n",
       "      <td>True</td>\n",
       "      <td>[4270, 4273, 5478]</td>\n",
       "      <td>POINT (1009672.909 1022802.723)</td>\n",
       "      <td>[(4270, 0.8033104667179346), (4273, 0.58109669...</td>\n",
       "      <td>24.900046</td>\n",
       "      <td>1.470808</td>\n",
       "      <td>2</td>\n",
       "      <td>6849.523714</td>\n",
       "    </tr>\n",
       "    <tr>\n",
       "      <th>3</th>\n",
       "      <td>Gautam Colony</td>\n",
       "      <td>1528</td>\n",
       "      <td>G</td>\n",
       "      <td>RUAC</td>\n",
       "      <td>POLYGON Z ((1008080.674 1025132.190 0.000, 100...</td>\n",
       "      <td>False</td>\n",
       "      <td>True</td>\n",
       "      <td>False</td>\n",
       "      <td>True</td>\n",
       "      <td>[2869, 3963, 4243, 5092, 5095, 5105, 5436, 544...</td>\n",
       "      <td>POINT (1008902.120 1025098.259)</td>\n",
       "      <td>[(2869, 0.5676799818012491), (3963, 0.70232814...</td>\n",
       "      <td>27.289733</td>\n",
       "      <td>1.150775</td>\n",
       "      <td>3</td>\n",
       "      <td>26712.165262</td>\n",
       "    </tr>\n",
       "    <tr>\n",
       "      <th>4</th>\n",
       "      <td>Kureni</td>\n",
       "      <td>2082</td>\n",
       "      <td>H</td>\n",
       "      <td>RV</td>\n",
       "      <td>POLYGON Z ((1009508.695 1025281.671 0.000, 100...</td>\n",
       "      <td>False</td>\n",
       "      <td>True</td>\n",
       "      <td>False</td>\n",
       "      <td>True</td>\n",
       "      <td>[3963, 5092, 5095, 5098, 5104, 5106, 5451, 5478]</td>\n",
       "      <td>POINT (1009491.379 1023952.320)</td>\n",
       "      <td>[(3963, 0.6363487153623809), (5092, 1.29943169...</td>\n",
       "      <td>26.001177</td>\n",
       "      <td>2.415990</td>\n",
       "      <td>4</td>\n",
       "      <td>28819.392920</td>\n",
       "    </tr>\n",
       "  </tbody>\n",
       "</table>\n",
       "</div>"
      ],
      "text/plain": [
       "                    AREA  USO_AREA_U HOUSETAX_C   USO_FINAL  \\\n",
       "0               Singhola        3058          H          RV   \n",
       "1  Indra Colony (Narela)        1760          G        RUAC   \n",
       "2              Bhor Garh        1276          H  Industrial   \n",
       "3          Gautam Colony        1528          G        RUAC   \n",
       "4                 Kureni        2082          H          RV   \n",
       "\n",
       "                                            geometry  canal  railway  drain  \\\n",
       "0  POLYGON Z ((1013763.588 1023721.838 0.000, 101...  False    False   True   \n",
       "1  POLYGON Z ((1007997.730 1025421.961 0.000, 100...  False     True  False   \n",
       "2  POLYGON Z ((1008543.236 1022671.585 0.000, 100...  False     True  False   \n",
       "3  POLYGON Z ((1008080.674 1025132.190 0.000, 100...  False     True  False   \n",
       "4  POLYGON Z ((1009508.695 1025281.671 0.000, 100...  False     True  False   \n",
       "\n",
       "   barrier                                          nbrs_bbox  \\\n",
       "0     True                                 [5108, 5487, 5488]   \n",
       "1     True                                       [2869, 5445]   \n",
       "2     True                                 [4270, 4273, 5478]   \n",
       "3     True  [2869, 3963, 4243, 5092, 5095, 5105, 5436, 544...   \n",
       "4     True   [3963, 5092, 5095, 5098, 5104, 5106, 5451, 5478]   \n",
       "\n",
       "                          centroid  \\\n",
       "0  POINT (1012643.931 1023967.383)   \n",
       "1  POINT (1008331.501 1025234.188)   \n",
       "2  POINT (1009672.909 1022802.723)   \n",
       "3  POINT (1008902.120 1025098.259)   \n",
       "4  POINT (1009491.379 1023952.320)   \n",
       "\n",
       "                                      nbrs_dist_bbox  ndmc_dist_km  area_km2  \\\n",
       "0  [(5108, 1.4513506146004875), (5487, 1.17056023...     24.721016  2.733999   \n",
       "1  [(2869, 0.5868185653539563), (5445, 0.31827133...     27.676855  0.182393   \n",
       "2  [(4270, 0.8033104667179346), (4273, 0.58109669...     24.900046  1.470808   \n",
       "3  [(2869, 0.5676799818012491), (3963, 0.70232814...     27.289733  1.150775   \n",
       "4  [(3963, 0.6363487153623809), (5092, 1.29943169...     26.001177  2.415990   \n",
       "\n",
       "   index    population  \n",
       "0      0   4415.586042  \n",
       "1      1   3990.707763  \n",
       "2      2   6849.523714  \n",
       "3      3  26712.165262  \n",
       "4      4  28819.392920  "
      ]
     },
     "execution_count": 10,
     "metadata": {},
     "output_type": "execute_result"
    }
   ],
   "source": [
    "colonies_bbox.head()"
   ]
  },
  {
   "cell_type": "markdown",
   "metadata": {},
   "source": [
    "## Import services shapefiles"
   ]
  },
  {
   "cell_type": "code",
   "execution_count": 26,
   "metadata": {},
   "outputs": [],
   "source": [
    "# Define filepaths\n",
    "\n",
    "services_dir = os.path.join('shapefiles', 'Spatial_Index_GIS', 'Public Services')\n",
    "\n",
    "bank_fp = os.path.join(services_dir, 'Banking', 'Banking.shp')\n",
    "health_fp = os.path.join(services_dir, 'Health', 'Health.shp')\n",
    "road_fp = os.path.join(services_dir, 'Major Road', 'Road.shp')\n",
    "police_fp = os.path.join(services_dir, 'Police', 'Police Station.shp')\n",
    "ration_fp = os.path.join(services_dir, 'Ration', 'Ration.shp')\n",
    "school_fp = os.path.join(services_dir, 'School', 'schools7760.shp')\n",
    "transport_fp = os.path.join(services_dir, 'Transport', 'Transport.shp')\n",
    "\n",
    "# boundary of Delhi\n",
    "delhi_bounds_filepath = os.path.join('shapefiles', 'delhi_bounds_buffer.shp')\n",
    "\n",
    "# Check that all filepaths exist\n",
    "filepath_list = [bank_fp, health_fp, road_fp, police_fp, ration_fp, school_fp, transport_fp, delhi_bounds_filepath]\n",
    "\n",
    "for filepath in filepath_list:\n",
    "    if not os.path.exists(filepath):\n",
    "        print('{} does not exist'.format(filepath))"
   ]
  },
  {
   "cell_type": "code",
   "execution_count": 27,
   "metadata": {},
   "outputs": [],
   "source": [
    "# Import services\n",
    "bank = gpd.read_file(bank_fp)\n",
    "health = gpd.read_file(health_fp)\n",
    "road = gpd.read_file(road_fp)\n",
    "police = gpd.read_file(police_fp)\n",
    "ration = gpd.read_file(ration_fp)\n",
    "school = gpd.read_file(school_fp)\n",
    "transport = gpd.read_file(transport_fp)"
   ]
  },
  {
   "cell_type": "markdown",
   "metadata": {},
   "source": [
    "## Check validity of services shapefiles\n",
    "* Duplicate rows are okay for ATMs (I assume that ATM locations for the same bank in a similar location will seem to be counted twice)\n",
    "* Look specifically for invalid geometries and whether shapefile is fully contained within Delhi"
   ]
  },
  {
   "cell_type": "code",
   "execution_count": 21,
   "metadata": {},
   "outputs": [
    {
     "name": "stdout",
     "output_type": "stream",
     "text": [
      "bank has duplicate rows: True\n",
      "----------------------------------------------------\n",
      "rows with invalid geometries \n",
      "\n",
      "----------------------------------------------------\n",
      "all geometries in bank are of type Point: True\n",
      "----------------------------------------------------\n",
      "Rows with None value in geometry column are below\n",
      "Empty GeoDataFrame\n",
      "Columns: [bank_name, Latitude, Longitude, Type, geometry, geom_type]\n",
      "Index: []\n",
      "----------------------------------------------------\n",
      "bank shapefile is contained within Delhi: True\n",
      "----------------------------------------------------\n",
      "Done with shapefile evaluation\n"
     ]
    }
   ],
   "source": [
    "spatial_index_utils.check_shapefile(gdf=bank, gdf_name='bank', \n",
    "                                    geom_type='Point', \n",
    "                                    delhi_bounds_filepath=delhi_bounds_filepath)"
   ]
  },
  {
   "cell_type": "code",
   "execution_count": 22,
   "metadata": {},
   "outputs": [
    {
     "name": "stdout",
     "output_type": "stream",
     "text": [
      "health has duplicate rows: False\n",
      "----------------------------------------------------\n",
      "rows with invalid geometries \n",
      "\n",
      "----------------------------------------------------\n",
      "all geometries in health are of type Point: True\n",
      "----------------------------------------------------\n",
      "Rows with None value in geometry column are below\n",
      "Empty GeoDataFrame\n",
      "Columns: [Hospital_C, ADDRESS, X, Y, geometry, geom_type]\n",
      "Index: []\n",
      "----------------------------------------------------\n",
      "health shapefile is contained within Delhi: True\n",
      "----------------------------------------------------\n",
      "Done with shapefile evaluation\n"
     ]
    }
   ],
   "source": [
    "spatial_index_utils.check_shapefile(gdf=health, gdf_name='health', \n",
    "                                    geom_type='Point', \n",
    "                                    delhi_bounds_filepath=delhi_bounds_filepath)"
   ]
  },
  {
   "cell_type": "code",
   "execution_count": 23,
   "metadata": {},
   "outputs": [
    {
     "name": "stdout",
     "output_type": "stream",
     "text": [
      "road has duplicate rows: False\n",
      "----------------------------------------------------\n",
      "rows with invalid geometries \n",
      "\n",
      "----------------------------------------------------\n",
      "all geometries in road are of type Line: True\n",
      "----------------------------------------------------\n",
      "Rows with None value in geometry column are below\n",
      "Empty GeoDataFrame\n",
      "Columns: [FID, RD_NM, RD_CLS, RD_LANES, RD_TP_SRF, RD_MB, RD_ONEWAY, EL_GND, DIST_NM, ONEWAY, Speed_kmph, geometry, geom_type]\n",
      "Index: []\n",
      "----------------------------------------------------\n",
      "road shapefile is contained within Delhi: True\n",
      "----------------------------------------------------\n",
      "Done with shapefile evaluation\n"
     ]
    }
   ],
   "source": [
    "spatial_index_utils.check_shapefile(gdf=road, gdf_name='road', \n",
    "                                    geom_type='Line', \n",
    "                                    delhi_bounds_filepath=delhi_bounds_filepath)"
   ]
  },
  {
   "cell_type": "code",
   "execution_count": 24,
   "metadata": {},
   "outputs": [
    {
     "name": "stdout",
     "output_type": "stream",
     "text": [
      "police has duplicate rows: False\n",
      "----------------------------------------------------\n",
      "rows with invalid geometries \n",
      "\n",
      "----------------------------------------------------\n",
      "all geometries in police are of type Point: True\n",
      "----------------------------------------------------\n",
      "Rows with None value in geometry column are below\n",
      "Empty GeoDataFrame\n",
      "Columns: [NAME, POLICE_STA, DISTRICT, x, y, geometry, geom_type]\n",
      "Index: []\n",
      "----------------------------------------------------\n",
      "police shapefile is contained within Delhi: True\n",
      "----------------------------------------------------\n",
      "Done with shapefile evaluation\n"
     ]
    }
   ],
   "source": [
    "spatial_index_utils.check_shapefile(gdf=police, gdf_name='police', \n",
    "                                    geom_type='Point', \n",
    "                                    delhi_bounds_filepath=delhi_bounds_filepath)"
   ]
  },
  {
   "cell_type": "code",
   "execution_count": 25,
   "metadata": {},
   "outputs": [
    {
     "name": "stdout",
     "output_type": "stream",
     "text": [
      "ration has duplicate rows: False\n",
      "----------------------------------------------------\n",
      "rows with invalid geometries \n",
      "\n",
      "----------------------------------------------------\n",
      "all geometries in ration are of type Point: True\n",
      "----------------------------------------------------\n",
      "Rows with None value in geometry column are below\n",
      "Empty GeoDataFrame\n",
      "Columns: [S No., License No, FPS ID, Circle, FPS Shop N, Address Of, Latitude, Longitude, Source, geometry, geom_type]\n",
      "Index: []\n",
      "----------------------------------------------------\n",
      "ration shapefile is contained within Delhi: True\n",
      "----------------------------------------------------\n",
      "Done with shapefile evaluation\n"
     ]
    }
   ],
   "source": [
    "spatial_index_utils.check_shapefile(gdf=ration, gdf_name='ration', \n",
    "                                    geom_type='Point', \n",
    "                                    delhi_bounds_filepath=delhi_bounds_filepath)"
   ]
  },
  {
   "cell_type": "code",
   "execution_count": 28,
   "metadata": {},
   "outputs": [
    {
     "name": "stdout",
     "output_type": "stream",
     "text": [
      "school has duplicate rows: False\n",
      "----------------------------------------------------\n",
      "rows with invalid geometries \n",
      "\n",
      "----------------------------------------------------\n",
      "all geometries in school are of type Point: True\n",
      "----------------------------------------------------\n",
      "Rows with None value in geometry column are below\n",
      "Empty GeoDataFrame\n",
      "Columns: [objectid_1, objectid, vilname, schname, schcd, schcat, school_cat, pincode, rururb, location, schtype, school_typ, schmgt, management, dtname, stname, stcode11, dtcode11, sdtcode11, sdtname, geometry, geom_type]\n",
      "Index: []\n",
      "\n",
      "[0 rows x 22 columns]\n",
      "----------------------------------------------------\n",
      "school shapefile is contained within Delhi: True\n",
      "----------------------------------------------------\n",
      "Done with shapefile evaluation\n"
     ]
    }
   ],
   "source": [
    "spatial_index_utils.check_shapefile(gdf=school, gdf_name='school', \n",
    "                                    geom_type='Point', \n",
    "                                    delhi_bounds_filepath=delhi_bounds_filepath)"
   ]
  },
  {
   "cell_type": "code",
   "execution_count": 29,
   "metadata": {},
   "outputs": [
    {
     "name": "stdout",
     "output_type": "stream",
     "text": [
      "transport has duplicate rows: False\n",
      "----------------------------------------------------\n",
      "rows with invalid geometries \n",
      "\n",
      "----------------------------------------------------\n",
      "all geometries in transport are of type Point: True\n",
      "----------------------------------------------------\n",
      "Rows with None value in geometry column are below\n",
      "Empty GeoDataFrame\n",
      "Columns: [stop_id, stop_name, stop_lat, stop_lon, Type, geometry, geom_type]\n",
      "Index: []\n",
      "----------------------------------------------------\n",
      "transport shapefile is contained within Delhi: True\n",
      "----------------------------------------------------\n",
      "Done with shapefile evaluation\n"
     ]
    }
   ],
   "source": [
    "spatial_index_utils.check_shapefile(gdf=transport, gdf_name='transport', \n",
    "                                    geom_type='Point', \n",
    "                                    delhi_bounds_filepath=delhi_bounds_filepath)"
   ]
  },
  {
   "cell_type": "markdown",
   "metadata": {},
   "source": [
    "## Check CRS (all shapefiles should be in EPSG: 7760)"
   ]
  },
  {
   "cell_type": "code",
   "execution_count": 38,
   "metadata": {},
   "outputs": [
    {
     "data": {
      "text/plain": [
       "True"
      ]
     },
     "execution_count": 38,
     "metadata": {},
     "output_type": "execute_result"
    }
   ],
   "source": [
    "bank.crs == health.crs == road.crs == police.crs == ration.crs == school.crs == transport.crs"
   ]
  },
  {
   "cell_type": "code",
   "execution_count": 39,
   "metadata": {},
   "outputs": [
    {
     "data": {
      "text/plain": [
       "<Projected CRS: EPSG:7760>\n",
       "Name: WGS 84 / Delhi\n",
       "Axis Info [cartesian]:\n",
       "- X[east]: Easting (metre)\n",
       "- Y[north]: Northing (metre)\n",
       "Area of Use:\n",
       "- name: India - Delhi\n",
       "- bounds: (76.83, 28.4, 77.34, 28.89)\n",
       "Coordinate Operation:\n",
       "- name: Delhi NSF LCC\n",
       "- method: Lambert Conic Conformal (2SP)\n",
       "Datum: World Geodetic System 1984\n",
       "- Ellipsoid: WGS 84\n",
       "- Prime Meridian: Greenwich"
      ]
     },
     "execution_count": 39,
     "metadata": {},
     "output_type": "execute_result"
    }
   ],
   "source": [
    "bank.crs"
   ]
  },
  {
   "cell_type": "code",
   "execution_count": 40,
   "metadata": {},
   "outputs": [
    {
     "data": {
      "text/plain": [
       "True"
      ]
     },
     "execution_count": 40,
     "metadata": {},
     "output_type": "execute_result"
    }
   ],
   "source": [
    "colonies_bbox.crs == colonies_touch.crs == bank.crs"
   ]
  },
  {
   "cell_type": "markdown",
   "metadata": {},
   "source": [
    "## Calculate Point Services (and turn into function)"
   ]
  },
  {
   "cell_type": "code",
   "execution_count": 60,
   "metadata": {},
   "outputs": [],
   "source": [
    "from spatial_index_utils import create_service_index"
   ]
  },
  {
   "cell_type": "code",
   "execution_count": 71,
   "metadata": {},
   "outputs": [],
   "source": [
    "# Define all point services as dictionary\n",
    "# makes it easier to calculate all point\n",
    "# services with one function\n",
    "point_services = {'bank': bank,\n",
    "                  'health': health,\n",
    "                  'police': police,\n",
    "                  'ration': ration,\n",
    "                  'school': school,\n",
    "                  'transport': transport}"
   ]
  },
  {
   "cell_type": "code",
   "execution_count": 69,
   "metadata": {},
   "outputs": [
    {
     "name": "stdout",
     "output_type": "stream",
     "text": [
      "GeoDataFrame now has the following CRS:\n",
      "\n",
      "epsg:7760\n",
      "health service index is completed\n",
      "--------------------------------------------------------\n",
      "all point services completed\n"
     ]
    }
   ],
   "source": [
    "# How to call the function\n",
    "colonies_touch_idx4 = spatial_index_utils.calc_point_services(colonies_touch, \n",
    "                                                              {'health': health}, \n",
    "                                                              epsg_code, \n",
    "                                                              nbr_dist_colname='nbrs_dist_touch')"
   ]
  },
  {
   "cell_type": "markdown",
   "metadata": {},
   "source": [
    "## Calculate Road Service Index"
   ]
  },
  {
   "cell_type": "code",
   "execution_count": 95,
   "metadata": {},
   "outputs": [
    {
     "name": "stdout",
     "output_type": "stream",
     "text": [
      "GeoDataFrame now has the following CRS:\n",
      "\n",
      "epsg:7760\n"
     ]
    }
   ],
   "source": [
    "colonies_touch2 =  spatial_index_utils.create_service_length_index(colonies_touch, road, 'road', epsg_code, 'nbrs_dist_touch')"
   ]
  },
  {
   "cell_type": "markdown",
   "metadata": {},
   "source": [
    "## Put calculation for all services into one function"
   ]
  },
  {
   "cell_type": "code",
   "execution_count": 97,
   "metadata": {},
   "outputs": [],
   "source": [
    "line_services = {'road': road}"
   ]
  },
  {
   "cell_type": "code",
   "execution_count": 99,
   "metadata": {},
   "outputs": [],
   "source": [
    "from spatial_index_utils import calc_point_services, create_service_length_index"
   ]
  },
  {
   "cell_type": "code",
   "execution_count": 101,
   "metadata": {},
   "outputs": [],
   "source": [
    "def calc_all_services(polygon_gdf, point_services, line_services, epsg_code, nbr_dist_colname):\n",
    "    \"\"\"Calculate all public services indices (point and line)\"\"\"\n",
    "    \n",
    "    # Get all point services\n",
    "    polygon_gdf = calc_point_services(polygon_gdf, point_services, epsg_code, nbr_dist_colname)\n",
    "    \n",
    "    \n",
    "    for line_service in line_services:\n",
    "        polygon_gdf = create_service_length_index(polygon_gdf, \n",
    "                                                  line_services[line_service], \n",
    "                                                  line_service, \n",
    "                                                  epsg_code, \n",
    "                                                  nbr_dist_colname)\n",
    "        \n",
    "        print('{} service is completed'.format(line_service))\n",
    "        \n",
    "    return polygon_gdf"
   ]
  },
  {
   "cell_type": "code",
   "execution_count": 106,
   "metadata": {},
   "outputs": [
    {
     "name": "stdout",
     "output_type": "stream",
     "text": [
      "GeoDataFrame now has the following CRS:\n",
      "\n",
      "epsg:7760\n",
      "bank service index is completed\n",
      "--------------------------------------------------------\n",
      "GeoDataFrame now has the following CRS:\n",
      "\n",
      "epsg:7760\n",
      "health service index is completed\n",
      "--------------------------------------------------------\n",
      "GeoDataFrame now has the following CRS:\n",
      "\n",
      "epsg:7760\n",
      "police service index is completed\n",
      "--------------------------------------------------------\n",
      "GeoDataFrame now has the following CRS:\n",
      "\n",
      "epsg:7760\n",
      "ration service index is completed\n",
      "--------------------------------------------------------\n",
      "GeoDataFrame now has the following CRS:\n",
      "\n",
      "epsg:7760\n",
      "school service index is completed\n",
      "--------------------------------------------------------\n",
      "GeoDataFrame now has the following CRS:\n",
      "\n",
      "epsg:7760\n",
      "transport service index is completed\n",
      "--------------------------------------------------------\n",
      "all point services completed\n",
      "GeoDataFrame now has the following CRS:\n",
      "\n",
      "epsg:7760\n",
      "road service is completed\n"
     ]
    }
   ],
   "source": [
    "colonies_touch_psi = calc_all_services(colonies_touch, point_services, line_services, epsg_code, 'nbrs_dist_touch')"
   ]
  },
  {
   "cell_type": "code",
   "execution_count": 108,
   "metadata": {},
   "outputs": [
    {
     "name": "stdout",
     "output_type": "stream",
     "text": [
      "GeoDataFrame now has the following CRS:\n",
      "\n",
      "epsg:7760\n",
      "bank service index is completed\n",
      "--------------------------------------------------------\n",
      "GeoDataFrame now has the following CRS:\n",
      "\n",
      "epsg:7760\n",
      "health service index is completed\n",
      "--------------------------------------------------------\n",
      "GeoDataFrame now has the following CRS:\n",
      "\n",
      "epsg:7760\n",
      "police service index is completed\n",
      "--------------------------------------------------------\n",
      "GeoDataFrame now has the following CRS:\n",
      "\n",
      "epsg:7760\n",
      "ration service index is completed\n",
      "--------------------------------------------------------\n",
      "GeoDataFrame now has the following CRS:\n",
      "\n",
      "epsg:7760\n",
      "school service index is completed\n",
      "--------------------------------------------------------\n",
      "GeoDataFrame now has the following CRS:\n",
      "\n",
      "epsg:7760\n",
      "transport service index is completed\n",
      "--------------------------------------------------------\n",
      "all point services completed\n",
      "GeoDataFrame now has the following CRS:\n",
      "\n",
      "epsg:7760\n",
      "road service is completed\n"
     ]
    }
   ],
   "source": [
    "colonies_bbox_psi = calc_all_services(colonies_bbox, point_services, line_services, epsg_code, 'nbrs_dist_bbox')"
   ]
  },
  {
   "cell_type": "code",
   "execution_count": 109,
   "metadata": {},
   "outputs": [
    {
     "data": {
      "text/html": [
       "<div>\n",
       "<style scoped>\n",
       "    .dataframe tbody tr th:only-of-type {\n",
       "        vertical-align: middle;\n",
       "    }\n",
       "\n",
       "    .dataframe tbody tr th {\n",
       "        vertical-align: top;\n",
       "    }\n",
       "\n",
       "    .dataframe thead th {\n",
       "        text-align: right;\n",
       "    }\n",
       "</style>\n",
       "<table border=\"1\" class=\"dataframe\">\n",
       "  <thead>\n",
       "    <tr style=\"text-align: right;\">\n",
       "      <th></th>\n",
       "      <th>AREA</th>\n",
       "      <th>USO_AREA_U</th>\n",
       "      <th>HOUSETAX_C</th>\n",
       "      <th>USO_FINAL</th>\n",
       "      <th>geometry</th>\n",
       "      <th>canal</th>\n",
       "      <th>railway</th>\n",
       "      <th>drain</th>\n",
       "      <th>barrier</th>\n",
       "      <th>nbrs_bbox</th>\n",
       "      <th>...</th>\n",
       "      <th>area_km2</th>\n",
       "      <th>index</th>\n",
       "      <th>population</th>\n",
       "      <th>bank_idx</th>\n",
       "      <th>health_idx</th>\n",
       "      <th>police_idx</th>\n",
       "      <th>ration_idx</th>\n",
       "      <th>school_idx</th>\n",
       "      <th>transport_idx</th>\n",
       "      <th>road_idx</th>\n",
       "    </tr>\n",
       "  </thead>\n",
       "  <tbody>\n",
       "    <tr>\n",
       "      <th>0</th>\n",
       "      <td>Singhola</td>\n",
       "      <td>3058</td>\n",
       "      <td>H</td>\n",
       "      <td>RV</td>\n",
       "      <td>POLYGON Z ((1013763.588 1023721.838 0.000, 101...</td>\n",
       "      <td>False</td>\n",
       "      <td>False</td>\n",
       "      <td>True</td>\n",
       "      <td>True</td>\n",
       "      <td>[5108, 5487, 5488]</td>\n",
       "      <td>...</td>\n",
       "      <td>2.733999</td>\n",
       "      <td>0</td>\n",
       "      <td>4415.586042</td>\n",
       "      <td>0.000074</td>\n",
       "      <td>0.003759</td>\n",
       "      <td>0.000000</td>\n",
       "      <td>0.001925</td>\n",
       "      <td>0.000843</td>\n",
       "      <td>0.002876</td>\n",
       "      <td>0.005320</td>\n",
       "    </tr>\n",
       "    <tr>\n",
       "      <th>1</th>\n",
       "      <td>Indra Colony (Narela)</td>\n",
       "      <td>1760</td>\n",
       "      <td>G</td>\n",
       "      <td>RUAC</td>\n",
       "      <td>POLYGON Z ((1007997.730 1025421.961 0.000, 100...</td>\n",
       "      <td>False</td>\n",
       "      <td>True</td>\n",
       "      <td>False</td>\n",
       "      <td>True</td>\n",
       "      <td>[2869, 5445]</td>\n",
       "      <td>...</td>\n",
       "      <td>0.182393</td>\n",
       "      <td>1</td>\n",
       "      <td>3990.707763</td>\n",
       "      <td>0.000408</td>\n",
       "      <td>0.000000</td>\n",
       "      <td>0.007156</td>\n",
       "      <td>0.000000</td>\n",
       "      <td>0.001415</td>\n",
       "      <td>0.001348</td>\n",
       "      <td>0.000401</td>\n",
       "    </tr>\n",
       "    <tr>\n",
       "      <th>2</th>\n",
       "      <td>Bhor Garh</td>\n",
       "      <td>1276</td>\n",
       "      <td>H</td>\n",
       "      <td>Industrial</td>\n",
       "      <td>POLYGON Z ((1008543.236 1022671.585 0.000, 100...</td>\n",
       "      <td>False</td>\n",
       "      <td>True</td>\n",
       "      <td>False</td>\n",
       "      <td>True</td>\n",
       "      <td>[4270, 4273, 5478]</td>\n",
       "      <td>...</td>\n",
       "      <td>1.470808</td>\n",
       "      <td>2</td>\n",
       "      <td>6849.523714</td>\n",
       "      <td>0.000190</td>\n",
       "      <td>0.002424</td>\n",
       "      <td>0.000000</td>\n",
       "      <td>0.000000</td>\n",
       "      <td>0.001630</td>\n",
       "      <td>0.000927</td>\n",
       "      <td>0.000765</td>\n",
       "    </tr>\n",
       "    <tr>\n",
       "      <th>3</th>\n",
       "      <td>Gautam Colony</td>\n",
       "      <td>1528</td>\n",
       "      <td>G</td>\n",
       "      <td>RUAC</td>\n",
       "      <td>POLYGON Z ((1008080.674 1025132.190 0.000, 100...</td>\n",
       "      <td>False</td>\n",
       "      <td>True</td>\n",
       "      <td>False</td>\n",
       "      <td>True</td>\n",
       "      <td>[2869, 3963, 4243, 5092, 5095, 5105, 5436, 544...</td>\n",
       "      <td>...</td>\n",
       "      <td>1.150775</td>\n",
       "      <td>3</td>\n",
       "      <td>26712.165262</td>\n",
       "      <td>0.000324</td>\n",
       "      <td>0.000000</td>\n",
       "      <td>0.000000</td>\n",
       "      <td>0.001749</td>\n",
       "      <td>0.001356</td>\n",
       "      <td>0.000519</td>\n",
       "      <td>0.000147</td>\n",
       "    </tr>\n",
       "    <tr>\n",
       "      <th>4</th>\n",
       "      <td>Kureni</td>\n",
       "      <td>2082</td>\n",
       "      <td>H</td>\n",
       "      <td>RV</td>\n",
       "      <td>POLYGON Z ((1009508.695 1025281.671 0.000, 100...</td>\n",
       "      <td>False</td>\n",
       "      <td>True</td>\n",
       "      <td>False</td>\n",
       "      <td>True</td>\n",
       "      <td>[3963, 5092, 5095, 5098, 5104, 5106, 5451, 5478]</td>\n",
       "      <td>...</td>\n",
       "      <td>2.415990</td>\n",
       "      <td>4</td>\n",
       "      <td>28819.392920</td>\n",
       "      <td>0.000132</td>\n",
       "      <td>0.000576</td>\n",
       "      <td>0.000000</td>\n",
       "      <td>0.000885</td>\n",
       "      <td>0.000775</td>\n",
       "      <td>0.000542</td>\n",
       "      <td>0.000815</td>\n",
       "    </tr>\n",
       "  </tbody>\n",
       "</table>\n",
       "<p>5 rows × 23 columns</p>\n",
       "</div>"
      ],
      "text/plain": [
       "                    AREA  USO_AREA_U HOUSETAX_C   USO_FINAL  \\\n",
       "0               Singhola        3058          H          RV   \n",
       "1  Indra Colony (Narela)        1760          G        RUAC   \n",
       "2              Bhor Garh        1276          H  Industrial   \n",
       "3          Gautam Colony        1528          G        RUAC   \n",
       "4                 Kureni        2082          H          RV   \n",
       "\n",
       "                                            geometry  canal  railway  drain  \\\n",
       "0  POLYGON Z ((1013763.588 1023721.838 0.000, 101...  False    False   True   \n",
       "1  POLYGON Z ((1007997.730 1025421.961 0.000, 100...  False     True  False   \n",
       "2  POLYGON Z ((1008543.236 1022671.585 0.000, 100...  False     True  False   \n",
       "3  POLYGON Z ((1008080.674 1025132.190 0.000, 100...  False     True  False   \n",
       "4  POLYGON Z ((1009508.695 1025281.671 0.000, 100...  False     True  False   \n",
       "\n",
       "   barrier                                          nbrs_bbox  ...  area_km2  \\\n",
       "0     True                                 [5108, 5487, 5488]  ...  2.733999   \n",
       "1     True                                       [2869, 5445]  ...  0.182393   \n",
       "2     True                                 [4270, 4273, 5478]  ...  1.470808   \n",
       "3     True  [2869, 3963, 4243, 5092, 5095, 5105, 5436, 544...  ...  1.150775   \n",
       "4     True   [3963, 5092, 5095, 5098, 5104, 5106, 5451, 5478]  ...  2.415990   \n",
       "\n",
       "  index    population  bank_idx  health_idx  police_idx  ration_idx  \\\n",
       "0     0   4415.586042  0.000074    0.003759    0.000000    0.001925   \n",
       "1     1   3990.707763  0.000408    0.000000    0.007156    0.000000   \n",
       "2     2   6849.523714  0.000190    0.002424    0.000000    0.000000   \n",
       "3     3  26712.165262  0.000324    0.000000    0.000000    0.001749   \n",
       "4     4  28819.392920  0.000132    0.000576    0.000000    0.000885   \n",
       "\n",
       "   school_idx  transport_idx  road_idx  \n",
       "0    0.000843       0.002876  0.005320  \n",
       "1    0.001415       0.001348  0.000401  \n",
       "2    0.001630       0.000927  0.000765  \n",
       "3    0.001356       0.000519  0.000147  \n",
       "4    0.000775       0.000542  0.000815  \n",
       "\n",
       "[5 rows x 23 columns]"
      ]
     },
     "execution_count": 109,
     "metadata": {},
     "output_type": "execute_result"
    }
   ],
   "source": [
    "colonies_bbox_psi.head()"
   ]
  },
  {
   "cell_type": "markdown",
   "metadata": {},
   "source": [
    "## Save Files"
   ]
  },
  {
   "cell_type": "code",
   "execution_count": 110,
   "metadata": {},
   "outputs": [],
   "source": [
    "colonies_bbox_psi.to_csv('delhi_psi_bbox_11Aug2020.csv')"
   ]
  },
  {
   "cell_type": "code",
   "execution_count": 111,
   "metadata": {},
   "outputs": [],
   "source": [
    "colonies_touch_psi.to_csv('delhi_psi_touch_11Aug2020.csv')"
   ]
  },
  {
   "cell_type": "code",
   "execution_count": 112,
   "metadata": {},
   "outputs": [],
   "source": [
    "with open('colonies_bbox_psi.data', 'wb') as f:\n",
    "    pickle.dump(colonies_bbox_psi, f)"
   ]
  },
  {
   "cell_type": "code",
   "execution_count": 113,
   "metadata": {},
   "outputs": [],
   "source": [
    "with open('colonies_touch_psi.data', 'wb') as f:\n",
    "    pickle.dump(colonies_touch_psi, f)"
   ]
  }
 ],
 "metadata": {
  "kernelspec": {
   "display_name": "Python 3",
   "language": "python",
   "name": "python3"
  },
  "language_info": {
   "codemirror_mode": {
    "name": "ipython",
    "version": 3
   },
   "file_extension": ".py",
   "mimetype": "text/x-python",
   "name": "python",
   "nbconvert_exporter": "python",
   "pygments_lexer": "ipython3",
   "version": "3.7.7"
  }
 },
 "nbformat": 4,
 "nbformat_minor": 4
}
